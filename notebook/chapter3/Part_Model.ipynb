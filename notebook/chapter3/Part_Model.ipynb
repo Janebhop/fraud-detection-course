{
  "nbformat": 4,
  "nbformat_minor": 0,
  "metadata": {
    "kernelspec": {
      "display_name": "Python 3",
      "language": "python",
      "name": "python3"
    },
    "language_info": {
      "codemirror_mode": {
        "name": "ipython",
        "version": 3
      },
      "file_extension": ".py",
      "mimetype": "text/x-python",
      "name": "python",
      "nbconvert_exporter": "python",
      "pygments_lexer": "ipython3",
      "version": "3.8.3"
    },
    "colab": {
      "name": "Part Model.ipynb",
      "provenance": [],
      "include_colab_link": true
    },
    "accelerator": "GPU"
  },
  "cells": [
    {
      "cell_type": "markdown",
      "metadata": {
        "id": "view-in-github",
        "colab_type": "text"
      },
      "source": [
        "<a href=\"https://colab.research.google.com/github/Janebhop/fraud-detection-course/blob/main/notebook/chapter3/Part_Model.ipynb\" target=\"_parent\"><img src=\"https://colab.research.google.com/assets/colab-badge.svg\" alt=\"Open In Colab\"/></a>"
      ]
    },
    {
      "cell_type": "markdown",
      "metadata": {
        "id": "ayfut_7aTPSr"
      },
      "source": [
        "# Part Model"
      ]
    },
    {
      "cell_type": "code",
      "metadata": {
        "id": "oPyAlHj8Tsis",
        "outputId": "fea85ed8-3db2-4d35-8b5c-594bf295a28d",
        "colab": {
          "base_uri": "https://localhost:8080/",
          "height": 50
        }
      },
      "source": [
        "### mount drive\n",
        "import os,sys\n",
        "from google.colab import drive\n",
        "drive.mount('/content/drive')\n",
        "nb_path = '/content/notebooks'\n",
        "# %cd /content/\n",
        "### check current dir \n",
        "!pwd\n",
        "### simulate drive from Colab Notebooks to\n",
        "os.symlink('/content/drive/My Drive/fraud', nb_path)\n",
        "sys.path.insert(0, nb_path) "
      ],
      "execution_count": 8,
      "outputs": [
        {
          "output_type": "stream",
          "text": [
            "Mounted at /content/drive\n",
            "/content\n"
          ],
          "name": "stdout"
        }
      ]
    },
    {
      "cell_type": "code",
      "metadata": {
        "id": "9wmma42sYKjZ"
      },
      "source": [
        "a = []\n",
        "while(1):\n",
        "    a.append('1')"
      ],
      "execution_count": null,
      "outputs": []
    },
    {
      "cell_type": "code",
      "metadata": {
        "id": "-2A27EVaTPSu"
      },
      "source": [
        "import pandas as pd\n",
        "import numpy as np"
      ],
      "execution_count": 2,
      "outputs": []
    },
    {
      "cell_type": "markdown",
      "metadata": {
        "id": "mxzi-qSLTPS7"
      },
      "source": [
        "### Import Data"
      ]
    },
    {
      "cell_type": "code",
      "metadata": {
        "id": "fwYJrWjSTPS-"
      },
      "source": [
        "df_test = pd.read_csv('/content/drive/My Drive/fraud/PS_20174392719_1491204439457_log.csv', nrows=10)\n",
        "\n",
        "\n",
        "float_cols = [c for c in df_test if df_test[c].dtype == \"float64\"]\n",
        "float32_cols = {c: np.float32 for c in float_cols}"
      ],
      "execution_count": 3,
      "outputs": []
    },
    {
      "cell_type": "code",
      "metadata": {
        "id": "LL2-UKSiTPTJ",
        "outputId": "aaefa65c-938d-4c94-b0d1-17fc72affd6d",
        "colab": {
          "base_uri": "https://localhost:8080/",
          "height": 422
        }
      },
      "source": [
        "data = pd.read_csv('/content/drive/My Drive/fraud/PS_20174392719_1491204439457_log.csv', engine='c', dtype=float32_cols)\n",
        "data"
      ],
      "execution_count": 4,
      "outputs": [
        {
          "output_type": "execute_result",
          "data": {
            "text/html": [
              "<div>\n",
              "<style scoped>\n",
              "    .dataframe tbody tr th:only-of-type {\n",
              "        vertical-align: middle;\n",
              "    }\n",
              "\n",
              "    .dataframe tbody tr th {\n",
              "        vertical-align: top;\n",
              "    }\n",
              "\n",
              "    .dataframe thead th {\n",
              "        text-align: right;\n",
              "    }\n",
              "</style>\n",
              "<table border=\"1\" class=\"dataframe\">\n",
              "  <thead>\n",
              "    <tr style=\"text-align: right;\">\n",
              "      <th></th>\n",
              "      <th>step</th>\n",
              "      <th>type</th>\n",
              "      <th>amount</th>\n",
              "      <th>nameOrig</th>\n",
              "      <th>oldbalanceOrg</th>\n",
              "      <th>newbalanceOrig</th>\n",
              "      <th>nameDest</th>\n",
              "      <th>oldbalanceDest</th>\n",
              "      <th>newbalanceDest</th>\n",
              "      <th>isFraud</th>\n",
              "      <th>isFlaggedFraud</th>\n",
              "    </tr>\n",
              "  </thead>\n",
              "  <tbody>\n",
              "    <tr>\n",
              "      <th>0</th>\n",
              "      <td>1</td>\n",
              "      <td>PAYMENT</td>\n",
              "      <td>9.839640e+03</td>\n",
              "      <td>C1231006815</td>\n",
              "      <td>170136.000</td>\n",
              "      <td>160296.359375</td>\n",
              "      <td>M1979787155</td>\n",
              "      <td>0.000000e+00</td>\n",
              "      <td>0.000</td>\n",
              "      <td>0</td>\n",
              "      <td>0</td>\n",
              "    </tr>\n",
              "    <tr>\n",
              "      <th>1</th>\n",
              "      <td>1</td>\n",
              "      <td>PAYMENT</td>\n",
              "      <td>1.864280e+03</td>\n",
              "      <td>C1666544295</td>\n",
              "      <td>21249.000</td>\n",
              "      <td>19384.720703</td>\n",
              "      <td>M2044282225</td>\n",
              "      <td>0.000000e+00</td>\n",
              "      <td>0.000</td>\n",
              "      <td>0</td>\n",
              "      <td>0</td>\n",
              "    </tr>\n",
              "    <tr>\n",
              "      <th>2</th>\n",
              "      <td>1</td>\n",
              "      <td>TRANSFER</td>\n",
              "      <td>1.810000e+02</td>\n",
              "      <td>C1305486145</td>\n",
              "      <td>181.000</td>\n",
              "      <td>0.000000</td>\n",
              "      <td>C553264065</td>\n",
              "      <td>0.000000e+00</td>\n",
              "      <td>0.000</td>\n",
              "      <td>1</td>\n",
              "      <td>0</td>\n",
              "    </tr>\n",
              "    <tr>\n",
              "      <th>3</th>\n",
              "      <td>1</td>\n",
              "      <td>CASH_OUT</td>\n",
              "      <td>1.810000e+02</td>\n",
              "      <td>C840083671</td>\n",
              "      <td>181.000</td>\n",
              "      <td>0.000000</td>\n",
              "      <td>C38997010</td>\n",
              "      <td>2.118200e+04</td>\n",
              "      <td>0.000</td>\n",
              "      <td>1</td>\n",
              "      <td>0</td>\n",
              "    </tr>\n",
              "    <tr>\n",
              "      <th>4</th>\n",
              "      <td>1</td>\n",
              "      <td>PAYMENT</td>\n",
              "      <td>1.166814e+04</td>\n",
              "      <td>C2048537720</td>\n",
              "      <td>41554.000</td>\n",
              "      <td>29885.859375</td>\n",
              "      <td>M1230701703</td>\n",
              "      <td>0.000000e+00</td>\n",
              "      <td>0.000</td>\n",
              "      <td>0</td>\n",
              "      <td>0</td>\n",
              "    </tr>\n",
              "    <tr>\n",
              "      <th>...</th>\n",
              "      <td>...</td>\n",
              "      <td>...</td>\n",
              "      <td>...</td>\n",
              "      <td>...</td>\n",
              "      <td>...</td>\n",
              "      <td>...</td>\n",
              "      <td>...</td>\n",
              "      <td>...</td>\n",
              "      <td>...</td>\n",
              "      <td>...</td>\n",
              "      <td>...</td>\n",
              "    </tr>\n",
              "    <tr>\n",
              "      <th>6362615</th>\n",
              "      <td>743</td>\n",
              "      <td>CASH_OUT</td>\n",
              "      <td>3.396821e+05</td>\n",
              "      <td>C786484425</td>\n",
              "      <td>339682.125</td>\n",
              "      <td>0.000000</td>\n",
              "      <td>C776919290</td>\n",
              "      <td>0.000000e+00</td>\n",
              "      <td>339682.125</td>\n",
              "      <td>1</td>\n",
              "      <td>0</td>\n",
              "    </tr>\n",
              "    <tr>\n",
              "      <th>6362616</th>\n",
              "      <td>743</td>\n",
              "      <td>TRANSFER</td>\n",
              "      <td>6.311410e+06</td>\n",
              "      <td>C1529008245</td>\n",
              "      <td>6311409.500</td>\n",
              "      <td>0.000000</td>\n",
              "      <td>C1881841831</td>\n",
              "      <td>0.000000e+00</td>\n",
              "      <td>0.000</td>\n",
              "      <td>1</td>\n",
              "      <td>0</td>\n",
              "    </tr>\n",
              "    <tr>\n",
              "      <th>6362617</th>\n",
              "      <td>743</td>\n",
              "      <td>CASH_OUT</td>\n",
              "      <td>6.311410e+06</td>\n",
              "      <td>C1162922333</td>\n",
              "      <td>6311409.500</td>\n",
              "      <td>0.000000</td>\n",
              "      <td>C1365125890</td>\n",
              "      <td>6.848884e+04</td>\n",
              "      <td>6379898.000</td>\n",
              "      <td>1</td>\n",
              "      <td>0</td>\n",
              "    </tr>\n",
              "    <tr>\n",
              "      <th>6362618</th>\n",
              "      <td>743</td>\n",
              "      <td>TRANSFER</td>\n",
              "      <td>8.500025e+05</td>\n",
              "      <td>C1685995037</td>\n",
              "      <td>850002.500</td>\n",
              "      <td>0.000000</td>\n",
              "      <td>C2080388513</td>\n",
              "      <td>0.000000e+00</td>\n",
              "      <td>0.000</td>\n",
              "      <td>1</td>\n",
              "      <td>0</td>\n",
              "    </tr>\n",
              "    <tr>\n",
              "      <th>6362619</th>\n",
              "      <td>743</td>\n",
              "      <td>CASH_OUT</td>\n",
              "      <td>8.500025e+05</td>\n",
              "      <td>C1280323807</td>\n",
              "      <td>850002.500</td>\n",
              "      <td>0.000000</td>\n",
              "      <td>C873221189</td>\n",
              "      <td>6.510099e+06</td>\n",
              "      <td>7360101.500</td>\n",
              "      <td>1</td>\n",
              "      <td>0</td>\n",
              "    </tr>\n",
              "  </tbody>\n",
              "</table>\n",
              "<p>6362620 rows × 11 columns</p>\n",
              "</div>"
            ],
            "text/plain": [
              "         step      type        amount  ... newbalanceDest  isFraud  isFlaggedFraud\n",
              "0           1   PAYMENT  9.839640e+03  ...          0.000        0               0\n",
              "1           1   PAYMENT  1.864280e+03  ...          0.000        0               0\n",
              "2           1  TRANSFER  1.810000e+02  ...          0.000        1               0\n",
              "3           1  CASH_OUT  1.810000e+02  ...          0.000        1               0\n",
              "4           1   PAYMENT  1.166814e+04  ...          0.000        0               0\n",
              "...       ...       ...           ...  ...            ...      ...             ...\n",
              "6362615   743  CASH_OUT  3.396821e+05  ...     339682.125        1               0\n",
              "6362616   743  TRANSFER  6.311410e+06  ...          0.000        1               0\n",
              "6362617   743  CASH_OUT  6.311410e+06  ...    6379898.000        1               0\n",
              "6362618   743  TRANSFER  8.500025e+05  ...          0.000        1               0\n",
              "6362619   743  CASH_OUT  8.500025e+05  ...    7360101.500        1               0\n",
              "\n",
              "[6362620 rows x 11 columns]"
            ]
          },
          "metadata": {
            "tags": []
          },
          "execution_count": 4
        }
      ]
    },
    {
      "cell_type": "markdown",
      "metadata": {
        "id": "BHJIbKEyTPTa"
      },
      "source": [
        "### Preprocessing"
      ]
    },
    {
      "cell_type": "code",
      "metadata": {
        "id": "dqwdIepFTPTd",
        "outputId": "b3037efa-8a2d-4d49-edb5-22e54a6bd57f",
        "colab": {
          "base_uri": "https://localhost:8080/",
          "height": 34
        }
      },
      "source": [
        "# cleaning data \n",
        "# checking null values\n",
        "\n",
        "data.isnull().values.any()"
      ],
      "execution_count": 5,
      "outputs": [
        {
          "output_type": "execute_result",
          "data": {
            "text/plain": [
              "False"
            ]
          },
          "metadata": {
            "tags": []
          },
          "execution_count": 5
        }
      ]
    },
    {
      "cell_type": "code",
      "metadata": {
        "id": "IcZvnIqaW5-u",
        "outputId": "50d5dcb7-d952-499d-dd00-adf681149896",
        "colab": {
          "base_uri": "https://localhost:8080/",
          "height": 215
        }
      },
      "source": [
        "data.head()"
      ],
      "execution_count": 6,
      "outputs": [
        {
          "output_type": "execute_result",
          "data": {
            "text/html": [
              "<div>\n",
              "<style scoped>\n",
              "    .dataframe tbody tr th:only-of-type {\n",
              "        vertical-align: middle;\n",
              "    }\n",
              "\n",
              "    .dataframe tbody tr th {\n",
              "        vertical-align: top;\n",
              "    }\n",
              "\n",
              "    .dataframe thead th {\n",
              "        text-align: right;\n",
              "    }\n",
              "</style>\n",
              "<table border=\"1\" class=\"dataframe\">\n",
              "  <thead>\n",
              "    <tr style=\"text-align: right;\">\n",
              "      <th></th>\n",
              "      <th>step</th>\n",
              "      <th>type</th>\n",
              "      <th>amount</th>\n",
              "      <th>nameOrig</th>\n",
              "      <th>oldbalanceOrg</th>\n",
              "      <th>newbalanceOrig</th>\n",
              "      <th>nameDest</th>\n",
              "      <th>oldbalanceDest</th>\n",
              "      <th>newbalanceDest</th>\n",
              "      <th>isFraud</th>\n",
              "      <th>isFlaggedFraud</th>\n",
              "    </tr>\n",
              "  </thead>\n",
              "  <tbody>\n",
              "    <tr>\n",
              "      <th>0</th>\n",
              "      <td>1</td>\n",
              "      <td>PAYMENT</td>\n",
              "      <td>9839.639648</td>\n",
              "      <td>C1231006815</td>\n",
              "      <td>170136.0</td>\n",
              "      <td>160296.359375</td>\n",
              "      <td>M1979787155</td>\n",
              "      <td>0.0</td>\n",
              "      <td>0.0</td>\n",
              "      <td>0</td>\n",
              "      <td>0</td>\n",
              "    </tr>\n",
              "    <tr>\n",
              "      <th>1</th>\n",
              "      <td>1</td>\n",
              "      <td>PAYMENT</td>\n",
              "      <td>1864.280029</td>\n",
              "      <td>C1666544295</td>\n",
              "      <td>21249.0</td>\n",
              "      <td>19384.720703</td>\n",
              "      <td>M2044282225</td>\n",
              "      <td>0.0</td>\n",
              "      <td>0.0</td>\n",
              "      <td>0</td>\n",
              "      <td>0</td>\n",
              "    </tr>\n",
              "    <tr>\n",
              "      <th>2</th>\n",
              "      <td>1</td>\n",
              "      <td>TRANSFER</td>\n",
              "      <td>181.000000</td>\n",
              "      <td>C1305486145</td>\n",
              "      <td>181.0</td>\n",
              "      <td>0.000000</td>\n",
              "      <td>C553264065</td>\n",
              "      <td>0.0</td>\n",
              "      <td>0.0</td>\n",
              "      <td>1</td>\n",
              "      <td>0</td>\n",
              "    </tr>\n",
              "    <tr>\n",
              "      <th>3</th>\n",
              "      <td>1</td>\n",
              "      <td>CASH_OUT</td>\n",
              "      <td>181.000000</td>\n",
              "      <td>C840083671</td>\n",
              "      <td>181.0</td>\n",
              "      <td>0.000000</td>\n",
              "      <td>C38997010</td>\n",
              "      <td>21182.0</td>\n",
              "      <td>0.0</td>\n",
              "      <td>1</td>\n",
              "      <td>0</td>\n",
              "    </tr>\n",
              "    <tr>\n",
              "      <th>4</th>\n",
              "      <td>1</td>\n",
              "      <td>PAYMENT</td>\n",
              "      <td>11668.139648</td>\n",
              "      <td>C2048537720</td>\n",
              "      <td>41554.0</td>\n",
              "      <td>29885.859375</td>\n",
              "      <td>M1230701703</td>\n",
              "      <td>0.0</td>\n",
              "      <td>0.0</td>\n",
              "      <td>0</td>\n",
              "      <td>0</td>\n",
              "    </tr>\n",
              "  </tbody>\n",
              "</table>\n",
              "</div>"
            ],
            "text/plain": [
              "   step      type        amount  ... newbalanceDest  isFraud  isFlaggedFraud\n",
              "0     1   PAYMENT   9839.639648  ...            0.0        0               0\n",
              "1     1   PAYMENT   1864.280029  ...            0.0        0               0\n",
              "2     1  TRANSFER    181.000000  ...            0.0        1               0\n",
              "3     1  CASH_OUT    181.000000  ...            0.0        1               0\n",
              "4     1   PAYMENT  11668.139648  ...            0.0        0               0\n",
              "\n",
              "[5 rows x 11 columns]"
            ]
          },
          "metadata": {
            "tags": []
          },
          "execution_count": 6
        }
      ]
    },
    {
      "cell_type": "code",
      "metadata": {
        "id": "VLNnwFhMTPTo",
        "outputId": "70cad021-f63f-42a4-bb79-4d9a1b3632fc",
        "colab": {
          "base_uri": "https://localhost:8080/",
          "height": 422
        }
      },
      "source": [
        "# feature selection\n",
        "\n",
        "data = data.drop(['nameOrig','nameDest'],axis = 1)\n",
        "data"
      ],
      "execution_count": 7,
      "outputs": [
        {
          "output_type": "execute_result",
          "data": {
            "text/html": [
              "<div>\n",
              "<style scoped>\n",
              "    .dataframe tbody tr th:only-of-type {\n",
              "        vertical-align: middle;\n",
              "    }\n",
              "\n",
              "    .dataframe tbody tr th {\n",
              "        vertical-align: top;\n",
              "    }\n",
              "\n",
              "    .dataframe thead th {\n",
              "        text-align: right;\n",
              "    }\n",
              "</style>\n",
              "<table border=\"1\" class=\"dataframe\">\n",
              "  <thead>\n",
              "    <tr style=\"text-align: right;\">\n",
              "      <th></th>\n",
              "      <th>step</th>\n",
              "      <th>type</th>\n",
              "      <th>amount</th>\n",
              "      <th>oldbalanceOrg</th>\n",
              "      <th>newbalanceOrig</th>\n",
              "      <th>oldbalanceDest</th>\n",
              "      <th>newbalanceDest</th>\n",
              "      <th>isFraud</th>\n",
              "      <th>isFlaggedFraud</th>\n",
              "    </tr>\n",
              "  </thead>\n",
              "  <tbody>\n",
              "    <tr>\n",
              "      <th>0</th>\n",
              "      <td>1</td>\n",
              "      <td>PAYMENT</td>\n",
              "      <td>9.839640e+03</td>\n",
              "      <td>170136.000</td>\n",
              "      <td>160296.359375</td>\n",
              "      <td>0.000000e+00</td>\n",
              "      <td>0.000</td>\n",
              "      <td>0</td>\n",
              "      <td>0</td>\n",
              "    </tr>\n",
              "    <tr>\n",
              "      <th>1</th>\n",
              "      <td>1</td>\n",
              "      <td>PAYMENT</td>\n",
              "      <td>1.864280e+03</td>\n",
              "      <td>21249.000</td>\n",
              "      <td>19384.720703</td>\n",
              "      <td>0.000000e+00</td>\n",
              "      <td>0.000</td>\n",
              "      <td>0</td>\n",
              "      <td>0</td>\n",
              "    </tr>\n",
              "    <tr>\n",
              "      <th>2</th>\n",
              "      <td>1</td>\n",
              "      <td>TRANSFER</td>\n",
              "      <td>1.810000e+02</td>\n",
              "      <td>181.000</td>\n",
              "      <td>0.000000</td>\n",
              "      <td>0.000000e+00</td>\n",
              "      <td>0.000</td>\n",
              "      <td>1</td>\n",
              "      <td>0</td>\n",
              "    </tr>\n",
              "    <tr>\n",
              "      <th>3</th>\n",
              "      <td>1</td>\n",
              "      <td>CASH_OUT</td>\n",
              "      <td>1.810000e+02</td>\n",
              "      <td>181.000</td>\n",
              "      <td>0.000000</td>\n",
              "      <td>2.118200e+04</td>\n",
              "      <td>0.000</td>\n",
              "      <td>1</td>\n",
              "      <td>0</td>\n",
              "    </tr>\n",
              "    <tr>\n",
              "      <th>4</th>\n",
              "      <td>1</td>\n",
              "      <td>PAYMENT</td>\n",
              "      <td>1.166814e+04</td>\n",
              "      <td>41554.000</td>\n",
              "      <td>29885.859375</td>\n",
              "      <td>0.000000e+00</td>\n",
              "      <td>0.000</td>\n",
              "      <td>0</td>\n",
              "      <td>0</td>\n",
              "    </tr>\n",
              "    <tr>\n",
              "      <th>...</th>\n",
              "      <td>...</td>\n",
              "      <td>...</td>\n",
              "      <td>...</td>\n",
              "      <td>...</td>\n",
              "      <td>...</td>\n",
              "      <td>...</td>\n",
              "      <td>...</td>\n",
              "      <td>...</td>\n",
              "      <td>...</td>\n",
              "    </tr>\n",
              "    <tr>\n",
              "      <th>6362615</th>\n",
              "      <td>743</td>\n",
              "      <td>CASH_OUT</td>\n",
              "      <td>3.396821e+05</td>\n",
              "      <td>339682.125</td>\n",
              "      <td>0.000000</td>\n",
              "      <td>0.000000e+00</td>\n",
              "      <td>339682.125</td>\n",
              "      <td>1</td>\n",
              "      <td>0</td>\n",
              "    </tr>\n",
              "    <tr>\n",
              "      <th>6362616</th>\n",
              "      <td>743</td>\n",
              "      <td>TRANSFER</td>\n",
              "      <td>6.311410e+06</td>\n",
              "      <td>6311409.500</td>\n",
              "      <td>0.000000</td>\n",
              "      <td>0.000000e+00</td>\n",
              "      <td>0.000</td>\n",
              "      <td>1</td>\n",
              "      <td>0</td>\n",
              "    </tr>\n",
              "    <tr>\n",
              "      <th>6362617</th>\n",
              "      <td>743</td>\n",
              "      <td>CASH_OUT</td>\n",
              "      <td>6.311410e+06</td>\n",
              "      <td>6311409.500</td>\n",
              "      <td>0.000000</td>\n",
              "      <td>6.848884e+04</td>\n",
              "      <td>6379898.000</td>\n",
              "      <td>1</td>\n",
              "      <td>0</td>\n",
              "    </tr>\n",
              "    <tr>\n",
              "      <th>6362618</th>\n",
              "      <td>743</td>\n",
              "      <td>TRANSFER</td>\n",
              "      <td>8.500025e+05</td>\n",
              "      <td>850002.500</td>\n",
              "      <td>0.000000</td>\n",
              "      <td>0.000000e+00</td>\n",
              "      <td>0.000</td>\n",
              "      <td>1</td>\n",
              "      <td>0</td>\n",
              "    </tr>\n",
              "    <tr>\n",
              "      <th>6362619</th>\n",
              "      <td>743</td>\n",
              "      <td>CASH_OUT</td>\n",
              "      <td>8.500025e+05</td>\n",
              "      <td>850002.500</td>\n",
              "      <td>0.000000</td>\n",
              "      <td>6.510099e+06</td>\n",
              "      <td>7360101.500</td>\n",
              "      <td>1</td>\n",
              "      <td>0</td>\n",
              "    </tr>\n",
              "  </tbody>\n",
              "</table>\n",
              "<p>6362620 rows × 9 columns</p>\n",
              "</div>"
            ],
            "text/plain": [
              "         step      type        amount  ...  newbalanceDest  isFraud  isFlaggedFraud\n",
              "0           1   PAYMENT  9.839640e+03  ...           0.000        0               0\n",
              "1           1   PAYMENT  1.864280e+03  ...           0.000        0               0\n",
              "2           1  TRANSFER  1.810000e+02  ...           0.000        1               0\n",
              "3           1  CASH_OUT  1.810000e+02  ...           0.000        1               0\n",
              "4           1   PAYMENT  1.166814e+04  ...           0.000        0               0\n",
              "...       ...       ...           ...  ...             ...      ...             ...\n",
              "6362615   743  CASH_OUT  3.396821e+05  ...      339682.125        1               0\n",
              "6362616   743  TRANSFER  6.311410e+06  ...           0.000        1               0\n",
              "6362617   743  CASH_OUT  6.311410e+06  ...     6379898.000        1               0\n",
              "6362618   743  TRANSFER  8.500025e+05  ...           0.000        1               0\n",
              "6362619   743  CASH_OUT  8.500025e+05  ...     7360101.500        1               0\n",
              "\n",
              "[6362620 rows x 9 columns]"
            ]
          },
          "metadata": {
            "tags": []
          },
          "execution_count": 7
        }
      ]
    },
    {
      "cell_type": "code",
      "metadata": {
        "id": "WfP-BRsxbuYN",
        "outputId": "20465524-31dc-4c2e-d698-af893cb80161",
        "colab": {
          "base_uri": "https://localhost:8080/",
          "height": 402
        }
      },
      "source": [
        "pd.get_dummies(data['type'], prefix='Type')"
      ],
      "execution_count": 9,
      "outputs": [
        {
          "output_type": "execute_result",
          "data": {
            "text/html": [
              "<div>\n",
              "<style scoped>\n",
              "    .dataframe tbody tr th:only-of-type {\n",
              "        vertical-align: middle;\n",
              "    }\n",
              "\n",
              "    .dataframe tbody tr th {\n",
              "        vertical-align: top;\n",
              "    }\n",
              "\n",
              "    .dataframe thead th {\n",
              "        text-align: right;\n",
              "    }\n",
              "</style>\n",
              "<table border=\"1\" class=\"dataframe\">\n",
              "  <thead>\n",
              "    <tr style=\"text-align: right;\">\n",
              "      <th></th>\n",
              "      <th>Type_CASH_IN</th>\n",
              "      <th>Type_CASH_OUT</th>\n",
              "      <th>Type_DEBIT</th>\n",
              "      <th>Type_PAYMENT</th>\n",
              "      <th>Type_TRANSFER</th>\n",
              "    </tr>\n",
              "  </thead>\n",
              "  <tbody>\n",
              "    <tr>\n",
              "      <th>0</th>\n",
              "      <td>0</td>\n",
              "      <td>0</td>\n",
              "      <td>0</td>\n",
              "      <td>1</td>\n",
              "      <td>0</td>\n",
              "    </tr>\n",
              "    <tr>\n",
              "      <th>1</th>\n",
              "      <td>0</td>\n",
              "      <td>0</td>\n",
              "      <td>0</td>\n",
              "      <td>1</td>\n",
              "      <td>0</td>\n",
              "    </tr>\n",
              "    <tr>\n",
              "      <th>2</th>\n",
              "      <td>0</td>\n",
              "      <td>0</td>\n",
              "      <td>0</td>\n",
              "      <td>0</td>\n",
              "      <td>1</td>\n",
              "    </tr>\n",
              "    <tr>\n",
              "      <th>3</th>\n",
              "      <td>0</td>\n",
              "      <td>1</td>\n",
              "      <td>0</td>\n",
              "      <td>0</td>\n",
              "      <td>0</td>\n",
              "    </tr>\n",
              "    <tr>\n",
              "      <th>4</th>\n",
              "      <td>0</td>\n",
              "      <td>0</td>\n",
              "      <td>0</td>\n",
              "      <td>1</td>\n",
              "      <td>0</td>\n",
              "    </tr>\n",
              "    <tr>\n",
              "      <th>...</th>\n",
              "      <td>...</td>\n",
              "      <td>...</td>\n",
              "      <td>...</td>\n",
              "      <td>...</td>\n",
              "      <td>...</td>\n",
              "    </tr>\n",
              "    <tr>\n",
              "      <th>6362615</th>\n",
              "      <td>0</td>\n",
              "      <td>1</td>\n",
              "      <td>0</td>\n",
              "      <td>0</td>\n",
              "      <td>0</td>\n",
              "    </tr>\n",
              "    <tr>\n",
              "      <th>6362616</th>\n",
              "      <td>0</td>\n",
              "      <td>0</td>\n",
              "      <td>0</td>\n",
              "      <td>0</td>\n",
              "      <td>1</td>\n",
              "    </tr>\n",
              "    <tr>\n",
              "      <th>6362617</th>\n",
              "      <td>0</td>\n",
              "      <td>1</td>\n",
              "      <td>0</td>\n",
              "      <td>0</td>\n",
              "      <td>0</td>\n",
              "    </tr>\n",
              "    <tr>\n",
              "      <th>6362618</th>\n",
              "      <td>0</td>\n",
              "      <td>0</td>\n",
              "      <td>0</td>\n",
              "      <td>0</td>\n",
              "      <td>1</td>\n",
              "    </tr>\n",
              "    <tr>\n",
              "      <th>6362619</th>\n",
              "      <td>0</td>\n",
              "      <td>1</td>\n",
              "      <td>0</td>\n",
              "      <td>0</td>\n",
              "      <td>0</td>\n",
              "    </tr>\n",
              "  </tbody>\n",
              "</table>\n",
              "<p>6362620 rows × 5 columns</p>\n",
              "</div>"
            ],
            "text/plain": [
              "         Type_CASH_IN  Type_CASH_OUT  Type_DEBIT  Type_PAYMENT  Type_TRANSFER\n",
              "0                   0              0           0             1              0\n",
              "1                   0              0           0             1              0\n",
              "2                   0              0           0             0              1\n",
              "3                   0              1           0             0              0\n",
              "4                   0              0           0             1              0\n",
              "...               ...            ...         ...           ...            ...\n",
              "6362615             0              1           0             0              0\n",
              "6362616             0              0           0             0              1\n",
              "6362617             0              1           0             0              0\n",
              "6362618             0              0           0             0              1\n",
              "6362619             0              1           0             0              0\n",
              "\n",
              "[6362620 rows x 5 columns]"
            ]
          },
          "metadata": {
            "tags": []
          },
          "execution_count": 9
        }
      ]
    },
    {
      "cell_type": "code",
      "metadata": {
        "id": "Wb-13qVOTPTz"
      },
      "source": [
        "# feature engineering\n",
        "\n",
        "from sklearn.preprocessing import OneHotEncoder \n",
        "from sklearn.compose import ColumnTransformer \n",
        "   \n",
        "# creating one hot encoder object with categorical feature 1 \n",
        "# indicating the second column \n",
        "columnTransformer = ColumnTransformer([('encoder', \n",
        "                                        OneHotEncoder(), \n",
        "                                        [1])], \n",
        "                                      remainder='passthrough') \n",
        "  \n",
        "data = pd.DataFrame(np.array(columnTransformer.fit_transform(data), dtype = np.str))\n",
        "data"
      ],
      "execution_count": null,
      "outputs": []
    },
    {
      "cell_type": "code",
      "metadata": {
        "id": "dYRdUEhIaoUV",
        "outputId": "7a58d4cb-481c-42b9-d41f-072c70b34528",
        "colab": {
          "base_uri": "https://localhost:8080/",
          "height": 168
        }
      },
      "source": [
        "columnTransformer"
      ],
      "execution_count": 10,
      "outputs": [
        {
          "output_type": "execute_result",
          "data": {
            "text/plain": [
              "ColumnTransformer(n_jobs=None, remainder='passthrough', sparse_threshold=0.3,\n",
              "                  transformer_weights=None,\n",
              "                  transformers=[('encoder',\n",
              "                                 OneHotEncoder(categories='auto', drop=None,\n",
              "                                               dtype=<class 'numpy.float64'>,\n",
              "                                               handle_unknown='error',\n",
              "                                               sparse=True),\n",
              "                                 [1])],\n",
              "                  verbose=False)"
            ]
          },
          "metadata": {
            "tags": []
          },
          "execution_count": 10
        }
      ]
    },
    {
      "cell_type": "code",
      "metadata": {
        "id": "xx6SClkoTPT9"
      },
      "source": [
        "# change column name\n",
        "data_enc.rename(columns={0: \"CASH_IN\", 1: \"CASH_OUT\",2: \"DEBIT\",3: \"PAYMENT\",4: \"TRANSFER\",5: \"step\",6: \"amount\",7: \"oldbalanceOrig\",8: \"newbalanceOrig\",9: \"oldbalanceDest\",10: \"newbalanceDest\",11: \"isFraud\",12: \"isFlaggedFraud\",},inplace = True)"
      ],
      "execution_count": null,
      "outputs": []
    },
    {
      "cell_type": "code",
      "metadata": {
        "id": "MpmrUniQanNC"
      },
      "source": [
        ""
      ],
      "execution_count": null,
      "outputs": []
    },
    {
      "cell_type": "code",
      "metadata": {
        "id": "fLOS2VYqTPUF"
      },
      "source": [
        "# splitting data\n",
        "\n",
        "# fraud and no fraud transactions are separated by 'isFraud' column\n",
        "dataF = data_enc[data_enc['isFraud'] == '1.0']\n",
        "dataNF = data_enc[data_enc['isFraud'] == '0.0']\n",
        "\n",
        "# split fraud transaction into 80 percent and 20 percent sessions\n",
        "mskF = np.random.rand(len(dataF)) < 0.8\n",
        "trainF = dataF[mskF]\n",
        "testF = dataF[~mskF]\n",
        "\n",
        "# split no fraud transaction into 80 percent and 20 percent sessions\n",
        "mskNF = np.random.rand(len(dataNF)) < 0.8\n",
        "trainNF = dataNF[mskNF]\n",
        "testNF = dataNF[~mskNF]\n",
        "\n",
        "# \n",
        "train_data = pd.concat([trainF,trainNF]).reset_index(drop = True)\n",
        "test_data = pd.concat([testF,testNF]).reset_index(drop = True)\n",
        "\n",
        "#create input data attributes by dropped irrevalent and target column \n",
        "train_feature = train_data.drop(['isFraud','isFlaggedFraud'],axis = 1)\n",
        "test_feature = test_data.drop(['isFraud','isFlaggedFraud'],axis = 1)\n",
        "\n",
        "train_label = train_data['isFraud']\n",
        "test_label = test_data['isFraud']"
      ],
      "execution_count": null,
      "outputs": []
    },
    {
      "cell_type": "code",
      "metadata": {
        "id": "CSGIiVhKTPUK"
      },
      "source": [
        "# feature scaling\n",
        "\n",
        "from sklearn import preprocessing\n",
        "scaler = preprocessing.StandardScaler()\n",
        "train_feature_scaled =scaler.fit_transform(train_feature)\n",
        "train_feature_scaled[1]\n",
        "\n",
        "test_feature_scaled = scaler.transform(test_feature)"
      ],
      "execution_count": null,
      "outputs": []
    },
    {
      "cell_type": "markdown",
      "metadata": {
        "id": "KS3ujUO7TPUP"
      },
      "source": [
        "## Logistic Regression"
      ]
    },
    {
      "cell_type": "markdown",
      "metadata": {
        "id": "jQIs0CDqTPUQ"
      },
      "source": [
        "Logistic regression is used to describe data and to explain the relationship between one dependent binary variable and one or more nominal, ordinal, interval or ratio-level independent variables\n",
        "    \n",
        "    class sklearn.linear_model.LogisticRegression (penalty='l2', *, dual=False, tol=0.0001, C=1.0, fit_intercept=True, intercept_scaling=1, class_weight=None, random_state=None, solver='lbfgs', max_iter=100, multi_class='auto', verbose=0, warm_start=False, n_jobs=None, l1_ratio=None)\n",
        "    \n",
        "https://scikit-learn.org/stable/modules/generated/sklearn.linear_model.LogisticRegression.html"
      ]
    },
    {
      "cell_type": "code",
      "metadata": {
        "id": "N3MXUMV1TPUR"
      },
      "source": [
        "from sklearn.linear_model import LogisticRegression\n",
        "clf = LogisticRegression(random_state=0)\n",
        "clf.fit(train_feature_scaled,train_label)\n",
        "\n",
        "# predict train data\n",
        "lr_predY_train = clf.predict(train_feature_scaled)"
      ],
      "execution_count": null,
      "outputs": []
    },
    {
      "cell_type": "code",
      "metadata": {
        "id": "oBlCqFQ9TPUV"
      },
      "source": [
        "# predict test data\n",
        "lr_predY = clf.predict(test_feature_scaled)\n",
        "lr_predY[0:10]"
      ],
      "execution_count": null,
      "outputs": []
    },
    {
      "cell_type": "markdown",
      "metadata": {
        "id": "mKRKxux3TPUZ"
      },
      "source": [
        "## XGBoost "
      ]
    },
    {
      "cell_type": "markdown",
      "metadata": {
        "id": "nosOb9RwTPUa"
      },
      "source": [
        "XGBoost stands for Extreme Gradient Boosting; it is a specific implementation of the Gradient Boosting method which uses more accurate approximations to find the best tree model. It employs a number of nifty tricks that make it exceptionally successful, particularly with structured data.\n",
        "\n",
        "XGBoost's hyperparameters\n",
        "\n",
        "    -learning_rate: step size shrinkage used to prevent overfitting. Range is [0,1]\n",
        "    -max_depth: determines how deeply each tree is allowed to grow during any boosting round.\n",
        "    -subsample: percentage of samples used per tree. Low value can lead to underfitting.\n",
        "    -colsample_bytree: percentage of features used per tree. High value can lead to overfitting.\n",
        "    -n_estimators: number of trees you want to build.\n",
        "    -objective: determines the loss function to be used like reg:linear for regression problems, reg:logistic for classification problems with only decision, binary:logistic for classification problems with probability.\n",
        "\n",
        "XGBoost also supports regularization parameters to penalize models as they become more complex and reduce them to simple (parsimonious) models.\n",
        "\n",
        "    -gamma: controls whether a given node will split based on the expected reduction in loss after the split. A higher value leads to fewer splits. Supported only for tree-based learners.\n",
        "    -alpha: L1 regularization on leaf weights. A large value leads to more regularization.\n",
        "    -lambda: L2 regularization on leaf weights and is smoother than L1 regularization."
      ]
    },
    {
      "cell_type": "code",
      "metadata": {
        "id": "hvpwdiIQTPUa",
        "outputId": "233f425f-b759-43b5-b273-a441c97f63d6"
      },
      "source": [
        "from xgboost.sklearn import XGBClassifier\n",
        "xgbc = XGBClassifier()\n",
        "\n",
        "XGBClassifier(base_score=0.5, booster='gbtree', colsample_bylevel=1,\n",
        "       colsample_bynode=1, colsample_bytree=1, gamma=0, learning_rate=0.1,\n",
        "       max_delta_step=0, max_depth=3, min_child_weight=1, missing=None,\n",
        "       n_estimators=100, n_jobs=1, nthread=None,\n",
        "       objective='multi:softprob', random_state=0, reg_alpha=0,\n",
        "       reg_lambda=1, scale_pos_weight=1, seed=None, silent=None,\n",
        "       subsample=1, verbosity=1) \n",
        "\n",
        "xgbc.fit(train_feature_scaled, train_label)\n",
        "\n",
        "# predict train data\n",
        "xgb_predY_train = xgbc.predict(train_feature_scaled)"
      ],
      "execution_count": null,
      "outputs": [
        {
          "output_type": "stream",
          "text": [
            "[00:01:56] WARNING: C:\\Users\\Administrator\\workspace\\xgboost-win64_release_1.2.0\\src\\gbm\\gbtree.cc:139: Tree method is automatically selected to be 'approx' for faster speed. To use old behavior (exact greedy algorithm on single machine), set tree_method to 'exact'.\n"
          ],
          "name": "stdout"
        }
      ]
    },
    {
      "cell_type": "code",
      "metadata": {
        "id": "vOsJsHVaTPUe",
        "outputId": "d181828e-c2f6-4742-a4c5-fd403a4f31f7"
      },
      "source": [
        "# predict test data\n",
        "xgb_predY = xgbc.predict(test_feature_scaled)\n",
        "xgb_predY[0:10]"
      ],
      "execution_count": null,
      "outputs": [
        {
          "output_type": "execute_result",
          "data": {
            "text/plain": [
              "array(['1.0', '1.0', '0.0', '1.0', '1.0', '1.0', '1.0', '1.0', '0.0',\n",
              "       '1.0'], dtype=object)"
            ]
          },
          "metadata": {
            "tags": []
          },
          "execution_count": 18
        }
      ]
    },
    {
      "cell_type": "markdown",
      "metadata": {
        "id": "ADyEf0Z3TPUj"
      },
      "source": [
        "## Model Evaluation"
      ]
    },
    {
      "cell_type": "markdown",
      "metadata": {
        "id": "bJluMA3FTPUk"
      },
      "source": [
        "### Confusion Matrix"
      ]
    },
    {
      "cell_type": "markdown",
      "metadata": {
        "id": "jz32JItbTPUm"
      },
      "source": [
        "confusion matrix, also known as an error matrix, is a specific table layout that allows visualization of the performance of an algorithm, typically a supervised learning one (in unsupervised learning it is usually called a matching matrix). Each row of the matrix represents the instances in a predicted class while each column represents the instances in an actual class (or vice versa)\n",
        "\n",
        "![image.png](attachment:image.png)\n",
        "\n",
        "\n",
        "https://en.wikipedia.org/wiki/Confusion_matrix\n",
        "\n",
        "--------------------------------------------\n",
        "Accuracy: Overall, how often is the classifier correct?\n",
        "    \n",
        "    Accuracy = (TP+TN)/total = (TP+TN)/(TP+TN+FN+FP)\n",
        "\n",
        "Precision: When it predicts yes, how often is it correct?\n",
        "\n",
        "    Precision = TP/predicted yes = TP/(TP+FP)\n",
        "    \n",
        "Recall: When it's actually yes, how often does it predict yes? (True Positive Rate)\n",
        "\n",
        "    Recall = TP/actual yes = TP/(TP+FN)\n",
        "    \n",
        "F1 Score: This is a weighted average of the recall and precision\n",
        "\n",
        "    F1 Score = (2*(Precision*Recall))/(Precision+Recall)"
      ]
    },
    {
      "cell_type": "code",
      "metadata": {
        "id": "xOfa_llITPUn",
        "outputId": "3cf5a5c2-430d-424a-9c31-c9766b6933df"
      },
      "source": [
        "from sklearn.metrics import confusion_matrix, accuracy_score, recall_score, precision_score, f1_score\n",
        "\n",
        "accuracy_scorelr_train = accuracy_score(train_label,lr_predY_train)\n",
        "precision_scorelr_train = precision_score(train_label,lr_predY_train,average=\"binary\",pos_label=\"1.0\")\n",
        "recall_scorelr_train = recall_score(train_label,lr_predY_train,average=\"binary\",pos_label=\"1.0\")\n",
        "f1_scorelr_train = f1_score(train_label, lr_predY_train, average='macro')\n",
        "\n",
        "print(\"Accuracy_score_train : \",accuracy_scorelr_train)\n",
        "print(\"Precision_score_train : \",precision_scorelr_train)\n",
        "print(\"Recall_score_train : \",recall_scorelr_train)\n",
        "print(\"F1_score_train : \",f1_scorelr_train)"
      ],
      "execution_count": null,
      "outputs": [
        {
          "output_type": "stream",
          "text": [
            "Accuracy_score_train :  0.999218865604206\n",
            "Precision_score_train :  0.9233791748526523\n",
            "Recall_score_train :  0.42981252857796065\n",
            "F1_score_train :  0.7930962634054941\n"
          ],
          "name": "stdout"
        }
      ]
    },
    {
      "cell_type": "code",
      "metadata": {
        "id": "RD4MmAHSTPUs",
        "outputId": "830dfb70-6538-4ea6-f159-4ee09435324f"
      },
      "source": [
        "accuracy_scorelr = accuracy_score(test_label,lr_predY)\n",
        "precision_scorelr = precision_score(test_label,lr_predY,average=\"binary\",pos_label=\"1.0\")\n",
        "recall_scorelr = recall_score(test_label,lr_predY,average=\"binary\",pos_label=\"1.0\")\n",
        "f1_scorelr = f1_score(test_label, lr_predY, average='macro')\n",
        "\n",
        "print(\"Accuracy_score : \",accuracy_scorelr)\n",
        "print(\"Precision_score : \",precision_scorelr)\n",
        "print(\"Recall_score : \",recall_scorelr)\n",
        "print(\"F1_score : \",f1_scorelr)"
      ],
      "execution_count": null,
      "outputs": [
        {
          "output_type": "stream",
          "text": [
            "Accuracy_score_train :  0.9992487441781599\n",
            "Precision_score_train :  0.9284833538840938\n",
            "Recall_score_train :  0.45581113801452783\n",
            "F1_score_train :  0.8055367302452809\n"
          ],
          "name": "stdout"
        }
      ]
    },
    {
      "cell_type": "code",
      "metadata": {
        "id": "5jrGF3-HTPUw",
        "outputId": "24d38657-8f43-4bd9-821b-8ae8a65cc65e"
      },
      "source": [
        "cm_lr = confusion_matrix(lr_predY,test_label,labels=[\"1.0\", \"0.0\"])\n",
        "cm_lr"
      ],
      "execution_count": null,
      "outputs": [
        {
          "output_type": "execute_result",
          "data": {
            "text/plain": [
              "array([[    753,      58],\n",
              "       [    899, 1272157]], dtype=int64)"
            ]
          },
          "metadata": {
            "tags": []
          },
          "execution_count": 21
        }
      ]
    },
    {
      "cell_type": "code",
      "metadata": {
        "id": "Yg7iXs1LTPU1",
        "outputId": "6a810a95-d738-4135-aa25-bd443b46d8a7"
      },
      "source": [
        "accuracy_scorexgb_train = accuracy_score(train_label,xgb_predY_train)\n",
        "precision_scorexgb_train = precision_score(train_label,xgb_predY_train,average=\"binary\",pos_label=\"1.0\")\n",
        "recall_scorexgb_train = recall_score(train_label,xgb_predY_train,average=\"binary\",pos_label=\"1.0\")\n",
        "f1_scorexgb_train = f1_score(train_label, xgb_predY_train, average='macro')\n",
        "\n",
        "print(\"Accuracy_score_train : \",accuracy_scorexgb_train)\n",
        "print(\"Precision_score_train : \",precision_scorexgb_train)\n",
        "print(\"Recall_score_train : \",recall_scorexgb_train)\n",
        "print(\"F1_score_train : \",f1_scorexgb_train)"
      ],
      "execution_count": null,
      "outputs": [
        {
          "output_type": "stream",
          "text": [
            "Accuracy_score_train :  0.999848882427581\n",
            "Precision_score_train :  0.9829886591060707\n",
            "Recall_score_train :  0.898338667885993\n",
            "F1_score_train :  0.9693418028293759\n"
          ],
          "name": "stdout"
        }
      ]
    },
    {
      "cell_type": "code",
      "metadata": {
        "id": "m4QmhONGTPU6",
        "outputId": "9fad2b19-ec13-45c1-e4a6-2bc165d616a6"
      },
      "source": [
        "accuracy_scorexgb = accuracy_score(test_label,xgb_predY)\n",
        "precision_scorexgb = precision_score(test_label,xgb_predY,average=\"binary\",pos_label=\"1.0\")\n",
        "recall_scorexgb = recall_score(test_label,xgb_predY,average=\"binary\",pos_label=\"1.0\")\n",
        "f1_scorelxgb = f1_score(test_label, xgb_predY, average='macro')\n",
        "\n",
        "print(\"Accuracy_score_xgb : \",accuracy_scorexgb)\n",
        "print(\"Precision_score_xgb : \",precision_scorexgb)\n",
        "print(\"Recall_score_xgb : \",recall_scorexgb)\n",
        "print(\"F1_score_xgb : \",f1_scorelxgb)"
      ],
      "execution_count": null,
      "outputs": [
        {
          "output_type": "stream",
          "text": [
            "Accuracy_score_xgb :  0.999784906901584\n",
            "Precision_score_xgb :  0.9674355495251018\n",
            "Recall_score_xgb :  0.8631961259079903\n",
            "F1_score_xgb :  0.9561201849782245\n"
          ],
          "name": "stdout"
        }
      ]
    },
    {
      "cell_type": "code",
      "metadata": {
        "id": "SygFqFp1TPU_",
        "outputId": "a74ecbc0-2ce2-40d2-bebd-9729755ffefd"
      },
      "source": [
        "cm_xgb = confusion_matrix(xgb_predY,test_label,labels=[\"1.0\", \"0.0\"])\n",
        "cm_xgb"
      ],
      "execution_count": null,
      "outputs": [
        {
          "output_type": "execute_result",
          "data": {
            "text/plain": [
              "array([[   1426,      48],\n",
              "       [    226, 1272167]], dtype=int64)"
            ]
          },
          "metadata": {
            "tags": []
          },
          "execution_count": 27
        }
      ]
    },
    {
      "cell_type": "code",
      "metadata": {
        "id": "OTkfd1WATPVE",
        "outputId": "70321846-e2d3-4819-d78b-b9bf7c0afb9d"
      },
      "source": [
        "1426/(1426+226)"
      ],
      "execution_count": null,
      "outputs": [
        {
          "output_type": "execute_result",
          "data": {
            "text/plain": [
              "0.8631961259079903"
            ]
          },
          "metadata": {
            "tags": []
          },
          "execution_count": 49
        }
      ]
    },
    {
      "cell_type": "markdown",
      "metadata": {
        "id": "HYmP0vP9TPVK"
      },
      "source": [
        "## Random OverSampling "
      ]
    },
    {
      "cell_type": "markdown",
      "metadata": {
        "id": "EzXvSGJwTPVL"
      },
      "source": [
        "Random oversampling involves randomly duplicating examples from the minority class and adding them to the training dataset.\n",
        "\n",
        "This technique can be effective for those machine learning algorithms that are affected by a skewed distribution and where multiple duplicate examples for a given class can influence the fit of the model"
      ]
    },
    {
      "cell_type": "code",
      "metadata": {
        "id": "QfDglDHYTPVM"
      },
      "source": [
        "from imblearn.over_sampling import RandomOverSampler \n",
        "ros = RandomOverSampler()\n",
        "train_feature_resampled, train_label_resampled = ros.fit_sample(train_feature, train_label)"
      ],
      "execution_count": null,
      "outputs": []
    },
    {
      "cell_type": "code",
      "metadata": {
        "id": "2nb_jvNmTPVR"
      },
      "source": [
        "scaler = preprocessing.StandardScaler()\n",
        "train_feature_scaled =scaler.fit_transform(train_feature_resampled)\n",
        "test_feature_scaled = scaler.transform(test_feature)"
      ],
      "execution_count": null,
      "outputs": []
    },
    {
      "cell_type": "code",
      "metadata": {
        "id": "Hym0PQGxTPVW",
        "outputId": "bdfd6141-d520-450d-f41e-990fa4e17902"
      },
      "source": [
        "clf_ros = LogisticRegression(random_state=0)\n",
        "clf_ros.fit(train_feature_scaled,train_label_resampled)"
      ],
      "execution_count": null,
      "outputs": [
        {
          "output_type": "stream",
          "text": [
            "C:\\Users\\saranya.hir\\Anaconda3\\lib\\site-packages\\sklearn\\linear_model\\_logistic.py:762: ConvergenceWarning: lbfgs failed to converge (status=1):\n",
            "STOP: TOTAL NO. of ITERATIONS REACHED LIMIT.\n",
            "\n",
            "Increase the number of iterations (max_iter) or scale the data as shown in:\n",
            "    https://scikit-learn.org/stable/modules/preprocessing.html\n",
            "Please also refer to the documentation for alternative solver options:\n",
            "    https://scikit-learn.org/stable/modules/linear_model.html#logistic-regression\n",
            "  n_iter_i = _check_optimize_result(\n"
          ],
          "name": "stderr"
        },
        {
          "output_type": "execute_result",
          "data": {
            "text/plain": [
              "LogisticRegression(random_state=0)"
            ]
          },
          "metadata": {
            "tags": []
          },
          "execution_count": 53
        }
      ]
    },
    {
      "cell_type": "code",
      "metadata": {
        "id": "iJsFRxUATPVc"
      },
      "source": [
        "lr_predY_ros_train = clf_ros.predict(train_feature_scaled)"
      ],
      "execution_count": null,
      "outputs": []
    },
    {
      "cell_type": "code",
      "metadata": {
        "id": "6vHDdZExTPVk",
        "outputId": "a009e409-68a1-474a-fff7-9b35e50d1bb9"
      },
      "source": [
        "accuracy_scorelr_ros_train = accuracy_score(train_label_resampled,lr_predY_ros_train)\n",
        "f1_scorelr_ros_train = f1_score(train_label_resampled, lr_predY_ros_train, average='macro')\n",
        "precision_scorelr_ros_train = precision_score(train_label_resampled,lr_predY_ros_train,average=\"binary\",pos_label=\"1.0\")\n",
        "recall_scorelr_ros_train = recall_score(train_label_resampled,lr_predY_ros_train,average=\"binary\",pos_label=\"1.0\")\n",
        "\n",
        "print(\"accuracy score_train = \",accuracy_scorelr_ros_train)\n",
        "print(\"precision score_train = \",precision_scorelr_ros_train)\n",
        "print(\"recall score_train = \",recall_scorelr_ros_train)\n",
        "print(\"f1 score score_train = \",f1_scorelr_ros_train)"
      ],
      "execution_count": null,
      "outputs": [
        {
          "output_type": "stream",
          "text": [
            "accuracy score_train =  0.9489807744374869\n",
            "precision score_train =  0.9483789882242392\n",
            "recall score_train =  0.9496518431416995\n",
            "f1 score score_train =  0.9489807514618251\n"
          ],
          "name": "stdout"
        }
      ]
    },
    {
      "cell_type": "code",
      "metadata": {
        "id": "vX6qdgQ9TPVq"
      },
      "source": [
        "lr_predY_ros = clf_ros.predict(test_feature_scaled)"
      ],
      "execution_count": null,
      "outputs": []
    },
    {
      "cell_type": "code",
      "metadata": {
        "id": "WsrGasB7TPVw",
        "outputId": "6eb7fed2-4c74-4126-e7ed-08c4c4124a83"
      },
      "source": [
        "accuracy_scorelr_ros = accuracy_score(test_label,lr_predY_ros)\n",
        "f1_scorelr_ros = f1_score(test_label, lr_predY_ros, average='macro')\n",
        "precision_scorelr_ros = precision_score(test_label,lr_predY_ros,average=\"binary\",pos_label=\"1.0\")\n",
        "recall_scorelr_ros = recall_score(test_label,lr_predY_ros,average=\"binary\",pos_label=\"1.0\")\n",
        "\n",
        "print(\"accuracy score_ros = \",accuracy_scorelr_ros)\n",
        "print(\"precision score_ros = \",precision_scorelr_ros)\n",
        "print(\"recall score_ros = \",recall_scorelr_ros)\n",
        "print(\"f1 score score_ros = \",f1_scorelr_ros)"
      ],
      "execution_count": null,
      "outputs": [
        {
          "output_type": "stream",
          "text": [
            "accuracy score_ros =  0.9479898607939448\n",
            "precision score_ros =  0.023260619299229564\n",
            "recall score_ros =  0.9539951573849879\n",
            "f1 score score_ros =  0.5093402975638798\n"
          ],
          "name": "stdout"
        }
      ]
    },
    {
      "cell_type": "code",
      "metadata": {
        "id": "8-SviPgqTPV2",
        "outputId": "6f6d7227-9789-4caf-93c8-d229664c1037"
      },
      "source": [
        "cm_lr_ros = confusion_matrix(lr_predY_ros,test_label,labels=[\"1.0\", \"0.0\"])\n",
        "cm_lr_ros"
      ],
      "execution_count": null,
      "outputs": [
        {
          "output_type": "execute_result",
          "data": {
            "text/plain": [
              "array([[   1576,   66178],\n",
              "       [     76, 1206037]], dtype=int64)"
            ]
          },
          "metadata": {
            "tags": []
          },
          "execution_count": 58
        }
      ]
    },
    {
      "cell_type": "code",
      "metadata": {
        "id": "c-PwsZpJTPV9",
        "outputId": "88e3b8a0-07f6-47ae-d13b-8de0d2d44daa"
      },
      "source": [
        "1577/(1577+75)"
      ],
      "execution_count": null,
      "outputs": [
        {
          "output_type": "execute_result",
          "data": {
            "text/plain": [
              "0.9546004842615012"
            ]
          },
          "metadata": {
            "tags": []
          },
          "execution_count": 48
        }
      ]
    },
    {
      "cell_type": "markdown",
      "metadata": {
        "id": "82Zc1jR_TPWF"
      },
      "source": [
        "## Random Undersampling"
      ]
    },
    {
      "cell_type": "markdown",
      "metadata": {
        "id": "2oY-l6AaTPWG"
      },
      "source": [
        "Random undersampling involves randomly selecting examples from the majority class to delete from the training dataset.\n",
        "\n",
        "This has the effect of reducing the number of examples in the majority class in the transformed version of the training dataset. This process can be repeated until the desired class distribution is achieved, such as an equal number of examples for each class\n",
        "\n",
        "A limitation of undersampling is that examples from the majority class are deleted that may be useful, important, or perhaps critical to fitting a robust decision boundary. Given that examples are deleted randomly, there is no way to detect or preserve “good” or more information-rich examples from the majority class.\n",
        "\n",
        "https://machinelearningmastery.com/random-oversampling-and-undersampling-for-imbalanced-classification/"
      ]
    },
    {
      "cell_type": "code",
      "metadata": {
        "id": "E8artzPHTPWI"
      },
      "source": [
        "from imblearn.under_sampling import RandomUnderSampler\n",
        "rus = RandomUnderSampler()\n",
        "train_feature_resampled, train_label_resampled = rus.fit_sample(train_feature,train_label)"
      ],
      "execution_count": null,
      "outputs": []
    },
    {
      "cell_type": "code",
      "metadata": {
        "id": "l7DWeRqqTPWQ"
      },
      "source": [
        "scaler = preprocessing.StandardScaler()\n",
        "train_feature_scaled =scaler.fit_transform(train_feature_resampled)\n",
        "test_feature_scaled = scaler.transform(test_feature)"
      ],
      "execution_count": null,
      "outputs": []
    },
    {
      "cell_type": "code",
      "metadata": {
        "id": "gQmDcGWrTPWX",
        "outputId": "b05ddf4b-d549-4ea5-b82a-dc0078cc69d1"
      },
      "source": [
        "clf_rus = LogisticRegression(random_state=0)\n",
        "clf_rus.fit(train_feature_scaled,train_label_resampled)"
      ],
      "execution_count": null,
      "outputs": [
        {
          "output_type": "execute_result",
          "data": {
            "text/plain": [
              "LogisticRegression(random_state=0)"
            ]
          },
          "metadata": {
            "tags": []
          },
          "execution_count": 61
        }
      ]
    },
    {
      "cell_type": "code",
      "metadata": {
        "id": "T_OaKzalTPWe"
      },
      "source": [
        "lr_predY_rus_train = clf_rus.predict(train_feature_scaled)"
      ],
      "execution_count": null,
      "outputs": []
    },
    {
      "cell_type": "code",
      "metadata": {
        "id": "3P5onpyCTPWn",
        "outputId": "1d595dfb-645c-461a-944e-e36bfe6e8b78"
      },
      "source": [
        "accuracy_scorelr_rus_train = accuracy_score(train_label_resampled,lr_predY_rus_train)\n",
        "f1_scorelr_rus_train = f1_score(train_label_resampled, lr_predY_rus_train, average='macro')\n",
        "precision_scorelr_rus_train = precision_score(train_label_resampled,lr_predY_rus_train,average=\"binary\",pos_label=\"1.0\")\n",
        "recall_scorelr_rus_train = recall_score(train_label_resampled,lr_predY_rus_train,average=\"binary\",pos_label=\"1.0\")\n",
        "\n",
        "print(\"accuracy score_rus_train = \",accuracy_scorelr_rus_train)\n",
        "print(\"precision score_rus_train = \",precision_scorelr_rus_train)\n",
        "print(\"recall score_rus_train = \",recall_scorelr_rus_train)\n",
        "print(\"f1 score score_rus_train = \",f1_scorelr_rus_train)"
      ],
      "execution_count": null,
      "outputs": [
        {
          "output_type": "stream",
          "text": [
            "accuracy score_rus_train =  0.9263831732967536\n",
            "precision score_rus_train =  0.9296575026877592\n",
            "recall score_rus_train =  0.9225727785398568\n",
            "f1 score score_rus_train =  0.926382104430562\n"
          ],
          "name": "stdout"
        }
      ]
    },
    {
      "cell_type": "code",
      "metadata": {
        "id": "81YvEgTITPWu"
      },
      "source": [
        "lr_predY_rus = clf_rus.predict(test_feature_scaled)"
      ],
      "execution_count": null,
      "outputs": []
    },
    {
      "cell_type": "code",
      "metadata": {
        "id": "1XczxPFcTPW0",
        "outputId": "cf9aac43-9521-463c-f6f8-2c1c5c31e340"
      },
      "source": [
        "accuracy_scorelr_rus = accuracy_score(test_label,lr_predY_rus)\n",
        "f1_scorelr_rus = f1_score(test_label, lr_predY_rus, average='macro')\n",
        "precision_scorelr_rus = precision_score(test_label,lr_predY_rus,average=\"binary\",pos_label=\"1.0\")\n",
        "recall_scorelr_rus = recall_score(test_label,lr_predY_rus,average=\"binary\",pos_label=\"1.0\")\n",
        "\n",
        "print(\"accuracy score_rus = \",accuracy_scorelr_rus)\n",
        "print(\"precision score_rus = \",precision_scorelr_rus)\n",
        "print(\"recall score_rus = \",recall_scorelr_rus)\n",
        "print(\"f1 score_rus = \",f1_scorelr_rus)"
      ],
      "execution_count": null,
      "outputs": [
        {
          "output_type": "stream",
          "text": [
            "accuracy score_rus =  0.9297728883784571\n",
            "precision score_rus =  0.01658225060559348\n",
            "recall score_rus =  0.9116222760290557\n",
            "f1 score_rus =  0.4980679958781676\n"
          ],
          "name": "stdout"
        }
      ]
    },
    {
      "cell_type": "code",
      "metadata": {
        "id": "OHio1RwyTPW8",
        "outputId": "cc394835-8e5c-4d37-ec9b-4bad3425d326"
      },
      "source": [
        "cm_lr_rus = confusion_matrix(lr_predY_rus,test_label,labels=[\"1.0\", \"0.0\"])\n",
        "cm_lr_rus"
      ],
      "execution_count": null,
      "outputs": [
        {
          "output_type": "execute_result",
          "data": {
            "text/plain": [
              "array([[   1506,   89314],\n",
              "       [    146, 1182901]], dtype=int64)"
            ]
          },
          "metadata": {
            "tags": []
          },
          "execution_count": 66
        }
      ]
    },
    {
      "cell_type": "code",
      "metadata": {
        "id": "GPpflaM2TPXE",
        "outputId": "cad9f8c9-923e-4a19-a030-eab67998d17d"
      },
      "source": [
        "1505/(1505+147)"
      ],
      "execution_count": null,
      "outputs": [
        {
          "output_type": "execute_result",
          "data": {
            "text/plain": [
              "0.9110169491525424"
            ]
          },
          "metadata": {
            "tags": []
          },
          "execution_count": 47
        }
      ]
    },
    {
      "cell_type": "code",
      "metadata": {
        "id": "OsehhXN_TPXJ"
      },
      "source": [
        ""
      ],
      "execution_count": null,
      "outputs": []
    }
  ]
}
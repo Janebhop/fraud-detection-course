{
  "nbformat": 4,
  "nbformat_minor": 0,
  "metadata": {
    "colab": {
      "name": "Copy of Part Model.ipynb",
      "provenance": [],
      "collapsed_sections": [],
      "include_colab_link": true
    },
    "kernelspec": {
      "display_name": "Python 3",
      "language": "python",
      "name": "python3"
    },
    "language_info": {
      "codemirror_mode": {
        "name": "ipython",
        "version": 3
      },
      "file_extension": ".py",
      "mimetype": "text/x-python",
      "name": "python",
      "nbconvert_exporter": "python",
      "pygments_lexer": "ipython3",
      "version": "3.8.3"
    },
    "accelerator": "GPU"
  },
  "cells": [
    {
      "cell_type": "markdown",
      "metadata": {
        "id": "view-in-github",
        "colab_type": "text"
      },
      "source": [
        "<a href=\"https://colab.research.google.com/github/Janebhop/fraud-detection-course/blob/main/notebook/chapter3/Copy_of_Part_Model.ipynb\" target=\"_parent\"><img src=\"https://colab.research.google.com/assets/colab-badge.svg\" alt=\"Open In Colab\"/></a>"
      ]
    },
    {
      "cell_type": "markdown",
      "metadata": {
        "id": "eN-rk-DCxDg6"
      },
      "source": [
        "# Part Model"
      ]
    },
    {
      "cell_type": "code",
      "metadata": {
        "id": "2Dyj2q-lxDg7"
      },
      "source": [
        "import pandas as pd\n",
        "import numpy as np\n",
        "import matplotlib.pyplot as plt\n",
        "import seaborn as sns\n",
        "from sklearn import preprocessing"
      ],
      "execution_count": 1,
      "outputs": []
    },
    {
      "cell_type": "code",
      "metadata": {
        "id": "-87s0xTMrvkF"
      },
      "source": [
        "from google.colab import drive\n",
        "drive.mount('/content/drive')"
      ],
      "execution_count": null,
      "outputs": []
    },
    {
      "cell_type": "markdown",
      "metadata": {
        "id": "DvE7smyvxDg-"
      },
      "source": [
        "### Import Data"
      ]
    },
    {
      "cell_type": "code",
      "metadata": {
        "colab": {
          "base_uri": "https://localhost:8080/"
        },
        "id": "NifuzvVv22hX",
        "outputId": "c5ca93f3-1623-495c-9d8a-41f28ab24b5d"
      },
      "source": [
        "!gdown --id 1VNr0ywELbmU2JApGmL0PrAnrEh3VHcgW"
      ],
      "execution_count": 5,
      "outputs": [
        {
          "output_type": "stream",
          "name": "stdout",
          "text": [
            "Downloading...\n",
            "From: https://drive.google.com/uc?id=1VNr0ywELbmU2JApGmL0PrAnrEh3VHcgW\n",
            "To: /content/PS_20174392719_1491204439457_log.csv\n",
            "100% 494M/494M [00:07<00:00, 69.1MB/s]\n"
          ]
        }
      ]
    },
    {
      "cell_type": "code",
      "metadata": {
        "id": "kCO-osDMs28s"
      },
      "source": [
        "dataPath = '/content/PS_20174392719_1491204439457_log.csv'"
      ],
      "execution_count": 3,
      "outputs": []
    },
    {
      "cell_type": "code",
      "metadata": {
        "id": "QBSJR3LCxDg_"
      },
      "source": [
        "df_test = pd.read_csv(dataPath, nrows=10)\n",
        "\n",
        "float_cols = [c for c in df_test if df_test[c].dtype == \"float64\"]\n",
        "float32_cols = {c: np.float32 for c in float_cols}"
      ],
      "execution_count": 6,
      "outputs": []
    },
    {
      "cell_type": "code",
      "metadata": {
        "colab": {
          "base_uri": "https://localhost:8080/",
          "height": 363
        },
        "id": "y5XS0ZIXy3Vl",
        "outputId": "6c7bb2ec-cce2-4208-ecaf-8ca6496660f5"
      },
      "source": [
        "df_test"
      ],
      "execution_count": 7,
      "outputs": [
        {
          "output_type": "execute_result",
          "data": {
            "text/html": [
              "<div>\n",
              "<style scoped>\n",
              "    .dataframe tbody tr th:only-of-type {\n",
              "        vertical-align: middle;\n",
              "    }\n",
              "\n",
              "    .dataframe tbody tr th {\n",
              "        vertical-align: top;\n",
              "    }\n",
              "\n",
              "    .dataframe thead th {\n",
              "        text-align: right;\n",
              "    }\n",
              "</style>\n",
              "<table border=\"1\" class=\"dataframe\">\n",
              "  <thead>\n",
              "    <tr style=\"text-align: right;\">\n",
              "      <th></th>\n",
              "      <th>step</th>\n",
              "      <th>type</th>\n",
              "      <th>amount</th>\n",
              "      <th>nameOrig</th>\n",
              "      <th>oldbalanceOrg</th>\n",
              "      <th>newbalanceOrig</th>\n",
              "      <th>nameDest</th>\n",
              "      <th>oldbalanceDest</th>\n",
              "      <th>newbalanceDest</th>\n",
              "      <th>isFraud</th>\n",
              "      <th>isFlaggedFraud</th>\n",
              "    </tr>\n",
              "  </thead>\n",
              "  <tbody>\n",
              "    <tr>\n",
              "      <th>0</th>\n",
              "      <td>1</td>\n",
              "      <td>PAYMENT</td>\n",
              "      <td>9839.64</td>\n",
              "      <td>C1231006815</td>\n",
              "      <td>170136.00</td>\n",
              "      <td>160296.36</td>\n",
              "      <td>M1979787155</td>\n",
              "      <td>0.0</td>\n",
              "      <td>0.00</td>\n",
              "      <td>0</td>\n",
              "      <td>0</td>\n",
              "    </tr>\n",
              "    <tr>\n",
              "      <th>1</th>\n",
              "      <td>1</td>\n",
              "      <td>PAYMENT</td>\n",
              "      <td>1864.28</td>\n",
              "      <td>C1666544295</td>\n",
              "      <td>21249.00</td>\n",
              "      <td>19384.72</td>\n",
              "      <td>M2044282225</td>\n",
              "      <td>0.0</td>\n",
              "      <td>0.00</td>\n",
              "      <td>0</td>\n",
              "      <td>0</td>\n",
              "    </tr>\n",
              "    <tr>\n",
              "      <th>2</th>\n",
              "      <td>1</td>\n",
              "      <td>TRANSFER</td>\n",
              "      <td>181.00</td>\n",
              "      <td>C1305486145</td>\n",
              "      <td>181.00</td>\n",
              "      <td>0.00</td>\n",
              "      <td>C553264065</td>\n",
              "      <td>0.0</td>\n",
              "      <td>0.00</td>\n",
              "      <td>1</td>\n",
              "      <td>0</td>\n",
              "    </tr>\n",
              "    <tr>\n",
              "      <th>3</th>\n",
              "      <td>1</td>\n",
              "      <td>CASH_OUT</td>\n",
              "      <td>181.00</td>\n",
              "      <td>C840083671</td>\n",
              "      <td>181.00</td>\n",
              "      <td>0.00</td>\n",
              "      <td>C38997010</td>\n",
              "      <td>21182.0</td>\n",
              "      <td>0.00</td>\n",
              "      <td>1</td>\n",
              "      <td>0</td>\n",
              "    </tr>\n",
              "    <tr>\n",
              "      <th>4</th>\n",
              "      <td>1</td>\n",
              "      <td>PAYMENT</td>\n",
              "      <td>11668.14</td>\n",
              "      <td>C2048537720</td>\n",
              "      <td>41554.00</td>\n",
              "      <td>29885.86</td>\n",
              "      <td>M1230701703</td>\n",
              "      <td>0.0</td>\n",
              "      <td>0.00</td>\n",
              "      <td>0</td>\n",
              "      <td>0</td>\n",
              "    </tr>\n",
              "    <tr>\n",
              "      <th>5</th>\n",
              "      <td>1</td>\n",
              "      <td>PAYMENT</td>\n",
              "      <td>7817.71</td>\n",
              "      <td>C90045638</td>\n",
              "      <td>53860.00</td>\n",
              "      <td>46042.29</td>\n",
              "      <td>M573487274</td>\n",
              "      <td>0.0</td>\n",
              "      <td>0.00</td>\n",
              "      <td>0</td>\n",
              "      <td>0</td>\n",
              "    </tr>\n",
              "    <tr>\n",
              "      <th>6</th>\n",
              "      <td>1</td>\n",
              "      <td>PAYMENT</td>\n",
              "      <td>7107.77</td>\n",
              "      <td>C154988899</td>\n",
              "      <td>183195.00</td>\n",
              "      <td>176087.23</td>\n",
              "      <td>M408069119</td>\n",
              "      <td>0.0</td>\n",
              "      <td>0.00</td>\n",
              "      <td>0</td>\n",
              "      <td>0</td>\n",
              "    </tr>\n",
              "    <tr>\n",
              "      <th>7</th>\n",
              "      <td>1</td>\n",
              "      <td>PAYMENT</td>\n",
              "      <td>7861.64</td>\n",
              "      <td>C1912850431</td>\n",
              "      <td>176087.23</td>\n",
              "      <td>168225.59</td>\n",
              "      <td>M633326333</td>\n",
              "      <td>0.0</td>\n",
              "      <td>0.00</td>\n",
              "      <td>0</td>\n",
              "      <td>0</td>\n",
              "    </tr>\n",
              "    <tr>\n",
              "      <th>8</th>\n",
              "      <td>1</td>\n",
              "      <td>PAYMENT</td>\n",
              "      <td>4024.36</td>\n",
              "      <td>C1265012928</td>\n",
              "      <td>2671.00</td>\n",
              "      <td>0.00</td>\n",
              "      <td>M1176932104</td>\n",
              "      <td>0.0</td>\n",
              "      <td>0.00</td>\n",
              "      <td>0</td>\n",
              "      <td>0</td>\n",
              "    </tr>\n",
              "    <tr>\n",
              "      <th>9</th>\n",
              "      <td>1</td>\n",
              "      <td>DEBIT</td>\n",
              "      <td>5337.77</td>\n",
              "      <td>C712410124</td>\n",
              "      <td>41720.00</td>\n",
              "      <td>36382.23</td>\n",
              "      <td>C195600860</td>\n",
              "      <td>41898.0</td>\n",
              "      <td>40348.79</td>\n",
              "      <td>0</td>\n",
              "      <td>0</td>\n",
              "    </tr>\n",
              "  </tbody>\n",
              "</table>\n",
              "</div>"
            ],
            "text/plain": [
              "   step      type    amount  ... newbalanceDest  isFraud  isFlaggedFraud\n",
              "0     1   PAYMENT   9839.64  ...           0.00        0               0\n",
              "1     1   PAYMENT   1864.28  ...           0.00        0               0\n",
              "2     1  TRANSFER    181.00  ...           0.00        1               0\n",
              "3     1  CASH_OUT    181.00  ...           0.00        1               0\n",
              "4     1   PAYMENT  11668.14  ...           0.00        0               0\n",
              "5     1   PAYMENT   7817.71  ...           0.00        0               0\n",
              "6     1   PAYMENT   7107.77  ...           0.00        0               0\n",
              "7     1   PAYMENT   7861.64  ...           0.00        0               0\n",
              "8     1   PAYMENT   4024.36  ...           0.00        0               0\n",
              "9     1     DEBIT   5337.77  ...       40348.79        0               0\n",
              "\n",
              "[10 rows x 11 columns]"
            ]
          },
          "metadata": {},
          "execution_count": 7
        }
      ]
    },
    {
      "cell_type": "code",
      "metadata": {
        "id": "lhI0uSU9vkqg",
        "colab": {
          "base_uri": "https://localhost:8080/"
        },
        "outputId": "55d18b7d-c07e-4ed0-a32d-40032cccd606"
      },
      "source": [
        "float_cols"
      ],
      "execution_count": null,
      "outputs": [
        {
          "output_type": "execute_result",
          "data": {
            "text/plain": [
              "['amount',\n",
              " 'oldbalanceOrg',\n",
              " 'newbalanceOrig',\n",
              " 'oldbalanceDest',\n",
              " 'newbalanceDest']"
            ]
          },
          "metadata": {},
          "execution_count": 9
        }
      ]
    },
    {
      "cell_type": "code",
      "metadata": {
        "id": "CVvQH5y5xDhB",
        "colab": {
          "base_uri": "https://localhost:8080/",
          "height": 424
        },
        "outputId": "271f7002-9fe2-4887-bd44-8e1c3e012bed"
      },
      "source": [
        "data = pd.read_csv(dataPath, engine='c', dtype=float32_cols)\n",
        "data"
      ],
      "execution_count": 8,
      "outputs": [
        {
          "output_type": "execute_result",
          "data": {
            "text/html": [
              "<div>\n",
              "<style scoped>\n",
              "    .dataframe tbody tr th:only-of-type {\n",
              "        vertical-align: middle;\n",
              "    }\n",
              "\n",
              "    .dataframe tbody tr th {\n",
              "        vertical-align: top;\n",
              "    }\n",
              "\n",
              "    .dataframe thead th {\n",
              "        text-align: right;\n",
              "    }\n",
              "</style>\n",
              "<table border=\"1\" class=\"dataframe\">\n",
              "  <thead>\n",
              "    <tr style=\"text-align: right;\">\n",
              "      <th></th>\n",
              "      <th>step</th>\n",
              "      <th>type</th>\n",
              "      <th>amount</th>\n",
              "      <th>nameOrig</th>\n",
              "      <th>oldbalanceOrg</th>\n",
              "      <th>newbalanceOrig</th>\n",
              "      <th>nameDest</th>\n",
              "      <th>oldbalanceDest</th>\n",
              "      <th>newbalanceDest</th>\n",
              "      <th>isFraud</th>\n",
              "      <th>isFlaggedFraud</th>\n",
              "    </tr>\n",
              "  </thead>\n",
              "  <tbody>\n",
              "    <tr>\n",
              "      <th>0</th>\n",
              "      <td>1</td>\n",
              "      <td>PAYMENT</td>\n",
              "      <td>9.839640e+03</td>\n",
              "      <td>C1231006815</td>\n",
              "      <td>170136.000</td>\n",
              "      <td>160296.359375</td>\n",
              "      <td>M1979787155</td>\n",
              "      <td>0.000000e+00</td>\n",
              "      <td>0.000</td>\n",
              "      <td>0</td>\n",
              "      <td>0</td>\n",
              "    </tr>\n",
              "    <tr>\n",
              "      <th>1</th>\n",
              "      <td>1</td>\n",
              "      <td>PAYMENT</td>\n",
              "      <td>1.864280e+03</td>\n",
              "      <td>C1666544295</td>\n",
              "      <td>21249.000</td>\n",
              "      <td>19384.720703</td>\n",
              "      <td>M2044282225</td>\n",
              "      <td>0.000000e+00</td>\n",
              "      <td>0.000</td>\n",
              "      <td>0</td>\n",
              "      <td>0</td>\n",
              "    </tr>\n",
              "    <tr>\n",
              "      <th>2</th>\n",
              "      <td>1</td>\n",
              "      <td>TRANSFER</td>\n",
              "      <td>1.810000e+02</td>\n",
              "      <td>C1305486145</td>\n",
              "      <td>181.000</td>\n",
              "      <td>0.000000</td>\n",
              "      <td>C553264065</td>\n",
              "      <td>0.000000e+00</td>\n",
              "      <td>0.000</td>\n",
              "      <td>1</td>\n",
              "      <td>0</td>\n",
              "    </tr>\n",
              "    <tr>\n",
              "      <th>3</th>\n",
              "      <td>1</td>\n",
              "      <td>CASH_OUT</td>\n",
              "      <td>1.810000e+02</td>\n",
              "      <td>C840083671</td>\n",
              "      <td>181.000</td>\n",
              "      <td>0.000000</td>\n",
              "      <td>C38997010</td>\n",
              "      <td>2.118200e+04</td>\n",
              "      <td>0.000</td>\n",
              "      <td>1</td>\n",
              "      <td>0</td>\n",
              "    </tr>\n",
              "    <tr>\n",
              "      <th>4</th>\n",
              "      <td>1</td>\n",
              "      <td>PAYMENT</td>\n",
              "      <td>1.166814e+04</td>\n",
              "      <td>C2048537720</td>\n",
              "      <td>41554.000</td>\n",
              "      <td>29885.859375</td>\n",
              "      <td>M1230701703</td>\n",
              "      <td>0.000000e+00</td>\n",
              "      <td>0.000</td>\n",
              "      <td>0</td>\n",
              "      <td>0</td>\n",
              "    </tr>\n",
              "    <tr>\n",
              "      <th>...</th>\n",
              "      <td>...</td>\n",
              "      <td>...</td>\n",
              "      <td>...</td>\n",
              "      <td>...</td>\n",
              "      <td>...</td>\n",
              "      <td>...</td>\n",
              "      <td>...</td>\n",
              "      <td>...</td>\n",
              "      <td>...</td>\n",
              "      <td>...</td>\n",
              "      <td>...</td>\n",
              "    </tr>\n",
              "    <tr>\n",
              "      <th>6362615</th>\n",
              "      <td>743</td>\n",
              "      <td>CASH_OUT</td>\n",
              "      <td>3.396821e+05</td>\n",
              "      <td>C786484425</td>\n",
              "      <td>339682.125</td>\n",
              "      <td>0.000000</td>\n",
              "      <td>C776919290</td>\n",
              "      <td>0.000000e+00</td>\n",
              "      <td>339682.125</td>\n",
              "      <td>1</td>\n",
              "      <td>0</td>\n",
              "    </tr>\n",
              "    <tr>\n",
              "      <th>6362616</th>\n",
              "      <td>743</td>\n",
              "      <td>TRANSFER</td>\n",
              "      <td>6.311410e+06</td>\n",
              "      <td>C1529008245</td>\n",
              "      <td>6311409.500</td>\n",
              "      <td>0.000000</td>\n",
              "      <td>C1881841831</td>\n",
              "      <td>0.000000e+00</td>\n",
              "      <td>0.000</td>\n",
              "      <td>1</td>\n",
              "      <td>0</td>\n",
              "    </tr>\n",
              "    <tr>\n",
              "      <th>6362617</th>\n",
              "      <td>743</td>\n",
              "      <td>CASH_OUT</td>\n",
              "      <td>6.311410e+06</td>\n",
              "      <td>C1162922333</td>\n",
              "      <td>6311409.500</td>\n",
              "      <td>0.000000</td>\n",
              "      <td>C1365125890</td>\n",
              "      <td>6.848884e+04</td>\n",
              "      <td>6379898.000</td>\n",
              "      <td>1</td>\n",
              "      <td>0</td>\n",
              "    </tr>\n",
              "    <tr>\n",
              "      <th>6362618</th>\n",
              "      <td>743</td>\n",
              "      <td>TRANSFER</td>\n",
              "      <td>8.500025e+05</td>\n",
              "      <td>C1685995037</td>\n",
              "      <td>850002.500</td>\n",
              "      <td>0.000000</td>\n",
              "      <td>C2080388513</td>\n",
              "      <td>0.000000e+00</td>\n",
              "      <td>0.000</td>\n",
              "      <td>1</td>\n",
              "      <td>0</td>\n",
              "    </tr>\n",
              "    <tr>\n",
              "      <th>6362619</th>\n",
              "      <td>743</td>\n",
              "      <td>CASH_OUT</td>\n",
              "      <td>8.500025e+05</td>\n",
              "      <td>C1280323807</td>\n",
              "      <td>850002.500</td>\n",
              "      <td>0.000000</td>\n",
              "      <td>C873221189</td>\n",
              "      <td>6.510099e+06</td>\n",
              "      <td>7360101.500</td>\n",
              "      <td>1</td>\n",
              "      <td>0</td>\n",
              "    </tr>\n",
              "  </tbody>\n",
              "</table>\n",
              "<p>6362620 rows × 11 columns</p>\n",
              "</div>"
            ],
            "text/plain": [
              "         step      type        amount  ... newbalanceDest  isFraud  isFlaggedFraud\n",
              "0           1   PAYMENT  9.839640e+03  ...          0.000        0               0\n",
              "1           1   PAYMENT  1.864280e+03  ...          0.000        0               0\n",
              "2           1  TRANSFER  1.810000e+02  ...          0.000        1               0\n",
              "3           1  CASH_OUT  1.810000e+02  ...          0.000        1               0\n",
              "4           1   PAYMENT  1.166814e+04  ...          0.000        0               0\n",
              "...       ...       ...           ...  ...            ...      ...             ...\n",
              "6362615   743  CASH_OUT  3.396821e+05  ...     339682.125        1               0\n",
              "6362616   743  TRANSFER  6.311410e+06  ...          0.000        1               0\n",
              "6362617   743  CASH_OUT  6.311410e+06  ...    6379898.000        1               0\n",
              "6362618   743  TRANSFER  8.500025e+05  ...          0.000        1               0\n",
              "6362619   743  CASH_OUT  8.500025e+05  ...    7360101.500        1               0\n",
              "\n",
              "[6362620 rows x 11 columns]"
            ]
          },
          "metadata": {},
          "execution_count": 8
        }
      ]
    },
    {
      "cell_type": "markdown",
      "metadata": {
        "id": "rAKN2_KtxDhE"
      },
      "source": [
        "### Preprocessing"
      ]
    },
    {
      "cell_type": "code",
      "metadata": {
        "id": "p9bOkFG7xDhF",
        "colab": {
          "base_uri": "https://localhost:8080/"
        },
        "outputId": "b08a2422-228b-4727-9513-c74bc2c3bfd5"
      },
      "source": [
        "# cleaning data \n",
        "# checking null values\n",
        "\n",
        "data.isnull().values.any()"
      ],
      "execution_count": 9,
      "outputs": [
        {
          "output_type": "execute_result",
          "data": {
            "text/plain": [
              "False"
            ]
          },
          "metadata": {},
          "execution_count": 9
        }
      ]
    },
    {
      "cell_type": "code",
      "metadata": {
        "id": "7yluZOBTxDhI"
      },
      "source": [
        "# feature selection\n",
        "data = data.drop(['nameOrig','nameDest'],axis = 1)"
      ],
      "execution_count": 10,
      "outputs": []
    },
    {
      "cell_type": "code",
      "metadata": {
        "id": "ouhRuPhHxDhK",
        "colab": {
          "base_uri": "https://localhost:8080/",
          "height": 424
        },
        "outputId": "8a3924a1-c1c0-43d5-a3fb-655dc4415368"
      },
      "source": [
        "# feature engineering\n",
        "\n",
        "dummy_type = pd.get_dummies(data['type'])\n",
        "dummy_type"
      ],
      "execution_count": 11,
      "outputs": [
        {
          "output_type": "execute_result",
          "data": {
            "text/html": [
              "<div>\n",
              "<style scoped>\n",
              "    .dataframe tbody tr th:only-of-type {\n",
              "        vertical-align: middle;\n",
              "    }\n",
              "\n",
              "    .dataframe tbody tr th {\n",
              "        vertical-align: top;\n",
              "    }\n",
              "\n",
              "    .dataframe thead th {\n",
              "        text-align: right;\n",
              "    }\n",
              "</style>\n",
              "<table border=\"1\" class=\"dataframe\">\n",
              "  <thead>\n",
              "    <tr style=\"text-align: right;\">\n",
              "      <th></th>\n",
              "      <th>CASH_IN</th>\n",
              "      <th>CASH_OUT</th>\n",
              "      <th>DEBIT</th>\n",
              "      <th>PAYMENT</th>\n",
              "      <th>TRANSFER</th>\n",
              "    </tr>\n",
              "  </thead>\n",
              "  <tbody>\n",
              "    <tr>\n",
              "      <th>0</th>\n",
              "      <td>0</td>\n",
              "      <td>0</td>\n",
              "      <td>0</td>\n",
              "      <td>1</td>\n",
              "      <td>0</td>\n",
              "    </tr>\n",
              "    <tr>\n",
              "      <th>1</th>\n",
              "      <td>0</td>\n",
              "      <td>0</td>\n",
              "      <td>0</td>\n",
              "      <td>1</td>\n",
              "      <td>0</td>\n",
              "    </tr>\n",
              "    <tr>\n",
              "      <th>2</th>\n",
              "      <td>0</td>\n",
              "      <td>0</td>\n",
              "      <td>0</td>\n",
              "      <td>0</td>\n",
              "      <td>1</td>\n",
              "    </tr>\n",
              "    <tr>\n",
              "      <th>3</th>\n",
              "      <td>0</td>\n",
              "      <td>1</td>\n",
              "      <td>0</td>\n",
              "      <td>0</td>\n",
              "      <td>0</td>\n",
              "    </tr>\n",
              "    <tr>\n",
              "      <th>4</th>\n",
              "      <td>0</td>\n",
              "      <td>0</td>\n",
              "      <td>0</td>\n",
              "      <td>1</td>\n",
              "      <td>0</td>\n",
              "    </tr>\n",
              "    <tr>\n",
              "      <th>...</th>\n",
              "      <td>...</td>\n",
              "      <td>...</td>\n",
              "      <td>...</td>\n",
              "      <td>...</td>\n",
              "      <td>...</td>\n",
              "    </tr>\n",
              "    <tr>\n",
              "      <th>6362615</th>\n",
              "      <td>0</td>\n",
              "      <td>1</td>\n",
              "      <td>0</td>\n",
              "      <td>0</td>\n",
              "      <td>0</td>\n",
              "    </tr>\n",
              "    <tr>\n",
              "      <th>6362616</th>\n",
              "      <td>0</td>\n",
              "      <td>0</td>\n",
              "      <td>0</td>\n",
              "      <td>0</td>\n",
              "      <td>1</td>\n",
              "    </tr>\n",
              "    <tr>\n",
              "      <th>6362617</th>\n",
              "      <td>0</td>\n",
              "      <td>1</td>\n",
              "      <td>0</td>\n",
              "      <td>0</td>\n",
              "      <td>0</td>\n",
              "    </tr>\n",
              "    <tr>\n",
              "      <th>6362618</th>\n",
              "      <td>0</td>\n",
              "      <td>0</td>\n",
              "      <td>0</td>\n",
              "      <td>0</td>\n",
              "      <td>1</td>\n",
              "    </tr>\n",
              "    <tr>\n",
              "      <th>6362619</th>\n",
              "      <td>0</td>\n",
              "      <td>1</td>\n",
              "      <td>0</td>\n",
              "      <td>0</td>\n",
              "      <td>0</td>\n",
              "    </tr>\n",
              "  </tbody>\n",
              "</table>\n",
              "<p>6362620 rows × 5 columns</p>\n",
              "</div>"
            ],
            "text/plain": [
              "         CASH_IN  CASH_OUT  DEBIT  PAYMENT  TRANSFER\n",
              "0              0         0      0        1         0\n",
              "1              0         0      0        1         0\n",
              "2              0         0      0        0         1\n",
              "3              0         1      0        0         0\n",
              "4              0         0      0        1         0\n",
              "...          ...       ...    ...      ...       ...\n",
              "6362615        0         1      0        0         0\n",
              "6362616        0         0      0        0         1\n",
              "6362617        0         1      0        0         0\n",
              "6362618        0         0      0        0         1\n",
              "6362619        0         1      0        0         0\n",
              "\n",
              "[6362620 rows x 5 columns]"
            ]
          },
          "metadata": {},
          "execution_count": 11
        }
      ]
    },
    {
      "cell_type": "code",
      "metadata": {
        "id": "WhRROC_0xDhN",
        "colab": {
          "base_uri": "https://localhost:8080/",
          "height": 424
        },
        "outputId": "4012ea65-4f3b-487e-b8ce-dc5767a35a74"
      },
      "source": [
        "data = (pd.concat([data,dummy_type], axis = 1).reset_index(drop = True)).drop(['type'],axis = 1)[['step','CASH_IN','CASH_OUT','DEBIT','PAYMENT','TRANSFER','amount','oldbalanceOrg','newbalanceOrig','oldbalanceDest','newbalanceDest','isFlaggedFraud','isFraud']]\n",
        "data"
      ],
      "execution_count": 12,
      "outputs": [
        {
          "output_type": "execute_result",
          "data": {
            "text/html": [
              "<div>\n",
              "<style scoped>\n",
              "    .dataframe tbody tr th:only-of-type {\n",
              "        vertical-align: middle;\n",
              "    }\n",
              "\n",
              "    .dataframe tbody tr th {\n",
              "        vertical-align: top;\n",
              "    }\n",
              "\n",
              "    .dataframe thead th {\n",
              "        text-align: right;\n",
              "    }\n",
              "</style>\n",
              "<table border=\"1\" class=\"dataframe\">\n",
              "  <thead>\n",
              "    <tr style=\"text-align: right;\">\n",
              "      <th></th>\n",
              "      <th>step</th>\n",
              "      <th>CASH_IN</th>\n",
              "      <th>CASH_OUT</th>\n",
              "      <th>DEBIT</th>\n",
              "      <th>PAYMENT</th>\n",
              "      <th>TRANSFER</th>\n",
              "      <th>amount</th>\n",
              "      <th>oldbalanceOrg</th>\n",
              "      <th>newbalanceOrig</th>\n",
              "      <th>oldbalanceDest</th>\n",
              "      <th>newbalanceDest</th>\n",
              "      <th>isFlaggedFraud</th>\n",
              "      <th>isFraud</th>\n",
              "    </tr>\n",
              "  </thead>\n",
              "  <tbody>\n",
              "    <tr>\n",
              "      <th>0</th>\n",
              "      <td>1</td>\n",
              "      <td>0</td>\n",
              "      <td>0</td>\n",
              "      <td>0</td>\n",
              "      <td>1</td>\n",
              "      <td>0</td>\n",
              "      <td>9.839640e+03</td>\n",
              "      <td>170136.000</td>\n",
              "      <td>160296.359375</td>\n",
              "      <td>0.000000e+00</td>\n",
              "      <td>0.000</td>\n",
              "      <td>0</td>\n",
              "      <td>0</td>\n",
              "    </tr>\n",
              "    <tr>\n",
              "      <th>1</th>\n",
              "      <td>1</td>\n",
              "      <td>0</td>\n",
              "      <td>0</td>\n",
              "      <td>0</td>\n",
              "      <td>1</td>\n",
              "      <td>0</td>\n",
              "      <td>1.864280e+03</td>\n",
              "      <td>21249.000</td>\n",
              "      <td>19384.720703</td>\n",
              "      <td>0.000000e+00</td>\n",
              "      <td>0.000</td>\n",
              "      <td>0</td>\n",
              "      <td>0</td>\n",
              "    </tr>\n",
              "    <tr>\n",
              "      <th>2</th>\n",
              "      <td>1</td>\n",
              "      <td>0</td>\n",
              "      <td>0</td>\n",
              "      <td>0</td>\n",
              "      <td>0</td>\n",
              "      <td>1</td>\n",
              "      <td>1.810000e+02</td>\n",
              "      <td>181.000</td>\n",
              "      <td>0.000000</td>\n",
              "      <td>0.000000e+00</td>\n",
              "      <td>0.000</td>\n",
              "      <td>0</td>\n",
              "      <td>1</td>\n",
              "    </tr>\n",
              "    <tr>\n",
              "      <th>3</th>\n",
              "      <td>1</td>\n",
              "      <td>0</td>\n",
              "      <td>1</td>\n",
              "      <td>0</td>\n",
              "      <td>0</td>\n",
              "      <td>0</td>\n",
              "      <td>1.810000e+02</td>\n",
              "      <td>181.000</td>\n",
              "      <td>0.000000</td>\n",
              "      <td>2.118200e+04</td>\n",
              "      <td>0.000</td>\n",
              "      <td>0</td>\n",
              "      <td>1</td>\n",
              "    </tr>\n",
              "    <tr>\n",
              "      <th>4</th>\n",
              "      <td>1</td>\n",
              "      <td>0</td>\n",
              "      <td>0</td>\n",
              "      <td>0</td>\n",
              "      <td>1</td>\n",
              "      <td>0</td>\n",
              "      <td>1.166814e+04</td>\n",
              "      <td>41554.000</td>\n",
              "      <td>29885.859375</td>\n",
              "      <td>0.000000e+00</td>\n",
              "      <td>0.000</td>\n",
              "      <td>0</td>\n",
              "      <td>0</td>\n",
              "    </tr>\n",
              "    <tr>\n",
              "      <th>...</th>\n",
              "      <td>...</td>\n",
              "      <td>...</td>\n",
              "      <td>...</td>\n",
              "      <td>...</td>\n",
              "      <td>...</td>\n",
              "      <td>...</td>\n",
              "      <td>...</td>\n",
              "      <td>...</td>\n",
              "      <td>...</td>\n",
              "      <td>...</td>\n",
              "      <td>...</td>\n",
              "      <td>...</td>\n",
              "      <td>...</td>\n",
              "    </tr>\n",
              "    <tr>\n",
              "      <th>6362615</th>\n",
              "      <td>743</td>\n",
              "      <td>0</td>\n",
              "      <td>1</td>\n",
              "      <td>0</td>\n",
              "      <td>0</td>\n",
              "      <td>0</td>\n",
              "      <td>3.396821e+05</td>\n",
              "      <td>339682.125</td>\n",
              "      <td>0.000000</td>\n",
              "      <td>0.000000e+00</td>\n",
              "      <td>339682.125</td>\n",
              "      <td>0</td>\n",
              "      <td>1</td>\n",
              "    </tr>\n",
              "    <tr>\n",
              "      <th>6362616</th>\n",
              "      <td>743</td>\n",
              "      <td>0</td>\n",
              "      <td>0</td>\n",
              "      <td>0</td>\n",
              "      <td>0</td>\n",
              "      <td>1</td>\n",
              "      <td>6.311410e+06</td>\n",
              "      <td>6311409.500</td>\n",
              "      <td>0.000000</td>\n",
              "      <td>0.000000e+00</td>\n",
              "      <td>0.000</td>\n",
              "      <td>0</td>\n",
              "      <td>1</td>\n",
              "    </tr>\n",
              "    <tr>\n",
              "      <th>6362617</th>\n",
              "      <td>743</td>\n",
              "      <td>0</td>\n",
              "      <td>1</td>\n",
              "      <td>0</td>\n",
              "      <td>0</td>\n",
              "      <td>0</td>\n",
              "      <td>6.311410e+06</td>\n",
              "      <td>6311409.500</td>\n",
              "      <td>0.000000</td>\n",
              "      <td>6.848884e+04</td>\n",
              "      <td>6379898.000</td>\n",
              "      <td>0</td>\n",
              "      <td>1</td>\n",
              "    </tr>\n",
              "    <tr>\n",
              "      <th>6362618</th>\n",
              "      <td>743</td>\n",
              "      <td>0</td>\n",
              "      <td>0</td>\n",
              "      <td>0</td>\n",
              "      <td>0</td>\n",
              "      <td>1</td>\n",
              "      <td>8.500025e+05</td>\n",
              "      <td>850002.500</td>\n",
              "      <td>0.000000</td>\n",
              "      <td>0.000000e+00</td>\n",
              "      <td>0.000</td>\n",
              "      <td>0</td>\n",
              "      <td>1</td>\n",
              "    </tr>\n",
              "    <tr>\n",
              "      <th>6362619</th>\n",
              "      <td>743</td>\n",
              "      <td>0</td>\n",
              "      <td>1</td>\n",
              "      <td>0</td>\n",
              "      <td>0</td>\n",
              "      <td>0</td>\n",
              "      <td>8.500025e+05</td>\n",
              "      <td>850002.500</td>\n",
              "      <td>0.000000</td>\n",
              "      <td>6.510099e+06</td>\n",
              "      <td>7360101.500</td>\n",
              "      <td>0</td>\n",
              "      <td>1</td>\n",
              "    </tr>\n",
              "  </tbody>\n",
              "</table>\n",
              "<p>6362620 rows × 13 columns</p>\n",
              "</div>"
            ],
            "text/plain": [
              "         step  CASH_IN  CASH_OUT  ...  newbalanceDest  isFlaggedFraud  isFraud\n",
              "0           1        0         0  ...           0.000               0        0\n",
              "1           1        0         0  ...           0.000               0        0\n",
              "2           1        0         0  ...           0.000               0        1\n",
              "3           1        0         1  ...           0.000               0        1\n",
              "4           1        0         0  ...           0.000               0        0\n",
              "...       ...      ...       ...  ...             ...             ...      ...\n",
              "6362615   743        0         1  ...      339682.125               0        1\n",
              "6362616   743        0         0  ...           0.000               0        1\n",
              "6362617   743        0         1  ...     6379898.000               0        1\n",
              "6362618   743        0         0  ...           0.000               0        1\n",
              "6362619   743        0         1  ...     7360101.500               0        1\n",
              "\n",
              "[6362620 rows x 13 columns]"
            ]
          },
          "metadata": {},
          "execution_count": 12
        }
      ]
    },
    {
      "cell_type": "code",
      "metadata": {
        "id": "SBF_LAN2-d9W",
        "colab": {
          "base_uri": "https://localhost:8080/",
          "height": 444
        },
        "outputId": "85c8ae21-3bb7-4d1c-d6b2-ba4254568435"
      },
      "source": [
        "data['errorBalanceOrig'] = abs(data['newbalanceOrig'] - data['oldbalanceOrg']) - data['amount'] \n",
        "data['errorBalanceDest'] = abs(data['oldbalanceDest'] - data['newbalanceDest']) - data['amount'] \n",
        "data"
      ],
      "execution_count": 13,
      "outputs": [
        {
          "output_type": "execute_result",
          "data": {
            "text/html": [
              "<div>\n",
              "<style scoped>\n",
              "    .dataframe tbody tr th:only-of-type {\n",
              "        vertical-align: middle;\n",
              "    }\n",
              "\n",
              "    .dataframe tbody tr th {\n",
              "        vertical-align: top;\n",
              "    }\n",
              "\n",
              "    .dataframe thead th {\n",
              "        text-align: right;\n",
              "    }\n",
              "</style>\n",
              "<table border=\"1\" class=\"dataframe\">\n",
              "  <thead>\n",
              "    <tr style=\"text-align: right;\">\n",
              "      <th></th>\n",
              "      <th>step</th>\n",
              "      <th>CASH_IN</th>\n",
              "      <th>CASH_OUT</th>\n",
              "      <th>DEBIT</th>\n",
              "      <th>PAYMENT</th>\n",
              "      <th>TRANSFER</th>\n",
              "      <th>amount</th>\n",
              "      <th>oldbalanceOrg</th>\n",
              "      <th>newbalanceOrig</th>\n",
              "      <th>oldbalanceDest</th>\n",
              "      <th>newbalanceDest</th>\n",
              "      <th>isFlaggedFraud</th>\n",
              "      <th>isFraud</th>\n",
              "      <th>errorBalanceOrig</th>\n",
              "      <th>errorBalanceDest</th>\n",
              "    </tr>\n",
              "  </thead>\n",
              "  <tbody>\n",
              "    <tr>\n",
              "      <th>0</th>\n",
              "      <td>1</td>\n",
              "      <td>0</td>\n",
              "      <td>0</td>\n",
              "      <td>0</td>\n",
              "      <td>1</td>\n",
              "      <td>0</td>\n",
              "      <td>9.839640e+03</td>\n",
              "      <td>170136.000</td>\n",
              "      <td>160296.359375</td>\n",
              "      <td>0.000000e+00</td>\n",
              "      <td>0.000</td>\n",
              "      <td>0</td>\n",
              "      <td>0</td>\n",
              "      <td>0.000977</td>\n",
              "      <td>-9.839640e+03</td>\n",
              "    </tr>\n",
              "    <tr>\n",
              "      <th>1</th>\n",
              "      <td>1</td>\n",
              "      <td>0</td>\n",
              "      <td>0</td>\n",
              "      <td>0</td>\n",
              "      <td>1</td>\n",
              "      <td>0</td>\n",
              "      <td>1.864280e+03</td>\n",
              "      <td>21249.000</td>\n",
              "      <td>19384.720703</td>\n",
              "      <td>0.000000e+00</td>\n",
              "      <td>0.000</td>\n",
              "      <td>0</td>\n",
              "      <td>0</td>\n",
              "      <td>-0.000732</td>\n",
              "      <td>-1.864280e+03</td>\n",
              "    </tr>\n",
              "    <tr>\n",
              "      <th>2</th>\n",
              "      <td>1</td>\n",
              "      <td>0</td>\n",
              "      <td>0</td>\n",
              "      <td>0</td>\n",
              "      <td>0</td>\n",
              "      <td>1</td>\n",
              "      <td>1.810000e+02</td>\n",
              "      <td>181.000</td>\n",
              "      <td>0.000000</td>\n",
              "      <td>0.000000e+00</td>\n",
              "      <td>0.000</td>\n",
              "      <td>0</td>\n",
              "      <td>1</td>\n",
              "      <td>0.000000</td>\n",
              "      <td>-1.810000e+02</td>\n",
              "    </tr>\n",
              "    <tr>\n",
              "      <th>3</th>\n",
              "      <td>1</td>\n",
              "      <td>0</td>\n",
              "      <td>1</td>\n",
              "      <td>0</td>\n",
              "      <td>0</td>\n",
              "      <td>0</td>\n",
              "      <td>1.810000e+02</td>\n",
              "      <td>181.000</td>\n",
              "      <td>0.000000</td>\n",
              "      <td>2.118200e+04</td>\n",
              "      <td>0.000</td>\n",
              "      <td>0</td>\n",
              "      <td>1</td>\n",
              "      <td>0.000000</td>\n",
              "      <td>2.100100e+04</td>\n",
              "    </tr>\n",
              "    <tr>\n",
              "      <th>4</th>\n",
              "      <td>1</td>\n",
              "      <td>0</td>\n",
              "      <td>0</td>\n",
              "      <td>0</td>\n",
              "      <td>1</td>\n",
              "      <td>0</td>\n",
              "      <td>1.166814e+04</td>\n",
              "      <td>41554.000</td>\n",
              "      <td>29885.859375</td>\n",
              "      <td>0.000000e+00</td>\n",
              "      <td>0.000</td>\n",
              "      <td>0</td>\n",
              "      <td>0</td>\n",
              "      <td>0.000977</td>\n",
              "      <td>-1.166814e+04</td>\n",
              "    </tr>\n",
              "    <tr>\n",
              "      <th>...</th>\n",
              "      <td>...</td>\n",
              "      <td>...</td>\n",
              "      <td>...</td>\n",
              "      <td>...</td>\n",
              "      <td>...</td>\n",
              "      <td>...</td>\n",
              "      <td>...</td>\n",
              "      <td>...</td>\n",
              "      <td>...</td>\n",
              "      <td>...</td>\n",
              "      <td>...</td>\n",
              "      <td>...</td>\n",
              "      <td>...</td>\n",
              "      <td>...</td>\n",
              "      <td>...</td>\n",
              "    </tr>\n",
              "    <tr>\n",
              "      <th>6362615</th>\n",
              "      <td>743</td>\n",
              "      <td>0</td>\n",
              "      <td>1</td>\n",
              "      <td>0</td>\n",
              "      <td>0</td>\n",
              "      <td>0</td>\n",
              "      <td>3.396821e+05</td>\n",
              "      <td>339682.125</td>\n",
              "      <td>0.000000</td>\n",
              "      <td>0.000000e+00</td>\n",
              "      <td>339682.125</td>\n",
              "      <td>0</td>\n",
              "      <td>1</td>\n",
              "      <td>0.000000</td>\n",
              "      <td>0.000000e+00</td>\n",
              "    </tr>\n",
              "    <tr>\n",
              "      <th>6362616</th>\n",
              "      <td>743</td>\n",
              "      <td>0</td>\n",
              "      <td>0</td>\n",
              "      <td>0</td>\n",
              "      <td>0</td>\n",
              "      <td>1</td>\n",
              "      <td>6.311410e+06</td>\n",
              "      <td>6311409.500</td>\n",
              "      <td>0.000000</td>\n",
              "      <td>0.000000e+00</td>\n",
              "      <td>0.000</td>\n",
              "      <td>0</td>\n",
              "      <td>1</td>\n",
              "      <td>0.000000</td>\n",
              "      <td>-6.311410e+06</td>\n",
              "    </tr>\n",
              "    <tr>\n",
              "      <th>6362617</th>\n",
              "      <td>743</td>\n",
              "      <td>0</td>\n",
              "      <td>1</td>\n",
              "      <td>0</td>\n",
              "      <td>0</td>\n",
              "      <td>0</td>\n",
              "      <td>6.311410e+06</td>\n",
              "      <td>6311409.500</td>\n",
              "      <td>0.000000</td>\n",
              "      <td>6.848884e+04</td>\n",
              "      <td>6379898.000</td>\n",
              "      <td>0</td>\n",
              "      <td>1</td>\n",
              "      <td>0.000000</td>\n",
              "      <td>-5.000000e-01</td>\n",
              "    </tr>\n",
              "    <tr>\n",
              "      <th>6362618</th>\n",
              "      <td>743</td>\n",
              "      <td>0</td>\n",
              "      <td>0</td>\n",
              "      <td>0</td>\n",
              "      <td>0</td>\n",
              "      <td>1</td>\n",
              "      <td>8.500025e+05</td>\n",
              "      <td>850002.500</td>\n",
              "      <td>0.000000</td>\n",
              "      <td>0.000000e+00</td>\n",
              "      <td>0.000</td>\n",
              "      <td>0</td>\n",
              "      <td>1</td>\n",
              "      <td>0.000000</td>\n",
              "      <td>-8.500025e+05</td>\n",
              "    </tr>\n",
              "    <tr>\n",
              "      <th>6362619</th>\n",
              "      <td>743</td>\n",
              "      <td>0</td>\n",
              "      <td>1</td>\n",
              "      <td>0</td>\n",
              "      <td>0</td>\n",
              "      <td>0</td>\n",
              "      <td>8.500025e+05</td>\n",
              "      <td>850002.500</td>\n",
              "      <td>0.000000</td>\n",
              "      <td>6.510099e+06</td>\n",
              "      <td>7360101.500</td>\n",
              "      <td>0</td>\n",
              "      <td>1</td>\n",
              "      <td>0.000000</td>\n",
              "      <td>0.000000e+00</td>\n",
              "    </tr>\n",
              "  </tbody>\n",
              "</table>\n",
              "<p>6362620 rows × 15 columns</p>\n",
              "</div>"
            ],
            "text/plain": [
              "         step  CASH_IN  CASH_OUT  ...  isFraud  errorBalanceOrig  errorBalanceDest\n",
              "0           1        0         0  ...        0          0.000977     -9.839640e+03\n",
              "1           1        0         0  ...        0         -0.000732     -1.864280e+03\n",
              "2           1        0         0  ...        1          0.000000     -1.810000e+02\n",
              "3           1        0         1  ...        1          0.000000      2.100100e+04\n",
              "4           1        0         0  ...        0          0.000977     -1.166814e+04\n",
              "...       ...      ...       ...  ...      ...               ...               ...\n",
              "6362615   743        0         1  ...        1          0.000000      0.000000e+00\n",
              "6362616   743        0         0  ...        1          0.000000     -6.311410e+06\n",
              "6362617   743        0         1  ...        1          0.000000     -5.000000e-01\n",
              "6362618   743        0         0  ...        1          0.000000     -8.500025e+05\n",
              "6362619   743        0         1  ...        1          0.000000      0.000000e+00\n",
              "\n",
              "[6362620 rows x 15 columns]"
            ]
          },
          "metadata": {},
          "execution_count": 13
        }
      ]
    },
    {
      "cell_type": "code",
      "metadata": {
        "id": "ogfvRs23xDhQ"
      },
      "source": [
        "# splitting data\n",
        "\n",
        "# fraud and no fraud transactions are separated by 'isFraud' column\n",
        "dataF = data[data['isFraud'] == 1]\n",
        "dataNF = data[data['isFraud'] == 0]\n",
        "\n",
        "# split fraud transactions into 80 percent and 20 percent sessions\n",
        "mskF = np.random.rand(len(dataF)) < 0.8\n",
        "trainF = dataF[mskF]\n",
        "testF = dataF[~mskF]\n",
        "\n",
        "# split no fraud transactions into 80 percent and 20 percent sessions\n",
        "mskNF = np.random.rand(len(dataNF)) < 0.8\n",
        "trainNF = dataNF[mskNF]\n",
        "testNF = dataNF[~mskNF]\n",
        "\n",
        "# create training data and testing data\n",
        "train_data = pd.concat([trainF,trainNF]).reset_index(drop = True)\n",
        "test_data = pd.concat([testF,testNF]).reset_index(drop = True)\n",
        "\n",
        "#create input data attributes by dropped irrevalent and target column \n",
        "train_feature = train_data.drop(['isFraud'],axis = 1)\n",
        "test_feature = test_data.drop(['isFraud'],axis = 1)\n",
        "\n",
        "train_label = train_data['isFraud']\n",
        "test_label = test_data['isFraud']"
      ],
      "execution_count": 14,
      "outputs": []
    },
    {
      "cell_type": "code",
      "metadata": {
        "id": "fJi3qSKKxDhS"
      },
      "source": [
        "# feature scaling\n",
        "\n",
        "scaler = preprocessing.StandardScaler()\n",
        "train_feature_scaled =scaler.fit_transform(train_feature)\n",
        "\n",
        "test_feature_scaled = scaler.transform(test_feature)"
      ],
      "execution_count": 19,
      "outputs": []
    },
    {
      "cell_type": "code",
      "metadata": {
        "id": "uha4m-OjwQ29"
      },
      "source": [
        "col = ['step', 'CASH_IN', 'CASH_OUT', 'DEBIT', 'PAYMENT', 'TRANSFER', 'amount',\n",
        "       'oldbalanceOrg', 'newbalanceOrig', 'oldbalanceDest', 'newbalanceDest',\n",
        "       'isFlaggedFraud', 'errorBalanceOrig', 'errorBalanceDest']"
      ],
      "execution_count": 20,
      "outputs": []
    },
    {
      "cell_type": "code",
      "metadata": {
        "id": "LREKGLycvfiR",
        "colab": {
          "base_uri": "https://localhost:8080/",
          "height": 444
        },
        "outputId": "a06c18c8-6c07-4b38-d189-7840fb09c705"
      },
      "source": [
        "data_feature_train = pd.DataFrame(data=train_feature_scaled, columns=col)\n",
        "data_feature_train"
      ],
      "execution_count": 21,
      "outputs": [
        {
          "output_type": "execute_result",
          "data": {
            "text/html": [
              "<div>\n",
              "<style scoped>\n",
              "    .dataframe tbody tr th:only-of-type {\n",
              "        vertical-align: middle;\n",
              "    }\n",
              "\n",
              "    .dataframe tbody tr th {\n",
              "        vertical-align: top;\n",
              "    }\n",
              "\n",
              "    .dataframe thead th {\n",
              "        text-align: right;\n",
              "    }\n",
              "</style>\n",
              "<table border=\"1\" class=\"dataframe\">\n",
              "  <thead>\n",
              "    <tr style=\"text-align: right;\">\n",
              "      <th></th>\n",
              "      <th>step</th>\n",
              "      <th>CASH_IN</th>\n",
              "      <th>CASH_OUT</th>\n",
              "      <th>DEBIT</th>\n",
              "      <th>PAYMENT</th>\n",
              "      <th>TRANSFER</th>\n",
              "      <th>amount</th>\n",
              "      <th>oldbalanceOrg</th>\n",
              "      <th>newbalanceOrig</th>\n",
              "      <th>oldbalanceDest</th>\n",
              "      <th>newbalanceDest</th>\n",
              "      <th>isFlaggedFraud</th>\n",
              "      <th>errorBalanceOrig</th>\n",
              "      <th>errorBalanceDest</th>\n",
              "    </tr>\n",
              "  </thead>\n",
              "  <tbody>\n",
              "    <tr>\n",
              "      <th>0</th>\n",
              "      <td>-1.703095</td>\n",
              "      <td>-0.531111</td>\n",
              "      <td>-0.736454</td>\n",
              "      <td>-0.081175</td>\n",
              "      <td>-0.714715</td>\n",
              "      <td>3.308993</td>\n",
              "      <td>-0.297264</td>\n",
              "      <td>-0.288718</td>\n",
              "      <td>-0.292494</td>\n",
              "      <td>-0.324493</td>\n",
              "      <td>-0.333753</td>\n",
              "      <td>-0.001598</td>\n",
              "      <td>0.213111</td>\n",
              "      <td>-0.015261</td>\n",
              "    </tr>\n",
              "    <tr>\n",
              "      <th>1</th>\n",
              "      <td>-1.703095</td>\n",
              "      <td>-0.531111</td>\n",
              "      <td>1.357859</td>\n",
              "      <td>-0.081175</td>\n",
              "      <td>-0.714715</td>\n",
              "      <td>-0.302207</td>\n",
              "      <td>-0.297264</td>\n",
              "      <td>-0.288718</td>\n",
              "      <td>-0.292494</td>\n",
              "      <td>-0.318247</td>\n",
              "      <td>-0.333753</td>\n",
              "      <td>-0.001598</td>\n",
              "      <td>0.213111</td>\n",
              "      <td>0.036355</td>\n",
              "    </tr>\n",
              "    <tr>\n",
              "      <th>2</th>\n",
              "      <td>-1.703095</td>\n",
              "      <td>-0.531111</td>\n",
              "      <td>-0.736454</td>\n",
              "      <td>-0.081175</td>\n",
              "      <td>-0.714715</td>\n",
              "      <td>3.308993</td>\n",
              "      <td>-0.292919</td>\n",
              "      <td>-0.287810</td>\n",
              "      <td>-0.292494</td>\n",
              "      <td>-0.324493</td>\n",
              "      <td>-0.333753</td>\n",
              "      <td>-0.001598</td>\n",
              "      <td>0.213111</td>\n",
              "      <td>-0.021658</td>\n",
              "    </tr>\n",
              "    <tr>\n",
              "      <th>3</th>\n",
              "      <td>-1.703095</td>\n",
              "      <td>-0.531111</td>\n",
              "      <td>1.357859</td>\n",
              "      <td>-0.081175</td>\n",
              "      <td>-0.714715</td>\n",
              "      <td>-0.302207</td>\n",
              "      <td>-0.292919</td>\n",
              "      <td>-0.287810</td>\n",
              "      <td>-0.292494</td>\n",
              "      <td>-0.316767</td>\n",
              "      <td>-0.333753</td>\n",
              "      <td>-0.001598</td>\n",
              "      <td>0.213111</td>\n",
              "      <td>0.042191</td>\n",
              "    </tr>\n",
              "    <tr>\n",
              "      <th>4</th>\n",
              "      <td>-1.703095</td>\n",
              "      <td>-0.531111</td>\n",
              "      <td>-0.736454</td>\n",
              "      <td>-0.081175</td>\n",
              "      <td>-0.714715</td>\n",
              "      <td>3.308993</td>\n",
              "      <td>-0.264251</td>\n",
              "      <td>-0.281815</td>\n",
              "      <td>-0.292494</td>\n",
              "      <td>-0.324493</td>\n",
              "      <td>-0.333753</td>\n",
              "      <td>-0.001598</td>\n",
              "      <td>0.213111</td>\n",
              "      <td>-0.063868</td>\n",
              "    </tr>\n",
              "    <tr>\n",
              "      <th>...</th>\n",
              "      <td>...</td>\n",
              "      <td>...</td>\n",
              "      <td>...</td>\n",
              "      <td>...</td>\n",
              "      <td>...</td>\n",
              "      <td>...</td>\n",
              "      <td>...</td>\n",
              "      <td>...</td>\n",
              "      <td>...</td>\n",
              "      <td>...</td>\n",
              "      <td>...</td>\n",
              "      <td>...</td>\n",
              "      <td>...</td>\n",
              "      <td>...</td>\n",
              "    </tr>\n",
              "    <tr>\n",
              "      <th>5089688</th>\n",
              "      <td>3.334966</td>\n",
              "      <td>-0.531111</td>\n",
              "      <td>1.357859</td>\n",
              "      <td>-0.081175</td>\n",
              "      <td>-0.714715</td>\n",
              "      <td>-0.302207</td>\n",
              "      <td>0.227375</td>\n",
              "      <td>-0.288722</td>\n",
              "      <td>-0.292494</td>\n",
              "      <td>-0.222754</td>\n",
              "      <td>-0.153293</td>\n",
              "      <td>-0.001598</td>\n",
              "      <td>-0.320143</td>\n",
              "      <td>-0.014820</td>\n",
              "    </tr>\n",
              "    <tr>\n",
              "      <th>5089689</th>\n",
              "      <td>3.334966</td>\n",
              "      <td>-0.531111</td>\n",
              "      <td>-0.736454</td>\n",
              "      <td>-0.081175</td>\n",
              "      <td>1.399160</td>\n",
              "      <td>-0.302207</td>\n",
              "      <td>-0.290762</td>\n",
              "      <td>-0.286870</td>\n",
              "      <td>-0.292011</td>\n",
              "      <td>-0.324493</td>\n",
              "      <td>-0.333753</td>\n",
              "      <td>-0.001598</td>\n",
              "      <td>0.213111</td>\n",
              "      <td>-0.024834</td>\n",
              "    </tr>\n",
              "    <tr>\n",
              "      <th>5089690</th>\n",
              "      <td>3.334966</td>\n",
              "      <td>-0.531111</td>\n",
              "      <td>1.357859</td>\n",
              "      <td>-0.081175</td>\n",
              "      <td>-0.714715</td>\n",
              "      <td>-0.302207</td>\n",
              "      <td>0.010726</td>\n",
              "      <td>-0.230626</td>\n",
              "      <td>-0.292494</td>\n",
              "      <td>-0.317153</td>\n",
              "      <td>-0.276208</td>\n",
              "      <td>-0.001598</td>\n",
              "      <td>0.182449</td>\n",
              "      <td>-0.014820</td>\n",
              "    </tr>\n",
              "    <tr>\n",
              "      <th>5089691</th>\n",
              "      <td>3.334966</td>\n",
              "      <td>-0.531111</td>\n",
              "      <td>-0.736454</td>\n",
              "      <td>-0.081175</td>\n",
              "      <td>-0.714715</td>\n",
              "      <td>3.308993</td>\n",
              "      <td>-0.161691</td>\n",
              "      <td>-0.284112</td>\n",
              "      <td>-0.292494</td>\n",
              "      <td>-0.324493</td>\n",
              "      <td>-0.311381</td>\n",
              "      <td>-0.001598</td>\n",
              "      <td>0.097708</td>\n",
              "      <td>-0.014820</td>\n",
              "    </tr>\n",
              "    <tr>\n",
              "      <th>5089692</th>\n",
              "      <td>3.334966</td>\n",
              "      <td>-0.531111</td>\n",
              "      <td>-0.736454</td>\n",
              "      <td>12.319134</td>\n",
              "      <td>-0.714715</td>\n",
              "      <td>-0.302207</td>\n",
              "      <td>-0.294478</td>\n",
              "      <td>-0.281712</td>\n",
              "      <td>-0.286149</td>\n",
              "      <td>-0.268840</td>\n",
              "      <td>-0.281810</td>\n",
              "      <td>-0.001598</td>\n",
              "      <td>0.213111</td>\n",
              "      <td>-0.014820</td>\n",
              "    </tr>\n",
              "  </tbody>\n",
              "</table>\n",
              "<p>5089693 rows × 14 columns</p>\n",
              "</div>"
            ],
            "text/plain": [
              "             step   CASH_IN  ...  errorBalanceOrig  errorBalanceDest\n",
              "0       -1.703095 -0.531111  ...          0.213111         -0.015261\n",
              "1       -1.703095 -0.531111  ...          0.213111          0.036355\n",
              "2       -1.703095 -0.531111  ...          0.213111         -0.021658\n",
              "3       -1.703095 -0.531111  ...          0.213111          0.042191\n",
              "4       -1.703095 -0.531111  ...          0.213111         -0.063868\n",
              "...           ...       ...  ...               ...               ...\n",
              "5089688  3.334966 -0.531111  ...         -0.320143         -0.014820\n",
              "5089689  3.334966 -0.531111  ...          0.213111         -0.024834\n",
              "5089690  3.334966 -0.531111  ...          0.182449         -0.014820\n",
              "5089691  3.334966 -0.531111  ...          0.097708         -0.014820\n",
              "5089692  3.334966 -0.531111  ...          0.213111         -0.014820\n",
              "\n",
              "[5089693 rows x 14 columns]"
            ]
          },
          "metadata": {},
          "execution_count": 21
        }
      ]
    },
    {
      "cell_type": "code",
      "metadata": {
        "id": "z85J36SKxoF4",
        "colab": {
          "base_uri": "https://localhost:8080/",
          "height": 424
        },
        "outputId": "b0c1a52e-0786-4e74-93dd-c320476fdf60"
      },
      "source": [
        "train_label.to_frame()"
      ],
      "execution_count": 22,
      "outputs": [
        {
          "output_type": "execute_result",
          "data": {
            "text/html": [
              "<div>\n",
              "<style scoped>\n",
              "    .dataframe tbody tr th:only-of-type {\n",
              "        vertical-align: middle;\n",
              "    }\n",
              "\n",
              "    .dataframe tbody tr th {\n",
              "        vertical-align: top;\n",
              "    }\n",
              "\n",
              "    .dataframe thead th {\n",
              "        text-align: right;\n",
              "    }\n",
              "</style>\n",
              "<table border=\"1\" class=\"dataframe\">\n",
              "  <thead>\n",
              "    <tr style=\"text-align: right;\">\n",
              "      <th></th>\n",
              "      <th>isFraud</th>\n",
              "    </tr>\n",
              "  </thead>\n",
              "  <tbody>\n",
              "    <tr>\n",
              "      <th>0</th>\n",
              "      <td>1</td>\n",
              "    </tr>\n",
              "    <tr>\n",
              "      <th>1</th>\n",
              "      <td>1</td>\n",
              "    </tr>\n",
              "    <tr>\n",
              "      <th>2</th>\n",
              "      <td>1</td>\n",
              "    </tr>\n",
              "    <tr>\n",
              "      <th>3</th>\n",
              "      <td>1</td>\n",
              "    </tr>\n",
              "    <tr>\n",
              "      <th>4</th>\n",
              "      <td>1</td>\n",
              "    </tr>\n",
              "    <tr>\n",
              "      <th>...</th>\n",
              "      <td>...</td>\n",
              "    </tr>\n",
              "    <tr>\n",
              "      <th>5089688</th>\n",
              "      <td>0</td>\n",
              "    </tr>\n",
              "    <tr>\n",
              "      <th>5089689</th>\n",
              "      <td>0</td>\n",
              "    </tr>\n",
              "    <tr>\n",
              "      <th>5089690</th>\n",
              "      <td>0</td>\n",
              "    </tr>\n",
              "    <tr>\n",
              "      <th>5089691</th>\n",
              "      <td>0</td>\n",
              "    </tr>\n",
              "    <tr>\n",
              "      <th>5089692</th>\n",
              "      <td>0</td>\n",
              "    </tr>\n",
              "  </tbody>\n",
              "</table>\n",
              "<p>5089693 rows × 1 columns</p>\n",
              "</div>"
            ],
            "text/plain": [
              "         isFraud\n",
              "0              1\n",
              "1              1\n",
              "2              1\n",
              "3              1\n",
              "4              1\n",
              "...          ...\n",
              "5089688        0\n",
              "5089689        0\n",
              "5089690        0\n",
              "5089691        0\n",
              "5089692        0\n",
              "\n",
              "[5089693 rows x 1 columns]"
            ]
          },
          "metadata": {},
          "execution_count": 22
        }
      ]
    },
    {
      "cell_type": "code",
      "metadata": {
        "id": "gjSrX3AHx_Ek",
        "colab": {
          "base_uri": "https://localhost:8080/",
          "height": 444
        },
        "outputId": "4a7eeb98-36a8-4812-f24c-7be5cc6dd744"
      },
      "source": [
        "data_feature_test = pd.DataFrame(data=test_feature_scaled, columns=col)\n",
        "data_feature_test"
      ],
      "execution_count": 23,
      "outputs": [
        {
          "output_type": "execute_result",
          "data": {
            "text/html": [
              "<div>\n",
              "<style scoped>\n",
              "    .dataframe tbody tr th:only-of-type {\n",
              "        vertical-align: middle;\n",
              "    }\n",
              "\n",
              "    .dataframe tbody tr th {\n",
              "        vertical-align: top;\n",
              "    }\n",
              "\n",
              "    .dataframe thead th {\n",
              "        text-align: right;\n",
              "    }\n",
              "</style>\n",
              "<table border=\"1\" class=\"dataframe\">\n",
              "  <thead>\n",
              "    <tr style=\"text-align: right;\">\n",
              "      <th></th>\n",
              "      <th>step</th>\n",
              "      <th>CASH_IN</th>\n",
              "      <th>CASH_OUT</th>\n",
              "      <th>DEBIT</th>\n",
              "      <th>PAYMENT</th>\n",
              "      <th>TRANSFER</th>\n",
              "      <th>amount</th>\n",
              "      <th>oldbalanceOrg</th>\n",
              "      <th>newbalanceOrig</th>\n",
              "      <th>oldbalanceDest</th>\n",
              "      <th>newbalanceDest</th>\n",
              "      <th>isFlaggedFraud</th>\n",
              "      <th>errorBalanceOrig</th>\n",
              "      <th>errorBalanceDest</th>\n",
              "    </tr>\n",
              "  </thead>\n",
              "  <tbody>\n",
              "    <tr>\n",
              "      <th>0</th>\n",
              "      <td>-1.703095</td>\n",
              "      <td>-0.531111</td>\n",
              "      <td>-0.736454</td>\n",
              "      <td>-0.081175</td>\n",
              "      <td>-0.714715</td>\n",
              "      <td>3.308993</td>\n",
              "      <td>1.816264</td>\n",
              "      <td>0.153215</td>\n",
              "      <td>-0.292494</td>\n",
              "      <td>-0.324493</td>\n",
              "      <td>-0.333753</td>\n",
              "      <td>-0.001598</td>\n",
              "      <td>0.213111</td>\n",
              "      <td>-3.127116</td>\n",
              "    </tr>\n",
              "    <tr>\n",
              "      <th>1</th>\n",
              "      <td>-1.703095</td>\n",
              "      <td>-0.531111</td>\n",
              "      <td>1.357859</td>\n",
              "      <td>-0.081175</td>\n",
              "      <td>-0.714715</td>\n",
              "      <td>-0.302207</td>\n",
              "      <td>0.091764</td>\n",
              "      <td>-0.207373</td>\n",
              "      <td>-0.292494</td>\n",
              "      <td>-0.324493</td>\n",
              "      <td>-0.269649</td>\n",
              "      <td>-0.001598</td>\n",
              "      <td>0.213111</td>\n",
              "      <td>-0.014820</td>\n",
              "    </tr>\n",
              "    <tr>\n",
              "      <th>2</th>\n",
              "      <td>-1.696068</td>\n",
              "      <td>-0.531111</td>\n",
              "      <td>-0.736454</td>\n",
              "      <td>-0.081175</td>\n",
              "      <td>-0.714715</td>\n",
              "      <td>3.308993</td>\n",
              "      <td>1.516661</td>\n",
              "      <td>0.090569</td>\n",
              "      <td>-0.292494</td>\n",
              "      <td>-0.324493</td>\n",
              "      <td>-0.333753</td>\n",
              "      <td>-0.001598</td>\n",
              "      <td>0.213111</td>\n",
              "      <td>-2.685995</td>\n",
              "    </tr>\n",
              "    <tr>\n",
              "      <th>3</th>\n",
              "      <td>-1.696068</td>\n",
              "      <td>-0.531111</td>\n",
              "      <td>1.357859</td>\n",
              "      <td>-0.081175</td>\n",
              "      <td>-0.714715</td>\n",
              "      <td>-0.302207</td>\n",
              "      <td>1.516661</td>\n",
              "      <td>0.090569</td>\n",
              "      <td>-0.292494</td>\n",
              "      <td>-0.324493</td>\n",
              "      <td>-0.035034</td>\n",
              "      <td>-0.001598</td>\n",
              "      <td>0.213111</td>\n",
              "      <td>-0.014820</td>\n",
              "    </tr>\n",
              "    <tr>\n",
              "      <th>4</th>\n",
              "      <td>-1.696068</td>\n",
              "      <td>-0.531111</td>\n",
              "      <td>-0.736454</td>\n",
              "      <td>-0.081175</td>\n",
              "      <td>-0.714715</td>\n",
              "      <td>3.308993</td>\n",
              "      <td>-0.266735</td>\n",
              "      <td>-0.282335</td>\n",
              "      <td>-0.292494</td>\n",
              "      <td>-0.324493</td>\n",
              "      <td>-0.333753</td>\n",
              "      <td>-0.001598</td>\n",
              "      <td>0.213111</td>\n",
              "      <td>-0.060210</td>\n",
              "    </tr>\n",
              "    <tr>\n",
              "      <th>...</th>\n",
              "      <td>...</td>\n",
              "      <td>...</td>\n",
              "      <td>...</td>\n",
              "      <td>...</td>\n",
              "      <td>...</td>\n",
              "      <td>...</td>\n",
              "      <td>...</td>\n",
              "      <td>...</td>\n",
              "      <td>...</td>\n",
              "      <td>...</td>\n",
              "      <td>...</td>\n",
              "      <td>...</td>\n",
              "      <td>...</td>\n",
              "      <td>...</td>\n",
              "    </tr>\n",
              "    <tr>\n",
              "      <th>1272922</th>\n",
              "      <td>3.334966</td>\n",
              "      <td>-0.531111</td>\n",
              "      <td>-0.736454</td>\n",
              "      <td>-0.081175</td>\n",
              "      <td>1.399160</td>\n",
              "      <td>-0.302207</td>\n",
              "      <td>-0.287018</td>\n",
              "      <td>-0.281312</td>\n",
              "      <td>-0.287294</td>\n",
              "      <td>-0.324493</td>\n",
              "      <td>-0.333753</td>\n",
              "      <td>-0.001598</td>\n",
              "      <td>0.213111</td>\n",
              "      <td>-0.030347</td>\n",
              "    </tr>\n",
              "    <tr>\n",
              "      <th>1272923</th>\n",
              "      <td>3.334966</td>\n",
              "      <td>-0.531111</td>\n",
              "      <td>-0.736454</td>\n",
              "      <td>-0.081175</td>\n",
              "      <td>1.399160</td>\n",
              "      <td>-0.302207</td>\n",
              "      <td>-0.284029</td>\n",
              "      <td>-0.284717</td>\n",
              "      <td>-0.291275</td>\n",
              "      <td>-0.324493</td>\n",
              "      <td>-0.333753</td>\n",
              "      <td>-0.001598</td>\n",
              "      <td>0.213111</td>\n",
              "      <td>-0.034748</td>\n",
              "    </tr>\n",
              "    <tr>\n",
              "      <th>1272924</th>\n",
              "      <td>3.334966</td>\n",
              "      <td>-0.531111</td>\n",
              "      <td>1.357859</td>\n",
              "      <td>-0.081175</td>\n",
              "      <td>-0.714715</td>\n",
              "      <td>-0.302207</td>\n",
              "      <td>-0.112260</td>\n",
              "      <td>-0.287219</td>\n",
              "      <td>-0.292494</td>\n",
              "      <td>-0.278812</td>\n",
              "      <td>-0.261024</td>\n",
              "      <td>-0.001598</td>\n",
              "      <td>0.032364</td>\n",
              "      <td>-0.014820</td>\n",
              "    </tr>\n",
              "    <tr>\n",
              "      <th>1272925</th>\n",
              "      <td>3.334966</td>\n",
              "      <td>-0.531111</td>\n",
              "      <td>-0.736454</td>\n",
              "      <td>-0.081175</td>\n",
              "      <td>1.399160</td>\n",
              "      <td>-0.302207</td>\n",
              "      <td>-0.283273</td>\n",
              "      <td>-0.109243</td>\n",
              "      <td>-0.118107</td>\n",
              "      <td>-0.324493</td>\n",
              "      <td>-0.333753</td>\n",
              "      <td>-0.001598</td>\n",
              "      <td>0.213111</td>\n",
              "      <td>-0.035860</td>\n",
              "    </tr>\n",
              "    <tr>\n",
              "      <th>1272926</th>\n",
              "      <td>3.334966</td>\n",
              "      <td>-0.531111</td>\n",
              "      <td>1.357859</td>\n",
              "      <td>-0.081175</td>\n",
              "      <td>-0.714715</td>\n",
              "      <td>-0.302207</td>\n",
              "      <td>-0.034102</td>\n",
              "      <td>-0.287445</td>\n",
              "      <td>-0.292494</td>\n",
              "      <td>-0.324493</td>\n",
              "      <td>-0.290373</td>\n",
              "      <td>-0.001598</td>\n",
              "      <td>-0.048176</td>\n",
              "      <td>-0.014820</td>\n",
              "    </tr>\n",
              "  </tbody>\n",
              "</table>\n",
              "<p>1272927 rows × 14 columns</p>\n",
              "</div>"
            ],
            "text/plain": [
              "             step   CASH_IN  ...  errorBalanceOrig  errorBalanceDest\n",
              "0       -1.703095 -0.531111  ...          0.213111         -3.127116\n",
              "1       -1.703095 -0.531111  ...          0.213111         -0.014820\n",
              "2       -1.696068 -0.531111  ...          0.213111         -2.685995\n",
              "3       -1.696068 -0.531111  ...          0.213111         -0.014820\n",
              "4       -1.696068 -0.531111  ...          0.213111         -0.060210\n",
              "...           ...       ...  ...               ...               ...\n",
              "1272922  3.334966 -0.531111  ...          0.213111         -0.030347\n",
              "1272923  3.334966 -0.531111  ...          0.213111         -0.034748\n",
              "1272924  3.334966 -0.531111  ...          0.032364         -0.014820\n",
              "1272925  3.334966 -0.531111  ...          0.213111         -0.035860\n",
              "1272926  3.334966 -0.531111  ...         -0.048176         -0.014820\n",
              "\n",
              "[1272927 rows x 14 columns]"
            ]
          },
          "metadata": {},
          "execution_count": 23
        }
      ]
    },
    {
      "cell_type": "code",
      "metadata": {
        "id": "Wu0gOTNPyOyU",
        "colab": {
          "base_uri": "https://localhost:8080/",
          "height": 424
        },
        "outputId": "49690af0-8f65-440c-e156-2056aada956c"
      },
      "source": [
        "test_label.to_frame()"
      ],
      "execution_count": 24,
      "outputs": [
        {
          "output_type": "execute_result",
          "data": {
            "text/html": [
              "<div>\n",
              "<style scoped>\n",
              "    .dataframe tbody tr th:only-of-type {\n",
              "        vertical-align: middle;\n",
              "    }\n",
              "\n",
              "    .dataframe tbody tr th {\n",
              "        vertical-align: top;\n",
              "    }\n",
              "\n",
              "    .dataframe thead th {\n",
              "        text-align: right;\n",
              "    }\n",
              "</style>\n",
              "<table border=\"1\" class=\"dataframe\">\n",
              "  <thead>\n",
              "    <tr style=\"text-align: right;\">\n",
              "      <th></th>\n",
              "      <th>isFraud</th>\n",
              "    </tr>\n",
              "  </thead>\n",
              "  <tbody>\n",
              "    <tr>\n",
              "      <th>0</th>\n",
              "      <td>1</td>\n",
              "    </tr>\n",
              "    <tr>\n",
              "      <th>1</th>\n",
              "      <td>1</td>\n",
              "    </tr>\n",
              "    <tr>\n",
              "      <th>2</th>\n",
              "      <td>1</td>\n",
              "    </tr>\n",
              "    <tr>\n",
              "      <th>3</th>\n",
              "      <td>1</td>\n",
              "    </tr>\n",
              "    <tr>\n",
              "      <th>4</th>\n",
              "      <td>1</td>\n",
              "    </tr>\n",
              "    <tr>\n",
              "      <th>...</th>\n",
              "      <td>...</td>\n",
              "    </tr>\n",
              "    <tr>\n",
              "      <th>1272922</th>\n",
              "      <td>0</td>\n",
              "    </tr>\n",
              "    <tr>\n",
              "      <th>1272923</th>\n",
              "      <td>0</td>\n",
              "    </tr>\n",
              "    <tr>\n",
              "      <th>1272924</th>\n",
              "      <td>0</td>\n",
              "    </tr>\n",
              "    <tr>\n",
              "      <th>1272925</th>\n",
              "      <td>0</td>\n",
              "    </tr>\n",
              "    <tr>\n",
              "      <th>1272926</th>\n",
              "      <td>0</td>\n",
              "    </tr>\n",
              "  </tbody>\n",
              "</table>\n",
              "<p>1272927 rows × 1 columns</p>\n",
              "</div>"
            ],
            "text/plain": [
              "         isFraud\n",
              "0              1\n",
              "1              1\n",
              "2              1\n",
              "3              1\n",
              "4              1\n",
              "...          ...\n",
              "1272922        0\n",
              "1272923        0\n",
              "1272924        0\n",
              "1272925        0\n",
              "1272926        0\n",
              "\n",
              "[1272927 rows x 1 columns]"
            ]
          },
          "metadata": {},
          "execution_count": 24
        }
      ]
    },
    {
      "cell_type": "markdown",
      "metadata": {
        "id": "tqCyYPsTxDhU"
      },
      "source": [
        "## Logistic Regression"
      ]
    },
    {
      "cell_type": "markdown",
      "metadata": {
        "id": "WNXhP0PxxDhV"
      },
      "source": [
        "Logistic regression is used to describe data and to explain the relationship between one dependent binary variable and one or more nominal, ordinal, interval or ratio-level independent variables\n",
        "    \n",
        "    class sklearn.linear_model.LogisticRegression (penalty='l2', *, dual=False, tol=0.0001, C=1.0, fit_intercept=True, intercept_scaling=1, class_weight=None, random_state=None, solver='lbfgs', max_iter=100, multi_class='auto', verbose=0, warm_start=False, n_jobs=None, l1_ratio=None)\n",
        "    \n",
        "https://scikit-learn.org/stable/modules/generated/sklearn.linear_model.LogisticRegression.html"
      ]
    },
    {
      "cell_type": "code",
      "metadata": {
        "id": "oMDSNeAJxDhV",
        "colab": {
          "base_uri": "https://localhost:8080/"
        },
        "outputId": "bc4245bd-5c04-468a-b805-9e16aa8b3fe6"
      },
      "source": [
        "from sklearn.linear_model import LogisticRegression\n",
        "clf = LogisticRegression(random_state=0)\n",
        "clf.fit(train_feature_scaled,train_label)"
      ],
      "execution_count": 25,
      "outputs": [
        {
          "output_type": "stream",
          "name": "stderr",
          "text": [
            "/usr/local/lib/python3.7/dist-packages/sklearn/linear_model/_logistic.py:818: ConvergenceWarning: lbfgs failed to converge (status=1):\n",
            "STOP: TOTAL NO. of ITERATIONS REACHED LIMIT.\n",
            "\n",
            "Increase the number of iterations (max_iter) or scale the data as shown in:\n",
            "    https://scikit-learn.org/stable/modules/preprocessing.html\n",
            "Please also refer to the documentation for alternative solver options:\n",
            "    https://scikit-learn.org/stable/modules/linear_model.html#logistic-regression\n",
            "  extra_warning_msg=_LOGISTIC_SOLVER_CONVERGENCE_MSG,\n"
          ]
        },
        {
          "output_type": "execute_result",
          "data": {
            "text/plain": [
              "LogisticRegression(random_state=0)"
            ]
          },
          "metadata": {},
          "execution_count": 25
        }
      ]
    },
    {
      "cell_type": "code",
      "metadata": {
        "id": "C_vQtxiafEoL"
      },
      "source": [
        "# predict train data\n",
        "lr_predY_train = clf.predict(train_feature_scaled)"
      ],
      "execution_count": 26,
      "outputs": []
    },
    {
      "cell_type": "code",
      "metadata": {
        "colab": {
          "base_uri": "https://localhost:8080/"
        },
        "id": "semXflXr56GG",
        "outputId": "f16ac02a-57e7-48a9-ff7d-2811177a1aa8"
      },
      "source": [
        "lr_predY_train"
      ],
      "execution_count": 27,
      "outputs": [
        {
          "output_type": "execute_result",
          "data": {
            "text/plain": [
              "array([0, 0, 0, ..., 0, 0, 0])"
            ]
          },
          "metadata": {},
          "execution_count": 27
        }
      ]
    },
    {
      "cell_type": "code",
      "metadata": {
        "id": "9d89Yjp9xDhX",
        "colab": {
          "base_uri": "https://localhost:8080/"
        },
        "outputId": "68a8c711-3006-4897-e94b-938b12943274"
      },
      "source": [
        "# predict test data\n",
        "lr_predY = clf.predict(test_feature_scaled)\n",
        "lr_predY[0:10]"
      ],
      "execution_count": 28,
      "outputs": [
        {
          "output_type": "execute_result",
          "data": {
            "text/plain": [
              "array([1, 0, 1, 1, 0, 1, 0, 0, 0, 0])"
            ]
          },
          "metadata": {},
          "execution_count": 28
        }
      ]
    },
    {
      "cell_type": "markdown",
      "metadata": {
        "id": "_aNwtLO8xDha"
      },
      "source": [
        "## XGBoost "
      ]
    },
    {
      "cell_type": "markdown",
      "metadata": {
        "id": "9e-xpnXxxDha"
      },
      "source": [
        "XGBoost stands for Extreme Gradient Boosting; it is a specific implementation of the Gradient Boosting method which uses more accurate approximations to find the best tree model. It employs a number of nifty tricks that make it exceptionally successful, particularly with structured data.\n",
        "\n",
        "XGBoost's hyperparameters\n",
        "\n",
        "    -learning_rate: step size shrinkage used to prevent overfitting. Range is [0,1]\n",
        "    -max_depth: determines how deeply each tree is allowed to grow during any boosting round.\n",
        "    -subsample: percentage of samples used per tree. Low value can lead to underfitting.\n",
        "    -colsample_bytree: percentage of features used per tree. High value can lead to overfitting.\n",
        "    -n_estimators: number of trees you want to build.\n",
        "    -objective: determines the loss function to be used like reg:linear for regression problems, reg:logistic for classification problems with only decision, binary:logistic for classification problems with probability.\n",
        "\n",
        "XGBoost also supports regularization parameters to penalize models as they become more complex and reduce them to simple (parsimonious) models.\n",
        "\n",
        "    -gamma: controls whether a given node will split based on the expected reduction in loss after the split. A higher value leads to fewer splits. Supported only for tree-based learners.\n",
        "    -alpha: L1 regularization on leaf weights. A large value leads to more regularization.\n",
        "    -lambda: L2 regularization on leaf weights and is smoother than L1 regularization."
      ]
    },
    {
      "cell_type": "code",
      "metadata": {
        "id": "FTsjQ0M2jbdg"
      },
      "source": [
        "from xgboost.sklearn import XGBClassifier"
      ],
      "execution_count": 29,
      "outputs": []
    },
    {
      "cell_type": "code",
      "metadata": {
        "id": "aETfvI4_xDhb",
        "colab": {
          "base_uri": "https://localhost:8080/"
        },
        "outputId": "4ebefd24-1d2b-4c20-e615-ab3045952666"
      },
      "source": [
        "%%time\n",
        "from xgboost.sklearn import XGBClassifier\n",
        "xgbc = XGBClassifier(objective='binary:logistic',max_depth=3)\n",
        "\n",
        "\n",
        "xgbc.fit(train_feature_scaled, train_label)"
      ],
      "execution_count": 30,
      "outputs": [
        {
          "output_type": "stream",
          "name": "stdout",
          "text": [
            "[11:58:29] WARNING: /workspace/src/learner.cc:686: Tree method is automatically selected to be 'approx' for faster speed. To use old behavior (exact greedy algorithm on single machine), set tree_method to 'exact'.\n",
            "CPU times: user 14min 12s, sys: 1.68 s, total: 14min 14s\n",
            "Wall time: 14min 9s\n"
          ]
        }
      ]
    },
    {
      "cell_type": "code",
      "metadata": {
        "id": "tgsG87U9zZyg"
      },
      "source": [
        " # predict train data\n",
        "xgb_predY_train = xgbc.predict(train_feature_scaled)"
      ],
      "execution_count": 31,
      "outputs": []
    },
    {
      "cell_type": "code",
      "metadata": {
        "id": "wrue464ExDhd",
        "colab": {
          "base_uri": "https://localhost:8080/"
        },
        "outputId": "15a05411-3427-4de5-f0ed-97d99003b4d6"
      },
      "source": [
        "# predict test data\n",
        "xgb_predY = xgbc.predict(test_feature_scaled)\n",
        "xgb_predY[0:10]"
      ],
      "execution_count": 32,
      "outputs": [
        {
          "output_type": "execute_result",
          "data": {
            "text/plain": [
              "array([1, 1, 1, 1, 1, 1, 1, 1, 1, 1])"
            ]
          },
          "metadata": {},
          "execution_count": 32
        }
      ]
    },
    {
      "cell_type": "markdown",
      "metadata": {
        "id": "vrymDMz-xDhg"
      },
      "source": [
        "## Model Evaluation"
      ]
    },
    {
      "cell_type": "markdown",
      "metadata": {
        "id": "kILKd2rNxDhg"
      },
      "source": [
        "### Confusion Matrix"
      ]
    },
    {
      "cell_type": "markdown",
      "metadata": {
        "id": "_BQy4_QHxDhh"
      },
      "source": [
        "confusion matrix, also known as an error matrix, is a specific table layout that allows visualization of the performance of an algorithm, typically a supervised learning one (in unsupervised learning it is usually called a matching matrix). Each row of the matrix represents the instances in a predicted class while each column represents the instances in an actual class (or vice versa)\n",
        "\n",
        "\n",
        "\n",
        "https://en.wikipedia.org/wiki/Confusion_matrix\n",
        "\n",
        "--------------------------------------------\n",
        "Accuracy: Overall, how often is the classifier correct?\n",
        "    \n",
        "    Accuracy = (TP+TN)/total = (TP+TN)/(TP+TN+FN+FP)\n",
        "\n",
        "Precision: When it predicts yes, how often is it correct?\n",
        "\n",
        "    Precision = TP/predicted yes = TP/(TP+FP)\n",
        "    \n",
        "Recall: When it's actually yes, how often does it predict yes? (True Positive Rate)\n",
        "\n",
        "    Recall = TP/actual yes = TP/(TP+FN)\n",
        "    \n",
        "F1 Score: This is a weighted average of the recall and precision\n",
        "\n",
        "    F1 Score = (2*(Precision*Recall))/(Precision+Recall)"
      ]
    },
    {
      "cell_type": "code",
      "metadata": {
        "id": "ZOUFgbou9KwD"
      },
      "source": [
        "from sklearn.metrics import confusion_matrix, accuracy_score, recall_score, precision_score, f1_score\n",
        "\n",
        "def evaluation_metrics(types,label_train,predict_train,label_test,predict_test):\n",
        "  print(\"Accuracy score in\",types, \": Train =\" ,accuracy_score(label_train,predict_train), \" , Test = \",accuracy_score(label_test,predict_test))\n",
        "  print(\"Precision score in \",types, \": Train =\" ,precision_score(label_train,predict_train), \" , Test = \",precision_score(label_test,predict_test))\n",
        "  print(\"Recall score in \",types, \": Train =\",recall_score(label_train,predict_train), \" , Test = \",recall_score(label_test,predict_test))\n",
        "  print(\"F1 score score in \",types, \": Train =\" ,f1_score(label_train,predict_train), \" , Test = \",f1_score(label_test,predict_test))"
      ],
      "execution_count": 33,
      "outputs": []
    },
    {
      "cell_type": "code",
      "metadata": {
        "id": "dT0l_Sfz94bw",
        "colab": {
          "base_uri": "https://localhost:8080/"
        },
        "outputId": "7ffdeae9-9be2-4318-a69c-32cd79075f27"
      },
      "source": [
        "evaluation_metrics(\"Logistic Regression\",train_label,lr_predY_train,test_label,lr_predY)"
      ],
      "execution_count": 34,
      "outputs": [
        {
          "output_type": "stream",
          "name": "stdout",
          "text": [
            "Accuracy score in Logistic Regression : Train = 0.9993644017428949  , Test =  0.9993314620555617\n",
            "Precision score in  Logistic Regression : Train = 0.9284253578732107  , Test =  0.9083245521601686\n",
            "Recall score in  Logistic Regression : Train = 0.5513890997419159  , Test =  0.5301353013530136\n",
            "F1 score score in  Logistic Regression : Train = 0.691875416706353  , Test =  0.669514563106796\n"
          ]
        }
      ]
    },
    {
      "cell_type": "code",
      "metadata": {
        "id": "fa8RhZnkxDhn",
        "colab": {
          "base_uri": "https://localhost:8080/"
        },
        "outputId": "401db699-94a1-439d-e950-e715cac52f98"
      },
      "source": [
        "cm_lr = confusion_matrix(lr_predY,test_label,labels=[1,0])\n",
        "cm_lr"
      ],
      "execution_count": 35,
      "outputs": [
        {
          "output_type": "execute_result",
          "data": {
            "text/plain": [
              "array([[    862,      87],\n",
              "       [    764, 1271214]])"
            ]
          },
          "metadata": {},
          "execution_count": 35
        }
      ]
    },
    {
      "cell_type": "code",
      "metadata": {
        "id": "MLo_qsg8-YvH",
        "colab": {
          "base_uri": "https://localhost:8080/"
        },
        "outputId": "1937fffa-7c57-4fbf-a06a-f830c613d2a8"
      },
      "source": [
        "evaluation_metrics(\"XGBoost\",train_label,xgb_predY_train,test_label,xgb_predY)"
      ],
      "execution_count": 36,
      "outputs": [
        {
          "output_type": "stream",
          "name": "stdout",
          "text": [
            "Accuracy score in XGBoost : Train = 0.9999946951613781  , Test =  0.9999929296809636\n",
            "Precision score in  XGBoost : Train = 0.9995431008224185  , Test =  0.9987661937075879\n",
            "Recall score in  XGBoost : Train = 0.9963564596933353  , Test =  0.9956949569495694\n",
            "F1 score score in  XGBoost : Train = 0.9979472363719303  , Test =  0.9972282106559901\n"
          ]
        }
      ]
    },
    {
      "cell_type": "code",
      "metadata": {
        "id": "zw82xooMxDhu",
        "colab": {
          "base_uri": "https://localhost:8080/"
        },
        "outputId": "5141046f-0288-4a64-a822-6da95f702d64"
      },
      "source": [
        "cm_xgb = confusion_matrix(xgb_predY,test_label,labels=[1, 0])\n",
        "cm_xgb"
      ],
      "execution_count": 37,
      "outputs": [
        {
          "output_type": "execute_result",
          "data": {
            "text/plain": [
              "array([[   1619,       2],\n",
              "       [      7, 1271299]])"
            ]
          },
          "metadata": {},
          "execution_count": 37
        }
      ]
    },
    {
      "cell_type": "code",
      "metadata": {
        "id": "VezEDz3HD4pM"
      },
      "source": [
        ""
      ],
      "execution_count": null,
      "outputs": []
    },
    {
      "cell_type": "markdown",
      "metadata": {
        "id": "BtplsdntxDhw"
      },
      "source": [
        "## Random OverSampling "
      ]
    },
    {
      "cell_type": "markdown",
      "metadata": {
        "id": "46i4Yy9rxDhw"
      },
      "source": [
        "Random oversampling involves randomly duplicating examples from the minority class and adding them to the training dataset.\n",
        "\n",
        "This technique can be effective for those machine learning algorithms that are affected by a skewed distribution and where multiple duplicate examples for a given class can influence the fit of the model"
      ]
    },
    {
      "cell_type": "code",
      "metadata": {
        "id": "FFr9MiAGxDhw"
      },
      "source": [
        "from imblearn.over_sampling import RandomOverSampler \n",
        "ros = RandomOverSampler()\n",
        "train_feature_resampled, train_label_resampled = ros.fit_resample(train_feature, train_label)"
      ],
      "execution_count": 38,
      "outputs": []
    },
    {
      "cell_type": "code",
      "metadata": {
        "id": "Ny0K8JqaxDhy"
      },
      "source": [
        "scaler = preprocessing.StandardScaler()\n",
        "train_feature_scaled =scaler.fit_transform(train_feature_resampled)\n",
        "test_feature_scaled = scaler.transform(test_feature)"
      ],
      "execution_count": 39,
      "outputs": []
    },
    {
      "cell_type": "code",
      "metadata": {
        "id": "HtsehJ1oxDh0",
        "colab": {
          "base_uri": "https://localhost:8080/"
        },
        "outputId": "d177dbc3-81e1-47e5-9315-00245e27b905"
      },
      "source": [
        "clf_ros = LogisticRegression(random_state=0)\n",
        "clf_ros.fit(train_feature_scaled,train_label_resampled)"
      ],
      "execution_count": 40,
      "outputs": [
        {
          "output_type": "stream",
          "name": "stderr",
          "text": [
            "/usr/local/lib/python3.7/dist-packages/sklearn/linear_model/_logistic.py:818: ConvergenceWarning: lbfgs failed to converge (status=1):\n",
            "STOP: TOTAL NO. of ITERATIONS REACHED LIMIT.\n",
            "\n",
            "Increase the number of iterations (max_iter) or scale the data as shown in:\n",
            "    https://scikit-learn.org/stable/modules/preprocessing.html\n",
            "Please also refer to the documentation for alternative solver options:\n",
            "    https://scikit-learn.org/stable/modules/linear_model.html#logistic-regression\n",
            "  extra_warning_msg=_LOGISTIC_SOLVER_CONVERGENCE_MSG,\n"
          ]
        },
        {
          "output_type": "execute_result",
          "data": {
            "text/plain": [
              "LogisticRegression(random_state=0)"
            ]
          },
          "metadata": {},
          "execution_count": 40
        }
      ]
    },
    {
      "cell_type": "code",
      "metadata": {
        "id": "M4z2uSX7xDh2"
      },
      "source": [
        "lr_predY_ros_train = clf_ros.predict(train_feature_scaled)"
      ],
      "execution_count": 41,
      "outputs": []
    },
    {
      "cell_type": "code",
      "metadata": {
        "id": "KzMnoWV2xDh8"
      },
      "source": [
        "lr_predY_ros = clf_ros.predict(test_feature_scaled)\n"
      ],
      "execution_count": 42,
      "outputs": []
    },
    {
      "cell_type": "code",
      "metadata": {
        "id": "jj9zbebZF4x4",
        "colab": {
          "base_uri": "https://localhost:8080/"
        },
        "outputId": "4b0ca5a8-8f14-4bc6-fa4c-5005449a9266"
      },
      "source": [
        "evaluation_metrics(\"Logistic Regession after RandomOverSampling\",train_label_resampled,lr_predY_ros_train,test_label,lr_predY_ros)"
      ],
      "execution_count": 43,
      "outputs": [
        {
          "output_type": "stream",
          "name": "stdout",
          "text": [
            "Accuracy score in Logistic Regession after RandomOverSampling : Train = 0.9652441833792174  , Test =  0.9524631027545177\n",
            "Precision score in  Logistic Regession after RandomOverSampling : Train = 0.9536091679139125  , Test =  0.025786396508125694\n",
            "Recall score in  Logistic Regession after RandomOverSampling : Train = 0.9780691175828322  , Test =  0.9846248462484625\n",
            "F1 score score in  Logistic Regession after RandomOverSampling : Train = 0.9656842802274499  , Test =  0.05025661952819676\n"
          ]
        }
      ]
    },
    {
      "cell_type": "code",
      "metadata": {
        "id": "jigwU7bsxDiA",
        "colab": {
          "base_uri": "https://localhost:8080/"
        },
        "outputId": "92a8e840-a9d7-4eae-c0d0-4e09bdf510de"
      },
      "source": [
        "cm_lr_ros = confusion_matrix(lr_predY_ros,test_label,labels=[1, 0])\n",
        "cm_lr_ros"
      ],
      "execution_count": 44,
      "outputs": [
        {
          "output_type": "execute_result",
          "data": {
            "text/plain": [
              "array([[   1601,   60486],\n",
              "       [     25, 1210815]])"
            ]
          },
          "metadata": {},
          "execution_count": 44
        }
      ]
    },
    {
      "cell_type": "markdown",
      "metadata": {
        "id": "D0A-zJ4ixDiF"
      },
      "source": [
        "## Random Undersampling"
      ]
    },
    {
      "cell_type": "markdown",
      "metadata": {
        "id": "vz0SlTyMxDiG"
      },
      "source": [
        "Random undersampling involves randomly selecting examples from the majority class to delete from the training dataset.\n",
        "\n",
        "This has the effect of reducing the number of examples in the majority class in the transformed version of the training dataset. This process can be repeated until the desired class distribution is achieved, such as an equal number of examples for each class\n",
        "\n",
        "A limitation of undersampling is that examples from the majority class are deleted that may be useful, important, or perhaps critical to fitting a robust decision boundary. Given that examples are deleted randomly, there is no way to detect or preserve “good” or more information-rich examples from the majority class.\n",
        "\n",
        "https://machinelearningmastery.com/random-oversampling-and-undersampling-for-imbalanced-classification/"
      ]
    },
    {
      "cell_type": "code",
      "metadata": {
        "id": "y7I_erVLxDiG"
      },
      "source": [
        "from imblearn.under_sampling import RandomUnderSampler\n",
        "rus = RandomUnderSampler()\n",
        "train_feature_resampled, train_label_resampled = rus.fit_sample(train_feature,train_label)"
      ],
      "execution_count": null,
      "outputs": []
    },
    {
      "cell_type": "code",
      "metadata": {
        "id": "CNOtHs4ZxDiI"
      },
      "source": [
        "scaler = preprocessing.StandardScaler()\n",
        "train_feature_scaled =scaler.fit_transform(train_feature_resampled)\n",
        "test_feature_scaled = scaler.transform(test_feature)"
      ],
      "execution_count": null,
      "outputs": []
    },
    {
      "cell_type": "code",
      "metadata": {
        "id": "LHFI33jBxDiK"
      },
      "source": [
        "clf_rus = LogisticRegression(random_state=0)\n",
        "clf_rus.fit(train_feature_scaled,train_label_resampled)"
      ],
      "execution_count": null,
      "outputs": []
    },
    {
      "cell_type": "code",
      "metadata": {
        "id": "8qIcozsVxDiM"
      },
      "source": [
        "lr_predY_rus_train = clf_rus.predict(train_feature_scaled)"
      ],
      "execution_count": null,
      "outputs": []
    },
    {
      "cell_type": "code",
      "metadata": {
        "id": "o7C6lDOTxDiR"
      },
      "source": [
        "lr_predY_rus = clf_rus.predict(test_feature_scaled)"
      ],
      "execution_count": null,
      "outputs": []
    },
    {
      "cell_type": "code",
      "metadata": {
        "id": "B86ehw3IChK9"
      },
      "source": [
        "evaluation_metrics(\"Logistic Regression after RandomUnderSampling\",train_label_resampled,lr_predY_rus_train,test_label,lr_predY_rus)"
      ],
      "execution_count": null,
      "outputs": []
    },
    {
      "cell_type": "code",
      "metadata": {
        "id": "8BIwieFRxDiW"
      },
      "source": [
        "cm_lr_rus = confusion_matrix(lr_predY_rus,test_label,labels=[1, 0])\n",
        "cm_lr_rus"
      ],
      "execution_count": null,
      "outputs": []
    },
    {
      "cell_type": "code",
      "metadata": {
        "id": "GCXfiCyfGbid"
      },
      "source": [
        ""
      ],
      "execution_count": null,
      "outputs": []
    }
  ]
}
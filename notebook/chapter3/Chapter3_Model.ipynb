{
  "nbformat": 4,
  "nbformat_minor": 0,
  "metadata": {
    "colab": {
      "name": "Chapter3_Model.ipynb",
      "provenance": [],
      "collapsed_sections": [],
      "include_colab_link": true
    },
    "kernelspec": {
      "display_name": "Python 3",
      "language": "python",
      "name": "python3"
    },
    "language_info": {
      "codemirror_mode": {
        "name": "ipython",
        "version": 3
      },
      "file_extension": ".py",
      "mimetype": "text/x-python",
      "name": "python",
      "nbconvert_exporter": "python",
      "pygments_lexer": "ipython3",
      "version": "3.8.3"
    },
    "accelerator": "GPU"
  },
  "cells": [
    {
      "cell_type": "markdown",
      "metadata": {
        "id": "view-in-github",
        "colab_type": "text"
      },
      "source": [
        "<a href=\"https://colab.research.google.com/github/Janebhop/fraud-detection-course/blob/main/notebook/chapter3/Chapter3_Model.ipynb\" target=\"_parent\"><img src=\"https://colab.research.google.com/assets/colab-badge.svg\" alt=\"Open In Colab\"/></a>"
      ]
    },
    {
      "cell_type": "markdown",
      "metadata": {
        "id": "eN-rk-DCxDg6"
      },
      "source": [
        "# Part Model"
      ]
    },
    {
      "cell_type": "code",
      "metadata": {
        "id": "2Dyj2q-lxDg7"
      },
      "source": [
        "import pandas as pd\n",
        "import numpy as np\n",
        "import matplotlib.pyplot as plt\n",
        "import seaborn as sns\n",
        "from sklearn import preprocessing"
      ],
      "execution_count": null,
      "outputs": []
    },
    {
      "cell_type": "code",
      "metadata": {
        "id": "-87s0xTMrvkF",
        "colab": {
          "base_uri": "https://localhost:8080/"
        },
        "outputId": "e75fb04d-2aeb-49ec-cee9-7145203bf5b7"
      },
      "source": [
        "from google.colab import drive\n",
        "drive.mount('/content/drive')"
      ],
      "execution_count": null,
      "outputs": [
        {
          "output_type": "stream",
          "name": "stdout",
          "text": [
            "Mounted at /content/drive\n"
          ]
        }
      ]
    },
    {
      "cell_type": "markdown",
      "metadata": {
        "id": "DvE7smyvxDg-"
      },
      "source": [
        "### Import Data"
      ]
    },
    {
      "cell_type": "code",
      "metadata": {
        "colab": {
          "base_uri": "https://localhost:8080/"
        },
        "id": "NifuzvVv22hX",
        "outputId": "b48069e5-cea5-46e9-8edd-fe66f26971ec"
      },
      "source": [
        "!gdown --id 1VNr0ywELbmU2JApGmL0PrAnrEh3VHcgW"
      ],
      "execution_count": null,
      "outputs": [
        {
          "output_type": "stream",
          "name": "stdout",
          "text": [
            "Downloading...\n",
            "From: https://drive.google.com/uc?id=1VNr0ywELbmU2JApGmL0PrAnrEh3VHcgW\n",
            "To: /content/PS_20174392719_1491204439457_log.csv\n",
            "100% 494M/494M [00:02<00:00, 180MB/s]\n"
          ]
        }
      ]
    },
    {
      "cell_type": "code",
      "metadata": {
        "id": "kCO-osDMs28s"
      },
      "source": [
        "dataPath = '/content/PS_20174392719_1491204439457_log.csv'"
      ],
      "execution_count": null,
      "outputs": []
    },
    {
      "cell_type": "code",
      "metadata": {
        "id": "QBSJR3LCxDg_"
      },
      "source": [
        "df_test = pd.read_csv(dataPath, nrows=10)\n",
        "\n",
        "float_cols = [c for c in df_test if df_test[c].dtype == \"float64\"]\n",
        "float32_cols = {c: np.float32 for c in float_cols}"
      ],
      "execution_count": null,
      "outputs": []
    },
    {
      "cell_type": "code",
      "metadata": {
        "colab": {
          "base_uri": "https://localhost:8080/",
          "height": 363
        },
        "id": "y5XS0ZIXy3Vl",
        "outputId": "74924ece-4565-4780-d693-a50533262cdc"
      },
      "source": [
        "df_test"
      ],
      "execution_count": null,
      "outputs": [
        {
          "output_type": "execute_result",
          "data": {
            "text/html": [
              "<div>\n",
              "<style scoped>\n",
              "    .dataframe tbody tr th:only-of-type {\n",
              "        vertical-align: middle;\n",
              "    }\n",
              "\n",
              "    .dataframe tbody tr th {\n",
              "        vertical-align: top;\n",
              "    }\n",
              "\n",
              "    .dataframe thead th {\n",
              "        text-align: right;\n",
              "    }\n",
              "</style>\n",
              "<table border=\"1\" class=\"dataframe\">\n",
              "  <thead>\n",
              "    <tr style=\"text-align: right;\">\n",
              "      <th></th>\n",
              "      <th>step</th>\n",
              "      <th>type</th>\n",
              "      <th>amount</th>\n",
              "      <th>nameOrig</th>\n",
              "      <th>oldbalanceOrg</th>\n",
              "      <th>newbalanceOrig</th>\n",
              "      <th>nameDest</th>\n",
              "      <th>oldbalanceDest</th>\n",
              "      <th>newbalanceDest</th>\n",
              "      <th>isFraud</th>\n",
              "      <th>isFlaggedFraud</th>\n",
              "    </tr>\n",
              "  </thead>\n",
              "  <tbody>\n",
              "    <tr>\n",
              "      <th>0</th>\n",
              "      <td>1</td>\n",
              "      <td>PAYMENT</td>\n",
              "      <td>9839.64</td>\n",
              "      <td>C1231006815</td>\n",
              "      <td>170136.00</td>\n",
              "      <td>160296.36</td>\n",
              "      <td>M1979787155</td>\n",
              "      <td>0.0</td>\n",
              "      <td>0.00</td>\n",
              "      <td>0</td>\n",
              "      <td>0</td>\n",
              "    </tr>\n",
              "    <tr>\n",
              "      <th>1</th>\n",
              "      <td>1</td>\n",
              "      <td>PAYMENT</td>\n",
              "      <td>1864.28</td>\n",
              "      <td>C1666544295</td>\n",
              "      <td>21249.00</td>\n",
              "      <td>19384.72</td>\n",
              "      <td>M2044282225</td>\n",
              "      <td>0.0</td>\n",
              "      <td>0.00</td>\n",
              "      <td>0</td>\n",
              "      <td>0</td>\n",
              "    </tr>\n",
              "    <tr>\n",
              "      <th>2</th>\n",
              "      <td>1</td>\n",
              "      <td>TRANSFER</td>\n",
              "      <td>181.00</td>\n",
              "      <td>C1305486145</td>\n",
              "      <td>181.00</td>\n",
              "      <td>0.00</td>\n",
              "      <td>C553264065</td>\n",
              "      <td>0.0</td>\n",
              "      <td>0.00</td>\n",
              "      <td>1</td>\n",
              "      <td>0</td>\n",
              "    </tr>\n",
              "    <tr>\n",
              "      <th>3</th>\n",
              "      <td>1</td>\n",
              "      <td>CASH_OUT</td>\n",
              "      <td>181.00</td>\n",
              "      <td>C840083671</td>\n",
              "      <td>181.00</td>\n",
              "      <td>0.00</td>\n",
              "      <td>C38997010</td>\n",
              "      <td>21182.0</td>\n",
              "      <td>0.00</td>\n",
              "      <td>1</td>\n",
              "      <td>0</td>\n",
              "    </tr>\n",
              "    <tr>\n",
              "      <th>4</th>\n",
              "      <td>1</td>\n",
              "      <td>PAYMENT</td>\n",
              "      <td>11668.14</td>\n",
              "      <td>C2048537720</td>\n",
              "      <td>41554.00</td>\n",
              "      <td>29885.86</td>\n",
              "      <td>M1230701703</td>\n",
              "      <td>0.0</td>\n",
              "      <td>0.00</td>\n",
              "      <td>0</td>\n",
              "      <td>0</td>\n",
              "    </tr>\n",
              "    <tr>\n",
              "      <th>5</th>\n",
              "      <td>1</td>\n",
              "      <td>PAYMENT</td>\n",
              "      <td>7817.71</td>\n",
              "      <td>C90045638</td>\n",
              "      <td>53860.00</td>\n",
              "      <td>46042.29</td>\n",
              "      <td>M573487274</td>\n",
              "      <td>0.0</td>\n",
              "      <td>0.00</td>\n",
              "      <td>0</td>\n",
              "      <td>0</td>\n",
              "    </tr>\n",
              "    <tr>\n",
              "      <th>6</th>\n",
              "      <td>1</td>\n",
              "      <td>PAYMENT</td>\n",
              "      <td>7107.77</td>\n",
              "      <td>C154988899</td>\n",
              "      <td>183195.00</td>\n",
              "      <td>176087.23</td>\n",
              "      <td>M408069119</td>\n",
              "      <td>0.0</td>\n",
              "      <td>0.00</td>\n",
              "      <td>0</td>\n",
              "      <td>0</td>\n",
              "    </tr>\n",
              "    <tr>\n",
              "      <th>7</th>\n",
              "      <td>1</td>\n",
              "      <td>PAYMENT</td>\n",
              "      <td>7861.64</td>\n",
              "      <td>C1912850431</td>\n",
              "      <td>176087.23</td>\n",
              "      <td>168225.59</td>\n",
              "      <td>M633326333</td>\n",
              "      <td>0.0</td>\n",
              "      <td>0.00</td>\n",
              "      <td>0</td>\n",
              "      <td>0</td>\n",
              "    </tr>\n",
              "    <tr>\n",
              "      <th>8</th>\n",
              "      <td>1</td>\n",
              "      <td>PAYMENT</td>\n",
              "      <td>4024.36</td>\n",
              "      <td>C1265012928</td>\n",
              "      <td>2671.00</td>\n",
              "      <td>0.00</td>\n",
              "      <td>M1176932104</td>\n",
              "      <td>0.0</td>\n",
              "      <td>0.00</td>\n",
              "      <td>0</td>\n",
              "      <td>0</td>\n",
              "    </tr>\n",
              "    <tr>\n",
              "      <th>9</th>\n",
              "      <td>1</td>\n",
              "      <td>DEBIT</td>\n",
              "      <td>5337.77</td>\n",
              "      <td>C712410124</td>\n",
              "      <td>41720.00</td>\n",
              "      <td>36382.23</td>\n",
              "      <td>C195600860</td>\n",
              "      <td>41898.0</td>\n",
              "      <td>40348.79</td>\n",
              "      <td>0</td>\n",
              "      <td>0</td>\n",
              "    </tr>\n",
              "  </tbody>\n",
              "</table>\n",
              "</div>"
            ],
            "text/plain": [
              "   step      type    amount  ... newbalanceDest  isFraud  isFlaggedFraud\n",
              "0     1   PAYMENT   9839.64  ...           0.00        0               0\n",
              "1     1   PAYMENT   1864.28  ...           0.00        0               0\n",
              "2     1  TRANSFER    181.00  ...           0.00        1               0\n",
              "3     1  CASH_OUT    181.00  ...           0.00        1               0\n",
              "4     1   PAYMENT  11668.14  ...           0.00        0               0\n",
              "5     1   PAYMENT   7817.71  ...           0.00        0               0\n",
              "6     1   PAYMENT   7107.77  ...           0.00        0               0\n",
              "7     1   PAYMENT   7861.64  ...           0.00        0               0\n",
              "8     1   PAYMENT   4024.36  ...           0.00        0               0\n",
              "9     1     DEBIT   5337.77  ...       40348.79        0               0\n",
              "\n",
              "[10 rows x 11 columns]"
            ]
          },
          "metadata": {},
          "execution_count": 6
        }
      ]
    },
    {
      "cell_type": "code",
      "metadata": {
        "id": "CVvQH5y5xDhB",
        "colab": {
          "base_uri": "https://localhost:8080/",
          "height": 424
        },
        "outputId": "690a5155-78f7-4854-87a4-415fadb705c4"
      },
      "source": [
        "data = pd.read_csv(dataPath, engine='c', dtype=float32_cols)\n",
        "data"
      ],
      "execution_count": null,
      "outputs": [
        {
          "output_type": "execute_result",
          "data": {
            "text/html": [
              "<div>\n",
              "<style scoped>\n",
              "    .dataframe tbody tr th:only-of-type {\n",
              "        vertical-align: middle;\n",
              "    }\n",
              "\n",
              "    .dataframe tbody tr th {\n",
              "        vertical-align: top;\n",
              "    }\n",
              "\n",
              "    .dataframe thead th {\n",
              "        text-align: right;\n",
              "    }\n",
              "</style>\n",
              "<table border=\"1\" class=\"dataframe\">\n",
              "  <thead>\n",
              "    <tr style=\"text-align: right;\">\n",
              "      <th></th>\n",
              "      <th>step</th>\n",
              "      <th>type</th>\n",
              "      <th>amount</th>\n",
              "      <th>nameOrig</th>\n",
              "      <th>oldbalanceOrg</th>\n",
              "      <th>newbalanceOrig</th>\n",
              "      <th>nameDest</th>\n",
              "      <th>oldbalanceDest</th>\n",
              "      <th>newbalanceDest</th>\n",
              "      <th>isFraud</th>\n",
              "      <th>isFlaggedFraud</th>\n",
              "    </tr>\n",
              "  </thead>\n",
              "  <tbody>\n",
              "    <tr>\n",
              "      <th>0</th>\n",
              "      <td>1</td>\n",
              "      <td>PAYMENT</td>\n",
              "      <td>9.839640e+03</td>\n",
              "      <td>C1231006815</td>\n",
              "      <td>170136.000</td>\n",
              "      <td>160296.359375</td>\n",
              "      <td>M1979787155</td>\n",
              "      <td>0.000000e+00</td>\n",
              "      <td>0.000</td>\n",
              "      <td>0</td>\n",
              "      <td>0</td>\n",
              "    </tr>\n",
              "    <tr>\n",
              "      <th>1</th>\n",
              "      <td>1</td>\n",
              "      <td>PAYMENT</td>\n",
              "      <td>1.864280e+03</td>\n",
              "      <td>C1666544295</td>\n",
              "      <td>21249.000</td>\n",
              "      <td>19384.720703</td>\n",
              "      <td>M2044282225</td>\n",
              "      <td>0.000000e+00</td>\n",
              "      <td>0.000</td>\n",
              "      <td>0</td>\n",
              "      <td>0</td>\n",
              "    </tr>\n",
              "    <tr>\n",
              "      <th>2</th>\n",
              "      <td>1</td>\n",
              "      <td>TRANSFER</td>\n",
              "      <td>1.810000e+02</td>\n",
              "      <td>C1305486145</td>\n",
              "      <td>181.000</td>\n",
              "      <td>0.000000</td>\n",
              "      <td>C553264065</td>\n",
              "      <td>0.000000e+00</td>\n",
              "      <td>0.000</td>\n",
              "      <td>1</td>\n",
              "      <td>0</td>\n",
              "    </tr>\n",
              "    <tr>\n",
              "      <th>3</th>\n",
              "      <td>1</td>\n",
              "      <td>CASH_OUT</td>\n",
              "      <td>1.810000e+02</td>\n",
              "      <td>C840083671</td>\n",
              "      <td>181.000</td>\n",
              "      <td>0.000000</td>\n",
              "      <td>C38997010</td>\n",
              "      <td>2.118200e+04</td>\n",
              "      <td>0.000</td>\n",
              "      <td>1</td>\n",
              "      <td>0</td>\n",
              "    </tr>\n",
              "    <tr>\n",
              "      <th>4</th>\n",
              "      <td>1</td>\n",
              "      <td>PAYMENT</td>\n",
              "      <td>1.166814e+04</td>\n",
              "      <td>C2048537720</td>\n",
              "      <td>41554.000</td>\n",
              "      <td>29885.859375</td>\n",
              "      <td>M1230701703</td>\n",
              "      <td>0.000000e+00</td>\n",
              "      <td>0.000</td>\n",
              "      <td>0</td>\n",
              "      <td>0</td>\n",
              "    </tr>\n",
              "    <tr>\n",
              "      <th>...</th>\n",
              "      <td>...</td>\n",
              "      <td>...</td>\n",
              "      <td>...</td>\n",
              "      <td>...</td>\n",
              "      <td>...</td>\n",
              "      <td>...</td>\n",
              "      <td>...</td>\n",
              "      <td>...</td>\n",
              "      <td>...</td>\n",
              "      <td>...</td>\n",
              "      <td>...</td>\n",
              "    </tr>\n",
              "    <tr>\n",
              "      <th>6362615</th>\n",
              "      <td>743</td>\n",
              "      <td>CASH_OUT</td>\n",
              "      <td>3.396821e+05</td>\n",
              "      <td>C786484425</td>\n",
              "      <td>339682.125</td>\n",
              "      <td>0.000000</td>\n",
              "      <td>C776919290</td>\n",
              "      <td>0.000000e+00</td>\n",
              "      <td>339682.125</td>\n",
              "      <td>1</td>\n",
              "      <td>0</td>\n",
              "    </tr>\n",
              "    <tr>\n",
              "      <th>6362616</th>\n",
              "      <td>743</td>\n",
              "      <td>TRANSFER</td>\n",
              "      <td>6.311410e+06</td>\n",
              "      <td>C1529008245</td>\n",
              "      <td>6311409.500</td>\n",
              "      <td>0.000000</td>\n",
              "      <td>C1881841831</td>\n",
              "      <td>0.000000e+00</td>\n",
              "      <td>0.000</td>\n",
              "      <td>1</td>\n",
              "      <td>0</td>\n",
              "    </tr>\n",
              "    <tr>\n",
              "      <th>6362617</th>\n",
              "      <td>743</td>\n",
              "      <td>CASH_OUT</td>\n",
              "      <td>6.311410e+06</td>\n",
              "      <td>C1162922333</td>\n",
              "      <td>6311409.500</td>\n",
              "      <td>0.000000</td>\n",
              "      <td>C1365125890</td>\n",
              "      <td>6.848884e+04</td>\n",
              "      <td>6379898.000</td>\n",
              "      <td>1</td>\n",
              "      <td>0</td>\n",
              "    </tr>\n",
              "    <tr>\n",
              "      <th>6362618</th>\n",
              "      <td>743</td>\n",
              "      <td>TRANSFER</td>\n",
              "      <td>8.500025e+05</td>\n",
              "      <td>C1685995037</td>\n",
              "      <td>850002.500</td>\n",
              "      <td>0.000000</td>\n",
              "      <td>C2080388513</td>\n",
              "      <td>0.000000e+00</td>\n",
              "      <td>0.000</td>\n",
              "      <td>1</td>\n",
              "      <td>0</td>\n",
              "    </tr>\n",
              "    <tr>\n",
              "      <th>6362619</th>\n",
              "      <td>743</td>\n",
              "      <td>CASH_OUT</td>\n",
              "      <td>8.500025e+05</td>\n",
              "      <td>C1280323807</td>\n",
              "      <td>850002.500</td>\n",
              "      <td>0.000000</td>\n",
              "      <td>C873221189</td>\n",
              "      <td>6.510099e+06</td>\n",
              "      <td>7360101.500</td>\n",
              "      <td>1</td>\n",
              "      <td>0</td>\n",
              "    </tr>\n",
              "  </tbody>\n",
              "</table>\n",
              "<p>6362620 rows × 11 columns</p>\n",
              "</div>"
            ],
            "text/plain": [
              "         step      type        amount  ... newbalanceDest  isFraud  isFlaggedFraud\n",
              "0           1   PAYMENT  9.839640e+03  ...          0.000        0               0\n",
              "1           1   PAYMENT  1.864280e+03  ...          0.000        0               0\n",
              "2           1  TRANSFER  1.810000e+02  ...          0.000        1               0\n",
              "3           1  CASH_OUT  1.810000e+02  ...          0.000        1               0\n",
              "4           1   PAYMENT  1.166814e+04  ...          0.000        0               0\n",
              "...       ...       ...           ...  ...            ...      ...             ...\n",
              "6362615   743  CASH_OUT  3.396821e+05  ...     339682.125        1               0\n",
              "6362616   743  TRANSFER  6.311410e+06  ...          0.000        1               0\n",
              "6362617   743  CASH_OUT  6.311410e+06  ...    6379898.000        1               0\n",
              "6362618   743  TRANSFER  8.500025e+05  ...          0.000        1               0\n",
              "6362619   743  CASH_OUT  8.500025e+05  ...    7360101.500        1               0\n",
              "\n",
              "[6362620 rows x 11 columns]"
            ]
          },
          "metadata": {},
          "execution_count": 7
        }
      ]
    },
    {
      "cell_type": "markdown",
      "metadata": {
        "id": "rAKN2_KtxDhE"
      },
      "source": [
        "### Preprocessing"
      ]
    },
    {
      "cell_type": "code",
      "metadata": {
        "id": "p9bOkFG7xDhF",
        "colab": {
          "base_uri": "https://localhost:8080/"
        },
        "outputId": "60b23f04-5e1a-4444-b637-b1b1d4a2ddb3"
      },
      "source": [
        "# cleaning data \n",
        "# checking null values\n",
        "\n",
        "data.isnull().values.any()"
      ],
      "execution_count": null,
      "outputs": [
        {
          "output_type": "execute_result",
          "data": {
            "text/plain": [
              "False"
            ]
          },
          "metadata": {},
          "execution_count": 8
        }
      ]
    },
    {
      "cell_type": "code",
      "metadata": {
        "id": "7yluZOBTxDhI"
      },
      "source": [
        "# feature selection\n",
        "data = data.drop(['nameOrig','nameDest'],axis = 1)"
      ],
      "execution_count": null,
      "outputs": []
    },
    {
      "cell_type": "code",
      "metadata": {
        "id": "ouhRuPhHxDhK",
        "colab": {
          "base_uri": "https://localhost:8080/",
          "height": 424
        },
        "outputId": "02876993-f578-4bc3-a20c-3ad6a9a1845d"
      },
      "source": [
        "# feature engineering\n",
        "\n",
        "dummy_type = pd.get_dummies(data['type'])\n",
        "dummy_type"
      ],
      "execution_count": null,
      "outputs": [
        {
          "output_type": "execute_result",
          "data": {
            "text/html": [
              "<div>\n",
              "<style scoped>\n",
              "    .dataframe tbody tr th:only-of-type {\n",
              "        vertical-align: middle;\n",
              "    }\n",
              "\n",
              "    .dataframe tbody tr th {\n",
              "        vertical-align: top;\n",
              "    }\n",
              "\n",
              "    .dataframe thead th {\n",
              "        text-align: right;\n",
              "    }\n",
              "</style>\n",
              "<table border=\"1\" class=\"dataframe\">\n",
              "  <thead>\n",
              "    <tr style=\"text-align: right;\">\n",
              "      <th></th>\n",
              "      <th>CASH_IN</th>\n",
              "      <th>CASH_OUT</th>\n",
              "      <th>DEBIT</th>\n",
              "      <th>PAYMENT</th>\n",
              "      <th>TRANSFER</th>\n",
              "    </tr>\n",
              "  </thead>\n",
              "  <tbody>\n",
              "    <tr>\n",
              "      <th>0</th>\n",
              "      <td>0</td>\n",
              "      <td>0</td>\n",
              "      <td>0</td>\n",
              "      <td>1</td>\n",
              "      <td>0</td>\n",
              "    </tr>\n",
              "    <tr>\n",
              "      <th>1</th>\n",
              "      <td>0</td>\n",
              "      <td>0</td>\n",
              "      <td>0</td>\n",
              "      <td>1</td>\n",
              "      <td>0</td>\n",
              "    </tr>\n",
              "    <tr>\n",
              "      <th>2</th>\n",
              "      <td>0</td>\n",
              "      <td>0</td>\n",
              "      <td>0</td>\n",
              "      <td>0</td>\n",
              "      <td>1</td>\n",
              "    </tr>\n",
              "    <tr>\n",
              "      <th>3</th>\n",
              "      <td>0</td>\n",
              "      <td>1</td>\n",
              "      <td>0</td>\n",
              "      <td>0</td>\n",
              "      <td>0</td>\n",
              "    </tr>\n",
              "    <tr>\n",
              "      <th>4</th>\n",
              "      <td>0</td>\n",
              "      <td>0</td>\n",
              "      <td>0</td>\n",
              "      <td>1</td>\n",
              "      <td>0</td>\n",
              "    </tr>\n",
              "    <tr>\n",
              "      <th>...</th>\n",
              "      <td>...</td>\n",
              "      <td>...</td>\n",
              "      <td>...</td>\n",
              "      <td>...</td>\n",
              "      <td>...</td>\n",
              "    </tr>\n",
              "    <tr>\n",
              "      <th>6362615</th>\n",
              "      <td>0</td>\n",
              "      <td>1</td>\n",
              "      <td>0</td>\n",
              "      <td>0</td>\n",
              "      <td>0</td>\n",
              "    </tr>\n",
              "    <tr>\n",
              "      <th>6362616</th>\n",
              "      <td>0</td>\n",
              "      <td>0</td>\n",
              "      <td>0</td>\n",
              "      <td>0</td>\n",
              "      <td>1</td>\n",
              "    </tr>\n",
              "    <tr>\n",
              "      <th>6362617</th>\n",
              "      <td>0</td>\n",
              "      <td>1</td>\n",
              "      <td>0</td>\n",
              "      <td>0</td>\n",
              "      <td>0</td>\n",
              "    </tr>\n",
              "    <tr>\n",
              "      <th>6362618</th>\n",
              "      <td>0</td>\n",
              "      <td>0</td>\n",
              "      <td>0</td>\n",
              "      <td>0</td>\n",
              "      <td>1</td>\n",
              "    </tr>\n",
              "    <tr>\n",
              "      <th>6362619</th>\n",
              "      <td>0</td>\n",
              "      <td>1</td>\n",
              "      <td>0</td>\n",
              "      <td>0</td>\n",
              "      <td>0</td>\n",
              "    </tr>\n",
              "  </tbody>\n",
              "</table>\n",
              "<p>6362620 rows × 5 columns</p>\n",
              "</div>"
            ],
            "text/plain": [
              "         CASH_IN  CASH_OUT  DEBIT  PAYMENT  TRANSFER\n",
              "0              0         0      0        1         0\n",
              "1              0         0      0        1         0\n",
              "2              0         0      0        0         1\n",
              "3              0         1      0        0         0\n",
              "4              0         0      0        1         0\n",
              "...          ...       ...    ...      ...       ...\n",
              "6362615        0         1      0        0         0\n",
              "6362616        0         0      0        0         1\n",
              "6362617        0         1      0        0         0\n",
              "6362618        0         0      0        0         1\n",
              "6362619        0         1      0        0         0\n",
              "\n",
              "[6362620 rows x 5 columns]"
            ]
          },
          "metadata": {},
          "execution_count": 10
        }
      ]
    },
    {
      "cell_type": "code",
      "metadata": {
        "id": "WhRROC_0xDhN",
        "colab": {
          "base_uri": "https://localhost:8080/",
          "height": 424
        },
        "outputId": "6fff1c27-e61e-40c4-ee73-3ab08649231d"
      },
      "source": [
        "data = (pd.concat([data,dummy_type], axis = 1).reset_index(drop = True)).drop(['type'],axis = 1)[['step','CASH_IN','CASH_OUT','DEBIT','PAYMENT','TRANSFER','amount','oldbalanceOrg','newbalanceOrig','oldbalanceDest','newbalanceDest','isFlaggedFraud','isFraud']]\n",
        "data"
      ],
      "execution_count": null,
      "outputs": [
        {
          "output_type": "execute_result",
          "data": {
            "text/html": [
              "<div>\n",
              "<style scoped>\n",
              "    .dataframe tbody tr th:only-of-type {\n",
              "        vertical-align: middle;\n",
              "    }\n",
              "\n",
              "    .dataframe tbody tr th {\n",
              "        vertical-align: top;\n",
              "    }\n",
              "\n",
              "    .dataframe thead th {\n",
              "        text-align: right;\n",
              "    }\n",
              "</style>\n",
              "<table border=\"1\" class=\"dataframe\">\n",
              "  <thead>\n",
              "    <tr style=\"text-align: right;\">\n",
              "      <th></th>\n",
              "      <th>step</th>\n",
              "      <th>CASH_IN</th>\n",
              "      <th>CASH_OUT</th>\n",
              "      <th>DEBIT</th>\n",
              "      <th>PAYMENT</th>\n",
              "      <th>TRANSFER</th>\n",
              "      <th>amount</th>\n",
              "      <th>oldbalanceOrg</th>\n",
              "      <th>newbalanceOrig</th>\n",
              "      <th>oldbalanceDest</th>\n",
              "      <th>newbalanceDest</th>\n",
              "      <th>isFlaggedFraud</th>\n",
              "      <th>isFraud</th>\n",
              "    </tr>\n",
              "  </thead>\n",
              "  <tbody>\n",
              "    <tr>\n",
              "      <th>0</th>\n",
              "      <td>1</td>\n",
              "      <td>0</td>\n",
              "      <td>0</td>\n",
              "      <td>0</td>\n",
              "      <td>1</td>\n",
              "      <td>0</td>\n",
              "      <td>9.839640e+03</td>\n",
              "      <td>170136.000</td>\n",
              "      <td>160296.359375</td>\n",
              "      <td>0.000000e+00</td>\n",
              "      <td>0.000</td>\n",
              "      <td>0</td>\n",
              "      <td>0</td>\n",
              "    </tr>\n",
              "    <tr>\n",
              "      <th>1</th>\n",
              "      <td>1</td>\n",
              "      <td>0</td>\n",
              "      <td>0</td>\n",
              "      <td>0</td>\n",
              "      <td>1</td>\n",
              "      <td>0</td>\n",
              "      <td>1.864280e+03</td>\n",
              "      <td>21249.000</td>\n",
              "      <td>19384.720703</td>\n",
              "      <td>0.000000e+00</td>\n",
              "      <td>0.000</td>\n",
              "      <td>0</td>\n",
              "      <td>0</td>\n",
              "    </tr>\n",
              "    <tr>\n",
              "      <th>2</th>\n",
              "      <td>1</td>\n",
              "      <td>0</td>\n",
              "      <td>0</td>\n",
              "      <td>0</td>\n",
              "      <td>0</td>\n",
              "      <td>1</td>\n",
              "      <td>1.810000e+02</td>\n",
              "      <td>181.000</td>\n",
              "      <td>0.000000</td>\n",
              "      <td>0.000000e+00</td>\n",
              "      <td>0.000</td>\n",
              "      <td>0</td>\n",
              "      <td>1</td>\n",
              "    </tr>\n",
              "    <tr>\n",
              "      <th>3</th>\n",
              "      <td>1</td>\n",
              "      <td>0</td>\n",
              "      <td>1</td>\n",
              "      <td>0</td>\n",
              "      <td>0</td>\n",
              "      <td>0</td>\n",
              "      <td>1.810000e+02</td>\n",
              "      <td>181.000</td>\n",
              "      <td>0.000000</td>\n",
              "      <td>2.118200e+04</td>\n",
              "      <td>0.000</td>\n",
              "      <td>0</td>\n",
              "      <td>1</td>\n",
              "    </tr>\n",
              "    <tr>\n",
              "      <th>4</th>\n",
              "      <td>1</td>\n",
              "      <td>0</td>\n",
              "      <td>0</td>\n",
              "      <td>0</td>\n",
              "      <td>1</td>\n",
              "      <td>0</td>\n",
              "      <td>1.166814e+04</td>\n",
              "      <td>41554.000</td>\n",
              "      <td>29885.859375</td>\n",
              "      <td>0.000000e+00</td>\n",
              "      <td>0.000</td>\n",
              "      <td>0</td>\n",
              "      <td>0</td>\n",
              "    </tr>\n",
              "    <tr>\n",
              "      <th>...</th>\n",
              "      <td>...</td>\n",
              "      <td>...</td>\n",
              "      <td>...</td>\n",
              "      <td>...</td>\n",
              "      <td>...</td>\n",
              "      <td>...</td>\n",
              "      <td>...</td>\n",
              "      <td>...</td>\n",
              "      <td>...</td>\n",
              "      <td>...</td>\n",
              "      <td>...</td>\n",
              "      <td>...</td>\n",
              "      <td>...</td>\n",
              "    </tr>\n",
              "    <tr>\n",
              "      <th>6362615</th>\n",
              "      <td>743</td>\n",
              "      <td>0</td>\n",
              "      <td>1</td>\n",
              "      <td>0</td>\n",
              "      <td>0</td>\n",
              "      <td>0</td>\n",
              "      <td>3.396821e+05</td>\n",
              "      <td>339682.125</td>\n",
              "      <td>0.000000</td>\n",
              "      <td>0.000000e+00</td>\n",
              "      <td>339682.125</td>\n",
              "      <td>0</td>\n",
              "      <td>1</td>\n",
              "    </tr>\n",
              "    <tr>\n",
              "      <th>6362616</th>\n",
              "      <td>743</td>\n",
              "      <td>0</td>\n",
              "      <td>0</td>\n",
              "      <td>0</td>\n",
              "      <td>0</td>\n",
              "      <td>1</td>\n",
              "      <td>6.311410e+06</td>\n",
              "      <td>6311409.500</td>\n",
              "      <td>0.000000</td>\n",
              "      <td>0.000000e+00</td>\n",
              "      <td>0.000</td>\n",
              "      <td>0</td>\n",
              "      <td>1</td>\n",
              "    </tr>\n",
              "    <tr>\n",
              "      <th>6362617</th>\n",
              "      <td>743</td>\n",
              "      <td>0</td>\n",
              "      <td>1</td>\n",
              "      <td>0</td>\n",
              "      <td>0</td>\n",
              "      <td>0</td>\n",
              "      <td>6.311410e+06</td>\n",
              "      <td>6311409.500</td>\n",
              "      <td>0.000000</td>\n",
              "      <td>6.848884e+04</td>\n",
              "      <td>6379898.000</td>\n",
              "      <td>0</td>\n",
              "      <td>1</td>\n",
              "    </tr>\n",
              "    <tr>\n",
              "      <th>6362618</th>\n",
              "      <td>743</td>\n",
              "      <td>0</td>\n",
              "      <td>0</td>\n",
              "      <td>0</td>\n",
              "      <td>0</td>\n",
              "      <td>1</td>\n",
              "      <td>8.500025e+05</td>\n",
              "      <td>850002.500</td>\n",
              "      <td>0.000000</td>\n",
              "      <td>0.000000e+00</td>\n",
              "      <td>0.000</td>\n",
              "      <td>0</td>\n",
              "      <td>1</td>\n",
              "    </tr>\n",
              "    <tr>\n",
              "      <th>6362619</th>\n",
              "      <td>743</td>\n",
              "      <td>0</td>\n",
              "      <td>1</td>\n",
              "      <td>0</td>\n",
              "      <td>0</td>\n",
              "      <td>0</td>\n",
              "      <td>8.500025e+05</td>\n",
              "      <td>850002.500</td>\n",
              "      <td>0.000000</td>\n",
              "      <td>6.510099e+06</td>\n",
              "      <td>7360101.500</td>\n",
              "      <td>0</td>\n",
              "      <td>1</td>\n",
              "    </tr>\n",
              "  </tbody>\n",
              "</table>\n",
              "<p>6362620 rows × 13 columns</p>\n",
              "</div>"
            ],
            "text/plain": [
              "         step  CASH_IN  CASH_OUT  ...  newbalanceDest  isFlaggedFraud  isFraud\n",
              "0           1        0         0  ...           0.000               0        0\n",
              "1           1        0         0  ...           0.000               0        0\n",
              "2           1        0         0  ...           0.000               0        1\n",
              "3           1        0         1  ...           0.000               0        1\n",
              "4           1        0         0  ...           0.000               0        0\n",
              "...       ...      ...       ...  ...             ...             ...      ...\n",
              "6362615   743        0         1  ...      339682.125               0        1\n",
              "6362616   743        0         0  ...           0.000               0        1\n",
              "6362617   743        0         1  ...     6379898.000               0        1\n",
              "6362618   743        0         0  ...           0.000               0        1\n",
              "6362619   743        0         1  ...     7360101.500               0        1\n",
              "\n",
              "[6362620 rows x 13 columns]"
            ]
          },
          "metadata": {},
          "execution_count": 11
        }
      ]
    },
    {
      "cell_type": "code",
      "metadata": {
        "id": "SBF_LAN2-d9W",
        "colab": {
          "base_uri": "https://localhost:8080/",
          "height": 424
        },
        "outputId": "d94dad22-bc64-4cf9-c809-0045d791c363"
      },
      "source": [
        "data['errorBalanceOrig'] = abs(data['newbalanceOrig'] - data['oldbalanceOrg']) - data['amount'] \n",
        "data['errorBalanceDest'] = abs(data['oldbalanceDest'] - data['newbalanceDest']) - data['amount'] \n",
        "data"
      ],
      "execution_count": null,
      "outputs": [
        {
          "output_type": "execute_result",
          "data": {
            "text/html": [
              "<div>\n",
              "<style scoped>\n",
              "    .dataframe tbody tr th:only-of-type {\n",
              "        vertical-align: middle;\n",
              "    }\n",
              "\n",
              "    .dataframe tbody tr th {\n",
              "        vertical-align: top;\n",
              "    }\n",
              "\n",
              "    .dataframe thead th {\n",
              "        text-align: right;\n",
              "    }\n",
              "</style>\n",
              "<table border=\"1\" class=\"dataframe\">\n",
              "  <thead>\n",
              "    <tr style=\"text-align: right;\">\n",
              "      <th></th>\n",
              "      <th>step</th>\n",
              "      <th>CASH_IN</th>\n",
              "      <th>CASH_OUT</th>\n",
              "      <th>DEBIT</th>\n",
              "      <th>PAYMENT</th>\n",
              "      <th>TRANSFER</th>\n",
              "      <th>amount</th>\n",
              "      <th>oldbalanceOrg</th>\n",
              "      <th>newbalanceOrig</th>\n",
              "      <th>oldbalanceDest</th>\n",
              "      <th>newbalanceDest</th>\n",
              "      <th>isFlaggedFraud</th>\n",
              "      <th>isFraud</th>\n",
              "      <th>errorBalanceOrig</th>\n",
              "      <th>errorBalanceDest</th>\n",
              "    </tr>\n",
              "  </thead>\n",
              "  <tbody>\n",
              "    <tr>\n",
              "      <th>0</th>\n",
              "      <td>1</td>\n",
              "      <td>0</td>\n",
              "      <td>0</td>\n",
              "      <td>0</td>\n",
              "      <td>1</td>\n",
              "      <td>0</td>\n",
              "      <td>9.839640e+03</td>\n",
              "      <td>170136.000</td>\n",
              "      <td>160296.359375</td>\n",
              "      <td>0.000000e+00</td>\n",
              "      <td>0.000</td>\n",
              "      <td>0</td>\n",
              "      <td>0</td>\n",
              "      <td>0.000977</td>\n",
              "      <td>-9.839640e+03</td>\n",
              "    </tr>\n",
              "    <tr>\n",
              "      <th>1</th>\n",
              "      <td>1</td>\n",
              "      <td>0</td>\n",
              "      <td>0</td>\n",
              "      <td>0</td>\n",
              "      <td>1</td>\n",
              "      <td>0</td>\n",
              "      <td>1.864280e+03</td>\n",
              "      <td>21249.000</td>\n",
              "      <td>19384.720703</td>\n",
              "      <td>0.000000e+00</td>\n",
              "      <td>0.000</td>\n",
              "      <td>0</td>\n",
              "      <td>0</td>\n",
              "      <td>-0.000732</td>\n",
              "      <td>-1.864280e+03</td>\n",
              "    </tr>\n",
              "    <tr>\n",
              "      <th>2</th>\n",
              "      <td>1</td>\n",
              "      <td>0</td>\n",
              "      <td>0</td>\n",
              "      <td>0</td>\n",
              "      <td>0</td>\n",
              "      <td>1</td>\n",
              "      <td>1.810000e+02</td>\n",
              "      <td>181.000</td>\n",
              "      <td>0.000000</td>\n",
              "      <td>0.000000e+00</td>\n",
              "      <td>0.000</td>\n",
              "      <td>0</td>\n",
              "      <td>1</td>\n",
              "      <td>0.000000</td>\n",
              "      <td>-1.810000e+02</td>\n",
              "    </tr>\n",
              "    <tr>\n",
              "      <th>3</th>\n",
              "      <td>1</td>\n",
              "      <td>0</td>\n",
              "      <td>1</td>\n",
              "      <td>0</td>\n",
              "      <td>0</td>\n",
              "      <td>0</td>\n",
              "      <td>1.810000e+02</td>\n",
              "      <td>181.000</td>\n",
              "      <td>0.000000</td>\n",
              "      <td>2.118200e+04</td>\n",
              "      <td>0.000</td>\n",
              "      <td>0</td>\n",
              "      <td>1</td>\n",
              "      <td>0.000000</td>\n",
              "      <td>2.100100e+04</td>\n",
              "    </tr>\n",
              "    <tr>\n",
              "      <th>4</th>\n",
              "      <td>1</td>\n",
              "      <td>0</td>\n",
              "      <td>0</td>\n",
              "      <td>0</td>\n",
              "      <td>1</td>\n",
              "      <td>0</td>\n",
              "      <td>1.166814e+04</td>\n",
              "      <td>41554.000</td>\n",
              "      <td>29885.859375</td>\n",
              "      <td>0.000000e+00</td>\n",
              "      <td>0.000</td>\n",
              "      <td>0</td>\n",
              "      <td>0</td>\n",
              "      <td>0.000977</td>\n",
              "      <td>-1.166814e+04</td>\n",
              "    </tr>\n",
              "    <tr>\n",
              "      <th>...</th>\n",
              "      <td>...</td>\n",
              "      <td>...</td>\n",
              "      <td>...</td>\n",
              "      <td>...</td>\n",
              "      <td>...</td>\n",
              "      <td>...</td>\n",
              "      <td>...</td>\n",
              "      <td>...</td>\n",
              "      <td>...</td>\n",
              "      <td>...</td>\n",
              "      <td>...</td>\n",
              "      <td>...</td>\n",
              "      <td>...</td>\n",
              "      <td>...</td>\n",
              "      <td>...</td>\n",
              "    </tr>\n",
              "    <tr>\n",
              "      <th>6362615</th>\n",
              "      <td>743</td>\n",
              "      <td>0</td>\n",
              "      <td>1</td>\n",
              "      <td>0</td>\n",
              "      <td>0</td>\n",
              "      <td>0</td>\n",
              "      <td>3.396821e+05</td>\n",
              "      <td>339682.125</td>\n",
              "      <td>0.000000</td>\n",
              "      <td>0.000000e+00</td>\n",
              "      <td>339682.125</td>\n",
              "      <td>0</td>\n",
              "      <td>1</td>\n",
              "      <td>0.000000</td>\n",
              "      <td>0.000000e+00</td>\n",
              "    </tr>\n",
              "    <tr>\n",
              "      <th>6362616</th>\n",
              "      <td>743</td>\n",
              "      <td>0</td>\n",
              "      <td>0</td>\n",
              "      <td>0</td>\n",
              "      <td>0</td>\n",
              "      <td>1</td>\n",
              "      <td>6.311410e+06</td>\n",
              "      <td>6311409.500</td>\n",
              "      <td>0.000000</td>\n",
              "      <td>0.000000e+00</td>\n",
              "      <td>0.000</td>\n",
              "      <td>0</td>\n",
              "      <td>1</td>\n",
              "      <td>0.000000</td>\n",
              "      <td>-6.311410e+06</td>\n",
              "    </tr>\n",
              "    <tr>\n",
              "      <th>6362617</th>\n",
              "      <td>743</td>\n",
              "      <td>0</td>\n",
              "      <td>1</td>\n",
              "      <td>0</td>\n",
              "      <td>0</td>\n",
              "      <td>0</td>\n",
              "      <td>6.311410e+06</td>\n",
              "      <td>6311409.500</td>\n",
              "      <td>0.000000</td>\n",
              "      <td>6.848884e+04</td>\n",
              "      <td>6379898.000</td>\n",
              "      <td>0</td>\n",
              "      <td>1</td>\n",
              "      <td>0.000000</td>\n",
              "      <td>-5.000000e-01</td>\n",
              "    </tr>\n",
              "    <tr>\n",
              "      <th>6362618</th>\n",
              "      <td>743</td>\n",
              "      <td>0</td>\n",
              "      <td>0</td>\n",
              "      <td>0</td>\n",
              "      <td>0</td>\n",
              "      <td>1</td>\n",
              "      <td>8.500025e+05</td>\n",
              "      <td>850002.500</td>\n",
              "      <td>0.000000</td>\n",
              "      <td>0.000000e+00</td>\n",
              "      <td>0.000</td>\n",
              "      <td>0</td>\n",
              "      <td>1</td>\n",
              "      <td>0.000000</td>\n",
              "      <td>-8.500025e+05</td>\n",
              "    </tr>\n",
              "    <tr>\n",
              "      <th>6362619</th>\n",
              "      <td>743</td>\n",
              "      <td>0</td>\n",
              "      <td>1</td>\n",
              "      <td>0</td>\n",
              "      <td>0</td>\n",
              "      <td>0</td>\n",
              "      <td>8.500025e+05</td>\n",
              "      <td>850002.500</td>\n",
              "      <td>0.000000</td>\n",
              "      <td>6.510099e+06</td>\n",
              "      <td>7360101.500</td>\n",
              "      <td>0</td>\n",
              "      <td>1</td>\n",
              "      <td>0.000000</td>\n",
              "      <td>0.000000e+00</td>\n",
              "    </tr>\n",
              "  </tbody>\n",
              "</table>\n",
              "<p>6362620 rows × 15 columns</p>\n",
              "</div>"
            ],
            "text/plain": [
              "         step  CASH_IN  CASH_OUT  ...  isFraud  errorBalanceOrig  errorBalanceDest\n",
              "0           1        0         0  ...        0          0.000977     -9.839640e+03\n",
              "1           1        0         0  ...        0         -0.000732     -1.864280e+03\n",
              "2           1        0         0  ...        1          0.000000     -1.810000e+02\n",
              "3           1        0         1  ...        1          0.000000      2.100100e+04\n",
              "4           1        0         0  ...        0          0.000977     -1.166814e+04\n",
              "...       ...      ...       ...  ...      ...               ...               ...\n",
              "6362615   743        0         1  ...        1          0.000000      0.000000e+00\n",
              "6362616   743        0         0  ...        1          0.000000     -6.311410e+06\n",
              "6362617   743        0         1  ...        1          0.000000     -5.000000e-01\n",
              "6362618   743        0         0  ...        1          0.000000     -8.500025e+05\n",
              "6362619   743        0         1  ...        1          0.000000      0.000000e+00\n",
              "\n",
              "[6362620 rows x 15 columns]"
            ]
          },
          "metadata": {},
          "execution_count": 12
        }
      ]
    },
    {
      "cell_type": "code",
      "metadata": {
        "id": "ogfvRs23xDhQ"
      },
      "source": [
        "# splitting data\n",
        "\n",
        "# fraud and no fraud transactions are separated by 'isFraud' column\n",
        "dataF = data[data['isFraud'] == 1]\n",
        "dataNF = data[data['isFraud'] == 0]\n",
        "\n",
        "# split fraud transactions into 80 percent and 20 percent sessions\n",
        "mskF = np.random.rand(len(dataF)) < 0.8\n",
        "trainF = dataF[mskF]\n",
        "testF = dataF[~mskF]\n",
        "\n",
        "# split no fraud transactions into 80 percent and 20 percent sessions\n",
        "mskNF = np.random.rand(len(dataNF)) < 0.8\n",
        "trainNF = dataNF[mskNF]\n",
        "testNF = dataNF[~mskNF]\n",
        "\n",
        "# create training data and testing data\n",
        "train_data = pd.concat([trainF,trainNF]).reset_index(drop = True)\n",
        "test_data = pd.concat([testF,testNF]).reset_index(drop = True)\n",
        "\n",
        "#create input data attributes by dropped irrevalent and target column \n",
        "train_feature = train_data.drop(['isFraud'],axis = 1)\n",
        "test_feature = test_data.drop(['isFraud'],axis = 1)\n",
        "\n",
        "train_label = train_data['isFraud']\n",
        "test_label = test_data['isFraud']"
      ],
      "execution_count": null,
      "outputs": []
    },
    {
      "cell_type": "code",
      "metadata": {
        "id": "fJi3qSKKxDhS"
      },
      "source": [
        "# feature scaling\n",
        "\n",
        "scaler = preprocessing.StandardScaler()\n",
        "train_feature_scaled =scaler.fit_transform(train_feature)\n",
        "\n",
        "test_feature_scaled = scaler.transform(test_feature)"
      ],
      "execution_count": null,
      "outputs": []
    },
    {
      "cell_type": "code",
      "metadata": {
        "id": "uha4m-OjwQ29"
      },
      "source": [
        "col = ['step', 'CASH_IN', 'CASH_OUT', 'DEBIT', 'PAYMENT', 'TRANSFER', 'amount',\n",
        "       'oldbalanceOrg', 'newbalanceOrig', 'oldbalanceDest', 'newbalanceDest',\n",
        "       'isFlaggedFraud', 'errorBalanceOrig', 'errorBalanceDest']"
      ],
      "execution_count": null,
      "outputs": []
    },
    {
      "cell_type": "code",
      "metadata": {
        "id": "LREKGLycvfiR",
        "colab": {
          "base_uri": "https://localhost:8080/",
          "height": 424
        },
        "outputId": "40095e26-0aee-41ff-aec3-284212d63090"
      },
      "source": [
        "data_feature_train = pd.DataFrame(data=train_feature_scaled, columns=col)\n",
        "data_feature_train"
      ],
      "execution_count": null,
      "outputs": [
        {
          "output_type": "execute_result",
          "data": {
            "text/html": [
              "<div>\n",
              "<style scoped>\n",
              "    .dataframe tbody tr th:only-of-type {\n",
              "        vertical-align: middle;\n",
              "    }\n",
              "\n",
              "    .dataframe tbody tr th {\n",
              "        vertical-align: top;\n",
              "    }\n",
              "\n",
              "    .dataframe thead th {\n",
              "        text-align: right;\n",
              "    }\n",
              "</style>\n",
              "<table border=\"1\" class=\"dataframe\">\n",
              "  <thead>\n",
              "    <tr style=\"text-align: right;\">\n",
              "      <th></th>\n",
              "      <th>step</th>\n",
              "      <th>CASH_IN</th>\n",
              "      <th>CASH_OUT</th>\n",
              "      <th>DEBIT</th>\n",
              "      <th>PAYMENT</th>\n",
              "      <th>TRANSFER</th>\n",
              "      <th>amount</th>\n",
              "      <th>oldbalanceOrg</th>\n",
              "      <th>newbalanceOrig</th>\n",
              "      <th>oldbalanceDest</th>\n",
              "      <th>newbalanceDest</th>\n",
              "      <th>isFlaggedFraud</th>\n",
              "      <th>errorBalanceOrig</th>\n",
              "      <th>errorBalanceDest</th>\n",
              "    </tr>\n",
              "  </thead>\n",
              "  <tbody>\n",
              "    <tr>\n",
              "      <th>0</th>\n",
              "      <td>-1.702315</td>\n",
              "      <td>-0.531236</td>\n",
              "      <td>-0.736018</td>\n",
              "      <td>-0.081037</td>\n",
              "      <td>-0.715003</td>\n",
              "      <td>3.308342</td>\n",
              "      <td>-0.297684</td>\n",
              "      <td>-0.288732</td>\n",
              "      <td>-0.292522</td>\n",
              "      <td>-0.323974</td>\n",
              "      <td>-0.333484</td>\n",
              "      <td>-0.00147</td>\n",
              "      <td>0.213350</td>\n",
              "      <td>-0.015097</td>\n",
              "    </tr>\n",
              "    <tr>\n",
              "      <th>1</th>\n",
              "      <td>-1.702315</td>\n",
              "      <td>-0.531236</td>\n",
              "      <td>1.358662</td>\n",
              "      <td>-0.081037</td>\n",
              "      <td>-0.715003</td>\n",
              "      <td>-0.302266</td>\n",
              "      <td>-0.297684</td>\n",
              "      <td>-0.288732</td>\n",
              "      <td>-0.292522</td>\n",
              "      <td>-0.317736</td>\n",
              "      <td>-0.333484</td>\n",
              "      <td>-0.00147</td>\n",
              "      <td>0.213350</td>\n",
              "      <td>0.036982</td>\n",
              "    </tr>\n",
              "    <tr>\n",
              "      <th>2</th>\n",
              "      <td>-1.702315</td>\n",
              "      <td>-0.531236</td>\n",
              "      <td>-0.736018</td>\n",
              "      <td>-0.081037</td>\n",
              "      <td>-0.715003</td>\n",
              "      <td>3.308342</td>\n",
              "      <td>-0.293333</td>\n",
              "      <td>-0.287823</td>\n",
              "      <td>-0.292522</td>\n",
              "      <td>-0.323974</td>\n",
              "      <td>-0.333484</td>\n",
              "      <td>-0.00147</td>\n",
              "      <td>0.213350</td>\n",
              "      <td>-0.021550</td>\n",
              "    </tr>\n",
              "    <tr>\n",
              "      <th>3</th>\n",
              "      <td>-1.702315</td>\n",
              "      <td>-0.531236</td>\n",
              "      <td>1.358662</td>\n",
              "      <td>-0.081037</td>\n",
              "      <td>-0.715003</td>\n",
              "      <td>-0.302266</td>\n",
              "      <td>-0.293333</td>\n",
              "      <td>-0.287823</td>\n",
              "      <td>-0.292522</td>\n",
              "      <td>-0.316258</td>\n",
              "      <td>-0.333484</td>\n",
              "      <td>-0.00147</td>\n",
              "      <td>0.213350</td>\n",
              "      <td>0.042870</td>\n",
              "    </tr>\n",
              "    <tr>\n",
              "      <th>4</th>\n",
              "      <td>-1.702315</td>\n",
              "      <td>-0.531236</td>\n",
              "      <td>-0.736018</td>\n",
              "      <td>-0.081037</td>\n",
              "      <td>-0.715003</td>\n",
              "      <td>3.308342</td>\n",
              "      <td>-0.264622</td>\n",
              "      <td>-0.281823</td>\n",
              "      <td>-0.292522</td>\n",
              "      <td>-0.323974</td>\n",
              "      <td>-0.333484</td>\n",
              "      <td>-0.00147</td>\n",
              "      <td>0.213350</td>\n",
              "      <td>-0.064139</td>\n",
              "    </tr>\n",
              "    <tr>\n",
              "      <th>...</th>\n",
              "      <td>...</td>\n",
              "      <td>...</td>\n",
              "      <td>...</td>\n",
              "      <td>...</td>\n",
              "      <td>...</td>\n",
              "      <td>...</td>\n",
              "      <td>...</td>\n",
              "      <td>...</td>\n",
              "      <td>...</td>\n",
              "      <td>...</td>\n",
              "      <td>...</td>\n",
              "      <td>...</td>\n",
              "      <td>...</td>\n",
              "      <td>...</td>\n",
              "    </tr>\n",
              "    <tr>\n",
              "      <th>5089970</th>\n",
              "      <td>3.333208</td>\n",
              "      <td>-0.531236</td>\n",
              "      <td>-0.736018</td>\n",
              "      <td>-0.081037</td>\n",
              "      <td>1.398595</td>\n",
              "      <td>-0.302266</td>\n",
              "      <td>-0.296288</td>\n",
              "      <td>-0.288791</td>\n",
              "      <td>-0.292522</td>\n",
              "      <td>-0.323974</td>\n",
              "      <td>-0.333484</td>\n",
              "      <td>-0.00147</td>\n",
              "      <td>0.211648</td>\n",
              "      <td>-0.017167</td>\n",
              "    </tr>\n",
              "    <tr>\n",
              "      <th>5089971</th>\n",
              "      <td>3.333208</td>\n",
              "      <td>-0.531236</td>\n",
              "      <td>1.358662</td>\n",
              "      <td>-0.081037</td>\n",
              "      <td>-0.715003</td>\n",
              "      <td>-0.302266</td>\n",
              "      <td>0.227730</td>\n",
              "      <td>-0.288736</td>\n",
              "      <td>-0.292522</td>\n",
              "      <td>-0.222373</td>\n",
              "      <td>-0.153113</td>\n",
              "      <td>-0.00147</td>\n",
              "      <td>-0.320453</td>\n",
              "      <td>-0.014652</td>\n",
              "    </tr>\n",
              "    <tr>\n",
              "      <th>5089972</th>\n",
              "      <td>3.333208</td>\n",
              "      <td>-0.531236</td>\n",
              "      <td>-0.736018</td>\n",
              "      <td>-0.081037</td>\n",
              "      <td>1.398595</td>\n",
              "      <td>-0.302266</td>\n",
              "      <td>-0.283673</td>\n",
              "      <td>-0.109086</td>\n",
              "      <td>-0.117972</td>\n",
              "      <td>-0.323974</td>\n",
              "      <td>-0.333484</td>\n",
              "      <td>-0.00147</td>\n",
              "      <td>0.213350</td>\n",
              "      <td>-0.035880</td>\n",
              "    </tr>\n",
              "    <tr>\n",
              "      <th>5089973</th>\n",
              "      <td>3.333208</td>\n",
              "      <td>-0.531236</td>\n",
              "      <td>1.358662</td>\n",
              "      <td>-0.081037</td>\n",
              "      <td>-0.715003</td>\n",
              "      <td>-0.302266</td>\n",
              "      <td>-0.034133</td>\n",
              "      <td>-0.287458</td>\n",
              "      <td>-0.292522</td>\n",
              "      <td>-0.323974</td>\n",
              "      <td>-0.290125</td>\n",
              "      <td>-0.00147</td>\n",
              "      <td>-0.048206</td>\n",
              "      <td>-0.014652</td>\n",
              "    </tr>\n",
              "    <tr>\n",
              "      <th>5089974</th>\n",
              "      <td>3.333208</td>\n",
              "      <td>-0.531236</td>\n",
              "      <td>-0.736018</td>\n",
              "      <td>-0.081037</td>\n",
              "      <td>-0.715003</td>\n",
              "      <td>3.308342</td>\n",
              "      <td>-0.161911</td>\n",
              "      <td>-0.284121</td>\n",
              "      <td>-0.292522</td>\n",
              "      <td>-0.323974</td>\n",
              "      <td>-0.311123</td>\n",
              "      <td>-0.00147</td>\n",
              "      <td>0.097828</td>\n",
              "      <td>-0.014652</td>\n",
              "    </tr>\n",
              "  </tbody>\n",
              "</table>\n",
              "<p>5089975 rows × 14 columns</p>\n",
              "</div>"
            ],
            "text/plain": [
              "             step   CASH_IN  ...  errorBalanceOrig  errorBalanceDest\n",
              "0       -1.702315 -0.531236  ...          0.213350         -0.015097\n",
              "1       -1.702315 -0.531236  ...          0.213350          0.036982\n",
              "2       -1.702315 -0.531236  ...          0.213350         -0.021550\n",
              "3       -1.702315 -0.531236  ...          0.213350          0.042870\n",
              "4       -1.702315 -0.531236  ...          0.213350         -0.064139\n",
              "...           ...       ...  ...               ...               ...\n",
              "5089970  3.333208 -0.531236  ...          0.211648         -0.017167\n",
              "5089971  3.333208 -0.531236  ...         -0.320453         -0.014652\n",
              "5089972  3.333208 -0.531236  ...          0.213350         -0.035880\n",
              "5089973  3.333208 -0.531236  ...         -0.048206         -0.014652\n",
              "5089974  3.333208 -0.531236  ...          0.097828         -0.014652\n",
              "\n",
              "[5089975 rows x 14 columns]"
            ]
          },
          "metadata": {},
          "execution_count": 16
        }
      ]
    },
    {
      "cell_type": "code",
      "metadata": {
        "id": "z85J36SKxoF4",
        "colab": {
          "base_uri": "https://localhost:8080/",
          "height": 424
        },
        "outputId": "030b3cf5-ea9a-43a0-8174-2500e94b3199"
      },
      "source": [
        "train_label.to_frame()"
      ],
      "execution_count": null,
      "outputs": [
        {
          "output_type": "execute_result",
          "data": {
            "text/html": [
              "<div>\n",
              "<style scoped>\n",
              "    .dataframe tbody tr th:only-of-type {\n",
              "        vertical-align: middle;\n",
              "    }\n",
              "\n",
              "    .dataframe tbody tr th {\n",
              "        vertical-align: top;\n",
              "    }\n",
              "\n",
              "    .dataframe thead th {\n",
              "        text-align: right;\n",
              "    }\n",
              "</style>\n",
              "<table border=\"1\" class=\"dataframe\">\n",
              "  <thead>\n",
              "    <tr style=\"text-align: right;\">\n",
              "      <th></th>\n",
              "      <th>isFraud</th>\n",
              "    </tr>\n",
              "  </thead>\n",
              "  <tbody>\n",
              "    <tr>\n",
              "      <th>0</th>\n",
              "      <td>1</td>\n",
              "    </tr>\n",
              "    <tr>\n",
              "      <th>1</th>\n",
              "      <td>1</td>\n",
              "    </tr>\n",
              "    <tr>\n",
              "      <th>2</th>\n",
              "      <td>1</td>\n",
              "    </tr>\n",
              "    <tr>\n",
              "      <th>3</th>\n",
              "      <td>1</td>\n",
              "    </tr>\n",
              "    <tr>\n",
              "      <th>4</th>\n",
              "      <td>1</td>\n",
              "    </tr>\n",
              "    <tr>\n",
              "      <th>...</th>\n",
              "      <td>...</td>\n",
              "    </tr>\n",
              "    <tr>\n",
              "      <th>5089970</th>\n",
              "      <td>0</td>\n",
              "    </tr>\n",
              "    <tr>\n",
              "      <th>5089971</th>\n",
              "      <td>0</td>\n",
              "    </tr>\n",
              "    <tr>\n",
              "      <th>5089972</th>\n",
              "      <td>0</td>\n",
              "    </tr>\n",
              "    <tr>\n",
              "      <th>5089973</th>\n",
              "      <td>0</td>\n",
              "    </tr>\n",
              "    <tr>\n",
              "      <th>5089974</th>\n",
              "      <td>0</td>\n",
              "    </tr>\n",
              "  </tbody>\n",
              "</table>\n",
              "<p>5089975 rows × 1 columns</p>\n",
              "</div>"
            ],
            "text/plain": [
              "         isFraud\n",
              "0              1\n",
              "1              1\n",
              "2              1\n",
              "3              1\n",
              "4              1\n",
              "...          ...\n",
              "5089970        0\n",
              "5089971        0\n",
              "5089972        0\n",
              "5089973        0\n",
              "5089974        0\n",
              "\n",
              "[5089975 rows x 1 columns]"
            ]
          },
          "metadata": {},
          "execution_count": 17
        }
      ]
    },
    {
      "cell_type": "code",
      "metadata": {
        "id": "gjSrX3AHx_Ek",
        "colab": {
          "base_uri": "https://localhost:8080/",
          "height": 424
        },
        "outputId": "de283387-3d24-445a-8321-e9e0616ecca2"
      },
      "source": [
        "data_feature_test = pd.DataFrame(data=test_feature_scaled, columns=col)\n",
        "data_feature_test"
      ],
      "execution_count": null,
      "outputs": [
        {
          "output_type": "execute_result",
          "data": {
            "text/html": [
              "<div>\n",
              "<style scoped>\n",
              "    .dataframe tbody tr th:only-of-type {\n",
              "        vertical-align: middle;\n",
              "    }\n",
              "\n",
              "    .dataframe tbody tr th {\n",
              "        vertical-align: top;\n",
              "    }\n",
              "\n",
              "    .dataframe thead th {\n",
              "        text-align: right;\n",
              "    }\n",
              "</style>\n",
              "<table border=\"1\" class=\"dataframe\">\n",
              "  <thead>\n",
              "    <tr style=\"text-align: right;\">\n",
              "      <th></th>\n",
              "      <th>step</th>\n",
              "      <th>CASH_IN</th>\n",
              "      <th>CASH_OUT</th>\n",
              "      <th>DEBIT</th>\n",
              "      <th>PAYMENT</th>\n",
              "      <th>TRANSFER</th>\n",
              "      <th>amount</th>\n",
              "      <th>oldbalanceOrg</th>\n",
              "      <th>newbalanceOrig</th>\n",
              "      <th>oldbalanceDest</th>\n",
              "      <th>newbalanceDest</th>\n",
              "      <th>isFlaggedFraud</th>\n",
              "      <th>errorBalanceOrig</th>\n",
              "      <th>errorBalanceDest</th>\n",
              "    </tr>\n",
              "  </thead>\n",
              "  <tbody>\n",
              "    <tr>\n",
              "      <th>0</th>\n",
              "      <td>-1.702315</td>\n",
              "      <td>-0.531236</td>\n",
              "      <td>1.358662</td>\n",
              "      <td>-0.081037</td>\n",
              "      <td>-0.715003</td>\n",
              "      <td>-0.302266</td>\n",
              "      <td>0.391529</td>\n",
              "      <td>-0.288795</td>\n",
              "      <td>-0.292522</td>\n",
              "      <td>-0.323944</td>\n",
              "      <td>2.197310</td>\n",
              "      <td>-0.00147</td>\n",
              "      <td>-0.487147</td>\n",
              "      <td>21.806856</td>\n",
              "    </tr>\n",
              "    <tr>\n",
              "      <th>1</th>\n",
              "      <td>-1.702315</td>\n",
              "      <td>-0.531236</td>\n",
              "      <td>-0.736018</td>\n",
              "      <td>-0.081037</td>\n",
              "      <td>-0.715003</td>\n",
              "      <td>3.308342</td>\n",
              "      <td>1.818966</td>\n",
              "      <td>0.153620</td>\n",
              "      <td>-0.292522</td>\n",
              "      <td>-0.323974</td>\n",
              "      <td>-0.333484</td>\n",
              "      <td>-0.00147</td>\n",
              "      <td>0.213350</td>\n",
              "      <td>-3.154830</td>\n",
              "    </tr>\n",
              "    <tr>\n",
              "      <th>2</th>\n",
              "      <td>-1.702315</td>\n",
              "      <td>-0.531236</td>\n",
              "      <td>1.358662</td>\n",
              "      <td>-0.081037</td>\n",
              "      <td>-0.715003</td>\n",
              "      <td>-0.302266</td>\n",
              "      <td>1.818966</td>\n",
              "      <td>0.153620</td>\n",
              "      <td>-0.292522</td>\n",
              "      <td>-0.323974</td>\n",
              "      <td>0.332466</td>\n",
              "      <td>-0.00147</td>\n",
              "      <td>0.213350</td>\n",
              "      <td>2.856455</td>\n",
              "    </tr>\n",
              "    <tr>\n",
              "      <th>3</th>\n",
              "      <td>-1.702315</td>\n",
              "      <td>-0.531236</td>\n",
              "      <td>1.358662</td>\n",
              "      <td>-0.081037</td>\n",
              "      <td>-0.715003</td>\n",
              "      <td>-0.302266</td>\n",
              "      <td>-0.077800</td>\n",
              "      <td>-0.287236</td>\n",
              "      <td>-0.292522</td>\n",
              "      <td>-0.323974</td>\n",
              "      <td>-0.297301</td>\n",
              "      <td>-0.00147</td>\n",
              "      <td>-0.002766</td>\n",
              "      <td>-0.014652</td>\n",
              "    </tr>\n",
              "    <tr>\n",
              "      <th>4</th>\n",
              "      <td>-1.695292</td>\n",
              "      <td>-0.531236</td>\n",
              "      <td>-0.736018</td>\n",
              "      <td>-0.081037</td>\n",
              "      <td>-0.715003</td>\n",
              "      <td>3.308342</td>\n",
              "      <td>1.518921</td>\n",
              "      <td>0.090915</td>\n",
              "      <td>-0.292522</td>\n",
              "      <td>-0.323974</td>\n",
              "      <td>-0.333484</td>\n",
              "      <td>-0.00147</td>\n",
              "      <td>0.213350</td>\n",
              "      <td>-2.709757</td>\n",
              "    </tr>\n",
              "    <tr>\n",
              "      <th>...</th>\n",
              "      <td>...</td>\n",
              "      <td>...</td>\n",
              "      <td>...</td>\n",
              "      <td>...</td>\n",
              "      <td>...</td>\n",
              "      <td>...</td>\n",
              "      <td>...</td>\n",
              "      <td>...</td>\n",
              "      <td>...</td>\n",
              "      <td>...</td>\n",
              "      <td>...</td>\n",
              "      <td>...</td>\n",
              "      <td>...</td>\n",
              "      <td>...</td>\n",
              "    </tr>\n",
              "    <tr>\n",
              "      <th>1272640</th>\n",
              "      <td>3.333208</td>\n",
              "      <td>-0.531236</td>\n",
              "      <td>-0.736018</td>\n",
              "      <td>-0.081037</td>\n",
              "      <td>1.398595</td>\n",
              "      <td>-0.302266</td>\n",
              "      <td>-0.287422</td>\n",
              "      <td>-0.281319</td>\n",
              "      <td>-0.287318</td>\n",
              "      <td>-0.323974</td>\n",
              "      <td>-0.333484</td>\n",
              "      <td>-0.00147</td>\n",
              "      <td>0.213350</td>\n",
              "      <td>-0.030318</td>\n",
              "    </tr>\n",
              "    <tr>\n",
              "      <th>1272641</th>\n",
              "      <td>3.333208</td>\n",
              "      <td>-0.531236</td>\n",
              "      <td>-0.736018</td>\n",
              "      <td>-0.081037</td>\n",
              "      <td>1.398595</td>\n",
              "      <td>-0.302266</td>\n",
              "      <td>-0.287029</td>\n",
              "      <td>-0.278702</td>\n",
              "      <td>-0.284815</td>\n",
              "      <td>-0.323974</td>\n",
              "      <td>-0.333484</td>\n",
              "      <td>-0.00147</td>\n",
              "      <td>0.213350</td>\n",
              "      <td>-0.030902</td>\n",
              "    </tr>\n",
              "    <tr>\n",
              "      <th>1272642</th>\n",
              "      <td>3.333208</td>\n",
              "      <td>-0.531236</td>\n",
              "      <td>-0.736018</td>\n",
              "      <td>-0.081037</td>\n",
              "      <td>1.398595</td>\n",
              "      <td>-0.302266</td>\n",
              "      <td>-0.291172</td>\n",
              "      <td>-0.286882</td>\n",
              "      <td>-0.292039</td>\n",
              "      <td>-0.323974</td>\n",
              "      <td>-0.333484</td>\n",
              "      <td>-0.00147</td>\n",
              "      <td>0.213350</td>\n",
              "      <td>-0.024755</td>\n",
              "    </tr>\n",
              "    <tr>\n",
              "      <th>1272643</th>\n",
              "      <td>3.333208</td>\n",
              "      <td>-0.531236</td>\n",
              "      <td>1.358662</td>\n",
              "      <td>-0.081037</td>\n",
              "      <td>-0.715003</td>\n",
              "      <td>-0.302266</td>\n",
              "      <td>0.010761</td>\n",
              "      <td>-0.230585</td>\n",
              "      <td>-0.292522</td>\n",
              "      <td>-0.316644</td>\n",
              "      <td>-0.275967</td>\n",
              "      <td>-0.00147</td>\n",
              "      <td>0.182656</td>\n",
              "      <td>-0.014652</td>\n",
              "    </tr>\n",
              "    <tr>\n",
              "      <th>1272644</th>\n",
              "      <td>3.333208</td>\n",
              "      <td>-0.531236</td>\n",
              "      <td>-0.736018</td>\n",
              "      <td>12.339999</td>\n",
              "      <td>-0.715003</td>\n",
              "      <td>-0.302266</td>\n",
              "      <td>-0.294894</td>\n",
              "      <td>-0.281720</td>\n",
              "      <td>-0.286171</td>\n",
              "      <td>-0.268396</td>\n",
              "      <td>-0.281567</td>\n",
              "      <td>-0.00147</td>\n",
              "      <td>0.213350</td>\n",
              "      <td>-0.014652</td>\n",
              "    </tr>\n",
              "  </tbody>\n",
              "</table>\n",
              "<p>1272645 rows × 14 columns</p>\n",
              "</div>"
            ],
            "text/plain": [
              "             step   CASH_IN  ...  errorBalanceOrig  errorBalanceDest\n",
              "0       -1.702315 -0.531236  ...         -0.487147         21.806856\n",
              "1       -1.702315 -0.531236  ...          0.213350         -3.154830\n",
              "2       -1.702315 -0.531236  ...          0.213350          2.856455\n",
              "3       -1.702315 -0.531236  ...         -0.002766         -0.014652\n",
              "4       -1.695292 -0.531236  ...          0.213350         -2.709757\n",
              "...           ...       ...  ...               ...               ...\n",
              "1272640  3.333208 -0.531236  ...          0.213350         -0.030318\n",
              "1272641  3.333208 -0.531236  ...          0.213350         -0.030902\n",
              "1272642  3.333208 -0.531236  ...          0.213350         -0.024755\n",
              "1272643  3.333208 -0.531236  ...          0.182656         -0.014652\n",
              "1272644  3.333208 -0.531236  ...          0.213350         -0.014652\n",
              "\n",
              "[1272645 rows x 14 columns]"
            ]
          },
          "metadata": {},
          "execution_count": 18
        }
      ]
    },
    {
      "cell_type": "code",
      "metadata": {
        "id": "Wu0gOTNPyOyU",
        "colab": {
          "base_uri": "https://localhost:8080/",
          "height": 424
        },
        "outputId": "fbd61a3d-f619-4ea2-ab95-87bfce580a2c"
      },
      "source": [
        "test_label.to_frame()"
      ],
      "execution_count": null,
      "outputs": [
        {
          "output_type": "execute_result",
          "data": {
            "text/html": [
              "<div>\n",
              "<style scoped>\n",
              "    .dataframe tbody tr th:only-of-type {\n",
              "        vertical-align: middle;\n",
              "    }\n",
              "\n",
              "    .dataframe tbody tr th {\n",
              "        vertical-align: top;\n",
              "    }\n",
              "\n",
              "    .dataframe thead th {\n",
              "        text-align: right;\n",
              "    }\n",
              "</style>\n",
              "<table border=\"1\" class=\"dataframe\">\n",
              "  <thead>\n",
              "    <tr style=\"text-align: right;\">\n",
              "      <th></th>\n",
              "      <th>isFraud</th>\n",
              "    </tr>\n",
              "  </thead>\n",
              "  <tbody>\n",
              "    <tr>\n",
              "      <th>0</th>\n",
              "      <td>1</td>\n",
              "    </tr>\n",
              "    <tr>\n",
              "      <th>1</th>\n",
              "      <td>1</td>\n",
              "    </tr>\n",
              "    <tr>\n",
              "      <th>2</th>\n",
              "      <td>1</td>\n",
              "    </tr>\n",
              "    <tr>\n",
              "      <th>3</th>\n",
              "      <td>1</td>\n",
              "    </tr>\n",
              "    <tr>\n",
              "      <th>4</th>\n",
              "      <td>1</td>\n",
              "    </tr>\n",
              "    <tr>\n",
              "      <th>...</th>\n",
              "      <td>...</td>\n",
              "    </tr>\n",
              "    <tr>\n",
              "      <th>1272640</th>\n",
              "      <td>0</td>\n",
              "    </tr>\n",
              "    <tr>\n",
              "      <th>1272641</th>\n",
              "      <td>0</td>\n",
              "    </tr>\n",
              "    <tr>\n",
              "      <th>1272642</th>\n",
              "      <td>0</td>\n",
              "    </tr>\n",
              "    <tr>\n",
              "      <th>1272643</th>\n",
              "      <td>0</td>\n",
              "    </tr>\n",
              "    <tr>\n",
              "      <th>1272644</th>\n",
              "      <td>0</td>\n",
              "    </tr>\n",
              "  </tbody>\n",
              "</table>\n",
              "<p>1272645 rows × 1 columns</p>\n",
              "</div>"
            ],
            "text/plain": [
              "         isFraud\n",
              "0              1\n",
              "1              1\n",
              "2              1\n",
              "3              1\n",
              "4              1\n",
              "...          ...\n",
              "1272640        0\n",
              "1272641        0\n",
              "1272642        0\n",
              "1272643        0\n",
              "1272644        0\n",
              "\n",
              "[1272645 rows x 1 columns]"
            ]
          },
          "metadata": {},
          "execution_count": 19
        }
      ]
    },
    {
      "cell_type": "markdown",
      "metadata": {
        "id": "tqCyYPsTxDhU"
      },
      "source": [
        "## Logistic Regression"
      ]
    },
    {
      "cell_type": "markdown",
      "metadata": {
        "id": "WNXhP0PxxDhV"
      },
      "source": [
        "Logistic regression is used to describe data and to explain the relationship between one dependent binary variable and one or more nominal, ordinal, interval or ratio-level independent variables\n",
        "    \n",
        "    class sklearn.linear_model.LogisticRegression (penalty='l2', *, dual=False, tol=0.0001, C=1.0, fit_intercept=True, intercept_scaling=1, class_weight=None, random_state=None, solver='lbfgs', max_iter=100, multi_class='auto', verbose=0, warm_start=False, n_jobs=None, l1_ratio=None)\n",
        "    \n",
        "https://scikit-learn.org/stable/modules/generated/sklearn.linear_model.LogisticRegression.html"
      ]
    },
    {
      "cell_type": "code",
      "metadata": {
        "id": "oMDSNeAJxDhV",
        "colab": {
          "base_uri": "https://localhost:8080/"
        },
        "outputId": "9413472d-a941-42ec-f71a-e9d32e2901e8"
      },
      "source": [
        "%%time\n",
        "from sklearn.linear_model import LogisticRegression\n",
        "clf = LogisticRegression(random_state=0)\n",
        "clf.fit(train_feature_scaled,train_label)"
      ],
      "execution_count": null,
      "outputs": [
        {
          "output_type": "stream",
          "name": "stdout",
          "text": [
            "CPU times: user 1min 54s, sys: 16.4 s, total: 2min 11s\n",
            "Wall time: 1min 25s\n"
          ]
        },
        {
          "output_type": "stream",
          "name": "stderr",
          "text": [
            "/usr/local/lib/python3.7/dist-packages/sklearn/linear_model/_logistic.py:818: ConvergenceWarning: lbfgs failed to converge (status=1):\n",
            "STOP: TOTAL NO. of ITERATIONS REACHED LIMIT.\n",
            "\n",
            "Increase the number of iterations (max_iter) or scale the data as shown in:\n",
            "    https://scikit-learn.org/stable/modules/preprocessing.html\n",
            "Please also refer to the documentation for alternative solver options:\n",
            "    https://scikit-learn.org/stable/modules/linear_model.html#logistic-regression\n",
            "  extra_warning_msg=_LOGISTIC_SOLVER_CONVERGENCE_MSG,\n"
          ]
        }
      ]
    },
    {
      "cell_type": "code",
      "metadata": {
        "id": "C_vQtxiafEoL"
      },
      "source": [
        "# predict train data\n",
        "lr_predY_train = clf.predict(train_feature_scaled)"
      ],
      "execution_count": null,
      "outputs": []
    },
    {
      "cell_type": "code",
      "metadata": {
        "colab": {
          "base_uri": "https://localhost:8080/"
        },
        "id": "semXflXr56GG",
        "outputId": "9690352d-92b7-4bcb-ceee-588269b456d8"
      },
      "source": [
        "lr_predY_train"
      ],
      "execution_count": null,
      "outputs": [
        {
          "output_type": "execute_result",
          "data": {
            "text/plain": [
              "array([0, 0, 0, ..., 0, 0, 0])"
            ]
          },
          "metadata": {},
          "execution_count": 22
        }
      ]
    },
    {
      "cell_type": "code",
      "metadata": {
        "id": "9d89Yjp9xDhX",
        "colab": {
          "base_uri": "https://localhost:8080/"
        },
        "outputId": "37aeffb2-faa6-410c-b90d-eed378032e10"
      },
      "source": [
        "# predict test data\n",
        "lr_predY = clf.predict(test_feature_scaled)\n",
        "lr_predY[0:10]"
      ],
      "execution_count": null,
      "outputs": [
        {
          "output_type": "execute_result",
          "data": {
            "text/plain": [
              "array([0, 1, 0, 0, 1, 0, 1, 0, 0, 0])"
            ]
          },
          "metadata": {},
          "execution_count": 23
        }
      ]
    },
    {
      "cell_type": "markdown",
      "metadata": {
        "id": "_aNwtLO8xDha"
      },
      "source": [
        "## XGBoost "
      ]
    },
    {
      "cell_type": "markdown",
      "metadata": {
        "id": "9e-xpnXxxDha"
      },
      "source": [
        "XGBoost stands for Extreme Gradient Boosting; it is a specific implementation of the Gradient Boosting method which uses more accurate approximations to find the best tree model. It employs a number of nifty tricks that make it exceptionally successful, particularly with structured data.\n",
        "\n",
        "XGBoost's hyperparameters\n",
        "\n",
        "    -learning_rate: step size shrinkage used to prevent overfitting. Range is [0,1]\n",
        "    -max_depth: determines how deeply each tree is allowed to grow during any boosting round.\n",
        "    -subsample: percentage of samples used per tree. Low value can lead to underfitting.\n",
        "    -colsample_bytree: percentage of features used per tree. High value can lead to overfitting.\n",
        "    -n_estimators: number of trees you want to build.\n",
        "    -objective: determines the loss function to be used like reg:linear for regression problems, reg:logistic for classification problems with only decision, binary:logistic for classification problems with probability.\n",
        "\n",
        "XGBoost also supports regularization parameters to penalize models as they become more complex and reduce them to simple (parsimonious) models.\n",
        "\n",
        "    -gamma: controls whether a given node will split based on the expected reduction in loss after the split. A higher value leads to fewer splits. Supported only for tree-based learners.\n",
        "    -alpha: L1 regularization on leaf weights. A large value leads to more regularization.\n",
        "    -lambda: L2 regularization on leaf weights and is smoother than L1 regularization."
      ]
    },
    {
      "cell_type": "code",
      "metadata": {
        "id": "aETfvI4_xDhb",
        "colab": {
          "base_uri": "https://localhost:8080/"
        },
        "outputId": "8fb92ad2-5ffd-4225-d051-05ecb39f500e"
      },
      "source": [
        "%%time\n",
        "from xgboost.sklearn import XGBClassifier\n",
        "xgbc = XGBClassifier(objective='binary:logistic',max_depth=3)\n",
        "\n",
        "\n",
        "xgbc.fit(train_feature_scaled, train_label)"
      ],
      "execution_count": null,
      "outputs": [
        {
          "output_type": "stream",
          "name": "stdout",
          "text": [
            "[02:16:49] WARNING: /workspace/src/learner.cc:686: Tree method is automatically selected to be 'approx' for faster speed. To use old behavior (exact greedy algorithm on single machine), set tree_method to 'exact'.\n",
            "CPU times: user 14min 44s, sys: 1.44 s, total: 14min 46s\n",
            "Wall time: 14min 42s\n"
          ]
        }
      ]
    },
    {
      "cell_type": "code",
      "metadata": {
        "id": "tgsG87U9zZyg"
      },
      "source": [
        " # predict train data\n",
        "xgb_predY_train = xgbc.predict(train_feature_scaled)"
      ],
      "execution_count": null,
      "outputs": []
    },
    {
      "cell_type": "code",
      "metadata": {
        "id": "wrue464ExDhd",
        "colab": {
          "base_uri": "https://localhost:8080/"
        },
        "outputId": "651ff524-bd32-4ff9-836a-a98d8386f255"
      },
      "source": [
        "# predict test data\n",
        "xgb_predY = xgbc.predict(test_feature_scaled)\n",
        "xgb_predY[0:10]"
      ],
      "execution_count": null,
      "outputs": [
        {
          "output_type": "execute_result",
          "data": {
            "text/plain": [
              "array([0, 1, 1, 0, 1, 1, 1, 1, 1, 1])"
            ]
          },
          "metadata": {},
          "execution_count": 26
        }
      ]
    },
    {
      "cell_type": "markdown",
      "metadata": {
        "id": "vrymDMz-xDhg"
      },
      "source": [
        "## Model Evaluation"
      ]
    },
    {
      "cell_type": "markdown",
      "metadata": {
        "id": "kILKd2rNxDhg"
      },
      "source": [
        "### Confusion Matrix"
      ]
    },
    {
      "cell_type": "markdown",
      "metadata": {
        "id": "_BQy4_QHxDhh"
      },
      "source": [
        "confusion matrix, also known as an error matrix, is a specific table layout that allows visualization of the performance of an algorithm, typically a supervised learning one (in unsupervised learning it is usually called a matching matrix). Each row of the matrix represents the instances in a predicted class while each column represents the instances in an actual class (or vice versa)\n",
        "\n",
        "\n",
        "\n",
        "https://en.wikipedia.org/wiki/Confusion_matrix\n",
        "\n",
        "--------------------------------------------\n",
        "Accuracy: Overall, how often is the classifier correct?\n",
        "    \n",
        "    Accuracy = (TP+TN)/total = (TP+TN)/(TP+TN+FN+FP)\n",
        "\n",
        "Precision: When it predicts yes, how often is it correct?\n",
        "\n",
        "    Precision = TP/predicted yes = TP/(TP+FP)\n",
        "    \n",
        "Recall: When it's actually yes, how often does it predict yes? (True Positive Rate)\n",
        "\n",
        "    Recall = TP/actual yes = TP/(TP+FN)\n",
        "    \n",
        "F1 Score: This is a weighted average of the recall and precision\n",
        "\n",
        "    F1 Score = (2*(Precision*Recall))/(Precision+Recall)"
      ]
    },
    {
      "cell_type": "code",
      "metadata": {
        "id": "ZOUFgbou9KwD"
      },
      "source": [
        "from sklearn.metrics import confusion_matrix, accuracy_score, recall_score, precision_score, f1_score\n",
        "\n",
        "def evaluation_metrics(types,label_train,predict_train,label_test,predict_test):\n",
        "  print(\"Accuracy score in\",types, \": Train =\" ,accuracy_score(label_train,predict_train), \" , Test = \",accuracy_score(label_test,predict_test))\n",
        "  print(\"Precision score in \",types, \": Train =\" ,precision_score(label_train,predict_train), \" , Test = \",precision_score(label_test,predict_test))\n",
        "  print(\"Recall score in \",types, \": Train =\",recall_score(label_train,predict_train), \" , Test = \",recall_score(label_test,predict_test))\n",
        "  print(\"F1 score  in \",types, \": Train =\" ,f1_score(label_train,predict_train), \" , Test = \",f1_score(label_test,predict_test))"
      ],
      "execution_count": null,
      "outputs": []
    },
    {
      "cell_type": "code",
      "metadata": {
        "id": "dT0l_Sfz94bw",
        "colab": {
          "base_uri": "https://localhost:8080/"
        },
        "outputId": "4abb1b1d-a657-41e7-95f0-5a72e7f3783b"
      },
      "source": [
        "evaluation_metrics(\"Logistic Regression\",train_label,lr_predY_train,test_label,lr_predY)"
      ],
      "execution_count": null,
      "outputs": [
        {
          "output_type": "stream",
          "name": "stdout",
          "text": [
            "Accuracy score in Logistic Regression : Train = 0.9993573642306691  , Test =  0.9993611729901112\n",
            "Precision score in  Logistic Regression : Train = 0.9241116751269035  , Test =  0.912041884816754\n",
            "Recall score in  Logistic Regression : Train = 0.5505821866021473  , Test =  0.544375\n",
            "F1 score  in  Logistic Regression : Train = 0.6900407467070975  , Test =  0.6818003913894326\n"
          ]
        }
      ]
    },
    {
      "cell_type": "code",
      "metadata": {
        "id": "fa8RhZnkxDhn",
        "colab": {
          "base_uri": "https://localhost:8080/"
        },
        "outputId": "5e647f51-6bfa-4dc7-87d8-8699a8e3a597"
      },
      "source": [
        "cm_lr = confusion_matrix(lr_predY,test_label,labels=[1,0])\n",
        "cm_lr"
      ],
      "execution_count": null,
      "outputs": [
        {
          "output_type": "execute_result",
          "data": {
            "text/plain": [
              "array([[    871,      84],\n",
              "       [    729, 1270961]])"
            ]
          },
          "metadata": {},
          "execution_count": 29
        }
      ]
    },
    {
      "cell_type": "code",
      "metadata": {
        "id": "MLo_qsg8-YvH",
        "colab": {
          "base_uri": "https://localhost:8080/"
        },
        "outputId": "1f86b75b-40de-479b-e4b1-f73b2b7560b1"
      },
      "source": [
        "evaluation_metrics(\"XGBoost\",train_label,xgb_predY_train,test_label,xgb_predY)"
      ],
      "execution_count": null,
      "outputs": [
        {
          "output_type": "stream",
          "name": "stdout",
          "text": [
            "Accuracy score in XGBoost : Train = 0.9999943025260438  , Test =  0.9999937138793615\n",
            "Precision score in  XGBoost : Train = 0.9993932038834952  , Test =  0.9987468671679198\n",
            "Recall score in  XGBoost : Train = 0.9962195675185241  , Test =  0.99625\n",
            "F1 score  in  XGBoost : Train = 0.9978038621734192  , Test =  0.9974968710888611\n"
          ]
        }
      ]
    },
    {
      "cell_type": "code",
      "metadata": {
        "id": "zw82xooMxDhu",
        "colab": {
          "base_uri": "https://localhost:8080/"
        },
        "outputId": "9f51f224-59de-418e-c5be-0432aceb0eb5"
      },
      "source": [
        "cm_xgb = confusion_matrix(xgb_predY,test_label,labels=[1, 0])\n",
        "cm_xgb"
      ],
      "execution_count": null,
      "outputs": [
        {
          "output_type": "execute_result",
          "data": {
            "text/plain": [
              "array([[   1594,       2],\n",
              "       [      6, 1271043]])"
            ]
          },
          "metadata": {},
          "execution_count": 31
        }
      ]
    },
    {
      "cell_type": "markdown",
      "metadata": {
        "id": "BtplsdntxDhw"
      },
      "source": [
        "## Random OverSampling "
      ]
    },
    {
      "cell_type": "markdown",
      "metadata": {
        "id": "46i4Yy9rxDhw"
      },
      "source": [
        "Random oversampling involves randomly duplicating examples from the minority class and adding them to the training dataset.\n",
        "\n",
        "This technique can be effective for those machine learning algorithms that are affected by a skewed distribution and where multiple duplicate examples for a given class can influence the fit of the model"
      ]
    },
    {
      "cell_type": "code",
      "metadata": {
        "id": "FFr9MiAGxDhw"
      },
      "source": [
        "from imblearn.over_sampling import RandomOverSampler \n",
        "ros = RandomOverSampler()\n",
        "train_feature_resampled, train_label_resampled = ros.fit_resample(train_feature, train_label)"
      ],
      "execution_count": null,
      "outputs": []
    },
    {
      "cell_type": "code",
      "metadata": {
        "id": "Ny0K8JqaxDhy"
      },
      "source": [
        "scaler = preprocessing.StandardScaler()\n",
        "train_feature_scaled =scaler.fit_transform(train_feature_resampled)\n",
        "test_feature_scaled = scaler.transform(test_feature)"
      ],
      "execution_count": null,
      "outputs": []
    },
    {
      "cell_type": "code",
      "metadata": {
        "id": "HtsehJ1oxDh0",
        "colab": {
          "base_uri": "https://localhost:8080/"
        },
        "outputId": "034d1854-f695-443d-ef3d-1b6025f13f27"
      },
      "source": [
        "clf_ros = LogisticRegression(random_state=0)\n",
        "clf_ros.fit(train_feature_scaled,train_label_resampled)"
      ],
      "execution_count": null,
      "outputs": [
        {
          "output_type": "stream",
          "name": "stderr",
          "text": [
            "/usr/local/lib/python3.7/dist-packages/sklearn/linear_model/_logistic.py:818: ConvergenceWarning: lbfgs failed to converge (status=1):\n",
            "STOP: TOTAL NO. of ITERATIONS REACHED LIMIT.\n",
            "\n",
            "Increase the number of iterations (max_iter) or scale the data as shown in:\n",
            "    https://scikit-learn.org/stable/modules/preprocessing.html\n",
            "Please also refer to the documentation for alternative solver options:\n",
            "    https://scikit-learn.org/stable/modules/linear_model.html#logistic-regression\n",
            "  extra_warning_msg=_LOGISTIC_SOLVER_CONVERGENCE_MSG,\n"
          ]
        },
        {
          "output_type": "execute_result",
          "data": {
            "text/plain": [
              "LogisticRegression(random_state=0)"
            ]
          },
          "metadata": {},
          "execution_count": 34
        }
      ]
    },
    {
      "cell_type": "code",
      "metadata": {
        "id": "M4z2uSX7xDh2"
      },
      "source": [
        "lr_predY_ros_train = clf_ros.predict(train_feature_scaled)"
      ],
      "execution_count": null,
      "outputs": []
    },
    {
      "cell_type": "code",
      "metadata": {
        "id": "KzMnoWV2xDh8"
      },
      "source": [
        "lr_predY_ros = clf_ros.predict(test_feature_scaled)\n"
      ],
      "execution_count": null,
      "outputs": []
    },
    {
      "cell_type": "code",
      "metadata": {
        "id": "jj9zbebZF4x4",
        "colab": {
          "base_uri": "https://localhost:8080/"
        },
        "outputId": "83852177-be50-4e45-e231-a81368fce125"
      },
      "source": [
        "evaluation_metrics(\"Logistic Regession after RandomOverSampling\",train_label_resampled,lr_predY_ros_train,test_label,lr_predY_ros)"
      ],
      "execution_count": null,
      "outputs": [
        {
          "output_type": "stream",
          "name": "stdout",
          "text": [
            "Accuracy score in Logistic Regession after RandomOverSampling : Train = 0.9669029079573715  , Test =  0.9521005464996131\n",
            "Precision score in  Logistic Regession after RandomOverSampling : Train = 0.9539094149661581  , Test =  0.025196371722471963\n",
            "Recall score in  Logistic Regession after RandomOverSampling : Train = 0.9812157780618418  , Test =  0.984375\n",
            "F1 score  in  Logistic Regession after RandomOverSampling : Train = 0.9673699377991529  , Test =  0.04913506683928934\n"
          ]
        }
      ]
    },
    {
      "cell_type": "code",
      "metadata": {
        "id": "jigwU7bsxDiA",
        "colab": {
          "base_uri": "https://localhost:8080/"
        },
        "outputId": "75d51180-b5f3-4b52-863d-ab6cc30c79ae"
      },
      "source": [
        "cm_lr_ros = confusion_matrix(lr_predY_ros,test_label,labels=[1, 0])\n",
        "cm_lr_ros"
      ],
      "execution_count": null,
      "outputs": [
        {
          "output_type": "execute_result",
          "data": {
            "text/plain": [
              "array([[   1575,   60934],\n",
              "       [     25, 1210111]])"
            ]
          },
          "metadata": {},
          "execution_count": 38
        }
      ]
    },
    {
      "cell_type": "markdown",
      "metadata": {
        "id": "D0A-zJ4ixDiF"
      },
      "source": [
        "## Random Undersampling"
      ]
    },
    {
      "cell_type": "markdown",
      "metadata": {
        "id": "vz0SlTyMxDiG"
      },
      "source": [
        "Random undersampling involves randomly selecting examples from the majority class to delete from the training dataset.\n",
        "\n",
        "This has the effect of reducing the number of examples in the majority class in the transformed version of the training dataset. This process can be repeated until the desired class distribution is achieved, such as an equal number of examples for each class\n",
        "\n",
        "A limitation of undersampling is that examples from the majority class are deleted that may be useful, important, or perhaps critical to fitting a robust decision boundary. Given that examples are deleted randomly, there is no way to detect or preserve “good” or more information-rich examples from the majority class.\n",
        "\n",
        "https://machinelearningmastery.com/random-oversampling-and-undersampling-for-imbalanced-classification/"
      ]
    },
    {
      "cell_type": "code",
      "metadata": {
        "id": "y7I_erVLxDiG"
      },
      "source": [
        "from imblearn.under_sampling import RandomUnderSampler\n",
        "rus = RandomUnderSampler()\n",
        "train_feature_resampled, train_label_resampled = rus.fit_resample(train_feature,train_label)"
      ],
      "execution_count": null,
      "outputs": []
    },
    {
      "cell_type": "code",
      "metadata": {
        "id": "CNOtHs4ZxDiI"
      },
      "source": [
        "scaler = preprocessing.StandardScaler()\n",
        "train_feature_scaled =scaler.fit_transform(train_feature_resampled)\n",
        "test_feature_scaled = scaler.transform(test_feature)"
      ],
      "execution_count": null,
      "outputs": []
    },
    {
      "cell_type": "code",
      "metadata": {
        "id": "LHFI33jBxDiK",
        "colab": {
          "base_uri": "https://localhost:8080/"
        },
        "outputId": "7e67ea2b-6b03-44d1-d253-f47196f1e2c0"
      },
      "source": [
        "clf_rus = LogisticRegression(random_state=0)\n",
        "clf_rus.fit(train_feature_scaled,train_label_resampled)"
      ],
      "execution_count": null,
      "outputs": [
        {
          "output_type": "execute_result",
          "data": {
            "text/plain": [
              "LogisticRegression(random_state=0)"
            ]
          },
          "metadata": {},
          "execution_count": 44
        }
      ]
    },
    {
      "cell_type": "code",
      "metadata": {
        "id": "8qIcozsVxDiM"
      },
      "source": [
        "lr_predY_rus_train = clf_rus.predict(train_feature_scaled)"
      ],
      "execution_count": null,
      "outputs": []
    },
    {
      "cell_type": "code",
      "metadata": {
        "id": "o7C6lDOTxDiR"
      },
      "source": [
        "lr_predY_rus = clf_rus.predict(test_feature_scaled)"
      ],
      "execution_count": null,
      "outputs": []
    },
    {
      "cell_type": "code",
      "metadata": {
        "id": "B86ehw3IChK9",
        "colab": {
          "base_uri": "https://localhost:8080/"
        },
        "outputId": "6206f3a5-7974-4930-cc1a-3c543ccaeec9"
      },
      "source": [
        "evaluation_metrics(\"Logistic Regression after RandomUnderSampling\",train_label_resampled,lr_predY_rus_train,test_label,lr_predY_rus)"
      ],
      "execution_count": null,
      "outputs": [
        {
          "output_type": "stream",
          "name": "stdout",
          "text": [
            "Accuracy score in Logistic Regression after RandomUnderSampling : Train = 0.9613639800393164  , Test =  0.9410071151027977\n",
            "Precision score in  Logistic Regression after RandomUnderSampling : Train = 0.9429442508710801  , Test =  0.02052908395651436\n",
            "Recall score in  Logistic Regression after RandomUnderSampling : Train = 0.9821563586874339  , Test =  0.983125\n",
            "F1 score  in  Logistic Regression after RandomUnderSampling : Train = 0.9621509517813496  , Test =  0.04021835010163251\n"
          ]
        }
      ]
    },
    {
      "cell_type": "code",
      "metadata": {
        "id": "8BIwieFRxDiW",
        "colab": {
          "base_uri": "https://localhost:8080/"
        },
        "outputId": "475c9635-c06b-4417-fefd-488924353d80"
      },
      "source": [
        "cm_lr_rus = confusion_matrix(lr_predY_rus,test_label,labels=[1, 0])\n",
        "cm_lr_rus"
      ],
      "execution_count": null,
      "outputs": [
        {
          "output_type": "execute_result",
          "data": {
            "text/plain": [
              "array([[   1573,   75050],\n",
              "       [     27, 1195995]])"
            ]
          },
          "metadata": {},
          "execution_count": 48
        }
      ]
    }
  ]
}
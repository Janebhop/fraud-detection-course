{
  "nbformat": 4,
  "nbformat_minor": 0,
  "metadata": {
    "colab": {
      "name": "Part Model.ipynb",
      "provenance": [],
      "collapsed_sections": [],
      "include_colab_link": true
    },
    "kernelspec": {
      "display_name": "Python 3",
      "language": "python",
      "name": "python3"
    },
    "language_info": {
      "codemirror_mode": {
        "name": "ipython",
        "version": 3
      },
      "file_extension": ".py",
      "mimetype": "text/x-python",
      "name": "python",
      "nbconvert_exporter": "python",
      "pygments_lexer": "ipython3",
      "version": "3.8.3"
    },
    "accelerator": "GPU"
  },
  "cells": [
    {
      "cell_type": "markdown",
      "metadata": {
        "id": "view-in-github",
        "colab_type": "text"
      },
      "source": [
        "<a href=\"https://colab.research.google.com/github/Janebhop/fraud-detection-course/blob/main/notebook/chapter3/Chapter3_Model.ipynb\" target=\"_parent\"><img src=\"https://colab.research.google.com/assets/colab-badge.svg\" alt=\"Open In Colab\"/></a>"
      ]
    },
    {
      "cell_type": "markdown",
      "metadata": {
        "id": "eN-rk-DCxDg6"
      },
      "source": [
        "# Part Model"
      ]
    },
    {
      "cell_type": "code",
      "metadata": {
        "id": "2Dyj2q-lxDg7"
      },
      "source": [
        "import pandas as pd\n",
        "import numpy as np\n",
        "import matplotlib.pyplot as plt\n",
        "import seaborn as sns\n",
        "from sklearn import preprocessing"
      ],
      "execution_count": 1,
      "outputs": []
    },
    {
      "cell_type": "code",
      "metadata": {
        "id": "-87s0xTMrvkF",
        "colab": {
          "base_uri": "https://localhost:8080/"
        },
        "outputId": "4fe35e08-6587-4041-df57-0b22844ff75e"
      },
      "source": [
        "from google.colab import drive\n",
        "drive.mount('/content/drive')"
      ],
      "execution_count": 2,
      "outputs": [
        {
          "output_type": "stream",
          "text": [
            "Mounted at /content/drive\n"
          ],
          "name": "stdout"
        }
      ]
    },
    {
      "cell_type": "markdown",
      "metadata": {
        "id": "DvE7smyvxDg-"
      },
      "source": [
        "### Import Data"
      ]
    },
    {
      "cell_type": "code",
      "metadata": {
        "id": "kCO-osDMs28s"
      },
      "source": [
        "dataPath = '/content/drive/My Drive/fraud/PS_20174392719_1491204439457_log.csv'"
      ],
      "execution_count": 3,
      "outputs": []
    },
    {
      "cell_type": "code",
      "metadata": {
        "id": "QBSJR3LCxDg_"
      },
      "source": [
        "df_test = pd.read_csv(dataPath, nrows=10)\n",
        "\n",
        "float_cols = [c for c in df_test if df_test[c].dtype == \"float64\"]\n",
        "float32_cols = {c: np.float32 for c in float_cols}"
      ],
      "execution_count": 4,
      "outputs": []
    },
    {
      "cell_type": "code",
      "metadata": {
        "id": "lhI0uSU9vkqg",
        "colab": {
          "base_uri": "https://localhost:8080/"
        },
        "outputId": "c2ad8a54-184b-40f0-89ef-f4d212c058ad"
      },
      "source": [
        "float_cols"
      ],
      "execution_count": 5,
      "outputs": [
        {
          "output_type": "execute_result",
          "data": {
            "text/plain": [
              "['amount',\n",
              " 'oldbalanceOrg',\n",
              " 'newbalanceOrig',\n",
              " 'oldbalanceDest',\n",
              " 'newbalanceDest']"
            ]
          },
          "metadata": {
            "tags": []
          },
          "execution_count": 5
        }
      ]
    },
    {
      "cell_type": "code",
      "metadata": {
        "id": "CVvQH5y5xDhB",
        "colab": {
          "base_uri": "https://localhost:8080/",
          "height": 399
        },
        "outputId": "6caf1c6b-b040-4ae2-963e-66f5013dcd36"
      },
      "source": [
        "data = pd.read_csv(dataPath, engine='c', dtype=float32_cols)\n",
        "data"
      ],
      "execution_count": 6,
      "outputs": [
        {
          "output_type": "execute_result",
          "data": {
            "text/html": [
              "<div>\n",
              "<style scoped>\n",
              "    .dataframe tbody tr th:only-of-type {\n",
              "        vertical-align: middle;\n",
              "    }\n",
              "\n",
              "    .dataframe tbody tr th {\n",
              "        vertical-align: top;\n",
              "    }\n",
              "\n",
              "    .dataframe thead th {\n",
              "        text-align: right;\n",
              "    }\n",
              "</style>\n",
              "<table border=\"1\" class=\"dataframe\">\n",
              "  <thead>\n",
              "    <tr style=\"text-align: right;\">\n",
              "      <th></th>\n",
              "      <th>step</th>\n",
              "      <th>type</th>\n",
              "      <th>amount</th>\n",
              "      <th>nameOrig</th>\n",
              "      <th>oldbalanceOrg</th>\n",
              "      <th>newbalanceOrig</th>\n",
              "      <th>nameDest</th>\n",
              "      <th>oldbalanceDest</th>\n",
              "      <th>newbalanceDest</th>\n",
              "      <th>isFraud</th>\n",
              "      <th>isFlaggedFraud</th>\n",
              "    </tr>\n",
              "  </thead>\n",
              "  <tbody>\n",
              "    <tr>\n",
              "      <th>0</th>\n",
              "      <td>1</td>\n",
              "      <td>PAYMENT</td>\n",
              "      <td>9.839640e+03</td>\n",
              "      <td>C1231006815</td>\n",
              "      <td>170136.000</td>\n",
              "      <td>160296.359375</td>\n",
              "      <td>M1979787155</td>\n",
              "      <td>0.000000e+00</td>\n",
              "      <td>0.000</td>\n",
              "      <td>0</td>\n",
              "      <td>0</td>\n",
              "    </tr>\n",
              "    <tr>\n",
              "      <th>1</th>\n",
              "      <td>1</td>\n",
              "      <td>PAYMENT</td>\n",
              "      <td>1.864280e+03</td>\n",
              "      <td>C1666544295</td>\n",
              "      <td>21249.000</td>\n",
              "      <td>19384.720703</td>\n",
              "      <td>M2044282225</td>\n",
              "      <td>0.000000e+00</td>\n",
              "      <td>0.000</td>\n",
              "      <td>0</td>\n",
              "      <td>0</td>\n",
              "    </tr>\n",
              "    <tr>\n",
              "      <th>2</th>\n",
              "      <td>1</td>\n",
              "      <td>TRANSFER</td>\n",
              "      <td>1.810000e+02</td>\n",
              "      <td>C1305486145</td>\n",
              "      <td>181.000</td>\n",
              "      <td>0.000000</td>\n",
              "      <td>C553264065</td>\n",
              "      <td>0.000000e+00</td>\n",
              "      <td>0.000</td>\n",
              "      <td>1</td>\n",
              "      <td>0</td>\n",
              "    </tr>\n",
              "    <tr>\n",
              "      <th>3</th>\n",
              "      <td>1</td>\n",
              "      <td>CASH_OUT</td>\n",
              "      <td>1.810000e+02</td>\n",
              "      <td>C840083671</td>\n",
              "      <td>181.000</td>\n",
              "      <td>0.000000</td>\n",
              "      <td>C38997010</td>\n",
              "      <td>2.118200e+04</td>\n",
              "      <td>0.000</td>\n",
              "      <td>1</td>\n",
              "      <td>0</td>\n",
              "    </tr>\n",
              "    <tr>\n",
              "      <th>4</th>\n",
              "      <td>1</td>\n",
              "      <td>PAYMENT</td>\n",
              "      <td>1.166814e+04</td>\n",
              "      <td>C2048537720</td>\n",
              "      <td>41554.000</td>\n",
              "      <td>29885.859375</td>\n",
              "      <td>M1230701703</td>\n",
              "      <td>0.000000e+00</td>\n",
              "      <td>0.000</td>\n",
              "      <td>0</td>\n",
              "      <td>0</td>\n",
              "    </tr>\n",
              "    <tr>\n",
              "      <th>...</th>\n",
              "      <td>...</td>\n",
              "      <td>...</td>\n",
              "      <td>...</td>\n",
              "      <td>...</td>\n",
              "      <td>...</td>\n",
              "      <td>...</td>\n",
              "      <td>...</td>\n",
              "      <td>...</td>\n",
              "      <td>...</td>\n",
              "      <td>...</td>\n",
              "      <td>...</td>\n",
              "    </tr>\n",
              "    <tr>\n",
              "      <th>6362615</th>\n",
              "      <td>743</td>\n",
              "      <td>CASH_OUT</td>\n",
              "      <td>3.396821e+05</td>\n",
              "      <td>C786484425</td>\n",
              "      <td>339682.125</td>\n",
              "      <td>0.000000</td>\n",
              "      <td>C776919290</td>\n",
              "      <td>0.000000e+00</td>\n",
              "      <td>339682.125</td>\n",
              "      <td>1</td>\n",
              "      <td>0</td>\n",
              "    </tr>\n",
              "    <tr>\n",
              "      <th>6362616</th>\n",
              "      <td>743</td>\n",
              "      <td>TRANSFER</td>\n",
              "      <td>6.311410e+06</td>\n",
              "      <td>C1529008245</td>\n",
              "      <td>6311409.500</td>\n",
              "      <td>0.000000</td>\n",
              "      <td>C1881841831</td>\n",
              "      <td>0.000000e+00</td>\n",
              "      <td>0.000</td>\n",
              "      <td>1</td>\n",
              "      <td>0</td>\n",
              "    </tr>\n",
              "    <tr>\n",
              "      <th>6362617</th>\n",
              "      <td>743</td>\n",
              "      <td>CASH_OUT</td>\n",
              "      <td>6.311410e+06</td>\n",
              "      <td>C1162922333</td>\n",
              "      <td>6311409.500</td>\n",
              "      <td>0.000000</td>\n",
              "      <td>C1365125890</td>\n",
              "      <td>6.848884e+04</td>\n",
              "      <td>6379898.000</td>\n",
              "      <td>1</td>\n",
              "      <td>0</td>\n",
              "    </tr>\n",
              "    <tr>\n",
              "      <th>6362618</th>\n",
              "      <td>743</td>\n",
              "      <td>TRANSFER</td>\n",
              "      <td>8.500025e+05</td>\n",
              "      <td>C1685995037</td>\n",
              "      <td>850002.500</td>\n",
              "      <td>0.000000</td>\n",
              "      <td>C2080388513</td>\n",
              "      <td>0.000000e+00</td>\n",
              "      <td>0.000</td>\n",
              "      <td>1</td>\n",
              "      <td>0</td>\n",
              "    </tr>\n",
              "    <tr>\n",
              "      <th>6362619</th>\n",
              "      <td>743</td>\n",
              "      <td>CASH_OUT</td>\n",
              "      <td>8.500025e+05</td>\n",
              "      <td>C1280323807</td>\n",
              "      <td>850002.500</td>\n",
              "      <td>0.000000</td>\n",
              "      <td>C873221189</td>\n",
              "      <td>6.510099e+06</td>\n",
              "      <td>7360101.500</td>\n",
              "      <td>1</td>\n",
              "      <td>0</td>\n",
              "    </tr>\n",
              "  </tbody>\n",
              "</table>\n",
              "<p>6362620 rows × 11 columns</p>\n",
              "</div>"
            ],
            "text/plain": [
              "         step      type        amount  ... newbalanceDest  isFraud  isFlaggedFraud\n",
              "0           1   PAYMENT  9.839640e+03  ...          0.000        0               0\n",
              "1           1   PAYMENT  1.864280e+03  ...          0.000        0               0\n",
              "2           1  TRANSFER  1.810000e+02  ...          0.000        1               0\n",
              "3           1  CASH_OUT  1.810000e+02  ...          0.000        1               0\n",
              "4           1   PAYMENT  1.166814e+04  ...          0.000        0               0\n",
              "...       ...       ...           ...  ...            ...      ...             ...\n",
              "6362615   743  CASH_OUT  3.396821e+05  ...     339682.125        1               0\n",
              "6362616   743  TRANSFER  6.311410e+06  ...          0.000        1               0\n",
              "6362617   743  CASH_OUT  6.311410e+06  ...    6379898.000        1               0\n",
              "6362618   743  TRANSFER  8.500025e+05  ...          0.000        1               0\n",
              "6362619   743  CASH_OUT  8.500025e+05  ...    7360101.500        1               0\n",
              "\n",
              "[6362620 rows x 11 columns]"
            ]
          },
          "metadata": {
            "tags": []
          },
          "execution_count": 6
        }
      ]
    },
    {
      "cell_type": "markdown",
      "metadata": {
        "id": "rAKN2_KtxDhE"
      },
      "source": [
        "### Preprocessing"
      ]
    },
    {
      "cell_type": "code",
      "metadata": {
        "id": "p9bOkFG7xDhF",
        "colab": {
          "base_uri": "https://localhost:8080/"
        },
        "outputId": "694135f9-9cd9-48eb-dcab-f51b692f09f1"
      },
      "source": [
        "# cleaning data \n",
        "# checking null values\n",
        "\n",
        "data.isnull().values.any()"
      ],
      "execution_count": 7,
      "outputs": [
        {
          "output_type": "execute_result",
          "data": {
            "text/plain": [
              "False"
            ]
          },
          "metadata": {
            "tags": []
          },
          "execution_count": 7
        }
      ]
    },
    {
      "cell_type": "code",
      "metadata": {
        "id": "7yluZOBTxDhI"
      },
      "source": [
        "# feature selection\n",
        "data = data.drop(['nameOrig','nameDest'],axis = 1)"
      ],
      "execution_count": 8,
      "outputs": []
    },
    {
      "cell_type": "code",
      "metadata": {
        "id": "ouhRuPhHxDhK",
        "colab": {
          "base_uri": "https://localhost:8080/",
          "height": 399
        },
        "outputId": "8f1df535-cb70-48bc-fadd-7c17ae4ccf05"
      },
      "source": [
        "# feature engineering\n",
        "\n",
        "dummy_type = pd.get_dummies(data['type'])\n",
        "dummy_type"
      ],
      "execution_count": 10,
      "outputs": [
        {
          "output_type": "execute_result",
          "data": {
            "text/html": [
              "<div>\n",
              "<style scoped>\n",
              "    .dataframe tbody tr th:only-of-type {\n",
              "        vertical-align: middle;\n",
              "    }\n",
              "\n",
              "    .dataframe tbody tr th {\n",
              "        vertical-align: top;\n",
              "    }\n",
              "\n",
              "    .dataframe thead th {\n",
              "        text-align: right;\n",
              "    }\n",
              "</style>\n",
              "<table border=\"1\" class=\"dataframe\">\n",
              "  <thead>\n",
              "    <tr style=\"text-align: right;\">\n",
              "      <th></th>\n",
              "      <th>CASH_IN</th>\n",
              "      <th>CASH_OUT</th>\n",
              "      <th>DEBIT</th>\n",
              "      <th>PAYMENT</th>\n",
              "      <th>TRANSFER</th>\n",
              "    </tr>\n",
              "  </thead>\n",
              "  <tbody>\n",
              "    <tr>\n",
              "      <th>0</th>\n",
              "      <td>0</td>\n",
              "      <td>0</td>\n",
              "      <td>0</td>\n",
              "      <td>1</td>\n",
              "      <td>0</td>\n",
              "    </tr>\n",
              "    <tr>\n",
              "      <th>1</th>\n",
              "      <td>0</td>\n",
              "      <td>0</td>\n",
              "      <td>0</td>\n",
              "      <td>1</td>\n",
              "      <td>0</td>\n",
              "    </tr>\n",
              "    <tr>\n",
              "      <th>2</th>\n",
              "      <td>0</td>\n",
              "      <td>0</td>\n",
              "      <td>0</td>\n",
              "      <td>0</td>\n",
              "      <td>1</td>\n",
              "    </tr>\n",
              "    <tr>\n",
              "      <th>3</th>\n",
              "      <td>0</td>\n",
              "      <td>1</td>\n",
              "      <td>0</td>\n",
              "      <td>0</td>\n",
              "      <td>0</td>\n",
              "    </tr>\n",
              "    <tr>\n",
              "      <th>4</th>\n",
              "      <td>0</td>\n",
              "      <td>0</td>\n",
              "      <td>0</td>\n",
              "      <td>1</td>\n",
              "      <td>0</td>\n",
              "    </tr>\n",
              "    <tr>\n",
              "      <th>...</th>\n",
              "      <td>...</td>\n",
              "      <td>...</td>\n",
              "      <td>...</td>\n",
              "      <td>...</td>\n",
              "      <td>...</td>\n",
              "    </tr>\n",
              "    <tr>\n",
              "      <th>6362615</th>\n",
              "      <td>0</td>\n",
              "      <td>1</td>\n",
              "      <td>0</td>\n",
              "      <td>0</td>\n",
              "      <td>0</td>\n",
              "    </tr>\n",
              "    <tr>\n",
              "      <th>6362616</th>\n",
              "      <td>0</td>\n",
              "      <td>0</td>\n",
              "      <td>0</td>\n",
              "      <td>0</td>\n",
              "      <td>1</td>\n",
              "    </tr>\n",
              "    <tr>\n",
              "      <th>6362617</th>\n",
              "      <td>0</td>\n",
              "      <td>1</td>\n",
              "      <td>0</td>\n",
              "      <td>0</td>\n",
              "      <td>0</td>\n",
              "    </tr>\n",
              "    <tr>\n",
              "      <th>6362618</th>\n",
              "      <td>0</td>\n",
              "      <td>0</td>\n",
              "      <td>0</td>\n",
              "      <td>0</td>\n",
              "      <td>1</td>\n",
              "    </tr>\n",
              "    <tr>\n",
              "      <th>6362619</th>\n",
              "      <td>0</td>\n",
              "      <td>1</td>\n",
              "      <td>0</td>\n",
              "      <td>0</td>\n",
              "      <td>0</td>\n",
              "    </tr>\n",
              "  </tbody>\n",
              "</table>\n",
              "<p>6362620 rows × 5 columns</p>\n",
              "</div>"
            ],
            "text/plain": [
              "         CASH_IN  CASH_OUT  DEBIT  PAYMENT  TRANSFER\n",
              "0              0         0      0        1         0\n",
              "1              0         0      0        1         0\n",
              "2              0         0      0        0         1\n",
              "3              0         1      0        0         0\n",
              "4              0         0      0        1         0\n",
              "...          ...       ...    ...      ...       ...\n",
              "6362615        0         1      0        0         0\n",
              "6362616        0         0      0        0         1\n",
              "6362617        0         1      0        0         0\n",
              "6362618        0         0      0        0         1\n",
              "6362619        0         1      0        0         0\n",
              "\n",
              "[6362620 rows x 5 columns]"
            ]
          },
          "metadata": {
            "tags": []
          },
          "execution_count": 10
        }
      ]
    },
    {
      "cell_type": "code",
      "metadata": {
        "id": "WhRROC_0xDhN",
        "colab": {
          "base_uri": "https://localhost:8080/",
          "height": 399
        },
        "outputId": "9ae6b003-b557-441b-d0e7-f18f7245eddd"
      },
      "source": [
        "data = (pd.concat([data,dummy_type], axis = 1).reset_index(drop = True)).drop(['type'],axis = 1)[['step','CASH_IN','CASH_OUT','DEBIT','PAYMENT','TRANSFER','amount','oldbalanceOrg','newbalanceOrig','oldbalanceDest','newbalanceDest','isFlaggedFraud','isFraud']]\n",
        "data"
      ],
      "execution_count": 11,
      "outputs": [
        {
          "output_type": "execute_result",
          "data": {
            "text/html": [
              "<div>\n",
              "<style scoped>\n",
              "    .dataframe tbody tr th:only-of-type {\n",
              "        vertical-align: middle;\n",
              "    }\n",
              "\n",
              "    .dataframe tbody tr th {\n",
              "        vertical-align: top;\n",
              "    }\n",
              "\n",
              "    .dataframe thead th {\n",
              "        text-align: right;\n",
              "    }\n",
              "</style>\n",
              "<table border=\"1\" class=\"dataframe\">\n",
              "  <thead>\n",
              "    <tr style=\"text-align: right;\">\n",
              "      <th></th>\n",
              "      <th>step</th>\n",
              "      <th>CASH_IN</th>\n",
              "      <th>CASH_OUT</th>\n",
              "      <th>DEBIT</th>\n",
              "      <th>PAYMENT</th>\n",
              "      <th>TRANSFER</th>\n",
              "      <th>amount</th>\n",
              "      <th>oldbalanceOrg</th>\n",
              "      <th>newbalanceOrig</th>\n",
              "      <th>oldbalanceDest</th>\n",
              "      <th>newbalanceDest</th>\n",
              "      <th>isFlaggedFraud</th>\n",
              "      <th>isFraud</th>\n",
              "    </tr>\n",
              "  </thead>\n",
              "  <tbody>\n",
              "    <tr>\n",
              "      <th>0</th>\n",
              "      <td>1</td>\n",
              "      <td>0</td>\n",
              "      <td>0</td>\n",
              "      <td>0</td>\n",
              "      <td>1</td>\n",
              "      <td>0</td>\n",
              "      <td>9.839640e+03</td>\n",
              "      <td>170136.000</td>\n",
              "      <td>160296.359375</td>\n",
              "      <td>0.000000e+00</td>\n",
              "      <td>0.000</td>\n",
              "      <td>0</td>\n",
              "      <td>0</td>\n",
              "    </tr>\n",
              "    <tr>\n",
              "      <th>1</th>\n",
              "      <td>1</td>\n",
              "      <td>0</td>\n",
              "      <td>0</td>\n",
              "      <td>0</td>\n",
              "      <td>1</td>\n",
              "      <td>0</td>\n",
              "      <td>1.864280e+03</td>\n",
              "      <td>21249.000</td>\n",
              "      <td>19384.720703</td>\n",
              "      <td>0.000000e+00</td>\n",
              "      <td>0.000</td>\n",
              "      <td>0</td>\n",
              "      <td>0</td>\n",
              "    </tr>\n",
              "    <tr>\n",
              "      <th>2</th>\n",
              "      <td>1</td>\n",
              "      <td>0</td>\n",
              "      <td>0</td>\n",
              "      <td>0</td>\n",
              "      <td>0</td>\n",
              "      <td>1</td>\n",
              "      <td>1.810000e+02</td>\n",
              "      <td>181.000</td>\n",
              "      <td>0.000000</td>\n",
              "      <td>0.000000e+00</td>\n",
              "      <td>0.000</td>\n",
              "      <td>0</td>\n",
              "      <td>1</td>\n",
              "    </tr>\n",
              "    <tr>\n",
              "      <th>3</th>\n",
              "      <td>1</td>\n",
              "      <td>0</td>\n",
              "      <td>1</td>\n",
              "      <td>0</td>\n",
              "      <td>0</td>\n",
              "      <td>0</td>\n",
              "      <td>1.810000e+02</td>\n",
              "      <td>181.000</td>\n",
              "      <td>0.000000</td>\n",
              "      <td>2.118200e+04</td>\n",
              "      <td>0.000</td>\n",
              "      <td>0</td>\n",
              "      <td>1</td>\n",
              "    </tr>\n",
              "    <tr>\n",
              "      <th>4</th>\n",
              "      <td>1</td>\n",
              "      <td>0</td>\n",
              "      <td>0</td>\n",
              "      <td>0</td>\n",
              "      <td>1</td>\n",
              "      <td>0</td>\n",
              "      <td>1.166814e+04</td>\n",
              "      <td>41554.000</td>\n",
              "      <td>29885.859375</td>\n",
              "      <td>0.000000e+00</td>\n",
              "      <td>0.000</td>\n",
              "      <td>0</td>\n",
              "      <td>0</td>\n",
              "    </tr>\n",
              "    <tr>\n",
              "      <th>...</th>\n",
              "      <td>...</td>\n",
              "      <td>...</td>\n",
              "      <td>...</td>\n",
              "      <td>...</td>\n",
              "      <td>...</td>\n",
              "      <td>...</td>\n",
              "      <td>...</td>\n",
              "      <td>...</td>\n",
              "      <td>...</td>\n",
              "      <td>...</td>\n",
              "      <td>...</td>\n",
              "      <td>...</td>\n",
              "      <td>...</td>\n",
              "    </tr>\n",
              "    <tr>\n",
              "      <th>6362615</th>\n",
              "      <td>743</td>\n",
              "      <td>0</td>\n",
              "      <td>1</td>\n",
              "      <td>0</td>\n",
              "      <td>0</td>\n",
              "      <td>0</td>\n",
              "      <td>3.396821e+05</td>\n",
              "      <td>339682.125</td>\n",
              "      <td>0.000000</td>\n",
              "      <td>0.000000e+00</td>\n",
              "      <td>339682.125</td>\n",
              "      <td>0</td>\n",
              "      <td>1</td>\n",
              "    </tr>\n",
              "    <tr>\n",
              "      <th>6362616</th>\n",
              "      <td>743</td>\n",
              "      <td>0</td>\n",
              "      <td>0</td>\n",
              "      <td>0</td>\n",
              "      <td>0</td>\n",
              "      <td>1</td>\n",
              "      <td>6.311410e+06</td>\n",
              "      <td>6311409.500</td>\n",
              "      <td>0.000000</td>\n",
              "      <td>0.000000e+00</td>\n",
              "      <td>0.000</td>\n",
              "      <td>0</td>\n",
              "      <td>1</td>\n",
              "    </tr>\n",
              "    <tr>\n",
              "      <th>6362617</th>\n",
              "      <td>743</td>\n",
              "      <td>0</td>\n",
              "      <td>1</td>\n",
              "      <td>0</td>\n",
              "      <td>0</td>\n",
              "      <td>0</td>\n",
              "      <td>6.311410e+06</td>\n",
              "      <td>6311409.500</td>\n",
              "      <td>0.000000</td>\n",
              "      <td>6.848884e+04</td>\n",
              "      <td>6379898.000</td>\n",
              "      <td>0</td>\n",
              "      <td>1</td>\n",
              "    </tr>\n",
              "    <tr>\n",
              "      <th>6362618</th>\n",
              "      <td>743</td>\n",
              "      <td>0</td>\n",
              "      <td>0</td>\n",
              "      <td>0</td>\n",
              "      <td>0</td>\n",
              "      <td>1</td>\n",
              "      <td>8.500025e+05</td>\n",
              "      <td>850002.500</td>\n",
              "      <td>0.000000</td>\n",
              "      <td>0.000000e+00</td>\n",
              "      <td>0.000</td>\n",
              "      <td>0</td>\n",
              "      <td>1</td>\n",
              "    </tr>\n",
              "    <tr>\n",
              "      <th>6362619</th>\n",
              "      <td>743</td>\n",
              "      <td>0</td>\n",
              "      <td>1</td>\n",
              "      <td>0</td>\n",
              "      <td>0</td>\n",
              "      <td>0</td>\n",
              "      <td>8.500025e+05</td>\n",
              "      <td>850002.500</td>\n",
              "      <td>0.000000</td>\n",
              "      <td>6.510099e+06</td>\n",
              "      <td>7360101.500</td>\n",
              "      <td>0</td>\n",
              "      <td>1</td>\n",
              "    </tr>\n",
              "  </tbody>\n",
              "</table>\n",
              "<p>6362620 rows × 13 columns</p>\n",
              "</div>"
            ],
            "text/plain": [
              "         step  CASH_IN  CASH_OUT  ...  newbalanceDest  isFlaggedFraud  isFraud\n",
              "0           1        0         0  ...           0.000               0        0\n",
              "1           1        0         0  ...           0.000               0        0\n",
              "2           1        0         0  ...           0.000               0        1\n",
              "3           1        0         1  ...           0.000               0        1\n",
              "4           1        0         0  ...           0.000               0        0\n",
              "...       ...      ...       ...  ...             ...             ...      ...\n",
              "6362615   743        0         1  ...      339682.125               0        1\n",
              "6362616   743        0         0  ...           0.000               0        1\n",
              "6362617   743        0         1  ...     6379898.000               0        1\n",
              "6362618   743        0         0  ...           0.000               0        1\n",
              "6362619   743        0         1  ...     7360101.500               0        1\n",
              "\n",
              "[6362620 rows x 13 columns]"
            ]
          },
          "metadata": {
            "tags": []
          },
          "execution_count": 11
        }
      ]
    },
    {
      "cell_type": "code",
      "metadata": {
        "id": "SBF_LAN2-d9W",
        "colab": {
          "base_uri": "https://localhost:8080/",
          "height": 399
        },
        "outputId": "673054fa-0d65-4a40-e602-336fbacf2acf"
      },
      "source": [
        "data['errorBalanceOrig'] = data['newbalanceOrig'] + data['amount'] - data['oldbalanceOrg']\n",
        "data['errorBalanceDest'] = data['oldbalanceDest'] + data['amount'] - data['newbalanceDest']\n",
        "data"
      ],
      "execution_count": 12,
      "outputs": [
        {
          "output_type": "execute_result",
          "data": {
            "text/html": [
              "<div>\n",
              "<style scoped>\n",
              "    .dataframe tbody tr th:only-of-type {\n",
              "        vertical-align: middle;\n",
              "    }\n",
              "\n",
              "    .dataframe tbody tr th {\n",
              "        vertical-align: top;\n",
              "    }\n",
              "\n",
              "    .dataframe thead th {\n",
              "        text-align: right;\n",
              "    }\n",
              "</style>\n",
              "<table border=\"1\" class=\"dataframe\">\n",
              "  <thead>\n",
              "    <tr style=\"text-align: right;\">\n",
              "      <th></th>\n",
              "      <th>step</th>\n",
              "      <th>CASH_IN</th>\n",
              "      <th>CASH_OUT</th>\n",
              "      <th>DEBIT</th>\n",
              "      <th>PAYMENT</th>\n",
              "      <th>TRANSFER</th>\n",
              "      <th>amount</th>\n",
              "      <th>oldbalanceOrg</th>\n",
              "      <th>newbalanceOrig</th>\n",
              "      <th>oldbalanceDest</th>\n",
              "      <th>newbalanceDest</th>\n",
              "      <th>isFlaggedFraud</th>\n",
              "      <th>isFraud</th>\n",
              "      <th>errorBalanceOrig</th>\n",
              "      <th>errorBalanceDest</th>\n",
              "    </tr>\n",
              "  </thead>\n",
              "  <tbody>\n",
              "    <tr>\n",
              "      <th>0</th>\n",
              "      <td>1</td>\n",
              "      <td>0</td>\n",
              "      <td>0</td>\n",
              "      <td>0</td>\n",
              "      <td>1</td>\n",
              "      <td>0</td>\n",
              "      <td>9.839640e+03</td>\n",
              "      <td>170136.000</td>\n",
              "      <td>160296.359375</td>\n",
              "      <td>0.000000e+00</td>\n",
              "      <td>0.000</td>\n",
              "      <td>0</td>\n",
              "      <td>0</td>\n",
              "      <td>0.0</td>\n",
              "      <td>9.839640e+03</td>\n",
              "    </tr>\n",
              "    <tr>\n",
              "      <th>1</th>\n",
              "      <td>1</td>\n",
              "      <td>0</td>\n",
              "      <td>0</td>\n",
              "      <td>0</td>\n",
              "      <td>1</td>\n",
              "      <td>0</td>\n",
              "      <td>1.864280e+03</td>\n",
              "      <td>21249.000</td>\n",
              "      <td>19384.720703</td>\n",
              "      <td>0.000000e+00</td>\n",
              "      <td>0.000</td>\n",
              "      <td>0</td>\n",
              "      <td>0</td>\n",
              "      <td>0.0</td>\n",
              "      <td>1.864280e+03</td>\n",
              "    </tr>\n",
              "    <tr>\n",
              "      <th>2</th>\n",
              "      <td>1</td>\n",
              "      <td>0</td>\n",
              "      <td>0</td>\n",
              "      <td>0</td>\n",
              "      <td>0</td>\n",
              "      <td>1</td>\n",
              "      <td>1.810000e+02</td>\n",
              "      <td>181.000</td>\n",
              "      <td>0.000000</td>\n",
              "      <td>0.000000e+00</td>\n",
              "      <td>0.000</td>\n",
              "      <td>0</td>\n",
              "      <td>1</td>\n",
              "      <td>0.0</td>\n",
              "      <td>1.810000e+02</td>\n",
              "    </tr>\n",
              "    <tr>\n",
              "      <th>3</th>\n",
              "      <td>1</td>\n",
              "      <td>0</td>\n",
              "      <td>1</td>\n",
              "      <td>0</td>\n",
              "      <td>0</td>\n",
              "      <td>0</td>\n",
              "      <td>1.810000e+02</td>\n",
              "      <td>181.000</td>\n",
              "      <td>0.000000</td>\n",
              "      <td>2.118200e+04</td>\n",
              "      <td>0.000</td>\n",
              "      <td>0</td>\n",
              "      <td>1</td>\n",
              "      <td>0.0</td>\n",
              "      <td>2.136300e+04</td>\n",
              "    </tr>\n",
              "    <tr>\n",
              "      <th>4</th>\n",
              "      <td>1</td>\n",
              "      <td>0</td>\n",
              "      <td>0</td>\n",
              "      <td>0</td>\n",
              "      <td>1</td>\n",
              "      <td>0</td>\n",
              "      <td>1.166814e+04</td>\n",
              "      <td>41554.000</td>\n",
              "      <td>29885.859375</td>\n",
              "      <td>0.000000e+00</td>\n",
              "      <td>0.000</td>\n",
              "      <td>0</td>\n",
              "      <td>0</td>\n",
              "      <td>0.0</td>\n",
              "      <td>1.166814e+04</td>\n",
              "    </tr>\n",
              "    <tr>\n",
              "      <th>...</th>\n",
              "      <td>...</td>\n",
              "      <td>...</td>\n",
              "      <td>...</td>\n",
              "      <td>...</td>\n",
              "      <td>...</td>\n",
              "      <td>...</td>\n",
              "      <td>...</td>\n",
              "      <td>...</td>\n",
              "      <td>...</td>\n",
              "      <td>...</td>\n",
              "      <td>...</td>\n",
              "      <td>...</td>\n",
              "      <td>...</td>\n",
              "      <td>...</td>\n",
              "      <td>...</td>\n",
              "    </tr>\n",
              "    <tr>\n",
              "      <th>6362615</th>\n",
              "      <td>743</td>\n",
              "      <td>0</td>\n",
              "      <td>1</td>\n",
              "      <td>0</td>\n",
              "      <td>0</td>\n",
              "      <td>0</td>\n",
              "      <td>3.396821e+05</td>\n",
              "      <td>339682.125</td>\n",
              "      <td>0.000000</td>\n",
              "      <td>0.000000e+00</td>\n",
              "      <td>339682.125</td>\n",
              "      <td>0</td>\n",
              "      <td>1</td>\n",
              "      <td>0.0</td>\n",
              "      <td>0.000000e+00</td>\n",
              "    </tr>\n",
              "    <tr>\n",
              "      <th>6362616</th>\n",
              "      <td>743</td>\n",
              "      <td>0</td>\n",
              "      <td>0</td>\n",
              "      <td>0</td>\n",
              "      <td>0</td>\n",
              "      <td>1</td>\n",
              "      <td>6.311410e+06</td>\n",
              "      <td>6311409.500</td>\n",
              "      <td>0.000000</td>\n",
              "      <td>0.000000e+00</td>\n",
              "      <td>0.000</td>\n",
              "      <td>0</td>\n",
              "      <td>1</td>\n",
              "      <td>0.0</td>\n",
              "      <td>6.311410e+06</td>\n",
              "    </tr>\n",
              "    <tr>\n",
              "      <th>6362617</th>\n",
              "      <td>743</td>\n",
              "      <td>0</td>\n",
              "      <td>1</td>\n",
              "      <td>0</td>\n",
              "      <td>0</td>\n",
              "      <td>0</td>\n",
              "      <td>6.311410e+06</td>\n",
              "      <td>6311409.500</td>\n",
              "      <td>0.000000</td>\n",
              "      <td>6.848884e+04</td>\n",
              "      <td>6379898.000</td>\n",
              "      <td>0</td>\n",
              "      <td>1</td>\n",
              "      <td>0.0</td>\n",
              "      <td>5.000000e-01</td>\n",
              "    </tr>\n",
              "    <tr>\n",
              "      <th>6362618</th>\n",
              "      <td>743</td>\n",
              "      <td>0</td>\n",
              "      <td>0</td>\n",
              "      <td>0</td>\n",
              "      <td>0</td>\n",
              "      <td>1</td>\n",
              "      <td>8.500025e+05</td>\n",
              "      <td>850002.500</td>\n",
              "      <td>0.000000</td>\n",
              "      <td>0.000000e+00</td>\n",
              "      <td>0.000</td>\n",
              "      <td>0</td>\n",
              "      <td>1</td>\n",
              "      <td>0.0</td>\n",
              "      <td>8.500025e+05</td>\n",
              "    </tr>\n",
              "    <tr>\n",
              "      <th>6362619</th>\n",
              "      <td>743</td>\n",
              "      <td>0</td>\n",
              "      <td>1</td>\n",
              "      <td>0</td>\n",
              "      <td>0</td>\n",
              "      <td>0</td>\n",
              "      <td>8.500025e+05</td>\n",
              "      <td>850002.500</td>\n",
              "      <td>0.000000</td>\n",
              "      <td>6.510099e+06</td>\n",
              "      <td>7360101.500</td>\n",
              "      <td>0</td>\n",
              "      <td>1</td>\n",
              "      <td>0.0</td>\n",
              "      <td>0.000000e+00</td>\n",
              "    </tr>\n",
              "  </tbody>\n",
              "</table>\n",
              "<p>6362620 rows × 15 columns</p>\n",
              "</div>"
            ],
            "text/plain": [
              "         step  CASH_IN  CASH_OUT  ...  isFraud  errorBalanceOrig  errorBalanceDest\n",
              "0           1        0         0  ...        0               0.0      9.839640e+03\n",
              "1           1        0         0  ...        0               0.0      1.864280e+03\n",
              "2           1        0         0  ...        1               0.0      1.810000e+02\n",
              "3           1        0         1  ...        1               0.0      2.136300e+04\n",
              "4           1        0         0  ...        0               0.0      1.166814e+04\n",
              "...       ...      ...       ...  ...      ...               ...               ...\n",
              "6362615   743        0         1  ...        1               0.0      0.000000e+00\n",
              "6362616   743        0         0  ...        1               0.0      6.311410e+06\n",
              "6362617   743        0         1  ...        1               0.0      5.000000e-01\n",
              "6362618   743        0         0  ...        1               0.0      8.500025e+05\n",
              "6362619   743        0         1  ...        1               0.0      0.000000e+00\n",
              "\n",
              "[6362620 rows x 15 columns]"
            ]
          },
          "metadata": {
            "tags": []
          },
          "execution_count": 12
        }
      ]
    },
    {
      "cell_type": "code",
      "metadata": {
        "id": "ogfvRs23xDhQ"
      },
      "source": [
        "# splitting data\n",
        "\n",
        "# fraud and no fraud transactions are separated by 'isFraud' column\n",
        "dataF = data[data['isFraud'] == 1]\n",
        "dataNF = data[data['isFraud'] == 0]\n",
        "\n",
        "# split fraud transactions into 80 percent and 20 percent sessions\n",
        "mskF = np.random.rand(len(dataF)) < 0.8\n",
        "trainF = dataF[mskF]\n",
        "testF = dataF[~mskF]\n",
        "\n",
        "# split no fraud transactions into 80 percent and 20 percent sessions\n",
        "mskNF = np.random.rand(len(dataNF)) < 0.8\n",
        "trainNF = dataNF[mskNF]\n",
        "testNF = dataNF[~mskNF]\n",
        "\n",
        "# create training data and testing data\n",
        "train_data = pd.concat([trainF,trainNF]).reset_index(drop = True)\n",
        "test_data = pd.concat([testF,testNF]).reset_index(drop = True)\n",
        "\n",
        "#create input data attributes by dropped irrevalent and target column \n",
        "train_feature = train_data.drop(['isFraud'],axis = 1)\n",
        "test_feature = test_data.drop(['isFraud'],axis = 1)\n",
        "\n",
        "train_label = train_data['isFraud']\n",
        "test_label = test_data['isFraud']"
      ],
      "execution_count": 14,
      "outputs": []
    },
    {
      "cell_type": "code",
      "metadata": {
        "id": "fJi3qSKKxDhS"
      },
      "source": [
        "# feature scaling\n",
        "\n",
        "scaler = preprocessing.StandardScaler()\n",
        "train_feature_scaled =scaler.fit_transform(train_feature)\n",
        "\n",
        "test_feature_scaled = scaler.transform(test_feature)"
      ],
      "execution_count": 15,
      "outputs": []
    },
    {
      "cell_type": "code",
      "metadata": {
        "id": "AmV3iS9vt7nE",
        "colab": {
          "base_uri": "https://localhost:8080/"
        },
        "outputId": "bdc205ca-b3d5-4194-d6cd-59379245fe01"
      },
      "source": [
        "train_feature_scaled[1]"
      ],
      "execution_count": 16,
      "outputs": [
        {
          "output_type": "execute_result",
          "data": {
            "text/plain": [
              "array([-1.70317324e+00, -5.30919959e-01,  1.35774400e+00, -8.06908639e-02,\n",
              "       -7.14899389e-01, -3.02298348e-01, -2.92792798e-01, -2.87697209e-01,\n",
              "       -2.92408454e-01, -3.16049626e-01, -3.33367178e-01, -1.65875706e-03,\n",
              "       -3.30986466e-01, -5.97883086e-02])"
            ]
          },
          "metadata": {
            "tags": []
          },
          "execution_count": 16
        }
      ]
    },
    {
      "cell_type": "code",
      "metadata": {
        "id": "uha4m-OjwQ29"
      },
      "source": [
        "col = ['step', 'CASH_IN', 'CASH_OUT', 'DEBIT', 'PAYMENT', 'TRANSFER', 'amount',\n",
        "       'oldbalanceOrg', 'newbalanceOrig', 'oldbalanceDest', 'newbalanceDest',\n",
        "       'isFlaggedFraud', 'errorBalanceOrig', 'errorBalanceDest']"
      ],
      "execution_count": 17,
      "outputs": []
    },
    {
      "cell_type": "code",
      "metadata": {
        "id": "LREKGLycvfiR",
        "colab": {
          "base_uri": "https://localhost:8080/",
          "height": 399
        },
        "outputId": "cebf784d-5fae-43f1-8937-f6d5f981d25d"
      },
      "source": [
        "data_feature_train = pd.DataFrame(data=train_feature_scaled, columns=col)\n",
        "data_feature_train"
      ],
      "execution_count": 18,
      "outputs": [
        {
          "output_type": "execute_result",
          "data": {
            "text/html": [
              "<div>\n",
              "<style scoped>\n",
              "    .dataframe tbody tr th:only-of-type {\n",
              "        vertical-align: middle;\n",
              "    }\n",
              "\n",
              "    .dataframe tbody tr th {\n",
              "        vertical-align: top;\n",
              "    }\n",
              "\n",
              "    .dataframe thead th {\n",
              "        text-align: right;\n",
              "    }\n",
              "</style>\n",
              "<table border=\"1\" class=\"dataframe\">\n",
              "  <thead>\n",
              "    <tr style=\"text-align: right;\">\n",
              "      <th></th>\n",
              "      <th>step</th>\n",
              "      <th>CASH_IN</th>\n",
              "      <th>CASH_OUT</th>\n",
              "      <th>DEBIT</th>\n",
              "      <th>PAYMENT</th>\n",
              "      <th>TRANSFER</th>\n",
              "      <th>amount</th>\n",
              "      <th>oldbalanceOrg</th>\n",
              "      <th>newbalanceOrig</th>\n",
              "      <th>oldbalanceDest</th>\n",
              "      <th>newbalanceDest</th>\n",
              "      <th>isFlaggedFraud</th>\n",
              "      <th>errorBalanceOrig</th>\n",
              "      <th>errorBalanceDest</th>\n",
              "    </tr>\n",
              "  </thead>\n",
              "  <tbody>\n",
              "    <tr>\n",
              "      <th>0</th>\n",
              "      <td>-1.703173</td>\n",
              "      <td>-0.53092</td>\n",
              "      <td>1.357744</td>\n",
              "      <td>-0.080691</td>\n",
              "      <td>-0.714899</td>\n",
              "      <td>-0.302298</td>\n",
              "      <td>-0.297135</td>\n",
              "      <td>-0.288607</td>\n",
              "      <td>-0.292408</td>\n",
              "      <td>-0.317527</td>\n",
              "      <td>-0.333367</td>\n",
              "      <td>-0.001659</td>\n",
              "      <td>-0.330986</td>\n",
              "      <td>-0.077041</td>\n",
              "    </tr>\n",
              "    <tr>\n",
              "      <th>1</th>\n",
              "      <td>-1.703173</td>\n",
              "      <td>-0.53092</td>\n",
              "      <td>1.357744</td>\n",
              "      <td>-0.080691</td>\n",
              "      <td>-0.714899</td>\n",
              "      <td>-0.302298</td>\n",
              "      <td>-0.292793</td>\n",
              "      <td>-0.287697</td>\n",
              "      <td>-0.292408</td>\n",
              "      <td>-0.316050</td>\n",
              "      <td>-0.333367</td>\n",
              "      <td>-0.001659</td>\n",
              "      <td>-0.330986</td>\n",
              "      <td>-0.059788</td>\n",
              "    </tr>\n",
              "    <tr>\n",
              "      <th>2</th>\n",
              "      <td>-1.703173</td>\n",
              "      <td>-0.53092</td>\n",
              "      <td>1.357744</td>\n",
              "      <td>-0.080691</td>\n",
              "      <td>-0.714899</td>\n",
              "      <td>-0.302298</td>\n",
              "      <td>0.390692</td>\n",
              "      <td>-0.288669</td>\n",
              "      <td>-0.292408</td>\n",
              "      <td>-0.323728</td>\n",
              "      <td>2.195693</td>\n",
              "      <td>-0.001659</td>\n",
              "      <td>0.353753</td>\n",
              "      <td>-20.154680</td>\n",
              "    </tr>\n",
              "    <tr>\n",
              "      <th>3</th>\n",
              "      <td>-1.703173</td>\n",
              "      <td>-0.53092</td>\n",
              "      <td>-0.736516</td>\n",
              "      <td>-0.080691</td>\n",
              "      <td>-0.714899</td>\n",
              "      <td>3.307990</td>\n",
              "      <td>1.815259</td>\n",
              "      <td>0.153800</td>\n",
              "      <td>-0.292408</td>\n",
              "      <td>-0.323758</td>\n",
              "      <td>-0.333367</td>\n",
              "      <td>-0.001659</td>\n",
              "      <td>-0.330986</td>\n",
              "      <td>2.757042</td>\n",
              "    </tr>\n",
              "    <tr>\n",
              "      <th>4</th>\n",
              "      <td>-1.703173</td>\n",
              "      <td>-0.53092</td>\n",
              "      <td>-0.736516</td>\n",
              "      <td>-0.080691</td>\n",
              "      <td>-0.714899</td>\n",
              "      <td>3.307990</td>\n",
              "      <td>-0.239434</td>\n",
              "      <td>-0.276522</td>\n",
              "      <td>-0.292408</td>\n",
              "      <td>-0.323758</td>\n",
              "      <td>-0.333367</td>\n",
              "      <td>-0.001659</td>\n",
              "      <td>-0.330986</td>\n",
              "      <td>-0.046123</td>\n",
              "    </tr>\n",
              "    <tr>\n",
              "      <th>...</th>\n",
              "      <td>...</td>\n",
              "      <td>...</td>\n",
              "      <td>...</td>\n",
              "      <td>...</td>\n",
              "      <td>...</td>\n",
              "      <td>...</td>\n",
              "      <td>...</td>\n",
              "      <td>...</td>\n",
              "      <td>...</td>\n",
              "      <td>...</td>\n",
              "      <td>...</td>\n",
              "      <td>...</td>\n",
              "      <td>...</td>\n",
              "      <td>...</td>\n",
              "    </tr>\n",
              "    <tr>\n",
              "      <th>5088189</th>\n",
              "      <td>3.334637</td>\n",
              "      <td>-0.53092</td>\n",
              "      <td>1.357744</td>\n",
              "      <td>-0.080691</td>\n",
              "      <td>-0.714899</td>\n",
              "      <td>-0.302298</td>\n",
              "      <td>0.227223</td>\n",
              "      <td>-0.288610</td>\n",
              "      <td>-0.292408</td>\n",
              "      <td>-0.222246</td>\n",
              "      <td>-0.153119</td>\n",
              "      <td>-0.001659</td>\n",
              "      <td>0.190809</td>\n",
              "      <td>-0.125251</td>\n",
              "    </tr>\n",
              "    <tr>\n",
              "      <th>5088190</th>\n",
              "      <td>3.334637</td>\n",
              "      <td>-0.53092</td>\n",
              "      <td>-0.736516</td>\n",
              "      <td>-0.080691</td>\n",
              "      <td>1.398798</td>\n",
              "      <td>-0.302298</td>\n",
              "      <td>-0.283152</td>\n",
              "      <td>-0.108939</td>\n",
              "      <td>-0.117837</td>\n",
              "      <td>-0.323758</td>\n",
              "      <td>-0.333367</td>\n",
              "      <td>-0.001659</td>\n",
              "      <td>-0.330986</td>\n",
              "      <td>-0.105766</td>\n",
              "    </tr>\n",
              "    <tr>\n",
              "      <th>5088191</th>\n",
              "      <td>3.334637</td>\n",
              "      <td>-0.53092</td>\n",
              "      <td>1.357744</td>\n",
              "      <td>-0.080691</td>\n",
              "      <td>-0.714899</td>\n",
              "      <td>-0.302298</td>\n",
              "      <td>-0.034114</td>\n",
              "      <td>-0.287332</td>\n",
              "      <td>-0.292408</td>\n",
              "      <td>-0.323758</td>\n",
              "      <td>-0.290038</td>\n",
              "      <td>-0.001659</td>\n",
              "      <td>-0.075314</td>\n",
              "      <td>-0.125251</td>\n",
              "    </tr>\n",
              "    <tr>\n",
              "      <th>5088192</th>\n",
              "      <td>3.334637</td>\n",
              "      <td>-0.53092</td>\n",
              "      <td>-0.736516</td>\n",
              "      <td>-0.080691</td>\n",
              "      <td>-0.714899</td>\n",
              "      <td>3.307990</td>\n",
              "      <td>-0.161635</td>\n",
              "      <td>-0.283995</td>\n",
              "      <td>-0.292408</td>\n",
              "      <td>-0.323758</td>\n",
              "      <td>-0.311022</td>\n",
              "      <td>-0.001659</td>\n",
              "      <td>-0.218063</td>\n",
              "      <td>-0.125251</td>\n",
              "    </tr>\n",
              "    <tr>\n",
              "      <th>5088193</th>\n",
              "      <td>3.334637</td>\n",
              "      <td>-0.53092</td>\n",
              "      <td>-0.736516</td>\n",
              "      <td>12.392977</td>\n",
              "      <td>-0.714899</td>\n",
              "      <td>-0.302298</td>\n",
              "      <td>-0.294351</td>\n",
              "      <td>-0.281593</td>\n",
              "      <td>-0.286057</td>\n",
              "      <td>-0.268229</td>\n",
              "      <td>-0.281486</td>\n",
              "      <td>-0.001659</td>\n",
              "      <td>-0.330986</td>\n",
              "      <td>-0.125251</td>\n",
              "    </tr>\n",
              "  </tbody>\n",
              "</table>\n",
              "<p>5088194 rows × 14 columns</p>\n",
              "</div>"
            ],
            "text/plain": [
              "             step  CASH_IN  ...  errorBalanceOrig  errorBalanceDest\n",
              "0       -1.703173 -0.53092  ...         -0.330986         -0.077041\n",
              "1       -1.703173 -0.53092  ...         -0.330986         -0.059788\n",
              "2       -1.703173 -0.53092  ...          0.353753        -20.154680\n",
              "3       -1.703173 -0.53092  ...         -0.330986          2.757042\n",
              "4       -1.703173 -0.53092  ...         -0.330986         -0.046123\n",
              "...           ...      ...  ...               ...               ...\n",
              "5088189  3.334637 -0.53092  ...          0.190809         -0.125251\n",
              "5088190  3.334637 -0.53092  ...         -0.330986         -0.105766\n",
              "5088191  3.334637 -0.53092  ...         -0.075314         -0.125251\n",
              "5088192  3.334637 -0.53092  ...         -0.218063         -0.125251\n",
              "5088193  3.334637 -0.53092  ...         -0.330986         -0.125251\n",
              "\n",
              "[5088194 rows x 14 columns]"
            ]
          },
          "metadata": {
            "tags": []
          },
          "execution_count": 18
        }
      ]
    },
    {
      "cell_type": "code",
      "metadata": {
        "id": "z85J36SKxoF4",
        "colab": {
          "base_uri": "https://localhost:8080/",
          "height": 399
        },
        "outputId": "56507e28-8cf7-480b-bf10-844fe2705947"
      },
      "source": [
        "train_label.to_frame()"
      ],
      "execution_count": 19,
      "outputs": [
        {
          "output_type": "execute_result",
          "data": {
            "text/html": [
              "<div>\n",
              "<style scoped>\n",
              "    .dataframe tbody tr th:only-of-type {\n",
              "        vertical-align: middle;\n",
              "    }\n",
              "\n",
              "    .dataframe tbody tr th {\n",
              "        vertical-align: top;\n",
              "    }\n",
              "\n",
              "    .dataframe thead th {\n",
              "        text-align: right;\n",
              "    }\n",
              "</style>\n",
              "<table border=\"1\" class=\"dataframe\">\n",
              "  <thead>\n",
              "    <tr style=\"text-align: right;\">\n",
              "      <th></th>\n",
              "      <th>isFraud</th>\n",
              "    </tr>\n",
              "  </thead>\n",
              "  <tbody>\n",
              "    <tr>\n",
              "      <th>0</th>\n",
              "      <td>1</td>\n",
              "    </tr>\n",
              "    <tr>\n",
              "      <th>1</th>\n",
              "      <td>1</td>\n",
              "    </tr>\n",
              "    <tr>\n",
              "      <th>2</th>\n",
              "      <td>1</td>\n",
              "    </tr>\n",
              "    <tr>\n",
              "      <th>3</th>\n",
              "      <td>1</td>\n",
              "    </tr>\n",
              "    <tr>\n",
              "      <th>4</th>\n",
              "      <td>1</td>\n",
              "    </tr>\n",
              "    <tr>\n",
              "      <th>...</th>\n",
              "      <td>...</td>\n",
              "    </tr>\n",
              "    <tr>\n",
              "      <th>5088189</th>\n",
              "      <td>0</td>\n",
              "    </tr>\n",
              "    <tr>\n",
              "      <th>5088190</th>\n",
              "      <td>0</td>\n",
              "    </tr>\n",
              "    <tr>\n",
              "      <th>5088191</th>\n",
              "      <td>0</td>\n",
              "    </tr>\n",
              "    <tr>\n",
              "      <th>5088192</th>\n",
              "      <td>0</td>\n",
              "    </tr>\n",
              "    <tr>\n",
              "      <th>5088193</th>\n",
              "      <td>0</td>\n",
              "    </tr>\n",
              "  </tbody>\n",
              "</table>\n",
              "<p>5088194 rows × 1 columns</p>\n",
              "</div>"
            ],
            "text/plain": [
              "         isFraud\n",
              "0              1\n",
              "1              1\n",
              "2              1\n",
              "3              1\n",
              "4              1\n",
              "...          ...\n",
              "5088189        0\n",
              "5088190        0\n",
              "5088191        0\n",
              "5088192        0\n",
              "5088193        0\n",
              "\n",
              "[5088194 rows x 1 columns]"
            ]
          },
          "metadata": {
            "tags": []
          },
          "execution_count": 19
        }
      ]
    },
    {
      "cell_type": "code",
      "metadata": {
        "id": "gjSrX3AHx_Ek",
        "colab": {
          "base_uri": "https://localhost:8080/",
          "height": 399
        },
        "outputId": "ce62bf18-9354-494c-f300-697f84582f0c"
      },
      "source": [
        "data_feature_test = pd.DataFrame(data=test_feature_scaled, columns=col)\n",
        "data_feature_test"
      ],
      "execution_count": 20,
      "outputs": [
        {
          "output_type": "execute_result",
          "data": {
            "text/html": [
              "<div>\n",
              "<style scoped>\n",
              "    .dataframe tbody tr th:only-of-type {\n",
              "        vertical-align: middle;\n",
              "    }\n",
              "\n",
              "    .dataframe tbody tr th {\n",
              "        vertical-align: top;\n",
              "    }\n",
              "\n",
              "    .dataframe thead th {\n",
              "        text-align: right;\n",
              "    }\n",
              "</style>\n",
              "<table border=\"1\" class=\"dataframe\">\n",
              "  <thead>\n",
              "    <tr style=\"text-align: right;\">\n",
              "      <th></th>\n",
              "      <th>step</th>\n",
              "      <th>CASH_IN</th>\n",
              "      <th>CASH_OUT</th>\n",
              "      <th>DEBIT</th>\n",
              "      <th>PAYMENT</th>\n",
              "      <th>TRANSFER</th>\n",
              "      <th>amount</th>\n",
              "      <th>oldbalanceOrg</th>\n",
              "      <th>newbalanceOrig</th>\n",
              "      <th>oldbalanceDest</th>\n",
              "      <th>newbalanceDest</th>\n",
              "      <th>isFlaggedFraud</th>\n",
              "      <th>errorBalanceOrig</th>\n",
              "      <th>errorBalanceDest</th>\n",
              "    </tr>\n",
              "  </thead>\n",
              "  <tbody>\n",
              "    <tr>\n",
              "      <th>0</th>\n",
              "      <td>-1.703173</td>\n",
              "      <td>-0.53092</td>\n",
              "      <td>-0.736516</td>\n",
              "      <td>-0.080691</td>\n",
              "      <td>-0.714899</td>\n",
              "      <td>3.307990</td>\n",
              "      <td>-0.297135</td>\n",
              "      <td>-0.288607</td>\n",
              "      <td>-0.292408</td>\n",
              "      <td>-0.323758</td>\n",
              "      <td>-0.333367</td>\n",
              "      <td>-0.001659</td>\n",
              "      <td>-0.330986</td>\n",
              "      <td>-0.124842</td>\n",
              "    </tr>\n",
              "    <tr>\n",
              "      <th>1</th>\n",
              "      <td>-1.703173</td>\n",
              "      <td>-0.53092</td>\n",
              "      <td>-0.736516</td>\n",
              "      <td>-0.080691</td>\n",
              "      <td>-0.714899</td>\n",
              "      <td>3.307990</td>\n",
              "      <td>-0.292793</td>\n",
              "      <td>-0.287697</td>\n",
              "      <td>-0.292408</td>\n",
              "      <td>-0.323758</td>\n",
              "      <td>-0.333367</td>\n",
              "      <td>-0.001659</td>\n",
              "      <td>-0.330986</td>\n",
              "      <td>-0.118919</td>\n",
              "    </tr>\n",
              "    <tr>\n",
              "      <th>2</th>\n",
              "      <td>-1.703173</td>\n",
              "      <td>-0.53092</td>\n",
              "      <td>-0.736516</td>\n",
              "      <td>-0.080691</td>\n",
              "      <td>-0.714899</td>\n",
              "      <td>3.307990</td>\n",
              "      <td>-0.264140</td>\n",
              "      <td>-0.281696</td>\n",
              "      <td>-0.292408</td>\n",
              "      <td>-0.323758</td>\n",
              "      <td>-0.333367</td>\n",
              "      <td>-0.001659</td>\n",
              "      <td>-0.330986</td>\n",
              "      <td>-0.079828</td>\n",
              "    </tr>\n",
              "    <tr>\n",
              "      <th>3</th>\n",
              "      <td>-1.703173</td>\n",
              "      <td>-0.53092</td>\n",
              "      <td>1.357744</td>\n",
              "      <td>-0.080691</td>\n",
              "      <td>-0.714899</td>\n",
              "      <td>-0.302298</td>\n",
              "      <td>-0.264140</td>\n",
              "      <td>-0.281696</td>\n",
              "      <td>-0.292408</td>\n",
              "      <td>-0.321914</td>\n",
              "      <td>-0.330061</td>\n",
              "      <td>-0.001659</td>\n",
              "      <td>-0.330986</td>\n",
              "      <td>-0.093092</td>\n",
              "    </tr>\n",
              "    <tr>\n",
              "      <th>4</th>\n",
              "      <td>-1.703173</td>\n",
              "      <td>-0.53092</td>\n",
              "      <td>1.357744</td>\n",
              "      <td>-0.080691</td>\n",
              "      <td>-0.714899</td>\n",
              "      <td>-0.302298</td>\n",
              "      <td>1.815259</td>\n",
              "      <td>0.153800</td>\n",
              "      <td>-0.292408</td>\n",
              "      <td>-0.323758</td>\n",
              "      <td>0.332126</td>\n",
              "      <td>-0.001659</td>\n",
              "      <td>-0.330986</td>\n",
              "      <td>-2.760570</td>\n",
              "    </tr>\n",
              "    <tr>\n",
              "      <th>...</th>\n",
              "      <td>...</td>\n",
              "      <td>...</td>\n",
              "      <td>...</td>\n",
              "      <td>...</td>\n",
              "      <td>...</td>\n",
              "      <td>...</td>\n",
              "      <td>...</td>\n",
              "      <td>...</td>\n",
              "      <td>...</td>\n",
              "      <td>...</td>\n",
              "      <td>...</td>\n",
              "      <td>...</td>\n",
              "      <td>...</td>\n",
              "      <td>...</td>\n",
              "    </tr>\n",
              "    <tr>\n",
              "      <th>1274421</th>\n",
              "      <td>3.334637</td>\n",
              "      <td>-0.53092</td>\n",
              "      <td>-0.736516</td>\n",
              "      <td>-0.080691</td>\n",
              "      <td>1.398798</td>\n",
              "      <td>-0.302298</td>\n",
              "      <td>-0.289774</td>\n",
              "      <td>-0.252315</td>\n",
              "      <td>-0.258085</td>\n",
              "      <td>-0.323758</td>\n",
              "      <td>-0.333367</td>\n",
              "      <td>-0.001659</td>\n",
              "      <td>-0.330986</td>\n",
              "      <td>-0.114800</td>\n",
              "    </tr>\n",
              "    <tr>\n",
              "      <th>1274422</th>\n",
              "      <td>3.334637</td>\n",
              "      <td>-0.53092</td>\n",
              "      <td>1.357744</td>\n",
              "      <td>-0.080691</td>\n",
              "      <td>-0.714899</td>\n",
              "      <td>-0.302298</td>\n",
              "      <td>-0.017402</td>\n",
              "      <td>-0.279344</td>\n",
              "      <td>-0.292408</td>\n",
              "      <td>0.466058</td>\n",
              "      <td>0.443426</td>\n",
              "      <td>-0.001659</td>\n",
              "      <td>-0.096641</td>\n",
              "      <td>-0.125251</td>\n",
              "    </tr>\n",
              "    <tr>\n",
              "      <th>1274423</th>\n",
              "      <td>3.334637</td>\n",
              "      <td>-0.53092</td>\n",
              "      <td>-0.736516</td>\n",
              "      <td>-0.080691</td>\n",
              "      <td>1.398798</td>\n",
              "      <td>-0.302298</td>\n",
              "      <td>-0.286501</td>\n",
              "      <td>-0.278576</td>\n",
              "      <td>-0.284700</td>\n",
              "      <td>-0.323758</td>\n",
              "      <td>-0.333367</td>\n",
              "      <td>-0.001659</td>\n",
              "      <td>-0.330986</td>\n",
              "      <td>-0.110335</td>\n",
              "    </tr>\n",
              "    <tr>\n",
              "      <th>1274424</th>\n",
              "      <td>3.334637</td>\n",
              "      <td>-0.53092</td>\n",
              "      <td>-0.736516</td>\n",
              "      <td>-0.080691</td>\n",
              "      <td>1.398798</td>\n",
              "      <td>-0.302298</td>\n",
              "      <td>-0.290637</td>\n",
              "      <td>-0.286757</td>\n",
              "      <td>-0.291925</td>\n",
              "      <td>-0.323758</td>\n",
              "      <td>-0.333367</td>\n",
              "      <td>-0.001659</td>\n",
              "      <td>-0.330986</td>\n",
              "      <td>-0.115977</td>\n",
              "    </tr>\n",
              "    <tr>\n",
              "      <th>1274425</th>\n",
              "      <td>3.334637</td>\n",
              "      <td>-0.53092</td>\n",
              "      <td>1.357744</td>\n",
              "      <td>-0.080691</td>\n",
              "      <td>-0.714899</td>\n",
              "      <td>-0.302298</td>\n",
              "      <td>0.010689</td>\n",
              "      <td>-0.230453</td>\n",
              "      <td>-0.292408</td>\n",
              "      <td>-0.316435</td>\n",
              "      <td>-0.275890</td>\n",
              "      <td>-0.001659</td>\n",
              "      <td>-0.300983</td>\n",
              "      <td>-0.125251</td>\n",
              "    </tr>\n",
              "  </tbody>\n",
              "</table>\n",
              "<p>1274426 rows × 14 columns</p>\n",
              "</div>"
            ],
            "text/plain": [
              "             step  CASH_IN  ...  errorBalanceOrig  errorBalanceDest\n",
              "0       -1.703173 -0.53092  ...         -0.330986         -0.124842\n",
              "1       -1.703173 -0.53092  ...         -0.330986         -0.118919\n",
              "2       -1.703173 -0.53092  ...         -0.330986         -0.079828\n",
              "3       -1.703173 -0.53092  ...         -0.330986         -0.093092\n",
              "4       -1.703173 -0.53092  ...         -0.330986         -2.760570\n",
              "...           ...      ...  ...               ...               ...\n",
              "1274421  3.334637 -0.53092  ...         -0.330986         -0.114800\n",
              "1274422  3.334637 -0.53092  ...         -0.096641         -0.125251\n",
              "1274423  3.334637 -0.53092  ...         -0.330986         -0.110335\n",
              "1274424  3.334637 -0.53092  ...         -0.330986         -0.115977\n",
              "1274425  3.334637 -0.53092  ...         -0.300983         -0.125251\n",
              "\n",
              "[1274426 rows x 14 columns]"
            ]
          },
          "metadata": {
            "tags": []
          },
          "execution_count": 20
        }
      ]
    },
    {
      "cell_type": "code",
      "metadata": {
        "id": "Wu0gOTNPyOyU",
        "colab": {
          "base_uri": "https://localhost:8080/",
          "height": 399
        },
        "outputId": "416fb616-6505-4824-b43b-be41d04da0e2"
      },
      "source": [
        "test_label.to_frame()"
      ],
      "execution_count": 21,
      "outputs": [
        {
          "output_type": "execute_result",
          "data": {
            "text/html": [
              "<div>\n",
              "<style scoped>\n",
              "    .dataframe tbody tr th:only-of-type {\n",
              "        vertical-align: middle;\n",
              "    }\n",
              "\n",
              "    .dataframe tbody tr th {\n",
              "        vertical-align: top;\n",
              "    }\n",
              "\n",
              "    .dataframe thead th {\n",
              "        text-align: right;\n",
              "    }\n",
              "</style>\n",
              "<table border=\"1\" class=\"dataframe\">\n",
              "  <thead>\n",
              "    <tr style=\"text-align: right;\">\n",
              "      <th></th>\n",
              "      <th>isFraud</th>\n",
              "    </tr>\n",
              "  </thead>\n",
              "  <tbody>\n",
              "    <tr>\n",
              "      <th>0</th>\n",
              "      <td>1</td>\n",
              "    </tr>\n",
              "    <tr>\n",
              "      <th>1</th>\n",
              "      <td>1</td>\n",
              "    </tr>\n",
              "    <tr>\n",
              "      <th>2</th>\n",
              "      <td>1</td>\n",
              "    </tr>\n",
              "    <tr>\n",
              "      <th>3</th>\n",
              "      <td>1</td>\n",
              "    </tr>\n",
              "    <tr>\n",
              "      <th>4</th>\n",
              "      <td>1</td>\n",
              "    </tr>\n",
              "    <tr>\n",
              "      <th>...</th>\n",
              "      <td>...</td>\n",
              "    </tr>\n",
              "    <tr>\n",
              "      <th>1274421</th>\n",
              "      <td>0</td>\n",
              "    </tr>\n",
              "    <tr>\n",
              "      <th>1274422</th>\n",
              "      <td>0</td>\n",
              "    </tr>\n",
              "    <tr>\n",
              "      <th>1274423</th>\n",
              "      <td>0</td>\n",
              "    </tr>\n",
              "    <tr>\n",
              "      <th>1274424</th>\n",
              "      <td>0</td>\n",
              "    </tr>\n",
              "    <tr>\n",
              "      <th>1274425</th>\n",
              "      <td>0</td>\n",
              "    </tr>\n",
              "  </tbody>\n",
              "</table>\n",
              "<p>1274426 rows × 1 columns</p>\n",
              "</div>"
            ],
            "text/plain": [
              "         isFraud\n",
              "0              1\n",
              "1              1\n",
              "2              1\n",
              "3              1\n",
              "4              1\n",
              "...          ...\n",
              "1274421        0\n",
              "1274422        0\n",
              "1274423        0\n",
              "1274424        0\n",
              "1274425        0\n",
              "\n",
              "[1274426 rows x 1 columns]"
            ]
          },
          "metadata": {
            "tags": []
          },
          "execution_count": 21
        }
      ]
    },
    {
      "cell_type": "markdown",
      "metadata": {
        "id": "tqCyYPsTxDhU"
      },
      "source": [
        "## Logistic Regression"
      ]
    },
    {
      "cell_type": "markdown",
      "metadata": {
        "id": "WNXhP0PxxDhV"
      },
      "source": [
        "Logistic regression is used to describe data and to explain the relationship between one dependent binary variable and one or more nominal, ordinal, interval or ratio-level independent variables\n",
        "    \n",
        "    class sklearn.linear_model.LogisticRegression (penalty='l2', *, dual=False, tol=0.0001, C=1.0, fit_intercept=True, intercept_scaling=1, class_weight=None, random_state=None, solver='lbfgs', max_iter=100, multi_class='auto', verbose=0, warm_start=False, n_jobs=None, l1_ratio=None)\n",
        "    \n",
        "https://scikit-learn.org/stable/modules/generated/sklearn.linear_model.LogisticRegression.html"
      ]
    },
    {
      "cell_type": "code",
      "metadata": {
        "id": "oMDSNeAJxDhV",
        "colab": {
          "base_uri": "https://localhost:8080/"
        },
        "outputId": "230ed84e-9f17-412d-f4c2-59a39e42bde3"
      },
      "source": [
        "from sklearn.linear_model import LogisticRegression\n",
        "clf = LogisticRegression(random_state=0)\n",
        "clf.fit(train_feature_scaled,train_label)"
      ],
      "execution_count": 22,
      "outputs": [
        {
          "output_type": "stream",
          "text": [
            "/usr/local/lib/python3.6/dist-packages/sklearn/linear_model/_logistic.py:940: ConvergenceWarning: lbfgs failed to converge (status=1):\n",
            "STOP: TOTAL NO. of ITERATIONS REACHED LIMIT.\n",
            "\n",
            "Increase the number of iterations (max_iter) or scale the data as shown in:\n",
            "    https://scikit-learn.org/stable/modules/preprocessing.html\n",
            "Please also refer to the documentation for alternative solver options:\n",
            "    https://scikit-learn.org/stable/modules/linear_model.html#logistic-regression\n",
            "  extra_warning_msg=_LOGISTIC_SOLVER_CONVERGENCE_MSG)\n"
          ],
          "name": "stderr"
        },
        {
          "output_type": "execute_result",
          "data": {
            "text/plain": [
              "LogisticRegression(C=1.0, class_weight=None, dual=False, fit_intercept=True,\n",
              "                   intercept_scaling=1, l1_ratio=None, max_iter=100,\n",
              "                   multi_class='auto', n_jobs=None, penalty='l2',\n",
              "                   random_state=0, solver='lbfgs', tol=0.0001, verbose=0,\n",
              "                   warm_start=False)"
            ]
          },
          "metadata": {
            "tags": []
          },
          "execution_count": 22
        }
      ]
    },
    {
      "cell_type": "code",
      "metadata": {
        "id": "C_vQtxiafEoL"
      },
      "source": [
        "# predict train data\n",
        "lr_predY_train = clf.predict(train_feature_scaled)"
      ],
      "execution_count": 23,
      "outputs": []
    },
    {
      "cell_type": "code",
      "metadata": {
        "id": "9d89Yjp9xDhX",
        "colab": {
          "base_uri": "https://localhost:8080/"
        },
        "outputId": "fbf01570-cd96-4940-d868-b22703593620"
      },
      "source": [
        "# predict test data\n",
        "lr_predY = clf.predict(test_feature_scaled)\n",
        "lr_predY[0:10]"
      ],
      "execution_count": 24,
      "outputs": [
        {
          "output_type": "execute_result",
          "data": {
            "text/plain": [
              "array([0, 0, 0, 0, 0, 0, 0, 0, 1, 1])"
            ]
          },
          "metadata": {
            "tags": []
          },
          "execution_count": 24
        }
      ]
    },
    {
      "cell_type": "markdown",
      "metadata": {
        "id": "_aNwtLO8xDha"
      },
      "source": [
        "## XGBoost "
      ]
    },
    {
      "cell_type": "markdown",
      "metadata": {
        "id": "9e-xpnXxxDha"
      },
      "source": [
        "XGBoost stands for Extreme Gradient Boosting; it is a specific implementation of the Gradient Boosting method which uses more accurate approximations to find the best tree model. It employs a number of nifty tricks that make it exceptionally successful, particularly with structured data.\n",
        "\n",
        "XGBoost's hyperparameters\n",
        "\n",
        "    -learning_rate: step size shrinkage used to prevent overfitting. Range is [0,1]\n",
        "    -max_depth: determines how deeply each tree is allowed to grow during any boosting round.\n",
        "    -subsample: percentage of samples used per tree. Low value can lead to underfitting.\n",
        "    -colsample_bytree: percentage of features used per tree. High value can lead to overfitting.\n",
        "    -n_estimators: number of trees you want to build.\n",
        "    -objective: determines the loss function to be used like reg:linear for regression problems, reg:logistic for classification problems with only decision, binary:logistic for classification problems with probability.\n",
        "\n",
        "XGBoost also supports regularization parameters to penalize models as they become more complex and reduce them to simple (parsimonious) models.\n",
        "\n",
        "    -gamma: controls whether a given node will split based on the expected reduction in loss after the split. A higher value leads to fewer splits. Supported only for tree-based learners.\n",
        "    -alpha: L1 regularization on leaf weights. A large value leads to more regularization.\n",
        "    -lambda: L2 regularization on leaf weights and is smoother than L1 regularization."
      ]
    },
    {
      "cell_type": "code",
      "metadata": {
        "id": "FTsjQ0M2jbdg"
      },
      "source": [
        "from xgboost.sklearn import XGBClassifier"
      ],
      "execution_count": null,
      "outputs": []
    },
    {
      "cell_type": "code",
      "metadata": {
        "id": "aETfvI4_xDhb"
      },
      "source": [
        "%%time\n",
        "from xgboost.sklearn import XGBClassifier\n",
        "xgbc = XGBClassifier(objective='binary:logistic',max_depth=3)\n",
        "\n",
        "\n",
        "xgbc.fit(train_feature_scaled, train_label)"
      ],
      "execution_count": null,
      "outputs": []
    },
    {
      "cell_type": "code",
      "metadata": {
        "id": "tgsG87U9zZyg"
      },
      "source": [
        " # predict train data\n",
        "xgb_predY_train = xgbc.predict(train_feature_scaled)"
      ],
      "execution_count": null,
      "outputs": []
    },
    {
      "cell_type": "code",
      "metadata": {
        "id": "wrue464ExDhd"
      },
      "source": [
        "# predict test data\n",
        "xgb_predY = xgbc.predict(test_feature_scaled)\n",
        "xgb_predY[0:10]"
      ],
      "execution_count": null,
      "outputs": []
    },
    {
      "cell_type": "markdown",
      "metadata": {
        "id": "vrymDMz-xDhg"
      },
      "source": [
        "## Model Evaluation"
      ]
    },
    {
      "cell_type": "markdown",
      "metadata": {
        "id": "kILKd2rNxDhg"
      },
      "source": [
        "### Confusion Matrix"
      ]
    },
    {
      "cell_type": "markdown",
      "metadata": {
        "id": "_BQy4_QHxDhh"
      },
      "source": [
        "confusion matrix, also known as an error matrix, is a specific table layout that allows visualization of the performance of an algorithm, typically a supervised learning one (in unsupervised learning it is usually called a matching matrix). Each row of the matrix represents the instances in a predicted class while each column represents the instances in an actual class (or vice versa)\n",
        "\n",
        "![image.png](attachment:image.png)\n",
        "\n",
        "\n",
        "https://en.wikipedia.org/wiki/Confusion_matrix\n",
        "\n",
        "--------------------------------------------\n",
        "Accuracy: Overall, how often is the classifier correct?\n",
        "    \n",
        "    Accuracy = (TP+TN)/total = (TP+TN)/(TP+TN+FN+FP)\n",
        "\n",
        "Precision: When it predicts yes, how often is it correct?\n",
        "\n",
        "    Precision = TP/predicted yes = TP/(TP+FP)\n",
        "    \n",
        "Recall: When it's actually yes, how often does it predict yes? (True Positive Rate)\n",
        "\n",
        "    Recall = TP/actual yes = TP/(TP+FN)\n",
        "    \n",
        "F1 Score: This is a weighted average of the recall and precision\n",
        "\n",
        "    F1 Score = (2*(Precision*Recall))/(Precision+Recall)"
      ]
    },
    {
      "cell_type": "code",
      "metadata": {
        "id": "ZOUFgbou9KwD"
      },
      "source": [
        "from sklearn.metrics import confusion_matrix, accuracy_score, recall_score, precision_score, f1_score\n",
        "\n",
        "def evaluation_metrics(types,label_train,predict_train,label_test,predict_test):\n",
        "  print(\"Accuracy score in\",types, \": Train =\" ,accuracy_score(label_train,predict_train), \" , Test = \",accuracy_score(label_test,predict_test))\n",
        "  print(\"Precision score in \",types, \": Train =\" ,precision_score(label_train,predict_train), \" , Test = \",precision_score(label_test,predict_test))\n",
        "  print(\"Recall score in \",types, \": Train =\",recall_score(label_train,predict_train), \" , Test = \",recall_score(label_test,predict_test))\n",
        "  print(\"F1 score score in \",types, \": Train =\" ,f1_score(label_train,predict_train), \" , Test = \",f1_score(label_test,predict_test))"
      ],
      "execution_count": null,
      "outputs": []
    },
    {
      "cell_type": "code",
      "metadata": {
        "id": "dT0l_Sfz94bw"
      },
      "source": [
        "evaluation_metrics(\"Logistic Regression\",train_label,lr_predY_train,test_label,lr_predY)"
      ],
      "execution_count": null,
      "outputs": []
    },
    {
      "cell_type": "code",
      "metadata": {
        "id": "fa8RhZnkxDhn"
      },
      "source": [
        "cm_lr = confusion_matrix(lr_predY,test_label,labels=[1,0])\n",
        "cm_lr"
      ],
      "execution_count": null,
      "outputs": []
    },
    {
      "cell_type": "code",
      "metadata": {
        "id": "MLo_qsg8-YvH"
      },
      "source": [
        "evaluation_metrics(\"XGBoost\",train_label,xgb_predY_train,test_label,xgb_predY)"
      ],
      "execution_count": null,
      "outputs": []
    },
    {
      "cell_type": "code",
      "metadata": {
        "id": "zw82xooMxDhu"
      },
      "source": [
        "cm_xgb = confusion_matrix(xgb_predY,test_label,labels=[1, 0])\n",
        "cm_xgb"
      ],
      "execution_count": null,
      "outputs": []
    },
    {
      "cell_type": "code",
      "metadata": {
        "id": "VezEDz3HD4pM"
      },
      "source": [
        ""
      ],
      "execution_count": null,
      "outputs": []
    },
    {
      "cell_type": "markdown",
      "metadata": {
        "id": "BtplsdntxDhw"
      },
      "source": [
        "## Random OverSampling "
      ]
    },
    {
      "cell_type": "markdown",
      "metadata": {
        "id": "46i4Yy9rxDhw"
      },
      "source": [
        "Random oversampling involves randomly duplicating examples from the minority class and adding them to the training dataset.\n",
        "\n",
        "This technique can be effective for those machine learning algorithms that are affected by a skewed distribution and where multiple duplicate examples for a given class can influence the fit of the model"
      ]
    },
    {
      "cell_type": "code",
      "metadata": {
        "id": "FFr9MiAGxDhw"
      },
      "source": [
        "from imblearn.over_sampling import RandomOverSampler \n",
        "ros = RandomOverSampler()\n",
        "train_feature_resampled, train_label_resampled = ros.fit_sample(train_feature, train_label)"
      ],
      "execution_count": null,
      "outputs": []
    },
    {
      "cell_type": "code",
      "metadata": {
        "id": "Ny0K8JqaxDhy"
      },
      "source": [
        "scaler = preprocessing.StandardScaler()\n",
        "train_feature_scaled =scaler.fit_transform(train_feature_resampled)\n",
        "test_feature_scaled = scaler.transform(test_feature)"
      ],
      "execution_count": null,
      "outputs": []
    },
    {
      "cell_type": "code",
      "metadata": {
        "id": "HtsehJ1oxDh0"
      },
      "source": [
        "clf_ros = LogisticRegression(random_state=0)\n",
        "clf_ros.fit(train_feature_scaled,train_label_resampled)"
      ],
      "execution_count": null,
      "outputs": []
    },
    {
      "cell_type": "code",
      "metadata": {
        "id": "M4z2uSX7xDh2"
      },
      "source": [
        "lr_predY_ros_train = clf_ros.predict(train_feature_scaled)"
      ],
      "execution_count": null,
      "outputs": []
    },
    {
      "cell_type": "code",
      "metadata": {
        "id": "KzMnoWV2xDh8"
      },
      "source": [
        "lr_predY_ros = clf_ros.predict(test_feature_scaled)\n"
      ],
      "execution_count": null,
      "outputs": []
    },
    {
      "cell_type": "code",
      "metadata": {
        "id": "jj9zbebZF4x4"
      },
      "source": [
        "evaluation_metrics(\"Logistic Regession after RandomOverSampling\",train_label_resampled,lr_predY_ros_train,test_label,lr_predY_ros)"
      ],
      "execution_count": null,
      "outputs": []
    },
    {
      "cell_type": "code",
      "metadata": {
        "id": "jigwU7bsxDiA"
      },
      "source": [
        "cm_lr_ros = confusion_matrix(lr_predY_ros,test_label,labels=[1, 0])\n",
        "cm_lr_ros"
      ],
      "execution_count": null,
      "outputs": []
    },
    {
      "cell_type": "markdown",
      "metadata": {
        "id": "D0A-zJ4ixDiF"
      },
      "source": [
        "## Random Undersampling"
      ]
    },
    {
      "cell_type": "markdown",
      "metadata": {
        "id": "vz0SlTyMxDiG"
      },
      "source": [
        "Random undersampling involves randomly selecting examples from the majority class to delete from the training dataset.\n",
        "\n",
        "This has the effect of reducing the number of examples in the majority class in the transformed version of the training dataset. This process can be repeated until the desired class distribution is achieved, such as an equal number of examples for each class\n",
        "\n",
        "A limitation of undersampling is that examples from the majority class are deleted that may be useful, important, or perhaps critical to fitting a robust decision boundary. Given that examples are deleted randomly, there is no way to detect or preserve “good” or more information-rich examples from the majority class.\n",
        "\n",
        "https://machinelearningmastery.com/random-oversampling-and-undersampling-for-imbalanced-classification/"
      ]
    },
    {
      "cell_type": "code",
      "metadata": {
        "id": "y7I_erVLxDiG"
      },
      "source": [
        "from imblearn.under_sampling import RandomUnderSampler\n",
        "rus = RandomUnderSampler()\n",
        "train_feature_resampled, train_label_resampled = rus.fit_sample(train_feature,train_label)"
      ],
      "execution_count": null,
      "outputs": []
    },
    {
      "cell_type": "code",
      "metadata": {
        "id": "CNOtHs4ZxDiI"
      },
      "source": [
        "scaler = preprocessing.StandardScaler()\n",
        "train_feature_scaled =scaler.fit_transform(train_feature_resampled)\n",
        "test_feature_scaled = scaler.transform(test_feature)"
      ],
      "execution_count": null,
      "outputs": []
    },
    {
      "cell_type": "code",
      "metadata": {
        "id": "LHFI33jBxDiK"
      },
      "source": [
        "clf_rus = LogisticRegression(random_state=0)\n",
        "clf_rus.fit(train_feature_scaled,train_label_resampled)"
      ],
      "execution_count": null,
      "outputs": []
    },
    {
      "cell_type": "code",
      "metadata": {
        "id": "8qIcozsVxDiM"
      },
      "source": [
        "lr_predY_rus_train = clf_rus.predict(train_feature_scaled)"
      ],
      "execution_count": null,
      "outputs": []
    },
    {
      "cell_type": "code",
      "metadata": {
        "id": "o7C6lDOTxDiR"
      },
      "source": [
        "lr_predY_rus = clf_rus.predict(test_feature_scaled)"
      ],
      "execution_count": null,
      "outputs": []
    },
    {
      "cell_type": "code",
      "metadata": {
        "id": "B86ehw3IChK9"
      },
      "source": [
        "evaluation_metrics(\"Logistic Regression after RandomUnderSampling\",train_label_resampled,lr_predY_rus_train,test_label,lr_predY_rus)"
      ],
      "execution_count": null,
      "outputs": []
    },
    {
      "cell_type": "code",
      "metadata": {
        "id": "8BIwieFRxDiW"
      },
      "source": [
        "cm_lr_rus = confusion_matrix(lr_predY_rus,test_label,labels=[1, 0])\n",
        "cm_lr_rus"
      ],
      "execution_count": null,
      "outputs": []
    },
    {
      "cell_type": "code",
      "metadata": {
        "id": "GCXfiCyfGbid"
      },
      "source": [
        ""
      ],
      "execution_count": null,
      "outputs": []
    }
  ]
}
{
  "nbformat": 4,
  "nbformat_minor": 0,
  "metadata": {
    "colab": {
      "name": "Part Model_Final.ipynb",
      "provenance": [],
      "collapsed_sections": [],
      "include_colab_link": true
    },
    "kernelspec": {
      "display_name": "Python 3",
      "language": "python",
      "name": "python3"
    },
    "language_info": {
      "codemirror_mode": {
        "name": "ipython",
        "version": 3
      },
      "file_extension": ".py",
      "mimetype": "text/x-python",
      "name": "python",
      "nbconvert_exporter": "python",
      "pygments_lexer": "ipython3",
      "version": "3.8.3"
    },
    "accelerator": "GPU"
  },
  "cells": [
    {
      "cell_type": "markdown",
      "metadata": {
        "id": "view-in-github",
        "colab_type": "text"
      },
      "source": [
        "<a href=\"https://colab.research.google.com/github/Janebhop/fraud-detection-course/blob/main/notebook/chapter3/Chapter3_Model.ipynb\" target=\"_parent\"><img src=\"https://colab.research.google.com/assets/colab-badge.svg\" alt=\"Open In Colab\"/></a>"
      ]
    },
    {
      "cell_type": "markdown",
      "metadata": {
        "id": "eN-rk-DCxDg6"
      },
      "source": [
        "# Part Model"
      ]
    },
    {
      "cell_type": "code",
      "metadata": {
        "id": "2Dyj2q-lxDg7"
      },
      "source": [
        "import pandas as pd\n",
        "import numpy as np\n",
        "import matplotlib.pyplot as plt\n",
        "import seaborn as sns\n",
        "from sklearn import preprocessing"
      ],
      "execution_count": 1,
      "outputs": []
    },
    {
      "cell_type": "code",
      "metadata": {
        "colab": {
          "base_uri": "https://localhost:8080/"
        },
        "id": "-87s0xTMrvkF",
        "outputId": "9010e889-8c46-427a-c63b-bd6de3a8ec9d"
      },
      "source": [
        "from google.colab import drive\n",
        "drive.mount('/content/drive')"
      ],
      "execution_count": 2,
      "outputs": [
        {
          "output_type": "stream",
          "text": [
            "Mounted at /content/drive\n"
          ],
          "name": "stdout"
        }
      ]
    },
    {
      "cell_type": "markdown",
      "metadata": {
        "id": "DvE7smyvxDg-"
      },
      "source": [
        "### Import Data"
      ]
    },
    {
      "cell_type": "code",
      "metadata": {
        "id": "kCO-osDMs28s"
      },
      "source": [
        "dataPath = '/content/drive/My Drive/fraud/PS_20174392719_1491204439457_log.csv'"
      ],
      "execution_count": 3,
      "outputs": []
    },
    {
      "cell_type": "code",
      "metadata": {
        "id": "QBSJR3LCxDg_"
      },
      "source": [
        "df_test = pd.read_csv(dataPath, nrows=10)\n",
        "\n",
        "float_cols = [c for c in df_test if df_test[c].dtype == \"float64\"]\n",
        "float32_cols = {c: np.float32 for c in float_cols}"
      ],
      "execution_count": 4,
      "outputs": []
    },
    {
      "cell_type": "code",
      "metadata": {
        "colab": {
          "base_uri": "https://localhost:8080/"
        },
        "id": "lhI0uSU9vkqg",
        "outputId": "a0b6bbcf-3e96-4ca0-f638-b43f67ca1f16"
      },
      "source": [
        "float_cols"
      ],
      "execution_count": 5,
      "outputs": [
        {
          "output_type": "execute_result",
          "data": {
            "text/plain": [
              "['amount',\n",
              " 'oldbalanceOrg',\n",
              " 'newbalanceOrig',\n",
              " 'oldbalanceDest',\n",
              " 'newbalanceDest']"
            ]
          },
          "metadata": {
            "tags": []
          },
          "execution_count": 5
        }
      ]
    },
    {
      "cell_type": "code",
      "metadata": {
        "id": "CVvQH5y5xDhB",
        "colab": {
          "base_uri": "https://localhost:8080/",
          "height": 399
        },
        "outputId": "7a772d43-4afe-4587-af94-2436432d74ba"
      },
      "source": [
        "data = pd.read_csv(dataPath, engine='c', dtype=float32_cols)\n",
        "data"
      ],
      "execution_count": 6,
      "outputs": [
        {
          "output_type": "execute_result",
          "data": {
            "text/html": [
              "<div>\n",
              "<style scoped>\n",
              "    .dataframe tbody tr th:only-of-type {\n",
              "        vertical-align: middle;\n",
              "    }\n",
              "\n",
              "    .dataframe tbody tr th {\n",
              "        vertical-align: top;\n",
              "    }\n",
              "\n",
              "    .dataframe thead th {\n",
              "        text-align: right;\n",
              "    }\n",
              "</style>\n",
              "<table border=\"1\" class=\"dataframe\">\n",
              "  <thead>\n",
              "    <tr style=\"text-align: right;\">\n",
              "      <th></th>\n",
              "      <th>step</th>\n",
              "      <th>type</th>\n",
              "      <th>amount</th>\n",
              "      <th>nameOrig</th>\n",
              "      <th>oldbalanceOrg</th>\n",
              "      <th>newbalanceOrig</th>\n",
              "      <th>nameDest</th>\n",
              "      <th>oldbalanceDest</th>\n",
              "      <th>newbalanceDest</th>\n",
              "      <th>isFraud</th>\n",
              "      <th>isFlaggedFraud</th>\n",
              "    </tr>\n",
              "  </thead>\n",
              "  <tbody>\n",
              "    <tr>\n",
              "      <th>0</th>\n",
              "      <td>1</td>\n",
              "      <td>PAYMENT</td>\n",
              "      <td>9.839640e+03</td>\n",
              "      <td>C1231006815</td>\n",
              "      <td>170136.000</td>\n",
              "      <td>160296.359375</td>\n",
              "      <td>M1979787155</td>\n",
              "      <td>0.000000e+00</td>\n",
              "      <td>0.000</td>\n",
              "      <td>0</td>\n",
              "      <td>0</td>\n",
              "    </tr>\n",
              "    <tr>\n",
              "      <th>1</th>\n",
              "      <td>1</td>\n",
              "      <td>PAYMENT</td>\n",
              "      <td>1.864280e+03</td>\n",
              "      <td>C1666544295</td>\n",
              "      <td>21249.000</td>\n",
              "      <td>19384.720703</td>\n",
              "      <td>M2044282225</td>\n",
              "      <td>0.000000e+00</td>\n",
              "      <td>0.000</td>\n",
              "      <td>0</td>\n",
              "      <td>0</td>\n",
              "    </tr>\n",
              "    <tr>\n",
              "      <th>2</th>\n",
              "      <td>1</td>\n",
              "      <td>TRANSFER</td>\n",
              "      <td>1.810000e+02</td>\n",
              "      <td>C1305486145</td>\n",
              "      <td>181.000</td>\n",
              "      <td>0.000000</td>\n",
              "      <td>C553264065</td>\n",
              "      <td>0.000000e+00</td>\n",
              "      <td>0.000</td>\n",
              "      <td>1</td>\n",
              "      <td>0</td>\n",
              "    </tr>\n",
              "    <tr>\n",
              "      <th>3</th>\n",
              "      <td>1</td>\n",
              "      <td>CASH_OUT</td>\n",
              "      <td>1.810000e+02</td>\n",
              "      <td>C840083671</td>\n",
              "      <td>181.000</td>\n",
              "      <td>0.000000</td>\n",
              "      <td>C38997010</td>\n",
              "      <td>2.118200e+04</td>\n",
              "      <td>0.000</td>\n",
              "      <td>1</td>\n",
              "      <td>0</td>\n",
              "    </tr>\n",
              "    <tr>\n",
              "      <th>4</th>\n",
              "      <td>1</td>\n",
              "      <td>PAYMENT</td>\n",
              "      <td>1.166814e+04</td>\n",
              "      <td>C2048537720</td>\n",
              "      <td>41554.000</td>\n",
              "      <td>29885.859375</td>\n",
              "      <td>M1230701703</td>\n",
              "      <td>0.000000e+00</td>\n",
              "      <td>0.000</td>\n",
              "      <td>0</td>\n",
              "      <td>0</td>\n",
              "    </tr>\n",
              "    <tr>\n",
              "      <th>...</th>\n",
              "      <td>...</td>\n",
              "      <td>...</td>\n",
              "      <td>...</td>\n",
              "      <td>...</td>\n",
              "      <td>...</td>\n",
              "      <td>...</td>\n",
              "      <td>...</td>\n",
              "      <td>...</td>\n",
              "      <td>...</td>\n",
              "      <td>...</td>\n",
              "      <td>...</td>\n",
              "    </tr>\n",
              "    <tr>\n",
              "      <th>6362615</th>\n",
              "      <td>743</td>\n",
              "      <td>CASH_OUT</td>\n",
              "      <td>3.396821e+05</td>\n",
              "      <td>C786484425</td>\n",
              "      <td>339682.125</td>\n",
              "      <td>0.000000</td>\n",
              "      <td>C776919290</td>\n",
              "      <td>0.000000e+00</td>\n",
              "      <td>339682.125</td>\n",
              "      <td>1</td>\n",
              "      <td>0</td>\n",
              "    </tr>\n",
              "    <tr>\n",
              "      <th>6362616</th>\n",
              "      <td>743</td>\n",
              "      <td>TRANSFER</td>\n",
              "      <td>6.311410e+06</td>\n",
              "      <td>C1529008245</td>\n",
              "      <td>6311409.500</td>\n",
              "      <td>0.000000</td>\n",
              "      <td>C1881841831</td>\n",
              "      <td>0.000000e+00</td>\n",
              "      <td>0.000</td>\n",
              "      <td>1</td>\n",
              "      <td>0</td>\n",
              "    </tr>\n",
              "    <tr>\n",
              "      <th>6362617</th>\n",
              "      <td>743</td>\n",
              "      <td>CASH_OUT</td>\n",
              "      <td>6.311410e+06</td>\n",
              "      <td>C1162922333</td>\n",
              "      <td>6311409.500</td>\n",
              "      <td>0.000000</td>\n",
              "      <td>C1365125890</td>\n",
              "      <td>6.848884e+04</td>\n",
              "      <td>6379898.000</td>\n",
              "      <td>1</td>\n",
              "      <td>0</td>\n",
              "    </tr>\n",
              "    <tr>\n",
              "      <th>6362618</th>\n",
              "      <td>743</td>\n",
              "      <td>TRANSFER</td>\n",
              "      <td>8.500025e+05</td>\n",
              "      <td>C1685995037</td>\n",
              "      <td>850002.500</td>\n",
              "      <td>0.000000</td>\n",
              "      <td>C2080388513</td>\n",
              "      <td>0.000000e+00</td>\n",
              "      <td>0.000</td>\n",
              "      <td>1</td>\n",
              "      <td>0</td>\n",
              "    </tr>\n",
              "    <tr>\n",
              "      <th>6362619</th>\n",
              "      <td>743</td>\n",
              "      <td>CASH_OUT</td>\n",
              "      <td>8.500025e+05</td>\n",
              "      <td>C1280323807</td>\n",
              "      <td>850002.500</td>\n",
              "      <td>0.000000</td>\n",
              "      <td>C873221189</td>\n",
              "      <td>6.510099e+06</td>\n",
              "      <td>7360101.500</td>\n",
              "      <td>1</td>\n",
              "      <td>0</td>\n",
              "    </tr>\n",
              "  </tbody>\n",
              "</table>\n",
              "<p>6362620 rows × 11 columns</p>\n",
              "</div>"
            ],
            "text/plain": [
              "         step      type        amount  ... newbalanceDest  isFraud  isFlaggedFraud\n",
              "0           1   PAYMENT  9.839640e+03  ...          0.000        0               0\n",
              "1           1   PAYMENT  1.864280e+03  ...          0.000        0               0\n",
              "2           1  TRANSFER  1.810000e+02  ...          0.000        1               0\n",
              "3           1  CASH_OUT  1.810000e+02  ...          0.000        1               0\n",
              "4           1   PAYMENT  1.166814e+04  ...          0.000        0               0\n",
              "...       ...       ...           ...  ...            ...      ...             ...\n",
              "6362615   743  CASH_OUT  3.396821e+05  ...     339682.125        1               0\n",
              "6362616   743  TRANSFER  6.311410e+06  ...          0.000        1               0\n",
              "6362617   743  CASH_OUT  6.311410e+06  ...    6379898.000        1               0\n",
              "6362618   743  TRANSFER  8.500025e+05  ...          0.000        1               0\n",
              "6362619   743  CASH_OUT  8.500025e+05  ...    7360101.500        1               0\n",
              "\n",
              "[6362620 rows x 11 columns]"
            ]
          },
          "metadata": {
            "tags": []
          },
          "execution_count": 6
        }
      ]
    },
    {
      "cell_type": "markdown",
      "metadata": {
        "id": "rAKN2_KtxDhE"
      },
      "source": [
        "### Preprocessing"
      ]
    },
    {
      "cell_type": "code",
      "metadata": {
        "id": "p9bOkFG7xDhF",
        "colab": {
          "base_uri": "https://localhost:8080/"
        },
        "outputId": "3c4f9084-be4e-40fd-a606-2c52bd303eb1"
      },
      "source": [
        "# cleaning data \n",
        "# checking null values\n",
        "\n",
        "data.isnull().values.any()"
      ],
      "execution_count": 7,
      "outputs": [
        {
          "output_type": "execute_result",
          "data": {
            "text/plain": [
              "False"
            ]
          },
          "metadata": {
            "tags": []
          },
          "execution_count": 7
        }
      ]
    },
    {
      "cell_type": "code",
      "metadata": {
        "id": "7yluZOBTxDhI"
      },
      "source": [
        "# feature selection\n",
        "data = data.drop(['nameOrig','nameDest'],axis = 1)"
      ],
      "execution_count": 8,
      "outputs": []
    },
    {
      "cell_type": "code",
      "metadata": {
        "id": "yXoN7mGmvp-U",
        "colab": {
          "base_uri": "https://localhost:8080/",
          "height": 342
        },
        "outputId": "13d8b9b0-d4a5-458b-f54d-6d08cf626b8a"
      },
      "source": [
        "corr = data.corr()\n",
        "sns.heatmap(corr,vmin=-1, vmax=1, cmap=sns.diverging_palette(220, 10, as_cmap=True),\n",
        "            square=True,annot=True)\n",
        "plt.rcParams['figure.figsize'] = [5,5]\n",
        "plt.show()"
      ],
      "execution_count": 9,
      "outputs": [
        {
          "output_type": "display_data",
          "data": {
            "image/png": "[encoded data removed]",
            "text/plain": [
              "<Figure size 432x288 with 2 Axes>"
            ]
          },
          "metadata": {
            "tags": [],
            "needs_background": "light"
          }
        }
      ]
    },
    {
      "cell_type": "code",
      "metadata": {
        "id": "ouhRuPhHxDhK",
        "colab": {
          "base_uri": "https://localhost:8080/",
          "height": 399
        },
        "outputId": "373eb5ab-cb37-4420-ad6d-ff79179dddef"
      },
      "source": [
        "# feature engineering\n",
        "\n",
        "dummy_type = pd.get_dummies(data['type'])\n",
        "dummy_type"
      ],
      "execution_count": 10,
      "outputs": [
        {
          "output_type": "execute_result",
          "data": {
            "text/html": [
              "<div>\n",
              "<style scoped>\n",
              "    .dataframe tbody tr th:only-of-type {\n",
              "        vertical-align: middle;\n",
              "    }\n",
              "\n",
              "    .dataframe tbody tr th {\n",
              "        vertical-align: top;\n",
              "    }\n",
              "\n",
              "    .dataframe thead th {\n",
              "        text-align: right;\n",
              "    }\n",
              "</style>\n",
              "<table border=\"1\" class=\"dataframe\">\n",
              "  <thead>\n",
              "    <tr style=\"text-align: right;\">\n",
              "      <th></th>\n",
              "      <th>CASH_IN</th>\n",
              "      <th>CASH_OUT</th>\n",
              "      <th>DEBIT</th>\n",
              "      <th>PAYMENT</th>\n",
              "      <th>TRANSFER</th>\n",
              "    </tr>\n",
              "  </thead>\n",
              "  <tbody>\n",
              "    <tr>\n",
              "      <th>0</th>\n",
              "      <td>0</td>\n",
              "      <td>0</td>\n",
              "      <td>0</td>\n",
              "      <td>1</td>\n",
              "      <td>0</td>\n",
              "    </tr>\n",
              "    <tr>\n",
              "      <th>1</th>\n",
              "      <td>0</td>\n",
              "      <td>0</td>\n",
              "      <td>0</td>\n",
              "      <td>1</td>\n",
              "      <td>0</td>\n",
              "    </tr>\n",
              "    <tr>\n",
              "      <th>2</th>\n",
              "      <td>0</td>\n",
              "      <td>0</td>\n",
              "      <td>0</td>\n",
              "      <td>0</td>\n",
              "      <td>1</td>\n",
              "    </tr>\n",
              "    <tr>\n",
              "      <th>3</th>\n",
              "      <td>0</td>\n",
              "      <td>1</td>\n",
              "      <td>0</td>\n",
              "      <td>0</td>\n",
              "      <td>0</td>\n",
              "    </tr>\n",
              "    <tr>\n",
              "      <th>4</th>\n",
              "      <td>0</td>\n",
              "      <td>0</td>\n",
              "      <td>0</td>\n",
              "      <td>1</td>\n",
              "      <td>0</td>\n",
              "    </tr>\n",
              "    <tr>\n",
              "      <th>...</th>\n",
              "      <td>...</td>\n",
              "      <td>...</td>\n",
              "      <td>...</td>\n",
              "      <td>...</td>\n",
              "      <td>...</td>\n",
              "    </tr>\n",
              "    <tr>\n",
              "      <th>6362615</th>\n",
              "      <td>0</td>\n",
              "      <td>1</td>\n",
              "      <td>0</td>\n",
              "      <td>0</td>\n",
              "      <td>0</td>\n",
              "    </tr>\n",
              "    <tr>\n",
              "      <th>6362616</th>\n",
              "      <td>0</td>\n",
              "      <td>0</td>\n",
              "      <td>0</td>\n",
              "      <td>0</td>\n",
              "      <td>1</td>\n",
              "    </tr>\n",
              "    <tr>\n",
              "      <th>6362617</th>\n",
              "      <td>0</td>\n",
              "      <td>1</td>\n",
              "      <td>0</td>\n",
              "      <td>0</td>\n",
              "      <td>0</td>\n",
              "    </tr>\n",
              "    <tr>\n",
              "      <th>6362618</th>\n",
              "      <td>0</td>\n",
              "      <td>0</td>\n",
              "      <td>0</td>\n",
              "      <td>0</td>\n",
              "      <td>1</td>\n",
              "    </tr>\n",
              "    <tr>\n",
              "      <th>6362619</th>\n",
              "      <td>0</td>\n",
              "      <td>1</td>\n",
              "      <td>0</td>\n",
              "      <td>0</td>\n",
              "      <td>0</td>\n",
              "    </tr>\n",
              "  </tbody>\n",
              "</table>\n",
              "<p>6362620 rows × 5 columns</p>\n",
              "</div>"
            ],
            "text/plain": [
              "         CASH_IN  CASH_OUT  DEBIT  PAYMENT  TRANSFER\n",
              "0              0         0      0        1         0\n",
              "1              0         0      0        1         0\n",
              "2              0         0      0        0         1\n",
              "3              0         1      0        0         0\n",
              "4              0         0      0        1         0\n",
              "...          ...       ...    ...      ...       ...\n",
              "6362615        0         1      0        0         0\n",
              "6362616        0         0      0        0         1\n",
              "6362617        0         1      0        0         0\n",
              "6362618        0         0      0        0         1\n",
              "6362619        0         1      0        0         0\n",
              "\n",
              "[6362620 rows x 5 columns]"
            ]
          },
          "metadata": {
            "tags": []
          },
          "execution_count": 10
        }
      ]
    },
    {
      "cell_type": "code",
      "metadata": {
        "id": "WhRROC_0xDhN",
        "colab": {
          "base_uri": "https://localhost:8080/",
          "height": 399
        },
        "outputId": "db96c05b-2b53-4d72-ed06-675f5ff68a57"
      },
      "source": [
        "data = (pd.concat([data,dummy_type], axis = 1).reset_index(drop = True)).drop(['type'],axis = 1)[['step','CASH_IN','CASH_OUT','DEBIT','PAYMENT','TRANSFER','amount','oldbalanceOrg','newbalanceOrig','oldbalanceDest','newbalanceDest','isFlaggedFraud','isFraud']]\n",
        "data"
      ],
      "execution_count": 11,
      "outputs": [
        {
          "output_type": "execute_result",
          "data": {
            "text/html": [
              "<div>\n",
              "<style scoped>\n",
              "    .dataframe tbody tr th:only-of-type {\n",
              "        vertical-align: middle;\n",
              "    }\n",
              "\n",
              "    .dataframe tbody tr th {\n",
              "        vertical-align: top;\n",
              "    }\n",
              "\n",
              "    .dataframe thead th {\n",
              "        text-align: right;\n",
              "    }\n",
              "</style>\n",
              "<table border=\"1\" class=\"dataframe\">\n",
              "  <thead>\n",
              "    <tr style=\"text-align: right;\">\n",
              "      <th></th>\n",
              "      <th>step</th>\n",
              "      <th>CASH_IN</th>\n",
              "      <th>CASH_OUT</th>\n",
              "      <th>DEBIT</th>\n",
              "      <th>PAYMENT</th>\n",
              "      <th>TRANSFER</th>\n",
              "      <th>amount</th>\n",
              "      <th>oldbalanceOrg</th>\n",
              "      <th>newbalanceOrig</th>\n",
              "      <th>oldbalanceDest</th>\n",
              "      <th>newbalanceDest</th>\n",
              "      <th>isFlaggedFraud</th>\n",
              "      <th>isFraud</th>\n",
              "    </tr>\n",
              "  </thead>\n",
              "  <tbody>\n",
              "    <tr>\n",
              "      <th>0</th>\n",
              "      <td>1</td>\n",
              "      <td>0</td>\n",
              "      <td>0</td>\n",
              "      <td>0</td>\n",
              "      <td>1</td>\n",
              "      <td>0</td>\n",
              "      <td>9.839640e+03</td>\n",
              "      <td>170136.000</td>\n",
              "      <td>160296.359375</td>\n",
              "      <td>0.000000e+00</td>\n",
              "      <td>0.000</td>\n",
              "      <td>0</td>\n",
              "      <td>0</td>\n",
              "    </tr>\n",
              "    <tr>\n",
              "      <th>1</th>\n",
              "      <td>1</td>\n",
              "      <td>0</td>\n",
              "      <td>0</td>\n",
              "      <td>0</td>\n",
              "      <td>1</td>\n",
              "      <td>0</td>\n",
              "      <td>1.864280e+03</td>\n",
              "      <td>21249.000</td>\n",
              "      <td>19384.720703</td>\n",
              "      <td>0.000000e+00</td>\n",
              "      <td>0.000</td>\n",
              "      <td>0</td>\n",
              "      <td>0</td>\n",
              "    </tr>\n",
              "    <tr>\n",
              "      <th>2</th>\n",
              "      <td>1</td>\n",
              "      <td>0</td>\n",
              "      <td>0</td>\n",
              "      <td>0</td>\n",
              "      <td>0</td>\n",
              "      <td>1</td>\n",
              "      <td>1.810000e+02</td>\n",
              "      <td>181.000</td>\n",
              "      <td>0.000000</td>\n",
              "      <td>0.000000e+00</td>\n",
              "      <td>0.000</td>\n",
              "      <td>0</td>\n",
              "      <td>1</td>\n",
              "    </tr>\n",
              "    <tr>\n",
              "      <th>3</th>\n",
              "      <td>1</td>\n",
              "      <td>0</td>\n",
              "      <td>1</td>\n",
              "      <td>0</td>\n",
              "      <td>0</td>\n",
              "      <td>0</td>\n",
              "      <td>1.810000e+02</td>\n",
              "      <td>181.000</td>\n",
              "      <td>0.000000</td>\n",
              "      <td>2.118200e+04</td>\n",
              "      <td>0.000</td>\n",
              "      <td>0</td>\n",
              "      <td>1</td>\n",
              "    </tr>\n",
              "    <tr>\n",
              "      <th>4</th>\n",
              "      <td>1</td>\n",
              "      <td>0</td>\n",
              "      <td>0</td>\n",
              "      <td>0</td>\n",
              "      <td>1</td>\n",
              "      <td>0</td>\n",
              "      <td>1.166814e+04</td>\n",
              "      <td>41554.000</td>\n",
              "      <td>29885.859375</td>\n",
              "      <td>0.000000e+00</td>\n",
              "      <td>0.000</td>\n",
              "      <td>0</td>\n",
              "      <td>0</td>\n",
              "    </tr>\n",
              "    <tr>\n",
              "      <th>...</th>\n",
              "      <td>...</td>\n",
              "      <td>...</td>\n",
              "      <td>...</td>\n",
              "      <td>...</td>\n",
              "      <td>...</td>\n",
              "      <td>...</td>\n",
              "      <td>...</td>\n",
              "      <td>...</td>\n",
              "      <td>...</td>\n",
              "      <td>...</td>\n",
              "      <td>...</td>\n",
              "      <td>...</td>\n",
              "      <td>...</td>\n",
              "    </tr>\n",
              "    <tr>\n",
              "      <th>6362615</th>\n",
              "      <td>743</td>\n",
              "      <td>0</td>\n",
              "      <td>1</td>\n",
              "      <td>0</td>\n",
              "      <td>0</td>\n",
              "      <td>0</td>\n",
              "      <td>3.396821e+05</td>\n",
              "      <td>339682.125</td>\n",
              "      <td>0.000000</td>\n",
              "      <td>0.000000e+00</td>\n",
              "      <td>339682.125</td>\n",
              "      <td>0</td>\n",
              "      <td>1</td>\n",
              "    </tr>\n",
              "    <tr>\n",
              "      <th>6362616</th>\n",
              "      <td>743</td>\n",
              "      <td>0</td>\n",
              "      <td>0</td>\n",
              "      <td>0</td>\n",
              "      <td>0</td>\n",
              "      <td>1</td>\n",
              "      <td>6.311410e+06</td>\n",
              "      <td>6311409.500</td>\n",
              "      <td>0.000000</td>\n",
              "      <td>0.000000e+00</td>\n",
              "      <td>0.000</td>\n",
              "      <td>0</td>\n",
              "      <td>1</td>\n",
              "    </tr>\n",
              "    <tr>\n",
              "      <th>6362617</th>\n",
              "      <td>743</td>\n",
              "      <td>0</td>\n",
              "      <td>1</td>\n",
              "      <td>0</td>\n",
              "      <td>0</td>\n",
              "      <td>0</td>\n",
              "      <td>6.311410e+06</td>\n",
              "      <td>6311409.500</td>\n",
              "      <td>0.000000</td>\n",
              "      <td>6.848884e+04</td>\n",
              "      <td>6379898.000</td>\n",
              "      <td>0</td>\n",
              "      <td>1</td>\n",
              "    </tr>\n",
              "    <tr>\n",
              "      <th>6362618</th>\n",
              "      <td>743</td>\n",
              "      <td>0</td>\n",
              "      <td>0</td>\n",
              "      <td>0</td>\n",
              "      <td>0</td>\n",
              "      <td>1</td>\n",
              "      <td>8.500025e+05</td>\n",
              "      <td>850002.500</td>\n",
              "      <td>0.000000</td>\n",
              "      <td>0.000000e+00</td>\n",
              "      <td>0.000</td>\n",
              "      <td>0</td>\n",
              "      <td>1</td>\n",
              "    </tr>\n",
              "    <tr>\n",
              "      <th>6362619</th>\n",
              "      <td>743</td>\n",
              "      <td>0</td>\n",
              "      <td>1</td>\n",
              "      <td>0</td>\n",
              "      <td>0</td>\n",
              "      <td>0</td>\n",
              "      <td>8.500025e+05</td>\n",
              "      <td>850002.500</td>\n",
              "      <td>0.000000</td>\n",
              "      <td>6.510099e+06</td>\n",
              "      <td>7360101.500</td>\n",
              "      <td>0</td>\n",
              "      <td>1</td>\n",
              "    </tr>\n",
              "  </tbody>\n",
              "</table>\n",
              "<p>6362620 rows × 13 columns</p>\n",
              "</div>"
            ],
            "text/plain": [
              "         step  CASH_IN  CASH_OUT  ...  newbalanceDest  isFlaggedFraud  isFraud\n",
              "0           1        0         0  ...           0.000               0        0\n",
              "1           1        0         0  ...           0.000               0        0\n",
              "2           1        0         0  ...           0.000               0        1\n",
              "3           1        0         1  ...           0.000               0        1\n",
              "4           1        0         0  ...           0.000               0        0\n",
              "...       ...      ...       ...  ...             ...             ...      ...\n",
              "6362615   743        0         1  ...      339682.125               0        1\n",
              "6362616   743        0         0  ...           0.000               0        1\n",
              "6362617   743        0         1  ...     6379898.000               0        1\n",
              "6362618   743        0         0  ...           0.000               0        1\n",
              "6362619   743        0         1  ...     7360101.500               0        1\n",
              "\n",
              "[6362620 rows x 13 columns]"
            ]
          },
          "metadata": {
            "tags": []
          },
          "execution_count": 11
        }
      ]
    },
    {
      "cell_type": "code",
      "metadata": {
        "id": "SBF_LAN2-d9W",
        "colab": {
          "base_uri": "https://localhost:8080/",
          "height": 399
        },
        "outputId": "4a397fa5-b116-426e-8d76-f2ea8701e18f"
      },
      "source": [
        "data['errorBalanceOrig'] = data['newbalanceOrig'] + data['amount'] - data['oldbalanceOrg']\n",
        "data['errorBalanceDest'] = data['oldbalanceDest'] + data['amount'] - data['newbalanceDest']\n",
        "data"
      ],
      "execution_count": 12,
      "outputs": [
        {
          "output_type": "execute_result",
          "data": {
            "text/html": [
              "<div>\n",
              "<style scoped>\n",
              "    .dataframe tbody tr th:only-of-type {\n",
              "        vertical-align: middle;\n",
              "    }\n",
              "\n",
              "    .dataframe tbody tr th {\n",
              "        vertical-align: top;\n",
              "    }\n",
              "\n",
              "    .dataframe thead th {\n",
              "        text-align: right;\n",
              "    }\n",
              "</style>\n",
              "<table border=\"1\" class=\"dataframe\">\n",
              "  <thead>\n",
              "    <tr style=\"text-align: right;\">\n",
              "      <th></th>\n",
              "      <th>step</th>\n",
              "      <th>CASH_IN</th>\n",
              "      <th>CASH_OUT</th>\n",
              "      <th>DEBIT</th>\n",
              "      <th>PAYMENT</th>\n",
              "      <th>TRANSFER</th>\n",
              "      <th>amount</th>\n",
              "      <th>oldbalanceOrg</th>\n",
              "      <th>newbalanceOrig</th>\n",
              "      <th>oldbalanceDest</th>\n",
              "      <th>newbalanceDest</th>\n",
              "      <th>isFlaggedFraud</th>\n",
              "      <th>isFraud</th>\n",
              "      <th>errorBalanceOrig</th>\n",
              "      <th>errorBalanceDest</th>\n",
              "    </tr>\n",
              "  </thead>\n",
              "  <tbody>\n",
              "    <tr>\n",
              "      <th>0</th>\n",
              "      <td>1</td>\n",
              "      <td>0</td>\n",
              "      <td>0</td>\n",
              "      <td>0</td>\n",
              "      <td>1</td>\n",
              "      <td>0</td>\n",
              "      <td>9.839640e+03</td>\n",
              "      <td>170136.000</td>\n",
              "      <td>160296.359375</td>\n",
              "      <td>0.000000e+00</td>\n",
              "      <td>0.000</td>\n",
              "      <td>0</td>\n",
              "      <td>0</td>\n",
              "      <td>0.0</td>\n",
              "      <td>9.839640e+03</td>\n",
              "    </tr>\n",
              "    <tr>\n",
              "      <th>1</th>\n",
              "      <td>1</td>\n",
              "      <td>0</td>\n",
              "      <td>0</td>\n",
              "      <td>0</td>\n",
              "      <td>1</td>\n",
              "      <td>0</td>\n",
              "      <td>1.864280e+03</td>\n",
              "      <td>21249.000</td>\n",
              "      <td>19384.720703</td>\n",
              "      <td>0.000000e+00</td>\n",
              "      <td>0.000</td>\n",
              "      <td>0</td>\n",
              "      <td>0</td>\n",
              "      <td>0.0</td>\n",
              "      <td>1.864280e+03</td>\n",
              "    </tr>\n",
              "    <tr>\n",
              "      <th>2</th>\n",
              "      <td>1</td>\n",
              "      <td>0</td>\n",
              "      <td>0</td>\n",
              "      <td>0</td>\n",
              "      <td>0</td>\n",
              "      <td>1</td>\n",
              "      <td>1.810000e+02</td>\n",
              "      <td>181.000</td>\n",
              "      <td>0.000000</td>\n",
              "      <td>0.000000e+00</td>\n",
              "      <td>0.000</td>\n",
              "      <td>0</td>\n",
              "      <td>1</td>\n",
              "      <td>0.0</td>\n",
              "      <td>1.810000e+02</td>\n",
              "    </tr>\n",
              "    <tr>\n",
              "      <th>3</th>\n",
              "      <td>1</td>\n",
              "      <td>0</td>\n",
              "      <td>1</td>\n",
              "      <td>0</td>\n",
              "      <td>0</td>\n",
              "      <td>0</td>\n",
              "      <td>1.810000e+02</td>\n",
              "      <td>181.000</td>\n",
              "      <td>0.000000</td>\n",
              "      <td>2.118200e+04</td>\n",
              "      <td>0.000</td>\n",
              "      <td>0</td>\n",
              "      <td>1</td>\n",
              "      <td>0.0</td>\n",
              "      <td>2.136300e+04</td>\n",
              "    </tr>\n",
              "    <tr>\n",
              "      <th>4</th>\n",
              "      <td>1</td>\n",
              "      <td>0</td>\n",
              "      <td>0</td>\n",
              "      <td>0</td>\n",
              "      <td>1</td>\n",
              "      <td>0</td>\n",
              "      <td>1.166814e+04</td>\n",
              "      <td>41554.000</td>\n",
              "      <td>29885.859375</td>\n",
              "      <td>0.000000e+00</td>\n",
              "      <td>0.000</td>\n",
              "      <td>0</td>\n",
              "      <td>0</td>\n",
              "      <td>0.0</td>\n",
              "      <td>1.166814e+04</td>\n",
              "    </tr>\n",
              "    <tr>\n",
              "      <th>...</th>\n",
              "      <td>...</td>\n",
              "      <td>...</td>\n",
              "      <td>...</td>\n",
              "      <td>...</td>\n",
              "      <td>...</td>\n",
              "      <td>...</td>\n",
              "      <td>...</td>\n",
              "      <td>...</td>\n",
              "      <td>...</td>\n",
              "      <td>...</td>\n",
              "      <td>...</td>\n",
              "      <td>...</td>\n",
              "      <td>...</td>\n",
              "      <td>...</td>\n",
              "      <td>...</td>\n",
              "    </tr>\n",
              "    <tr>\n",
              "      <th>6362615</th>\n",
              "      <td>743</td>\n",
              "      <td>0</td>\n",
              "      <td>1</td>\n",
              "      <td>0</td>\n",
              "      <td>0</td>\n",
              "      <td>0</td>\n",
              "      <td>3.396821e+05</td>\n",
              "      <td>339682.125</td>\n",
              "      <td>0.000000</td>\n",
              "      <td>0.000000e+00</td>\n",
              "      <td>339682.125</td>\n",
              "      <td>0</td>\n",
              "      <td>1</td>\n",
              "      <td>0.0</td>\n",
              "      <td>0.000000e+00</td>\n",
              "    </tr>\n",
              "    <tr>\n",
              "      <th>6362616</th>\n",
              "      <td>743</td>\n",
              "      <td>0</td>\n",
              "      <td>0</td>\n",
              "      <td>0</td>\n",
              "      <td>0</td>\n",
              "      <td>1</td>\n",
              "      <td>6.311410e+06</td>\n",
              "      <td>6311409.500</td>\n",
              "      <td>0.000000</td>\n",
              "      <td>0.000000e+00</td>\n",
              "      <td>0.000</td>\n",
              "      <td>0</td>\n",
              "      <td>1</td>\n",
              "      <td>0.0</td>\n",
              "      <td>6.311410e+06</td>\n",
              "    </tr>\n",
              "    <tr>\n",
              "      <th>6362617</th>\n",
              "      <td>743</td>\n",
              "      <td>0</td>\n",
              "      <td>1</td>\n",
              "      <td>0</td>\n",
              "      <td>0</td>\n",
              "      <td>0</td>\n",
              "      <td>6.311410e+06</td>\n",
              "      <td>6311409.500</td>\n",
              "      <td>0.000000</td>\n",
              "      <td>6.848884e+04</td>\n",
              "      <td>6379898.000</td>\n",
              "      <td>0</td>\n",
              "      <td>1</td>\n",
              "      <td>0.0</td>\n",
              "      <td>5.000000e-01</td>\n",
              "    </tr>\n",
              "    <tr>\n",
              "      <th>6362618</th>\n",
              "      <td>743</td>\n",
              "      <td>0</td>\n",
              "      <td>0</td>\n",
              "      <td>0</td>\n",
              "      <td>0</td>\n",
              "      <td>1</td>\n",
              "      <td>8.500025e+05</td>\n",
              "      <td>850002.500</td>\n",
              "      <td>0.000000</td>\n",
              "      <td>0.000000e+00</td>\n",
              "      <td>0.000</td>\n",
              "      <td>0</td>\n",
              "      <td>1</td>\n",
              "      <td>0.0</td>\n",
              "      <td>8.500025e+05</td>\n",
              "    </tr>\n",
              "    <tr>\n",
              "      <th>6362619</th>\n",
              "      <td>743</td>\n",
              "      <td>0</td>\n",
              "      <td>1</td>\n",
              "      <td>0</td>\n",
              "      <td>0</td>\n",
              "      <td>0</td>\n",
              "      <td>8.500025e+05</td>\n",
              "      <td>850002.500</td>\n",
              "      <td>0.000000</td>\n",
              "      <td>6.510099e+06</td>\n",
              "      <td>7360101.500</td>\n",
              "      <td>0</td>\n",
              "      <td>1</td>\n",
              "      <td>0.0</td>\n",
              "      <td>0.000000e+00</td>\n",
              "    </tr>\n",
              "  </tbody>\n",
              "</table>\n",
              "<p>6362620 rows × 15 columns</p>\n",
              "</div>"
            ],
            "text/plain": [
              "         step  CASH_IN  CASH_OUT  ...  isFraud  errorBalanceOrig  errorBalanceDest\n",
              "0           1        0         0  ...        0               0.0      9.839640e+03\n",
              "1           1        0         0  ...        0               0.0      1.864280e+03\n",
              "2           1        0         0  ...        1               0.0      1.810000e+02\n",
              "3           1        0         1  ...        1               0.0      2.136300e+04\n",
              "4           1        0         0  ...        0               0.0      1.166814e+04\n",
              "...       ...      ...       ...  ...      ...               ...               ...\n",
              "6362615   743        0         1  ...        1               0.0      0.000000e+00\n",
              "6362616   743        0         0  ...        1               0.0      6.311410e+06\n",
              "6362617   743        0         1  ...        1               0.0      5.000000e-01\n",
              "6362618   743        0         0  ...        1               0.0      8.500025e+05\n",
              "6362619   743        0         1  ...        1               0.0      0.000000e+00\n",
              "\n",
              "[6362620 rows x 15 columns]"
            ]
          },
          "metadata": {
            "tags": []
          },
          "execution_count": 12
        }
      ]
    },
    {
      "cell_type": "code",
      "metadata": {
        "id": "oY0RRLO4wSkH",
        "colab": {
          "base_uri": "https://localhost:8080/",
          "height": 377
        },
        "outputId": "717bab58-9346-4865-c655-ec7253c8547d"
      },
      "source": [
        "corr = data.corr()\n",
        "sns.heatmap(corr,vmin=-1, vmax=1, cmap=sns.diverging_palette(220, 10, as_cmap=True),\n",
        "            square=True,annot=True)\n",
        "plt.rcParams['figure.figsize'] = [5,5]\n",
        "plt.show()"
      ],
      "execution_count": 13,
      "outputs": [
        {
          "output_type": "display_data",
          "data": {
            "image/png": "[encoded data removed]",
            "text/plain": [
              "<Figure size 360x360 with 2 Axes>"
            ]
          },
          "metadata": {
            "tags": [],
            "needs_background": "light"
          }
        }
      ]
    },
    {
      "cell_type": "code",
      "metadata": {
        "id": "ogfvRs23xDhQ"
      },
      "source": [
        "# splitting data\n",
        "\n",
        "# fraud and no fraud transactions are separated by 'isFraud' column\n",
        "dataF = data[data['isFraud'] == 1]\n",
        "dataNF = data[data['isFraud'] == 0]\n",
        "\n",
        "# split fraud transactions into 80 percent and 20 percent sessions\n",
        "mskF = np.random.rand(len(dataF)) < 0.8\n",
        "trainF = dataF[mskF]\n",
        "testF = dataF[~mskF]\n",
        "\n",
        "# split no fraud transactions into 80 percent and 20 percent sessions\n",
        "mskNF = np.random.rand(len(dataNF)) < 0.8\n",
        "trainNF = dataNF[mskNF]\n",
        "testNF = dataNF[~mskNF]\n",
        "\n",
        "# create training data and testing data\n",
        "train_data = pd.concat([trainF,trainNF]).reset_index(drop = True)\n",
        "test_data = pd.concat([testF,testNF]).reset_index(drop = True)\n",
        "\n",
        "#create input data attributes by dropped irrevalent and target column \n",
        "train_feature = train_data.drop(['isFraud'],axis = 1)\n",
        "test_feature = test_data.drop(['isFraud'],axis = 1)\n",
        "\n",
        "train_label = train_data['isFraud']\n",
        "test_label = test_data['isFraud']"
      ],
      "execution_count": 14,
      "outputs": []
    },
    {
      "cell_type": "code",
      "metadata": {
        "id": "fJi3qSKKxDhS"
      },
      "source": [
        "# feature scaling\n",
        "\n",
        "scaler = preprocessing.StandardScaler()\n",
        "train_feature_scaled =scaler.fit_transform(train_feature)\n",
        "\n",
        "test_feature_scaled = scaler.transform(test_feature)"
      ],
      "execution_count": 15,
      "outputs": []
    },
    {
      "cell_type": "code",
      "metadata": {
        "colab": {
          "base_uri": "https://localhost:8080/"
        },
        "id": "AmV3iS9vt7nE",
        "outputId": "cc4455d3-4367-480f-e143-0d253ce495f2"
      },
      "source": [
        "train_feature_scaled[1]"
      ],
      "execution_count": 16,
      "outputs": [
        {
          "output_type": "execute_result",
          "data": {
            "text/plain": [
              "array([-1.70349157e+00, -5.30829937e-01,  1.35786239e+00, -8.09232020e-02,\n",
              "       -7.14953576e-01, -3.02351414e-01, -2.97646959e-01, -2.88600189e-01,\n",
              "       -2.92389747e-01, -3.17240177e-01, -3.32848669e-01, -1.46989960e-03,\n",
              "       -3.31619215e-01, -7.77653893e-02])"
            ]
          },
          "metadata": {
            "tags": []
          },
          "execution_count": 16
        }
      ]
    },
    {
      "cell_type": "code",
      "metadata": {
        "id": "uha4m-OjwQ29"
      },
      "source": [
        "col = ['step', 'CASH_IN', 'CASH_OUT', 'DEBIT', 'PAYMENT', 'TRANSFER', 'amount',\n",
        "       'oldbalanceOrg', 'newbalanceOrig', 'oldbalanceDest', 'newbalanceDest',\n",
        "       'isFlaggedFraud', 'errorBalanceOrig', 'errorBalanceDest']"
      ],
      "execution_count": 17,
      "outputs": []
    },
    {
      "cell_type": "code",
      "metadata": {
        "colab": {
          "base_uri": "https://localhost:8080/",
          "height": 399
        },
        "id": "LREKGLycvfiR",
        "outputId": "3c700e5e-42e8-443b-aa56-742d39d1b8e0"
      },
      "source": [
        "data_feature_train = pd.DataFrame(data=train_feature_scaled, columns=col)\n",
        "data_feature_train"
      ],
      "execution_count": 18,
      "outputs": [
        {
          "output_type": "execute_result",
          "data": {
            "text/html": [
              "<div>\n",
              "<style scoped>\n",
              "    .dataframe tbody tr th:only-of-type {\n",
              "        vertical-align: middle;\n",
              "    }\n",
              "\n",
              "    .dataframe tbody tr th {\n",
              "        vertical-align: top;\n",
              "    }\n",
              "\n",
              "    .dataframe thead th {\n",
              "        text-align: right;\n",
              "    }\n",
              "</style>\n",
              "<table border=\"1\" class=\"dataframe\">\n",
              "  <thead>\n",
              "    <tr style=\"text-align: right;\">\n",
              "      <th></th>\n",
              "      <th>step</th>\n",
              "      <th>CASH_IN</th>\n",
              "      <th>CASH_OUT</th>\n",
              "      <th>DEBIT</th>\n",
              "      <th>PAYMENT</th>\n",
              "      <th>TRANSFER</th>\n",
              "      <th>amount</th>\n",
              "      <th>oldbalanceOrg</th>\n",
              "      <th>newbalanceOrig</th>\n",
              "      <th>oldbalanceDest</th>\n",
              "      <th>newbalanceDest</th>\n",
              "      <th>isFlaggedFraud</th>\n",
              "      <th>errorBalanceOrig</th>\n",
              "      <th>errorBalanceDest</th>\n",
              "    </tr>\n",
              "  </thead>\n",
              "  <tbody>\n",
              "    <tr>\n",
              "      <th>0</th>\n",
              "      <td>-1.703492</td>\n",
              "      <td>-0.53083</td>\n",
              "      <td>-0.736452</td>\n",
              "      <td>-0.080923</td>\n",
              "      <td>-0.714954</td>\n",
              "      <td>3.307410</td>\n",
              "      <td>-0.297647</td>\n",
              "      <td>-0.288600</td>\n",
              "      <td>-0.292390</td>\n",
              "      <td>-0.323468</td>\n",
              "      <td>-0.332849</td>\n",
              "      <td>-0.00147</td>\n",
              "      <td>-0.331619</td>\n",
              "      <td>-0.125754</td>\n",
              "    </tr>\n",
              "    <tr>\n",
              "      <th>1</th>\n",
              "      <td>-1.703492</td>\n",
              "      <td>-0.53083</td>\n",
              "      <td>1.357862</td>\n",
              "      <td>-0.080923</td>\n",
              "      <td>-0.714954</td>\n",
              "      <td>-0.302351</td>\n",
              "      <td>-0.297647</td>\n",
              "      <td>-0.288600</td>\n",
              "      <td>-0.292390</td>\n",
              "      <td>-0.317240</td>\n",
              "      <td>-0.332849</td>\n",
              "      <td>-0.00147</td>\n",
              "      <td>-0.331619</td>\n",
              "      <td>-0.077765</td>\n",
              "    </tr>\n",
              "    <tr>\n",
              "      <th>2</th>\n",
              "      <td>-1.703492</td>\n",
              "      <td>-0.53083</td>\n",
              "      <td>-0.736452</td>\n",
              "      <td>-0.080923</td>\n",
              "      <td>-0.714954</td>\n",
              "      <td>3.307410</td>\n",
              "      <td>-0.293299</td>\n",
              "      <td>-0.287692</td>\n",
              "      <td>-0.292390</td>\n",
              "      <td>-0.323468</td>\n",
              "      <td>-0.332849</td>\n",
              "      <td>-0.00147</td>\n",
              "      <td>-0.331619</td>\n",
              "      <td>-0.119807</td>\n",
              "    </tr>\n",
              "    <tr>\n",
              "      <th>3</th>\n",
              "      <td>-1.703492</td>\n",
              "      <td>-0.53083</td>\n",
              "      <td>1.357862</td>\n",
              "      <td>-0.080923</td>\n",
              "      <td>-0.714954</td>\n",
              "      <td>-0.302351</td>\n",
              "      <td>-0.293299</td>\n",
              "      <td>-0.287692</td>\n",
              "      <td>-0.292390</td>\n",
              "      <td>-0.315764</td>\n",
              "      <td>-0.332849</td>\n",
              "      <td>-0.00147</td>\n",
              "      <td>-0.331619</td>\n",
              "      <td>-0.060445</td>\n",
              "    </tr>\n",
              "    <tr>\n",
              "      <th>4</th>\n",
              "      <td>-1.703492</td>\n",
              "      <td>-0.53083</td>\n",
              "      <td>-0.736452</td>\n",
              "      <td>-0.080923</td>\n",
              "      <td>-0.714954</td>\n",
              "      <td>3.307410</td>\n",
              "      <td>-0.264607</td>\n",
              "      <td>-0.281702</td>\n",
              "      <td>-0.292390</td>\n",
              "      <td>-0.323468</td>\n",
              "      <td>-0.332849</td>\n",
              "      <td>-0.00147</td>\n",
              "      <td>-0.331619</td>\n",
              "      <td>-0.080563</td>\n",
              "    </tr>\n",
              "    <tr>\n",
              "      <th>...</th>\n",
              "      <td>...</td>\n",
              "      <td>...</td>\n",
              "      <td>...</td>\n",
              "      <td>...</td>\n",
              "      <td>...</td>\n",
              "      <td>...</td>\n",
              "      <td>...</td>\n",
              "      <td>...</td>\n",
              "      <td>...</td>\n",
              "      <td>...</td>\n",
              "      <td>...</td>\n",
              "      <td>...</td>\n",
              "      <td>...</td>\n",
              "      <td>...</td>\n",
              "    </tr>\n",
              "    <tr>\n",
              "      <th>5091173</th>\n",
              "      <td>3.334778</td>\n",
              "      <td>-0.53083</td>\n",
              "      <td>-0.736452</td>\n",
              "      <td>-0.080923</td>\n",
              "      <td>1.398692</td>\n",
              "      <td>-0.302351</td>\n",
              "      <td>-0.291140</td>\n",
              "      <td>-0.286753</td>\n",
              "      <td>-0.291908</td>\n",
              "      <td>-0.323468</td>\n",
              "      <td>-0.332849</td>\n",
              "      <td>-0.00147</td>\n",
              "      <td>-0.331619</td>\n",
              "      <td>-0.116854</td>\n",
              "    </tr>\n",
              "    <tr>\n",
              "      <th>5091174</th>\n",
              "      <td>3.334778</td>\n",
              "      <td>-0.53083</td>\n",
              "      <td>-0.736452</td>\n",
              "      <td>-0.080923</td>\n",
              "      <td>1.398692</td>\n",
              "      <td>-0.302351</td>\n",
              "      <td>-0.283645</td>\n",
              "      <td>-0.109239</td>\n",
              "      <td>-0.118103</td>\n",
              "      <td>-0.323468</td>\n",
              "      <td>-0.332849</td>\n",
              "      <td>-0.00147</td>\n",
              "      <td>-0.331619</td>\n",
              "      <td>-0.106603</td>\n",
              "    </tr>\n",
              "    <tr>\n",
              "      <th>5091175</th>\n",
              "      <td>3.334778</td>\n",
              "      <td>-0.53083</td>\n",
              "      <td>1.357862</td>\n",
              "      <td>-0.080923</td>\n",
              "      <td>-0.714954</td>\n",
              "      <td>-0.302351</td>\n",
              "      <td>-0.034267</td>\n",
              "      <td>-0.287328</td>\n",
              "      <td>-0.292390</td>\n",
              "      <td>-0.323468</td>\n",
              "      <td>-0.289571</td>\n",
              "      <td>-0.00147</td>\n",
              "      <td>-0.075456</td>\n",
              "      <td>-0.126164</td>\n",
              "    </tr>\n",
              "    <tr>\n",
              "      <th>5091176</th>\n",
              "      <td>3.334778</td>\n",
              "      <td>-0.53083</td>\n",
              "      <td>1.357862</td>\n",
              "      <td>-0.080923</td>\n",
              "      <td>-0.714954</td>\n",
              "      <td>-0.302351</td>\n",
              "      <td>0.010598</td>\n",
              "      <td>-0.230545</td>\n",
              "      <td>-0.292390</td>\n",
              "      <td>-0.316149</td>\n",
              "      <td>-0.275439</td>\n",
              "      <td>-0.00147</td>\n",
              "      <td>-0.301558</td>\n",
              "      <td>-0.126164</td>\n",
              "    </tr>\n",
              "    <tr>\n",
              "      <th>5091177</th>\n",
              "      <td>3.334778</td>\n",
              "      <td>-0.53083</td>\n",
              "      <td>-0.736452</td>\n",
              "      <td>-0.080923</td>\n",
              "      <td>-0.714954</td>\n",
              "      <td>3.307410</td>\n",
              "      <td>-0.161962</td>\n",
              "      <td>-0.283997</td>\n",
              "      <td>-0.292390</td>\n",
              "      <td>-0.323468</td>\n",
              "      <td>-0.310529</td>\n",
              "      <td>-0.00147</td>\n",
              "      <td>-0.218479</td>\n",
              "      <td>-0.126164</td>\n",
              "    </tr>\n",
              "  </tbody>\n",
              "</table>\n",
              "<p>5091178 rows × 14 columns</p>\n",
              "</div>"
            ],
            "text/plain": [
              "             step  CASH_IN  ...  errorBalanceOrig  errorBalanceDest\n",
              "0       -1.703492 -0.53083  ...         -0.331619         -0.125754\n",
              "1       -1.703492 -0.53083  ...         -0.331619         -0.077765\n",
              "2       -1.703492 -0.53083  ...         -0.331619         -0.119807\n",
              "3       -1.703492 -0.53083  ...         -0.331619         -0.060445\n",
              "4       -1.703492 -0.53083  ...         -0.331619         -0.080563\n",
              "...           ...      ...  ...               ...               ...\n",
              "5091173  3.334778 -0.53083  ...         -0.331619         -0.116854\n",
              "5091174  3.334778 -0.53083  ...         -0.331619         -0.106603\n",
              "5091175  3.334778 -0.53083  ...         -0.075456         -0.126164\n",
              "5091176  3.334778 -0.53083  ...         -0.301558         -0.126164\n",
              "5091177  3.334778 -0.53083  ...         -0.218479         -0.126164\n",
              "\n",
              "[5091178 rows x 14 columns]"
            ]
          },
          "metadata": {
            "tags": []
          },
          "execution_count": 18
        }
      ]
    },
    {
      "cell_type": "code",
      "metadata": {
        "colab": {
          "base_uri": "https://localhost:8080/",
          "height": 399
        },
        "id": "z85J36SKxoF4",
        "outputId": "cb5f1bb5-281a-49a5-d36d-0453a57824f8"
      },
      "source": [
        "train_label.to_frame()"
      ],
      "execution_count": 19,
      "outputs": [
        {
          "output_type": "execute_result",
          "data": {
            "text/html": [
              "<div>\n",
              "<style scoped>\n",
              "    .dataframe tbody tr th:only-of-type {\n",
              "        vertical-align: middle;\n",
              "    }\n",
              "\n",
              "    .dataframe tbody tr th {\n",
              "        vertical-align: top;\n",
              "    }\n",
              "\n",
              "    .dataframe thead th {\n",
              "        text-align: right;\n",
              "    }\n",
              "</style>\n",
              "<table border=\"1\" class=\"dataframe\">\n",
              "  <thead>\n",
              "    <tr style=\"text-align: right;\">\n",
              "      <th></th>\n",
              "      <th>isFraud</th>\n",
              "    </tr>\n",
              "  </thead>\n",
              "  <tbody>\n",
              "    <tr>\n",
              "      <th>0</th>\n",
              "      <td>1</td>\n",
              "    </tr>\n",
              "    <tr>\n",
              "      <th>1</th>\n",
              "      <td>1</td>\n",
              "    </tr>\n",
              "    <tr>\n",
              "      <th>2</th>\n",
              "      <td>1</td>\n",
              "    </tr>\n",
              "    <tr>\n",
              "      <th>3</th>\n",
              "      <td>1</td>\n",
              "    </tr>\n",
              "    <tr>\n",
              "      <th>4</th>\n",
              "      <td>1</td>\n",
              "    </tr>\n",
              "    <tr>\n",
              "      <th>...</th>\n",
              "      <td>...</td>\n",
              "    </tr>\n",
              "    <tr>\n",
              "      <th>5091173</th>\n",
              "      <td>0</td>\n",
              "    </tr>\n",
              "    <tr>\n",
              "      <th>5091174</th>\n",
              "      <td>0</td>\n",
              "    </tr>\n",
              "    <tr>\n",
              "      <th>5091175</th>\n",
              "      <td>0</td>\n",
              "    </tr>\n",
              "    <tr>\n",
              "      <th>5091176</th>\n",
              "      <td>0</td>\n",
              "    </tr>\n",
              "    <tr>\n",
              "      <th>5091177</th>\n",
              "      <td>0</td>\n",
              "    </tr>\n",
              "  </tbody>\n",
              "</table>\n",
              "<p>5091178 rows × 1 columns</p>\n",
              "</div>"
            ],
            "text/plain": [
              "         isFraud\n",
              "0              1\n",
              "1              1\n",
              "2              1\n",
              "3              1\n",
              "4              1\n",
              "...          ...\n",
              "5091173        0\n",
              "5091174        0\n",
              "5091175        0\n",
              "5091176        0\n",
              "5091177        0\n",
              "\n",
              "[5091178 rows x 1 columns]"
            ]
          },
          "metadata": {
            "tags": []
          },
          "execution_count": 19
        }
      ]
    },
    {
      "cell_type": "code",
      "metadata": {
        "colab": {
          "base_uri": "https://localhost:8080/",
          "height": 399
        },
        "id": "gjSrX3AHx_Ek",
        "outputId": "6d60fc24-c796-4f01-ece6-54ebf6fa9755"
      },
      "source": [
        "data_feature_test = pd.DataFrame(data=test_feature_scaled, columns=col)\n",
        "data_feature_test"
      ],
      "execution_count": 20,
      "outputs": [
        {
          "output_type": "execute_result",
          "data": {
            "text/html": [
              "<div>\n",
              "<style scoped>\n",
              "    .dataframe tbody tr th:only-of-type {\n",
              "        vertical-align: middle;\n",
              "    }\n",
              "\n",
              "    .dataframe tbody tr th {\n",
              "        vertical-align: top;\n",
              "    }\n",
              "\n",
              "    .dataframe thead th {\n",
              "        text-align: right;\n",
              "    }\n",
              "</style>\n",
              "<table border=\"1\" class=\"dataframe\">\n",
              "  <thead>\n",
              "    <tr style=\"text-align: right;\">\n",
              "      <th></th>\n",
              "      <th>step</th>\n",
              "      <th>CASH_IN</th>\n",
              "      <th>CASH_OUT</th>\n",
              "      <th>DEBIT</th>\n",
              "      <th>PAYMENT</th>\n",
              "      <th>TRANSFER</th>\n",
              "      <th>amount</th>\n",
              "      <th>oldbalanceOrg</th>\n",
              "      <th>newbalanceOrig</th>\n",
              "      <th>oldbalanceDest</th>\n",
              "      <th>newbalanceDest</th>\n",
              "      <th>isFlaggedFraud</th>\n",
              "      <th>errorBalanceOrig</th>\n",
              "      <th>errorBalanceDest</th>\n",
              "    </tr>\n",
              "  </thead>\n",
              "  <tbody>\n",
              "    <tr>\n",
              "      <th>0</th>\n",
              "      <td>-1.703492</td>\n",
              "      <td>-0.53083</td>\n",
              "      <td>-0.736452</td>\n",
              "      <td>-0.080923</td>\n",
              "      <td>-0.714954</td>\n",
              "      <td>3.307410</td>\n",
              "      <td>-0.239867</td>\n",
              "      <td>-0.276536</td>\n",
              "      <td>-0.292390</td>\n",
              "      <td>-0.323468</td>\n",
              "      <td>-0.332849</td>\n",
              "      <td>-0.00147</td>\n",
              "      <td>-0.331619</td>\n",
              "      <td>-0.046726</td>\n",
              "    </tr>\n",
              "    <tr>\n",
              "      <th>1</th>\n",
              "      <td>-1.703492</td>\n",
              "      <td>-0.53083</td>\n",
              "      <td>-0.736452</td>\n",
              "      <td>-0.080923</td>\n",
              "      <td>-0.714954</td>\n",
              "      <td>3.307410</td>\n",
              "      <td>-0.256418</td>\n",
              "      <td>-0.279992</td>\n",
              "      <td>-0.292390</td>\n",
              "      <td>-0.323468</td>\n",
              "      <td>-0.332849</td>\n",
              "      <td>-0.00147</td>\n",
              "      <td>-0.331619</td>\n",
              "      <td>-0.069364</td>\n",
              "    </tr>\n",
              "    <tr>\n",
              "      <th>2</th>\n",
              "      <td>-1.696465</td>\n",
              "      <td>-0.53083</td>\n",
              "      <td>-0.736452</td>\n",
              "      <td>-0.080923</td>\n",
              "      <td>-0.714954</td>\n",
              "      <td>3.307410</td>\n",
              "      <td>-0.273184</td>\n",
              "      <td>-0.283493</td>\n",
              "      <td>-0.292390</td>\n",
              "      <td>-0.323468</td>\n",
              "      <td>-0.332849</td>\n",
              "      <td>-0.00147</td>\n",
              "      <td>-0.331619</td>\n",
              "      <td>-0.092295</td>\n",
              "    </tr>\n",
              "    <tr>\n",
              "      <th>3</th>\n",
              "      <td>-1.689438</td>\n",
              "      <td>-0.53083</td>\n",
              "      <td>1.357862</td>\n",
              "      <td>-0.080923</td>\n",
              "      <td>-0.714954</td>\n",
              "      <td>-0.302351</td>\n",
              "      <td>-0.280489</td>\n",
              "      <td>-0.285018</td>\n",
              "      <td>-0.292390</td>\n",
              "      <td>-0.323468</td>\n",
              "      <td>-0.329983</td>\n",
              "      <td>-0.00147</td>\n",
              "      <td>-0.331619</td>\n",
              "      <td>-0.126164</td>\n",
              "    </tr>\n",
              "    <tr>\n",
              "      <th>4</th>\n",
              "      <td>-1.682411</td>\n",
              "      <td>-0.53083</td>\n",
              "      <td>-0.736452</td>\n",
              "      <td>-0.080923</td>\n",
              "      <td>-0.714954</td>\n",
              "      <td>3.307410</td>\n",
              "      <td>-0.275242</td>\n",
              "      <td>-0.283922</td>\n",
              "      <td>-0.292390</td>\n",
              "      <td>-0.323468</td>\n",
              "      <td>-0.332849</td>\n",
              "      <td>-0.00147</td>\n",
              "      <td>-0.331619</td>\n",
              "      <td>-0.095110</td>\n",
              "    </tr>\n",
              "    <tr>\n",
              "      <th>...</th>\n",
              "      <td>...</td>\n",
              "      <td>...</td>\n",
              "      <td>...</td>\n",
              "      <td>...</td>\n",
              "      <td>...</td>\n",
              "      <td>...</td>\n",
              "      <td>...</td>\n",
              "      <td>...</td>\n",
              "      <td>...</td>\n",
              "      <td>...</td>\n",
              "      <td>...</td>\n",
              "      <td>...</td>\n",
              "      <td>...</td>\n",
              "      <td>...</td>\n",
              "    </tr>\n",
              "    <tr>\n",
              "      <th>1271437</th>\n",
              "      <td>3.334778</td>\n",
              "      <td>-0.53083</td>\n",
              "      <td>-0.736452</td>\n",
              "      <td>-0.080923</td>\n",
              "      <td>1.398692</td>\n",
              "      <td>-0.302351</td>\n",
              "      <td>-0.284674</td>\n",
              "      <td>-0.149753</td>\n",
              "      <td>-0.157910</td>\n",
              "      <td>-0.323468</td>\n",
              "      <td>-0.332849</td>\n",
              "      <td>-0.00147</td>\n",
              "      <td>-0.331619</td>\n",
              "      <td>-0.108010</td>\n",
              "    </tr>\n",
              "    <tr>\n",
              "      <th>1271438</th>\n",
              "      <td>3.334778</td>\n",
              "      <td>-0.53083</td>\n",
              "      <td>-0.736452</td>\n",
              "      <td>-0.080923</td>\n",
              "      <td>1.398692</td>\n",
              "      <td>-0.302351</td>\n",
              "      <td>-0.280945</td>\n",
              "      <td>-0.277938</td>\n",
              "      <td>-0.285302</td>\n",
              "      <td>-0.323468</td>\n",
              "      <td>-0.332849</td>\n",
              "      <td>-0.00147</td>\n",
              "      <td>-0.331619</td>\n",
              "      <td>-0.102910</td>\n",
              "    </tr>\n",
              "    <tr>\n",
              "      <th>1271439</th>\n",
              "      <td>3.334778</td>\n",
              "      <td>-0.53083</td>\n",
              "      <td>-0.736452</td>\n",
              "      <td>-0.080923</td>\n",
              "      <td>1.398692</td>\n",
              "      <td>-0.302351</td>\n",
              "      <td>-0.279201</td>\n",
              "      <td>-0.286188</td>\n",
              "      <td>-0.292390</td>\n",
              "      <td>-0.323468</td>\n",
              "      <td>-0.332849</td>\n",
              "      <td>-0.00147</td>\n",
              "      <td>-0.324755</td>\n",
              "      <td>-0.100524</td>\n",
              "    </tr>\n",
              "    <tr>\n",
              "      <th>1271440</th>\n",
              "      <td>3.334778</td>\n",
              "      <td>-0.53083</td>\n",
              "      <td>-0.736452</td>\n",
              "      <td>-0.080923</td>\n",
              "      <td>1.398692</td>\n",
              "      <td>-0.302351</td>\n",
              "      <td>-0.291984</td>\n",
              "      <td>-0.286872</td>\n",
              "      <td>-0.291851</td>\n",
              "      <td>-0.323468</td>\n",
              "      <td>-0.332849</td>\n",
              "      <td>-0.00147</td>\n",
              "      <td>-0.331619</td>\n",
              "      <td>-0.118009</td>\n",
              "    </tr>\n",
              "    <tr>\n",
              "      <th>1271441</th>\n",
              "      <td>3.334778</td>\n",
              "      <td>-0.53083</td>\n",
              "      <td>-0.736452</td>\n",
              "      <td>12.357395</td>\n",
              "      <td>-0.714954</td>\n",
              "      <td>-0.302351</td>\n",
              "      <td>-0.294859</td>\n",
              "      <td>-0.281599</td>\n",
              "      <td>-0.286049</td>\n",
              "      <td>-0.267971</td>\n",
              "      <td>-0.281028</td>\n",
              "      <td>-0.00147</td>\n",
              "      <td>-0.331619</td>\n",
              "      <td>-0.126164</td>\n",
              "    </tr>\n",
              "  </tbody>\n",
              "</table>\n",
              "<p>1271442 rows × 14 columns</p>\n",
              "</div>"
            ],
            "text/plain": [
              "             step  CASH_IN  ...  errorBalanceOrig  errorBalanceDest\n",
              "0       -1.703492 -0.53083  ...         -0.331619         -0.046726\n",
              "1       -1.703492 -0.53083  ...         -0.331619         -0.069364\n",
              "2       -1.696465 -0.53083  ...         -0.331619         -0.092295\n",
              "3       -1.689438 -0.53083  ...         -0.331619         -0.126164\n",
              "4       -1.682411 -0.53083  ...         -0.331619         -0.095110\n",
              "...           ...      ...  ...               ...               ...\n",
              "1271437  3.334778 -0.53083  ...         -0.331619         -0.108010\n",
              "1271438  3.334778 -0.53083  ...         -0.331619         -0.102910\n",
              "1271439  3.334778 -0.53083  ...         -0.324755         -0.100524\n",
              "1271440  3.334778 -0.53083  ...         -0.331619         -0.118009\n",
              "1271441  3.334778 -0.53083  ...         -0.331619         -0.126164\n",
              "\n",
              "[1271442 rows x 14 columns]"
            ]
          },
          "metadata": {
            "tags": []
          },
          "execution_count": 20
        }
      ]
    },
    {
      "cell_type": "code",
      "metadata": {
        "colab": {
          "base_uri": "https://localhost:8080/",
          "height": 399
        },
        "id": "Wu0gOTNPyOyU",
        "outputId": "12cd38a5-02e3-4789-be15-77ddc06e3acb"
      },
      "source": [
        "test_label.to_frame()"
      ],
      "execution_count": 21,
      "outputs": [
        {
          "output_type": "execute_result",
          "data": {
            "text/html": [
              "<div>\n",
              "<style scoped>\n",
              "    .dataframe tbody tr th:only-of-type {\n",
              "        vertical-align: middle;\n",
              "    }\n",
              "\n",
              "    .dataframe tbody tr th {\n",
              "        vertical-align: top;\n",
              "    }\n",
              "\n",
              "    .dataframe thead th {\n",
              "        text-align: right;\n",
              "    }\n",
              "</style>\n",
              "<table border=\"1\" class=\"dataframe\">\n",
              "  <thead>\n",
              "    <tr style=\"text-align: right;\">\n",
              "      <th></th>\n",
              "      <th>isFraud</th>\n",
              "    </tr>\n",
              "  </thead>\n",
              "  <tbody>\n",
              "    <tr>\n",
              "      <th>0</th>\n",
              "      <td>1</td>\n",
              "    </tr>\n",
              "    <tr>\n",
              "      <th>1</th>\n",
              "      <td>1</td>\n",
              "    </tr>\n",
              "    <tr>\n",
              "      <th>2</th>\n",
              "      <td>1</td>\n",
              "    </tr>\n",
              "    <tr>\n",
              "      <th>3</th>\n",
              "      <td>1</td>\n",
              "    </tr>\n",
              "    <tr>\n",
              "      <th>4</th>\n",
              "      <td>1</td>\n",
              "    </tr>\n",
              "    <tr>\n",
              "      <th>...</th>\n",
              "      <td>...</td>\n",
              "    </tr>\n",
              "    <tr>\n",
              "      <th>1271437</th>\n",
              "      <td>0</td>\n",
              "    </tr>\n",
              "    <tr>\n",
              "      <th>1271438</th>\n",
              "      <td>0</td>\n",
              "    </tr>\n",
              "    <tr>\n",
              "      <th>1271439</th>\n",
              "      <td>0</td>\n",
              "    </tr>\n",
              "    <tr>\n",
              "      <th>1271440</th>\n",
              "      <td>0</td>\n",
              "    </tr>\n",
              "    <tr>\n",
              "      <th>1271441</th>\n",
              "      <td>0</td>\n",
              "    </tr>\n",
              "  </tbody>\n",
              "</table>\n",
              "<p>1271442 rows × 1 columns</p>\n",
              "</div>"
            ],
            "text/plain": [
              "         isFraud\n",
              "0              1\n",
              "1              1\n",
              "2              1\n",
              "3              1\n",
              "4              1\n",
              "...          ...\n",
              "1271437        0\n",
              "1271438        0\n",
              "1271439        0\n",
              "1271440        0\n",
              "1271441        0\n",
              "\n",
              "[1271442 rows x 1 columns]"
            ]
          },
          "metadata": {
            "tags": []
          },
          "execution_count": 21
        }
      ]
    },
    {
      "cell_type": "markdown",
      "metadata": {
        "id": "tqCyYPsTxDhU"
      },
      "source": [
        "## Logistic Regression"
      ]
    },
    {
      "cell_type": "markdown",
      "metadata": {
        "id": "WNXhP0PxxDhV"
      },
      "source": [
        "Logistic regression is used to describe data and to explain the relationship between one dependent binary variable and one or more nominal, ordinal, interval or ratio-level independent variables\n",
        "    \n",
        "    class sklearn.linear_model.LogisticRegression (penalty='l2', *, dual=False, tol=0.0001, C=1.0, fit_intercept=True, intercept_scaling=1, class_weight=None, random_state=None, solver='lbfgs', max_iter=100, multi_class='auto', verbose=0, warm_start=False, n_jobs=None, l1_ratio=None)\n",
        "    \n",
        "https://scikit-learn.org/stable/modules/generated/sklearn.linear_model.LogisticRegression.html"
      ]
    },
    {
      "cell_type": "code",
      "metadata": {
        "id": "oMDSNeAJxDhV",
        "colab": {
          "base_uri": "https://localhost:8080/"
        },
        "outputId": "484da948-483b-48b2-86a7-3c9038ec9c6e"
      },
      "source": [
        "from sklearn.linear_model import LogisticRegression\n",
        "clf = LogisticRegression(random_state=0)\n",
        "clf.fit(train_feature_scaled,train_label)"
      ],
      "execution_count": 22,
      "outputs": [
        {
          "output_type": "stream",
          "text": [
            "/usr/local/lib/python3.6/dist-packages/sklearn/linear_model/_logistic.py:940: ConvergenceWarning: lbfgs failed to converge (status=1):\n",
            "STOP: TOTAL NO. of ITERATIONS REACHED LIMIT.\n",
            "\n",
            "Increase the number of iterations (max_iter) or scale the data as shown in:\n",
            "    https://scikit-learn.org/stable/modules/preprocessing.html\n",
            "Please also refer to the documentation for alternative solver options:\n",
            "    https://scikit-learn.org/stable/modules/linear_model.html#logistic-regression\n",
            "  extra_warning_msg=_LOGISTIC_SOLVER_CONVERGENCE_MSG)\n"
          ],
          "name": "stderr"
        },
        {
          "output_type": "execute_result",
          "data": {
            "text/plain": [
              "LogisticRegression(C=1.0, class_weight=None, dual=False, fit_intercept=True,\n",
              "                   intercept_scaling=1, l1_ratio=None, max_iter=100,\n",
              "                   multi_class='auto', n_jobs=None, penalty='l2',\n",
              "                   random_state=0, solver='lbfgs', tol=0.0001, verbose=0,\n",
              "                   warm_start=False)"
            ]
          },
          "metadata": {
            "tags": []
          },
          "execution_count": 22
        }
      ]
    },
    {
      "cell_type": "code",
      "metadata": {
        "id": "C_vQtxiafEoL"
      },
      "source": [
        "# predict train data\n",
        "lr_predY_train = clf.predict(train_feature_scaled)"
      ],
      "execution_count": 23,
      "outputs": []
    },
    {
      "cell_type": "code",
      "metadata": {
        "id": "9d89Yjp9xDhX",
        "colab": {
          "base_uri": "https://localhost:8080/"
        },
        "outputId": "e3478fff-fbf9-4d9b-81ff-8546600558db"
      },
      "source": [
        "# predict test data\n",
        "lr_predY = clf.predict(test_feature_scaled)\n",
        "lr_predY[0:10]"
      ],
      "execution_count": 24,
      "outputs": [
        {
          "output_type": "execute_result",
          "data": {
            "text/plain": [
              "array([0, 0, 0, 0, 0, 0, 0, 0, 0, 0])"
            ]
          },
          "metadata": {
            "tags": []
          },
          "execution_count": 24
        }
      ]
    },
    {
      "cell_type": "markdown",
      "metadata": {
        "id": "_aNwtLO8xDha"
      },
      "source": [
        "## XGBoost "
      ]
    },
    {
      "cell_type": "markdown",
      "metadata": {
        "id": "9e-xpnXxxDha"
      },
      "source": [
        "XGBoost stands for Extreme Gradient Boosting; it is a specific implementation of the Gradient Boosting method which uses more accurate approximations to find the best tree model. It employs a number of nifty tricks that make it exceptionally successful, particularly with structured data.\n",
        "\n",
        "XGBoost's hyperparameters\n",
        "\n",
        "    -learning_rate: step size shrinkage used to prevent overfitting. Range is [0,1]\n",
        "    -max_depth: determines how deeply each tree is allowed to grow during any boosting round.\n",
        "    -subsample: percentage of samples used per tree. Low value can lead to underfitting.\n",
        "    -colsample_bytree: percentage of features used per tree. High value can lead to overfitting.\n",
        "    -n_estimators: number of trees you want to build.\n",
        "    -objective: determines the loss function to be used like reg:linear for regression problems, reg:logistic for classification problems with only decision, binary:logistic for classification problems with probability.\n",
        "\n",
        "XGBoost also supports regularization parameters to penalize models as they become more complex and reduce them to simple (parsimonious) models.\n",
        "\n",
        "    -gamma: controls whether a given node will split based on the expected reduction in loss after the split. A higher value leads to fewer splits. Supported only for tree-based learners.\n",
        "    -alpha: L1 regularization on leaf weights. A large value leads to more regularization.\n",
        "    -lambda: L2 regularization on leaf weights and is smoother than L1 regularization."
      ]
    },
    {
      "cell_type": "code",
      "metadata": {
        "id": "FTsjQ0M2jbdg"
      },
      "source": [
        "from xgboost.sklearn import XGBClassifier"
      ],
      "execution_count": 25,
      "outputs": []
    },
    {
      "cell_type": "code",
      "metadata": {
        "id": "aETfvI4_xDhb",
        "colab": {
          "base_uri": "https://localhost:8080/"
        },
        "outputId": "7e645789-1990-4983-b6d4-8a30621720b0"
      },
      "source": [
        "%%time\n",
        "from xgboost.sklearn import XGBClassifier\n",
        "xgbc = XGBClassifier(objective='binary:logistic',max_depth=3)\n",
        "\n",
        "\n",
        "xgbc.fit(train_feature_scaled, train_label)"
      ],
      "execution_count": 26,
      "outputs": [
        {
          "output_type": "stream",
          "text": [
            "[21:34:58] WARNING: /workspace/src/learner.cc:686: Tree method is automatically selected to be 'approx' for faster speed. To use old behavior (exact greedy algorithm on single machine), set tree_method to 'exact'.\n",
            "CPU times: user 14min 13s, sys: 1.17 s, total: 14min 14s\n",
            "Wall time: 14min 15s\n"
          ],
          "name": "stdout"
        }
      ]
    },
    {
      "cell_type": "code",
      "metadata": {
        "id": "tgsG87U9zZyg"
      },
      "source": [
        " # predict train data\n",
        "xgb_predY_train = xgbc.predict(train_feature_scaled)"
      ],
      "execution_count": 27,
      "outputs": []
    },
    {
      "cell_type": "code",
      "metadata": {
        "id": "wrue464ExDhd",
        "colab": {
          "base_uri": "https://localhost:8080/"
        },
        "outputId": "00bdbfaa-88e4-42d0-c97a-747d4ddc5d2d"
      },
      "source": [
        "# predict test data\n",
        "xgb_predY = xgbc.predict(test_feature_scaled)\n",
        "xgb_predY[0:10]"
      ],
      "execution_count": 28,
      "outputs": [
        {
          "output_type": "execute_result",
          "data": {
            "text/plain": [
              "array([1, 1, 1, 1, 1, 1, 1, 1, 1, 1])"
            ]
          },
          "metadata": {
            "tags": []
          },
          "execution_count": 28
        }
      ]
    },
    {
      "cell_type": "markdown",
      "metadata": {
        "id": "vrymDMz-xDhg"
      },
      "source": [
        "## Model Evaluation"
      ]
    },
    {
      "cell_type": "markdown",
      "metadata": {
        "id": "kILKd2rNxDhg"
      },
      "source": [
        "### Confusion Matrix"
      ]
    },
    {
      "cell_type": "markdown",
      "metadata": {
        "id": "_BQy4_QHxDhh"
      },
      "source": [
        "confusion matrix, also known as an error matrix, is a specific table layout that allows visualization of the performance of an algorithm, typically a supervised learning one (in unsupervised learning it is usually called a matching matrix). Each row of the matrix represents the instances in a predicted class while each column represents the instances in an actual class (or vice versa)\n",
        "\n",
        "![image.png](attachment:image.png)\n",
        "\n",
        "\n",
        "https://en.wikipedia.org/wiki/Confusion_matrix\n",
        "\n",
        "--------------------------------------------\n",
        "Accuracy: Overall, how often is the classifier correct?\n",
        "    \n",
        "    Accuracy = (TP+TN)/total = (TP+TN)/(TP+TN+FN+FP)\n",
        "\n",
        "Precision: When it predicts yes, how often is it correct?\n",
        "\n",
        "    Precision = TP/predicted yes = TP/(TP+FP)\n",
        "    \n",
        "Recall: When it's actually yes, how often does it predict yes? (True Positive Rate)\n",
        "\n",
        "    Recall = TP/actual yes = TP/(TP+FN)\n",
        "    \n",
        "F1 Score: This is a weighted average of the recall and precision\n",
        "\n",
        "    F1 Score = (2*(Precision*Recall))/(Precision+Recall)"
      ]
    },
    {
      "cell_type": "code",
      "metadata": {
        "id": "ZOUFgbou9KwD"
      },
      "source": [
        "from sklearn.metrics import confusion_matrix, accuracy_score, recall_score, precision_score, f1_score\n",
        "\n",
        "def evaluation_metrics(types,label_train,predict_train,label_test,predict_test):\n",
        "  print(\"Accuracy score in\",types, \": Train =\" ,accuracy_score(label_train,predict_train), \" , Test = \",accuracy_score(label_test,predict_test))\n",
        "  print(\"Precision score in \",types, \": Train =\" ,precision_score(label_train,predict_train), \" , Test = \",precision_score(label_test,predict_test))\n",
        "  print(\"Recall score in \",types, \": Train =\",recall_score(label_train,predict_train), \" , Test = \",recall_score(label_test,predict_test))\n",
        "  print(\"F1 score score in \",types, \": Train =\" ,f1_score(label_train,predict_train), \" , Test = \",f1_score(label_test,predict_test))"
      ],
      "execution_count": 29,
      "outputs": []
    },
    {
      "cell_type": "code",
      "metadata": {
        "id": "dT0l_Sfz94bw",
        "colab": {
          "base_uri": "https://localhost:8080/"
        },
        "outputId": "468829ca-cd14-4d0a-cb22-b4f0be8abad0"
      },
      "source": [
        "evaluation_metrics(\"Logistic Regression\",train_label,lr_predY_train,test_label,lr_predY)"
      ],
      "execution_count": 30,
      "outputs": [
        {
          "output_type": "stream",
          "text": [
            "Accuracy score in Logistic Regression : Train = 0.9992987870390704  , Test =  0.9992803446795057\n",
            "Precision score in  Logistic Regression : Train = 0.9118942731277533  , Test =  0.9088888888888889\n",
            "Recall score in  Logistic Regression : Train = 0.5047241694605303  , Test =  0.4954572986069049\n",
            "F1 score score in  Logistic Regression : Train = 0.6497939964685109  , Test =  0.6413171305370442\n"
          ],
          "name": "stdout"
        }
      ]
    },
    {
      "cell_type": "code",
      "metadata": {
        "id": "fa8RhZnkxDhn",
        "colab": {
          "base_uri": "https://localhost:8080/"
        },
        "outputId": "e2607f15-fd67-4ec4-9d96-62dc3caadb6b"
      },
      "source": [
        "cm_lr = confusion_matrix(lr_predY,test_label,labels=[1,0])\n",
        "cm_lr"
      ],
      "execution_count": 31,
      "outputs": [
        {
          "output_type": "execute_result",
          "data": {
            "text/plain": [
              "array([[    818,      82],\n",
              "       [    833, 1269709]])"
            ]
          },
          "metadata": {
            "tags": []
          },
          "execution_count": 31
        }
      ]
    },
    {
      "cell_type": "code",
      "metadata": {
        "id": "MLo_qsg8-YvH",
        "colab": {
          "base_uri": "https://localhost:8080/"
        },
        "outputId": "e48f52e0-b3c6-4fa7-e3b6-f2a2aeb8fbed"
      },
      "source": [
        "evaluation_metrics(\"XGBoost\",train_label,xgb_predY_train,test_label,xgb_predY)"
      ],
      "execution_count": 32,
      "outputs": [
        {
          "output_type": "stream",
          "text": [
            "Accuracy score in XGBoost : Train = 0.9999935181995209  , Test =  0.9999921349145301\n",
            "Precision score in  XGBoost : Train = 0.9983208670431996  , Test =  0.9993913572732805\n",
            "Recall score in  XGBoost : Train = 0.9966473636086559  , Test =  0.9945487583282859\n",
            "F1 score score in  XGBoost : Train = 0.9974834134065432  , Test =  0.9969641772920462\n"
          ],
          "name": "stdout"
        }
      ]
    },
    {
      "cell_type": "code",
      "metadata": {
        "id": "zw82xooMxDhu",
        "colab": {
          "base_uri": "https://localhost:8080/"
        },
        "outputId": "1ed2e329-ab7e-4727-aef2-cd76dd3c6fbc"
      },
      "source": [
        "cm_xgb = confusion_matrix(xgb_predY,test_label,labels=[1, 0])\n",
        "cm_xgb"
      ],
      "execution_count": 33,
      "outputs": [
        {
          "output_type": "execute_result",
          "data": {
            "text/plain": [
              "array([[   1642,       1],\n",
              "       [      9, 1269790]])"
            ]
          },
          "metadata": {
            "tags": []
          },
          "execution_count": 33
        }
      ]
    },
    {
      "cell_type": "code",
      "metadata": {
        "id": "VezEDz3HD4pM"
      },
      "source": [
        ""
      ],
      "execution_count": 33,
      "outputs": []
    },
    {
      "cell_type": "markdown",
      "metadata": {
        "id": "BtplsdntxDhw"
      },
      "source": [
        "## Random OverSampling "
      ]
    },
    {
      "cell_type": "markdown",
      "metadata": {
        "id": "46i4Yy9rxDhw"
      },
      "source": [
        "Random oversampling involves randomly duplicating examples from the minority class and adding them to the training dataset.\n",
        "\n",
        "This technique can be effective for those machine learning algorithms that are affected by a skewed distribution and where multiple duplicate examples for a given class can influence the fit of the model"
      ]
    },
    {
      "cell_type": "code",
      "metadata": {
        "id": "FFr9MiAGxDhw",
        "colab": {
          "base_uri": "https://localhost:8080/"
        },
        "outputId": "9b5cdf5c-2c1b-4e63-b29d-df49aae3892a"
      },
      "source": [
        "from imblearn.over_sampling import RandomOverSampler \n",
        "ros = RandomOverSampler()\n",
        "train_feature_resampled, train_label_resampled = ros.fit_sample(train_feature, train_label)"
      ],
      "execution_count": 34,
      "outputs": [
        {
          "output_type": "stream",
          "text": [
            "/usr/local/lib/python3.6/dist-packages/sklearn/externals/six.py:31: FutureWarning: The module is deprecated in version 0.21 and will be removed in version 0.23 since we've dropped support for Python 2.7. Please rely on the official version of six (https://pypi.org/project/six/).\n",
            "  \"(https://pypi.org/project/six/).\", FutureWarning)\n",
            "/usr/local/lib/python3.6/dist-packages/sklearn/utils/deprecation.py:144: FutureWarning: The sklearn.neighbors.base module is  deprecated in version 0.22 and will be removed in version 0.24. The corresponding classes / functions should instead be imported from sklearn.neighbors. Anything that cannot be imported from sklearn.neighbors is now part of the private API.\n",
            "  warnings.warn(message, FutureWarning)\n",
            "/usr/local/lib/python3.6/dist-packages/sklearn/utils/deprecation.py:87: FutureWarning: Function safe_indexing is deprecated; safe_indexing is deprecated in version 0.22 and will be removed in version 0.24.\n",
            "  warnings.warn(msg, category=FutureWarning)\n"
          ],
          "name": "stderr"
        }
      ]
    },
    {
      "cell_type": "code",
      "metadata": {
        "id": "Ny0K8JqaxDhy"
      },
      "source": [
        "scaler = preprocessing.StandardScaler()\n",
        "train_feature_scaled =scaler.fit_transform(train_feature_resampled)\n",
        "test_feature_scaled = scaler.transform(test_feature)"
      ],
      "execution_count": 35,
      "outputs": []
    },
    {
      "cell_type": "code",
      "metadata": {
        "id": "HtsehJ1oxDh0",
        "colab": {
          "base_uri": "https://localhost:8080/"
        },
        "outputId": "1ec0f1a9-88ce-4984-ea90-bb277047e967"
      },
      "source": [
        "clf_ros = LogisticRegression(random_state=0)\n",
        "clf_ros.fit(train_feature_scaled,train_label_resampled)"
      ],
      "execution_count": 36,
      "outputs": [
        {
          "output_type": "execute_result",
          "data": {
            "text/plain": [
              "LogisticRegression(C=1.0, class_weight=None, dual=False, fit_intercept=True,\n",
              "                   intercept_scaling=1, l1_ratio=None, max_iter=100,\n",
              "                   multi_class='auto', n_jobs=None, penalty='l2',\n",
              "                   random_state=0, solver='lbfgs', tol=0.0001, verbose=0,\n",
              "                   warm_start=False)"
            ]
          },
          "metadata": {
            "tags": []
          },
          "execution_count": 36
        }
      ]
    },
    {
      "cell_type": "code",
      "metadata": {
        "id": "M4z2uSX7xDh2"
      },
      "source": [
        "lr_predY_ros_train = clf_ros.predict(train_feature_scaled)"
      ],
      "execution_count": 37,
      "outputs": []
    },
    {
      "cell_type": "code",
      "metadata": {
        "id": "KzMnoWV2xDh8"
      },
      "source": [
        "lr_predY_ros = clf_ros.predict(test_feature_scaled)\n"
      ],
      "execution_count": 38,
      "outputs": []
    },
    {
      "cell_type": "code",
      "metadata": {
        "id": "jj9zbebZF4x4",
        "colab": {
          "base_uri": "https://localhost:8080/"
        },
        "outputId": "9fbd33a2-8c9d-4b2f-993c-69e4c2f1d721"
      },
      "source": [
        "evaluation_metrics(\"Logistic Regession after RandomOverSampling\",train_label_resampled,lr_predY_ros_train,test_label,lr_predY_ros)"
      ],
      "execution_count": 39,
      "outputs": [
        {
          "output_type": "stream",
          "text": [
            "Accuracy score in Logistic Regession after RandomOverSampling : Train = 0.96632734900728  , Test =  0.951407928949964\n",
            "Precision score in  Logistic Regession after RandomOverSampling : Train = 0.9529291646171699  , Test =  0.025473886898467465\n",
            "Recall score in  Logistic Regession after RandomOverSampling : Train = 0.9811179447966178  , Test =  0.9775893397940641\n",
            "F1 score score in  Logistic Regession after RandomOverSampling : Train = 0.9668181286538939  , Test =  0.049653899400092294\n"
          ],
          "name": "stdout"
        }
      ]
    },
    {
      "cell_type": "code",
      "metadata": {
        "id": "jigwU7bsxDiA",
        "colab": {
          "base_uri": "https://localhost:8080/"
        },
        "outputId": "26343402-a0b9-4feb-81b6-47703c9f1d8e"
      },
      "source": [
        "cm_lr_ros = confusion_matrix(lr_predY_ros,test_label,labels=[1, 0])\n",
        "cm_lr_ros"
      ],
      "execution_count": 40,
      "outputs": [
        {
          "output_type": "execute_result",
          "data": {
            "text/plain": [
              "array([[   1614,   61745],\n",
              "       [     37, 1208046]])"
            ]
          },
          "metadata": {
            "tags": []
          },
          "execution_count": 40
        }
      ]
    },
    {
      "cell_type": "markdown",
      "metadata": {
        "id": "D0A-zJ4ixDiF"
      },
      "source": [
        "## Random Undersampling"
      ]
    },
    {
      "cell_type": "markdown",
      "metadata": {
        "id": "vz0SlTyMxDiG"
      },
      "source": [
        "Random undersampling involves randomly selecting examples from the majority class to delete from the training dataset.\n",
        "\n",
        "This has the effect of reducing the number of examples in the majority class in the transformed version of the training dataset. This process can be repeated until the desired class distribution is achieved, such as an equal number of examples for each class\n",
        "\n",
        "A limitation of undersampling is that examples from the majority class are deleted that may be useful, important, or perhaps critical to fitting a robust decision boundary. Given that examples are deleted randomly, there is no way to detect or preserve “good” or more information-rich examples from the majority class.\n",
        "\n",
        "https://machinelearningmastery.com/random-oversampling-and-undersampling-for-imbalanced-classification/"
      ]
    },
    {
      "cell_type": "code",
      "metadata": {
        "id": "y7I_erVLxDiG",
        "colab": {
          "base_uri": "https://localhost:8080/"
        },
        "outputId": "f8e64216-28fe-406f-df13-7334fc219dac"
      },
      "source": [
        "from imblearn.under_sampling import RandomUnderSampler\n",
        "rus = RandomUnderSampler()\n",
        "train_feature_resampled, train_label_resampled = rus.fit_sample(train_feature,train_label)"
      ],
      "execution_count": 41,
      "outputs": [
        {
          "output_type": "stream",
          "text": [
            "/usr/local/lib/python3.6/dist-packages/sklearn/utils/deprecation.py:87: FutureWarning: Function safe_indexing is deprecated; safe_indexing is deprecated in version 0.22 and will be removed in version 0.24.\n",
            "  warnings.warn(msg, category=FutureWarning)\n"
          ],
          "name": "stderr"
        }
      ]
    },
    {
      "cell_type": "code",
      "metadata": {
        "id": "CNOtHs4ZxDiI"
      },
      "source": [
        "scaler = preprocessing.StandardScaler()\n",
        "train_feature_scaled =scaler.fit_transform(train_feature_resampled)\n",
        "test_feature_scaled = scaler.transform(test_feature)"
      ],
      "execution_count": 42,
      "outputs": []
    },
    {
      "cell_type": "code",
      "metadata": {
        "id": "LHFI33jBxDiK",
        "colab": {
          "base_uri": "https://localhost:8080/"
        },
        "outputId": "728917ac-5896-46c0-8597-ec52781629d0"
      },
      "source": [
        "clf_rus = LogisticRegression(random_state=0)\n",
        "clf_rus.fit(train_feature_scaled,train_label_resampled)"
      ],
      "execution_count": 43,
      "outputs": [
        {
          "output_type": "execute_result",
          "data": {
            "text/plain": [
              "LogisticRegression(C=1.0, class_weight=None, dual=False, fit_intercept=True,\n",
              "                   intercept_scaling=1, l1_ratio=None, max_iter=100,\n",
              "                   multi_class='auto', n_jobs=None, penalty='l2',\n",
              "                   random_state=0, solver='lbfgs', tol=0.0001, verbose=0,\n",
              "                   warm_start=False)"
            ]
          },
          "metadata": {
            "tags": []
          },
          "execution_count": 43
        }
      ]
    },
    {
      "cell_type": "code",
      "metadata": {
        "id": "8qIcozsVxDiM"
      },
      "source": [
        "lr_predY_rus_train = clf_rus.predict(train_feature_scaled)"
      ],
      "execution_count": 44,
      "outputs": []
    },
    {
      "cell_type": "code",
      "metadata": {
        "id": "o7C6lDOTxDiR"
      },
      "source": [
        "lr_predY_rus = clf_rus.predict(test_feature_scaled)"
      ],
      "execution_count": 45,
      "outputs": []
    },
    {
      "cell_type": "code",
      "metadata": {
        "id": "B86ehw3IChK9",
        "colab": {
          "base_uri": "https://localhost:8080/"
        },
        "outputId": "fb93b796-0035-4801-c05b-25d69134e5b5"
      },
      "source": [
        "evaluation_metrics(\"Logistic Regression after RandomUnderSampling\",train_label_resampled,lr_predY_rus_train,test_label,lr_predY_rus)"
      ],
      "execution_count": 46,
      "outputs": [
        {
          "output_type": "stream",
          "text": [
            "Accuracy score in Logistic Regression after RandomUnderSampling : Train = 0.9599207558671137  , Test =  0.9439738501638297\n",
            "Precision score in  Logistic Regression after RandomUnderSampling : Train = 0.9423922603342129  , Test =  0.02211447330467151\n",
            "Recall score in  Logistic Regression after RandomUnderSampling : Train = 0.9797317890886925  , Test =  0.9751665657177468\n",
            "F1 score score in  Logistic Regression after RandomUnderSampling : Train = 0.9606993424985056  , Test =  0.043248180084347373\n"
          ],
          "name": "stdout"
        }
      ]
    },
    {
      "cell_type": "code",
      "metadata": {
        "id": "8BIwieFRxDiW",
        "colab": {
          "base_uri": "https://localhost:8080/"
        },
        "outputId": "ceb062fc-113a-4951-dd06-015ea7abc5d4"
      },
      "source": [
        "cm_lr_rus = confusion_matrix(lr_predY_rus,test_label,labels=[1, 0])\n",
        "cm_lr_rus"
      ],
      "execution_count": 47,
      "outputs": [
        {
          "output_type": "execute_result",
          "data": {
            "text/plain": [
              "array([[   1610,   71193],\n",
              "       [     41, 1198598]])"
            ]
          },
          "metadata": {
            "tags": []
          },
          "execution_count": 47
        }
      ]
    },
    {
      "cell_type": "code",
      "metadata": {
        "id": "GCXfiCyfGbid"
      },
      "source": [
        ""
      ],
      "execution_count": null,
      "outputs": []
    }
  ]
}